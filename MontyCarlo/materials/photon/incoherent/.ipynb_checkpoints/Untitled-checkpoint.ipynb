{
 "cells": [
  {
   "cell_type": "code",
   "execution_count": 1,
   "metadata": {},
   "outputs": [
    {
     "name": "stdout",
     "output_type": "stream",
     "text": [
      "\n",
      "________________\n",
      "> Reading EADL. \n",
      "> Done! EPDL available @ database.EPDL\n",
      "¯¯¯¯¯¯¯¯¯¯¯¯¯¯¯¯¯¯¯¯¯¯¯¯¯¯¯¯¯¯¯¯¯¯¯¯¯¯\n",
      "\n",
      "________________\n",
      "> Reading EPDL. \n",
      "> Done! EPDL available @ database.EPDL\n",
      "¯¯¯¯¯¯¯¯¯¯¯¯¯¯¯¯¯¯¯¯¯¯¯¯¯¯¯¯¯¯¯¯¯¯¯¯¯¯\n",
      "\n",
      "________________\n",
      "> Reading EEDL. \n",
      "> Done! EPDL available @ database.EEDL\n",
      "¯¯¯¯¯¯¯¯¯¯¯¯¯¯¯¯¯¯¯¯¯¯¯¯¯¯¯¯¯¯¯¯¯¯¯¯¯¯\n",
      "\n",
      "Imported databases\n"
     ]
    }
   ],
   "source": [
    "import sys\n",
    "sys.path.insert(0, r\"C:\\Users\\Rui Campos\\Dropbox\\MontyCarlo\")\n",
    "import MontyCarlo.materials.database as db"
   ]
  },
  {
   "cell_type": "code",
   "execution_count": 30,
   "metadata": {},
   "outputs": [],
   "source": [
    "from MontyCarlo.settings import __montecarlo__\n",
    "__incoherent__ = __montecarlo__/'materials'/'photon'/'incoherent'\n",
    "directory = str(__incoherent__)\n",
    "\n",
    "from numba import *\n",
    "from numpy import *\n",
    "\n",
    "def getIFF(Z):\n",
    "    import os\n",
    "    path = directory + \"\\pickles\\\\\" + str(Z)\n",
    "    if not os.path.isfile(path):\n",
    "        print(\"> Writing Incoherent Form Factor...\")\n",
    "        \n",
    "        from ...database import EPDL\n",
    "        IFFdata = EPDL[Z-1][(7, 93, 0, 0, 0, 942)]\n",
    "        \n",
    "        from . import IncoherentFormFactorWriter\n",
    "        IncoherentFormFactorWriter.IncoherentFormFactorWriter(IFFdata, Z)\n",
    "        \n",
    "    import dill as pickle\n",
    "    \n",
    "    with open(path, 'rb') as file:\n",
    "        param = pickle.load(file)\n",
    "\n",
    "    a1, a2, a3, a4, a5 = param\n",
    "\n",
    "\n",
    "    @njit\n",
    "    def _eval(x):\n",
    "        A = 1 + a1*x**2 + a2 * x**3 + a3 * x**4\n",
    "        B = 1 + a4*x**2 + a5 * x**4\n",
    "        return Z*(1 - A/B**2)\n",
    "\n",
    "    return _eval\n",
    "\n",
    "FFlist = [getIFF(Z) for Z in range(1, 70)]"
   ]
  },
  {
   "cell_type": "code",
   "execution_count": 11,
   "metadata": {},
   "outputs": [
    {
     "data": {
      "text/plain": [
       "CPUDispatcher(<function getIFF.<locals>._eval at 0x0000021B9DE70940>)"
      ]
     },
     "execution_count": 11,
     "metadata": {},
     "output_type": "execute_result"
    }
   ],
   "source": [
    "getIFF(1)"
   ]
  },
  {
   "cell_type": "code",
   "execution_count": 31,
   "metadata": {},
   "outputs": [],
   "source": [
    "from __future__ import print_function\n",
    "from ipywidgets import interact, interactive, fixed, interact_manual\n",
    "import ipywidgets as widgets\n",
    "from IPython.display import display\n",
    "from matplotlib.pyplot import *\n",
    "\n",
    "from MontyCarlo.tools.data import getAxis\n",
    "\n",
    "def graph(Z, x1, x2, y1, y2):\n",
    "    FFdata = db.EPDL[Z-1][(7, 93, 0, 0, 0, 942)]\n",
    "    \n",
    "    FFx, FFy = FFdata.X, FFdata.Y\n",
    "    FFx = FFx*10**6\n",
    "    FFy = FFy/Z\n",
    "    \n",
    "    fig = figure(figsize=(10, 10))\n",
    "    \n",
    "    #x1, x2 = map(lambda x: 10**x, (x1, x2))\n",
    "    #y1, y2 = map(lambda x: 10**x, (y1, y2))\n",
    "    \n",
    "    x = logspace(x1, x2, num=150)#, (x2 - x1)/((x1+x2)*100))\n",
    "    \n",
    "    \n",
    "    \n",
    "    f = FFlist[Z-1]\n",
    "    \n",
    "    y = [f(X)*Z**-1 for X in x]\n",
    "    #print(y)\n",
    "    plot(x, y)\n",
    "    \n",
    "    \n",
    "    ax = gca()\n",
    "    \n",
    "    scatter(FFx, FFy, s = 1, color=\"red\")\n",
    "    \n",
    "    ax.set_yscale(\"log\"); ax.set_xscale(\"log\")\n",
    "    ax.set_title(\"Form Factor of Element \" + str(Z))\n",
    "    ax.set_xlabel(\"x (cm^-1)\")\n",
    "    ax.grid(which='both')\n",
    "    ax.set_ylim(10**y1, 10**y2)\n",
    "    ax.set_xlim(10**x1, 10**x2)\n",
    "    \n",
    "    Y = [Z**-1 *  f(X) for X in FFx]\n",
    "    Y = array(Y)\n",
    "    print(sum((FFy - Y)**2))\n",
    "    #display(f(1))\n",
    "    \n"
   ]
  },
  {
   "cell_type": "code",
   "execution_count": 32,
   "metadata": {},
   "outputs": [
    {
     "data": {
      "application/vnd.jupyter.widget-view+json": {
       "model_id": "5a67fbe20b9c4f57b83e43087969c635",
       "version_major": 2,
       "version_minor": 0
      },
      "text/plain": [
       "interactive(children=(IntSlider(value=35, description='Z', max=70, min=1), IntSlider(value=2, description='x1'…"
      ]
     },
     "metadata": {},
     "output_type": "display_data"
    }
   ],
   "source": [
    "w = interact(graph, Z = (1, 70), \n",
    "             y1=(-30, 1), y2=(-30, 10), \n",
    "             x1=(-5, 10), x2=(-5, 10), \n",
    "             \n",
    "             continuous_update=False)"
   ]
  },
  {
   "cell_type": "code",
   "execution_count": 33,
   "metadata": {},
   "outputs": [],
   "source": [
    "def graph_error(Z):\n",
    "    f = getIFF(Z)\n",
    "    \n",
    "    \n",
    "    FFdata = db.EPDL[Z-1][(7, 93, 0, 0, 0, 942)]\n",
    "    \n",
    "    FFx, FFy = FFdata.X, FFdata.Y\n",
    "    FFx = FFx*10**6\n",
    "    FFy = FFy/Z\n",
    "    \n",
    "    Yfit = [Z**-1 * f(x) for x in FFx]\n",
    "    Yfit = array(Yfit)\n",
    "    fig = figure(figsize=(10, 10))\n",
    "    err = Yfit - FFy\n",
    "    \n",
    "    print(f\"\"\"\n",
    "    max err = {max(err)}\n",
    "    min err = {min(err)}\n",
    "    \"\"\")\n",
    "    \n",
    "    hist(err, bins = 300)\n",
    "    title(\"Error distribution for fit of element \" + str(Z))"
   ]
  },
  {
   "cell_type": "code",
   "execution_count": 34,
   "metadata": {},
   "outputs": [
    {
     "data": {
      "application/vnd.jupyter.widget-view+json": {
       "model_id": "dc553ec0a31f4cadbcc3794cc6d98dd2",
       "version_major": 2,
       "version_minor": 0
      },
      "text/plain": [
       "interactive(children=(IntSlider(value=35, description='Z', max=70, min=1), Output()), _dom_classes=('widget-in…"
      ]
     },
     "metadata": {},
     "output_type": "display_data"
    }
   ],
   "source": [
    "w = interact(graph_error, Z = (1, 70))"
   ]
  },
  {
   "cell_type": "code",
   "execution_count": null,
   "metadata": {},
   "outputs": [],
   "source": [
    "\n",
    "\n",
    "def fit(Z):\n",
    "    \n",
    "    FFdata = db.EPDL[Z-1][(7, 93, 0, 0, 0, 942)]\n",
    "    \n",
    "    FFx, FFy = FFdata.X, FFdata.Y\n",
    "    x = FFx*10**6\n",
    "    y = FFy\n",
    "    \n",
    "    w = \n",
    "    \n",
    "    @njit\n",
    "    def error(a1, a2, a3, a4, a5, w = 1):\n",
    "        \"\"\"\n",
    "        Error to be minimized.\n",
    "    \n",
    "\n",
    "        Equation 30 @ photonCS1994\n",
    "        https://drive.google.com/file/d/1Rt2DqkhwJINQC1S469adqn5Whz9110ep\n",
    "    \n",
    "        \"\"\"\n",
    "        #a1, a2, a3, a4, a5 = param\n",
    "        #yAxisTrue = func(xAxis, *param)\n",
    "    \n",
    "        \n",
    "        A = 1 + a1*x**2 + a2 * x**3 + a3 * x**4\n",
    "        B = 1 + a4*x**2 + a5 * x**4\n",
    "        \n",
    "        yfit = 1 - A/B**2\n",
    "        \n",
    "        return sum(w*(yfit - y)**2)\n"
   ]
  }
 ],
 "metadata": {
  "kernelspec": {
   "display_name": "Python 3",
   "language": "python",
   "name": "python3"
  },
  "language_info": {
   "codemirror_mode": {
    "name": "ipython",
    "version": 3
   },
   "file_extension": ".py",
   "mimetype": "text/x-python",
   "name": "python",
   "nbconvert_exporter": "python",
   "pygments_lexer": "ipython3",
   "version": "3.8.5"
  }
 },
 "nbformat": 4,
 "nbformat_minor": 4
}
