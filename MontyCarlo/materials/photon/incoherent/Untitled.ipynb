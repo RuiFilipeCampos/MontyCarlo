{
 "cells": [
  {
   "cell_type": "code",
   "execution_count": 1,
   "metadata": {},
   "outputs": [
    {
     "name": "stdout",
     "output_type": "stream",
     "text": [
      "\n",
      "________________\n",
      "> Reading EADL. \n",
      "> Done! EPDL available @ database.EPDL\n",
      "¯¯¯¯¯¯¯¯¯¯¯¯¯¯¯¯¯¯¯¯¯¯¯¯¯¯¯¯¯¯¯¯¯¯¯¯¯¯\n",
      "\n",
      "________________\n",
      "> Reading EPDL. \n",
      "> Done! EPDL available @ database.EPDL\n",
      "¯¯¯¯¯¯¯¯¯¯¯¯¯¯¯¯¯¯¯¯¯¯¯¯¯¯¯¯¯¯¯¯¯¯¯¯¯¯\n",
      "\n",
      "________________\n",
      "> Reading EEDL. \n",
      "> Done! EPDL available @ database.EEDL\n",
      "¯¯¯¯¯¯¯¯¯¯¯¯¯¯¯¯¯¯¯¯¯¯¯¯¯¯¯¯¯¯¯¯¯¯¯¯¯¯\n",
      "\n",
      "Imported databases\n"
     ]
    }
   ],
   "source": [
    "import sys\n",
    "sys.path.insert(0, r\"C:\\Users\\Rui Campos\\Dropbox\\MontyCarlo\")\n",
    "import MontyCarlo.materials.database as db\n",
    "from numpy import *"
   ]
  },
  {
   "cell_type": "code",
   "execution_count": 2,
   "metadata": {},
   "outputs": [
    {
     "data": {
      "image/png": "[encoded data removed]",
      "text/plain": [
       "<Figure size 720x720 with 1 Axes>"
      ]
     },
     "metadata": {
      "needs_background": "light"
     },
     "output_type": "display_data"
    }
   ],
   "source": [
    "db.EPDL[1][(7, 71, 0, 0, 0, 0)].scatter()"
   ]
  },
  {
   "cell_type": "code",
   "execution_count": 3,
   "metadata": {},
   "outputs": [],
   "source": [
    "from MontyCarlo.settings import __montecarlo__\n",
    "__incoherent__ = __montecarlo__/'materials'/'photon'/'incoherent'\n",
    "directory = str(__incoherent__)\n",
    "\n",
    "from numba import *\n",
    "from numpy import *\n",
    "\n",
    "def getIFF(Z):\n",
    "    import os\n",
    "    path = directory + \"\\pickles\\\\\" + str(Z)\n",
    "    if not os.path.isfile(path):\n",
    "        print(\"> Writing Incoherent Form Factor...\")\n",
    "        \n",
    "        from ...database import EPDL\n",
    "        IFFdata = EPDL[Z-1][(7, 93, 0, 0, 0, 942)]\n",
    "        \n",
    "        from . import IncoherentFormFactorWriter\n",
    "        IncoherentFormFactorWriter.IncoherentFormFactorWriter(IFFdata, Z)\n",
    "        \n",
    "    import dill as pickle\n",
    "    \n",
    "    with open(path, 'rb') as file:\n",
    "        param = pickle.load(file)\n",
    "\n",
    "    a1, a2, a3, a4, a5 = param\n",
    "\n",
    "\n",
    "    @njit\n",
    "    def _eval(x):\n",
    "        A = 1 + a1*x**2 + a2 * x**3 + a3 * x**4\n",
    "        B = 1 + a4*x**2 + a5 * x**4\n",
    "        return Z*(1 - A/B**2)\n",
    "\n",
    "    return _eval\n",
    "\n",
    "FFlist = [getIFF(Z) for Z in range(1, 70)]"
   ]
  },
  {
   "cell_type": "code",
   "execution_count": 6,
   "metadata": {},
   "outputs": [
    {
     "data": {
      "text/plain": [
       "CPUDispatcher(<function getIFF.<locals>._eval at 0x000001F8E046A1F0>)"
      ]
     },
     "execution_count": 6,
     "metadata": {},
     "output_type": "execute_result"
    }
   ],
   "source": [
    "getIFF(1)"
   ]
  },
  {
   "cell_type": "code",
   "execution_count": 4,
   "metadata": {},
   "outputs": [],
   "source": [
    "from numba import *\n",
    "\n",
    "def getErr(Z):\n",
    "    \n",
    "    FFdata = db.EPDL[Z-1][(7, 93, 0, 0, 0, 942)]\n",
    "    \n",
    "    FFx, FFy = FFdata.X, FFdata.Y\n",
    "    x = FFx*1e8\n",
    "    y = FFy\n",
    "\n",
    "    #y = y[5.00E-03*1e-8 < x]\n",
    "    #x = x[5.00E-03*1e-8 < x]\n",
    "\n",
    "    #x = x[9.9999E-1 > y]\n",
    "    #y = y[9.9999E-1 > y]\n",
    "    \n",
    "    w = (Z-y)*y\n",
    "    \n",
    "    w = 1/array(w)\n",
    "    w = [W if W != inf else 0 for W in w ]\n",
    "    w = array(w)\n",
    "    \n",
    "    \n",
    "    \n",
    "    #print(w)\n",
    "    \n",
    "    @njit\n",
    "    def error(param):\n",
    "        \"\"\"\n",
    "        Error to be minimized.\n",
    "    \n",
    "\n",
    "        Equation 30 @ photonCS1994\n",
    "        https://drive.google.com/file/d/1Rt2DqkhwJINQC1S469adqn5Whz9110ep\n",
    "    \n",
    "        \"\"\"\n",
    "        a1, a2, a3, a4, a5 = param\n",
    "        #yAxisTrue = func(xAxis, *param)\n",
    "    \n",
    "        \n",
    "        A = 1 + a1*x**2 + a2 * x**3 + a3 * x**4\n",
    "        B = 1 + a4*x**2 + a5 * x**4\n",
    "        \n",
    "        yfit = (1 - A/B**2)*Z\n",
    "        \n",
    "        return sum(w*(yfit - y)**2)\n",
    "    \n",
    "    return error\n"
   ]
  },
  {
   "cell_type": "code",
   "execution_count": 8,
   "metadata": {},
   "outputs": [
    {
     "name": "stderr",
     "output_type": "stream",
     "text": [
      "<ipython-input-7-90c84855322b>:19: RuntimeWarning: divide by zero encountered in true_divide\n",
      "  w = 1/array(w)\n"
     ]
    },
    {
     "data": {
      "text/plain": [
       "CPUDispatcher(<function getErr.<locals>.error at 0x000001F8EB73A040>)"
      ]
     },
     "execution_count": 8,
     "metadata": {},
     "output_type": "execute_result"
    }
   ],
   "source": [
    "getErr(1)"
   ]
  },
  {
   "cell_type": "markdown",
   "metadata": {},
   "source": [
    "# Explicar o que o codigo faz\n",
    "\n",
    "\n",
    "$$ F = ma $$\n",
    "\n",
    "\n",
    "Texto qq. **Negrito**, *italico*\n",
    "\n",
    "[asdsa](http://google.com)\n",
    "\n",
    "![texto altern](https://upload.wikimedia.org/wikipedia/commons/1/14/Early_blue_and_white_ware_circa_1335_Jingdezhen.jpg)"
   ]
  },
  {
   "cell_type": "code",
   "execution_count": 5,
   "metadata": {},
   "outputs": [],
   "source": [
    "from __future__ import print_function\n",
    "from ipywidgets import interact, interactive, fixed, interact_manual\n",
    "import ipywidgets as widgets\n",
    "from IPython.display import display\n",
    "from matplotlib.pyplot import *\n",
    "from numpy import *\n",
    "from MontyCarlo.tools.data import getAxis\n",
    "from scipy.optimize import *\n",
    "def graph(Z, x1, x2, y1, y2, deg):\n",
    "    FFdata = db.EPDL[Z-1][(7, 93, 0, 0, 0, 942)]\n",
    "    \n",
    "    FFx, FFy = FFdata.X, FFdata.Y\n",
    "    FFx = FFx*10**8\n",
    "    FFy = FFy\n",
    "    \n",
    "    fig = figure(figsize=(10, 10))\n",
    "    \n",
    "    #x1, x2 = map(lambda x: 10**x, (x1, x2))\n",
    "    #y1, y2 = map(lambda x: 10**x, (y1, y2))\n",
    "    \n",
    "    x = logspace(x1, x2, num=350)#, (x2 - x1)/((x1+x2)*100))\n",
    "    \n",
    "    #from scipy.optimize import basinhopping\n",
    "    #err = getErr(Z)\n",
    "    #a1, a2, a3, a4, a5 = fmin(err, 5*[5], maxfun=1e7)\n",
    "    \n",
    "    \n",
    "    #res = basinhopping(err, \n",
    "    #                tuple(5*[0]),\n",
    "    #                niter = 200,\n",
    "    #                minimizer_kwargs = dict(method = 'Nelder-Mead'))\n",
    "    \n",
    "    #print(res)\n",
    "    #print(err(5*[3]))\n",
    "    #res = basinhopping(err, 5*[3])\n",
    "\n",
    "    #a1, a2, a3, a4, a5 = res.x\n",
    "    \n",
    "\n",
    "    #from scipy.optimize import differential_evolution\n",
    "    #a1, a2, a3, a4, a5 = brute(err,\n",
    "    #                           [(0, 20), (-120, 280),\n",
    "    #                            (0, 2000), (0, 100),\n",
    "    #                            (0, 200)], finish = fmin, Ns=0)\n",
    "    \n",
    "    \n",
    "    \n",
    "    #res = differential_evolution(err,[(0, 20), (-120, 280),\n",
    "    #                                            (0, 2000), (0, 100),\n",
    "    #                                            (0, 200)], workers = -1, maxiter=100000)\n",
    "    \n",
    "    #a1, a2, a3, a4, a5 = res.x\n",
    "    #print(res)\n",
    "    \n",
    "    \n",
    "    \n",
    "    \n",
    "    @njit\n",
    "    def func(x):\n",
    "        \"\"\"x = 10**-10 * sin(theta/2)/lambda\"\"\"\n",
    "        A = 1 + a1*x**2 + a2 * x**3 + a3 * x**4\n",
    "        B = 1 + a4*x**2 + a5 * x**4\n",
    "        return (1-A/B**2)*Z\n",
    "    \n",
    "    f = func\n",
    "    \n",
    "    P = polyfit(log10(FFx+1), log10(FFy+1), deg=deg)\n",
    "    f = poly1d(flip(P))\n",
    "    \n",
    "    y = [10**(f(log10(X+1)-1)) for X in x]\n",
    "    #print(y)\n",
    "    plot(x, y)\n",
    "    \n",
    "    \n",
    "    ax = gca()\n",
    "    \n",
    "    scatter(FFx, FFy, s = 2, color=\"red\")\n",
    "    \n",
    "    ax.set_yscale(\"log\"); ax.set_xscale(\"log\")\n",
    "    ax.set_title(\"Form Factor of Element \" + str(Z))\n",
    "    ax.set_xlabel(\"x (cm^-1)\")\n",
    "    ax.grid(which='both')\n",
    "    \n",
    "    ax.set_ylim(10**y1, 10**y2)\n",
    "    ax.set_xlim(10**x1, 10**x2)\n",
    "    \n",
    "    Y = [f(X) for X in FFx]\n",
    "    Y = array(Y)\n",
    "    print(sum((FFy - Y)**2))\n",
    "    #display(f(1))\n",
    "    return f\n",
    "    \n"
   ]
  },
  {
   "cell_type": "code",
   "execution_count": 6,
   "metadata": {
    "scrolled": false
   },
   "outputs": [
    {
     "data": {
      "application/vnd.jupyter.widget-view+json": {
       "model_id": "0030d324b6f449b99df7b28582ab4a9a",
       "version_major": 2,
       "version_minor": 0
      },
      "text/plain": [
       "interactive(children=(IntSlider(value=1, continuous_update=False, description='Z', min=1), IntSlider(value=-10…"
      ]
     },
     "metadata": {},
     "output_type": "display_data"
    }
   ],
   "source": [
    "from ipywidgets import IntSlider\n",
    "a = IntSlider(min=1, max=100, step=1, continuous_update = False)\n",
    "\n",
    "x2 = IntSlider(value = 4, min=-10, max=4, step=1, continuous_update = False)\n",
    "x1 = IntSlider(value = -10, min=-10, max=4, step=1, continuous_update = False)\n",
    "\n",
    "y2 = IntSlider(value = 1, min=-10, max=1, step=1, continuous_update = False)\n",
    "y1 = IntSlider(value = -10, min=-10, max=1, step=1, continuous_update = False)\n",
    "\n",
    "deg = IntSlider(value = 1, min = 1, max = 59, continuous_update = False)\n",
    "\n",
    "w = interact(graph, Z = a, \n",
    "             y1=y1, y2=y2, \n",
    "             x1=x1, x2=x2, deg = deg) "
   ]
  },
  {
   "cell_type": "code",
   "execution_count": 43,
   "metadata": {},
   "outputs": [
    {
     "name": "stdout",
     "output_type": "stream",
     "text": [
      "Help on class IntSlider in module ipywidgets.widgets.widget_int:\n",
      "\n",
      "class IntSlider(_BoundedInt)\n",
      " |  IntSlider(*args, **kwargs)\n",
      " |  \n",
      " |  Slider widget that represents an integer bounded from above and below.\n",
      " |  \n",
      " |  Method resolution order:\n",
      " |      IntSlider\n",
      " |      _BoundedInt\n",
      " |      _Int\n",
      " |      ipywidgets.widgets.widget_description.DescriptionWidget\n",
      " |      ipywidgets.widgets.domwidget.DOMWidget\n",
      " |      ipywidgets.widgets.valuewidget.ValueWidget\n",
      " |      ipywidgets.widgets.widget_core.CoreWidget\n",
      " |      ipywidgets.widgets.widget.Widget\n",
      " |      ipywidgets.widgets.widget.LoggingHasTraits\n",
      " |      traitlets.traitlets.HasTraits\n",
      " |      traitlets.traitlets.HasDescriptors\n",
      " |      builtins.object\n",
      " |  \n",
      " |  Methods defined here:\n",
      " |  \n",
      " |  __init__(self, value=None, min=None, max=None, step=None, **kwargs)\n",
      " |      Parameters\n",
      " |      ----------\n",
      " |      value: integer\n",
      " |          The initial value.\n",
      " |      min: integer\n",
      " |          The lower limit for the value.\n",
      " |      max: integer\n",
      " |          The upper limit for the value.\n",
      " |      step: integer\n",
      " |          The step between allowed values.\n",
      " |  \n",
      " |  ----------------------------------------------------------------------\n",
      " |  Data descriptors defined here:\n",
      " |  \n",
      " |  continuous_update\n",
      " |      A boolean (True, False) trait.\n",
      " |  \n",
      " |  disabled\n",
      " |      A boolean (True, False) trait.\n",
      " |  \n",
      " |  orientation\n",
      " |      An enum of strings where the case should be ignored.\n",
      " |  \n",
      " |  readout\n",
      " |      A boolean (True, False) trait.\n",
      " |  \n",
      " |  readout_format\n",
      " |      A string holding a number format specifier, e.g. '.3f'\n",
      " |      \n",
      " |      This traitlet holds a string that can be passed to the\n",
      " |      `d3-format <https://github.com/d3/d3-format>`_ JavaScript library.\n",
      " |      The format allowed is similar to the Python format specifier (PEP 3101).\n",
      " |  \n",
      " |  step\n",
      " |      A casting version of the int trait.\n",
      " |  \n",
      " |  style\n",
      " |      An instance trait which coerces a dict to an instance.\n",
      " |      \n",
      " |      This lets the instance be specified as a dict, which is used\n",
      " |      to initialize the instance.\n",
      " |      \n",
      " |      Also, we default to a trivial instance, even if args and kwargs\n",
      " |      is not specified.\n",
      " |  \n",
      " |  ----------------------------------------------------------------------\n",
      " |  Data descriptors inherited from _BoundedInt:\n",
      " |  \n",
      " |  max\n",
      " |      A casting version of the int trait.\n",
      " |  \n",
      " |  min\n",
      " |      A casting version of the int trait.\n",
      " |  \n",
      " |  ----------------------------------------------------------------------\n",
      " |  Data descriptors inherited from _Int:\n",
      " |  \n",
      " |  value\n",
      " |      A casting version of the int trait.\n",
      " |  \n",
      " |  ----------------------------------------------------------------------\n",
      " |  Data descriptors inherited from ipywidgets.widgets.widget_description.DescriptionWidget:\n",
      " |  \n",
      " |  description\n",
      " |      A trait for unicode strings.\n",
      " |  \n",
      " |  description_tooltip\n",
      " |      A trait for unicode strings.\n",
      " |  \n",
      " |  ----------------------------------------------------------------------\n",
      " |  Methods inherited from ipywidgets.widgets.domwidget.DOMWidget:\n",
      " |  \n",
      " |  add_class(self, className)\n",
      " |      Adds a class to the top level element of the widget.\n",
      " |      \n",
      " |      Doesn't add the class if it already exists.\n",
      " |  \n",
      " |  remove_class(self, className)\n",
      " |      Removes a class from the top level element of the widget.\n",
      " |      \n",
      " |      Doesn't remove the class if it doesn't exist.\n",
      " |  \n",
      " |  ----------------------------------------------------------------------\n",
      " |  Data descriptors inherited from ipywidgets.widgets.domwidget.DOMWidget:\n",
      " |  \n",
      " |  layout\n",
      " |      An instance trait which coerces a dict to an instance.\n",
      " |      \n",
      " |      This lets the instance be specified as a dict, which is used\n",
      " |      to initialize the instance.\n",
      " |      \n",
      " |      Also, we default to a trivial instance, even if args and kwargs\n",
      " |      is not specified.\n",
      " |  \n",
      " |  ----------------------------------------------------------------------\n",
      " |  Methods inherited from ipywidgets.widgets.valuewidget.ValueWidget:\n",
      " |  \n",
      " |  get_interact_value(self)\n",
      " |      Return the value for this widget which should be passed to\n",
      " |      interactive functions. Custom widgets can change this method\n",
      " |      to process the raw value ``self.value``.\n",
      " |  \n",
      " |  ----------------------------------------------------------------------\n",
      " |  Methods inherited from ipywidgets.widgets.widget.Widget:\n",
      " |  \n",
      " |  __del__(self)\n",
      " |      Object disposal\n",
      " |  \n",
      " |  __repr__(self)\n",
      " |      Return repr(self).\n",
      " |  \n",
      " |  add_traits(self, **traits)\n",
      " |      Dynamically add trait attributes to the Widget.\n",
      " |  \n",
      " |  close(self)\n",
      " |      Close method.\n",
      " |      \n",
      " |      Closes the underlying comm.\n",
      " |      When the comm is closed, all of the widget views are automatically\n",
      " |      removed from the front-end.\n",
      " |  \n",
      " |  get_state(self, key=None, drop_defaults=False)\n",
      " |      Gets the widget state, or a piece of it.\n",
      " |      \n",
      " |      Parameters\n",
      " |      ----------\n",
      " |      key : unicode or iterable (optional)\n",
      " |          A single property's name or iterable of property names to get.\n",
      " |      \n",
      " |      Returns\n",
      " |      -------\n",
      " |      state : dict of states\n",
      " |      metadata : dict\n",
      " |          metadata for each field: {key: metadata}\n",
      " |  \n",
      " |  get_view_spec(self)\n",
      " |  \n",
      " |  hold_sync(self)\n",
      " |      Hold syncing any state until the outermost context manager exits\n",
      " |  \n",
      " |  notify_change(self, change)\n",
      " |      Called when a property has changed.\n",
      " |  \n",
      " |  on_displayed(self, callback, remove=False)\n",
      " |      (Un)Register a widget displayed callback.\n",
      " |      \n",
      " |      Parameters\n",
      " |      ----------\n",
      " |      callback: method handler\n",
      " |          Must have a signature of::\n",
      " |      \n",
      " |              callback(widget, **kwargs)\n",
      " |      \n",
      " |          kwargs from display are passed through without modification.\n",
      " |      remove: bool\n",
      " |          True if the callback should be unregistered.\n",
      " |  \n",
      " |  on_msg(self, callback, remove=False)\n",
      " |      (Un)Register a custom msg receive callback.\n",
      " |      \n",
      " |      Parameters\n",
      " |      ----------\n",
      " |      callback: callable\n",
      " |          callback will be passed three arguments when a message arrives::\n",
      " |      \n",
      " |              callback(widget, content, buffers)\n",
      " |      \n",
      " |      remove: bool\n",
      " |          True if the callback should be unregistered.\n",
      " |  \n",
      " |  open(self)\n",
      " |      Open a comm to the frontend if one isn't already open.\n",
      " |  \n",
      " |  send(self, content, buffers=None)\n",
      " |      Sends a custom msg to the widget model in the front-end.\n",
      " |      \n",
      " |      Parameters\n",
      " |      ----------\n",
      " |      content : dict\n",
      " |          Content of the message to send.\n",
      " |      buffers : list of binary buffers\n",
      " |          Binary buffers to send with message\n",
      " |  \n",
      " |  send_state(self, key=None)\n",
      " |      Sends the widget state, or a piece of it, to the front-end, if it exists.\n",
      " |      \n",
      " |      Parameters\n",
      " |      ----------\n",
      " |      key : unicode, or iterable (optional)\n",
      " |          A single property's name or iterable of property names to sync with the front-end.\n",
      " |  \n",
      " |  set_state(self, sync_data)\n",
      " |      Called when a state is received from the front-end.\n",
      " |  \n",
      " |  ----------------------------------------------------------------------\n",
      " |  Class methods inherited from ipywidgets.widgets.widget.Widget:\n",
      " |  \n",
      " |  close_all() from traitlets.traitlets.MetaHasTraits\n",
      " |  \n",
      " |  ----------------------------------------------------------------------\n",
      " |  Static methods inherited from ipywidgets.widgets.widget.Widget:\n",
      " |  \n",
      " |  get_manager_state(drop_defaults=False, widgets=None)\n",
      " |      Returns the full state for a widget manager for embedding\n",
      " |      \n",
      " |      :param drop_defaults: when True, it will not include default value\n",
      " |      :param widgets: list with widgets to include in the state (or all widgets when None)\n",
      " |      :return:\n",
      " |  \n",
      " |  handle_comm_opened(comm, msg)\n",
      " |      Static method, called when a widget is constructed.\n",
      " |  \n",
      " |  on_widget_constructed(callback)\n",
      " |      Registers a callback to be called when a widget is constructed.\n",
      " |      \n",
      " |      The callback must have the following signature:\n",
      " |      callback(widget)\n",
      " |  \n",
      " |  ----------------------------------------------------------------------\n",
      " |  Readonly properties inherited from ipywidgets.widgets.widget.Widget:\n",
      " |  \n",
      " |  model_id\n",
      " |      Gets the model id of this widget.\n",
      " |      \n",
      " |      If a Comm doesn't exist yet, a Comm will be created automagically.\n",
      " |  \n",
      " |  ----------------------------------------------------------------------\n",
      " |  Data descriptors inherited from ipywidgets.widgets.widget.Widget:\n",
      " |  \n",
      " |  comm\n",
      " |      A trait whose value must be an instance of a specified class.\n",
      " |      \n",
      " |      The value can also be an instance of a subclass of the specified class.\n",
      " |      \n",
      " |      Subclasses can declare default classes by overriding the klass attribute\n",
      " |  \n",
      " |  keys\n",
      " |      An instance of a Python list.\n",
      " |  \n",
      " |  ----------------------------------------------------------------------\n",
      " |  Data and other attributes inherited from ipywidgets.widgets.widget.Widget:\n",
      " |  \n",
      " |  widget_types = <ipywidgets.widgets.widget.WidgetRegistry object>\n",
      " |  \n",
      " |  widgets = {'001f221d1d3a4fdb92bc76c18408bebf': SliderStyle(), '0033b2e...\n",
      " |  \n",
      " |  ----------------------------------------------------------------------\n",
      " |  Data descriptors inherited from ipywidgets.widgets.widget.LoggingHasTraits:\n",
      " |  \n",
      " |  log\n",
      " |      A trait whose value must be an instance of a specified class.\n",
      " |      \n",
      " |      The value can also be an instance of a subclass of the specified class.\n",
      " |      \n",
      " |      Subclasses can declare default classes by overriding the klass attribute\n",
      " |  \n",
      " |  ----------------------------------------------------------------------\n",
      " |  Methods inherited from traitlets.traitlets.HasTraits:\n",
      " |  \n",
      " |  __getstate__(self)\n",
      " |  \n",
      " |  __setstate__(self, state)\n",
      " |  \n",
      " |  has_trait(self, name)\n",
      " |      Returns True if the object has a trait with the specified name.\n",
      " |  \n",
      " |  hold_trait_notifications(self)\n",
      " |      Context manager for bundling trait change notifications and cross\n",
      " |      validation.\n",
      " |      \n",
      " |      Use this when doing multiple trait assignments (init, config), to avoid\n",
      " |      race conditions in trait notifiers requesting other trait values.\n",
      " |      All trait notifications will fire after all values have been assigned.\n",
      " |  \n",
      " |  observe(self, handler, names=traitlets.All, type='change')\n",
      " |      Setup a handler to be called when a trait changes.\n",
      " |      \n",
      " |      This is used to setup dynamic notifications of trait changes.\n",
      " |      \n",
      " |      Parameters\n",
      " |      ----------\n",
      " |      handler : callable\n",
      " |          A callable that is called when a trait changes. Its\n",
      " |          signature should be ``handler(change)``, where ``change`` is a\n",
      " |          dictionary. The change dictionary at least holds a 'type' key.\n",
      " |          * ``type``: the type of notification.\n",
      " |          Other keys may be passed depending on the value of 'type'. In the\n",
      " |          case where type is 'change', we also have the following keys:\n",
      " |          * ``owner`` : the HasTraits instance\n",
      " |          * ``old`` : the old value of the modified trait attribute\n",
      " |          * ``new`` : the new value of the modified trait attribute\n",
      " |          * ``name`` : the name of the modified trait attribute.\n",
      " |      names : list, str, All\n",
      " |          If names is All, the handler will apply to all traits.  If a list\n",
      " |          of str, handler will apply to all names in the list.  If a\n",
      " |          str, the handler will apply just to that name.\n",
      " |      type : str, All (default: 'change')\n",
      " |          The type of notification to filter by. If equal to All, then all\n",
      " |          notifications are passed to the observe handler.\n",
      " |  \n",
      " |  on_trait_change(self, handler=None, name=None, remove=False)\n",
      " |      DEPRECATED: Setup a handler to be called when a trait changes.\n",
      " |      \n",
      " |      This is used to setup dynamic notifications of trait changes.\n",
      " |      \n",
      " |      Static handlers can be created by creating methods on a HasTraits\n",
      " |      subclass with the naming convention '_[traitname]_changed'.  Thus,\n",
      " |      to create static handler for the trait 'a', create the method\n",
      " |      _a_changed(self, name, old, new) (fewer arguments can be used, see\n",
      " |      below).\n",
      " |      \n",
      " |      If `remove` is True and `handler` is not specified, all change\n",
      " |      handlers for the specified name are uninstalled.\n",
      " |      \n",
      " |      Parameters\n",
      " |      ----------\n",
      " |      handler : callable, None\n",
      " |          A callable that is called when a trait changes.  Its\n",
      " |          signature can be handler(), handler(name), handler(name, new),\n",
      " |          handler(name, old, new), or handler(name, old, new, self).\n",
      " |      name : list, str, None\n",
      " |          If None, the handler will apply to all traits.  If a list\n",
      " |          of str, handler will apply to all names in the list.  If a\n",
      " |          str, the handler will apply just to that name.\n",
      " |      remove : bool\n",
      " |          If False (the default), then install the handler.  If True\n",
      " |          then unintall it.\n",
      " |  \n",
      " |  set_trait(self, name, value)\n",
      " |      Forcibly sets trait attribute, including read-only attributes.\n",
      " |  \n",
      " |  setup_instance(*args, **kwargs)\n",
      " |      This is called **before** self.__init__ is called.\n",
      " |  \n",
      " |  trait_defaults(self, *names, **metadata)\n",
      " |      Return a trait's default value or a dictionary of them\n",
      " |      \n",
      " |      Notes\n",
      " |      -----\n",
      " |      Dynamically generated default values may\n",
      " |      depend on the current state of the object.\n",
      " |  \n",
      " |  trait_has_value(self, name)\n",
      " |      Returns True if the specified trait has a value.\n",
      " |      \n",
      " |      This will return false even if ``getattr`` would return a\n",
      " |      dynamically generated default value. These default values\n",
      " |      will be recognized as existing only after they have been\n",
      " |      generated.\n",
      " |      \n",
      " |      Example\n",
      " |      \n",
      " |      .. code-block:: python\n",
      " |      \n",
      " |          class MyClass(HasTraits):\n",
      " |              i = Int()\n",
      " |      \n",
      " |          mc = MyClass()\n",
      " |          assert not mc.trait_has_value(\"i\")\n",
      " |          mc.i # generates a default value\n",
      " |          assert mc.trait_has_value(\"i\")\n",
      " |  \n",
      " |  trait_metadata(self, traitname, key, default=None)\n",
      " |      Get metadata values for trait by key.\n",
      " |  \n",
      " |  trait_names(self, **metadata)\n",
      " |      Get a list of all the names of this class' traits.\n",
      " |  \n",
      " |  trait_values(self, **metadata)\n",
      " |      A ``dict`` of trait names and their values.\n",
      " |      \n",
      " |      The metadata kwargs allow functions to be passed in which\n",
      " |      filter traits based on metadata values.  The functions should\n",
      " |      take a single value as an argument and return a boolean.  If\n",
      " |      any function returns False, then the trait is not included in\n",
      " |      the output.  If a metadata key doesn't exist, None will be passed\n",
      " |      to the function.\n",
      " |      \n",
      " |      Returns\n",
      " |      -------\n",
      " |      A ``dict`` of trait names and their values.\n",
      " |      \n",
      " |      Notes\n",
      " |      -----\n",
      " |      Trait values are retrieved via ``getattr``, any exceptions raised\n",
      " |      by traits or the operations they may trigger will result in the\n",
      " |      absence of a trait value in the result ``dict``.\n",
      " |  \n",
      " |  traits(self, **metadata)\n",
      " |      Get a ``dict`` of all the traits of this class.  The dictionary\n",
      " |      is keyed on the name and the values are the TraitType objects.\n",
      " |      \n",
      " |      The TraitTypes returned don't know anything about the values\n",
      " |      that the various HasTrait's instances are holding.\n",
      " |      \n",
      " |      The metadata kwargs allow functions to be passed in which\n",
      " |      filter traits based on metadata values.  The functions should\n",
      " |      take a single value as an argument and return a boolean.  If\n",
      " |      any function returns False, then the trait is not included in\n",
      " |      the output.  If a metadata key doesn't exist, None will be passed\n",
      " |      to the function.\n",
      " |  \n",
      " |  unobserve(self, handler, names=traitlets.All, type='change')\n",
      " |      Remove a trait change handler.\n",
      " |      \n",
      " |      This is used to unregister handlers to trait change notifications.\n",
      " |      \n",
      " |      Parameters\n",
      " |      ----------\n",
      " |      handler : callable\n",
      " |          The callable called when a trait attribute changes.\n",
      " |      names : list, str, All (default: All)\n",
      " |          The names of the traits for which the specified handler should be\n",
      " |          uninstalled. If names is All, the specified handler is uninstalled\n",
      " |          from the list of notifiers corresponding to all changes.\n",
      " |      type : str or All (default: 'change')\n",
      " |          The type of notification to filter by. If All, the specified handler\n",
      " |          is uninstalled from the list of notifiers corresponding to all types.\n",
      " |  \n",
      " |  unobserve_all(self, name=traitlets.All)\n",
      " |      Remove trait change handlers of any type for the specified name.\n",
      " |      If name is not specified, removes all trait notifiers.\n",
      " |  \n",
      " |  ----------------------------------------------------------------------\n",
      " |  Class methods inherited from traitlets.traitlets.HasTraits:\n",
      " |  \n",
      " |  class_own_trait_events(name) from traitlets.traitlets.MetaHasTraits\n",
      " |      Get a dict of all event handlers defined on this class, not a parent.\n",
      " |      \n",
      " |      Works like ``event_handlers``, except for excluding traits from parents.\n",
      " |  \n",
      " |  class_own_traits(**metadata) from traitlets.traitlets.MetaHasTraits\n",
      " |      Get a dict of all the traitlets defined on this class, not a parent.\n",
      " |      \n",
      " |      Works like `class_traits`, except for excluding traits from parents.\n",
      " |  \n",
      " |  class_trait_names(**metadata) from traitlets.traitlets.MetaHasTraits\n",
      " |      Get a list of all the names of this class' traits.\n",
      " |      \n",
      " |      This method is just like the :meth:`trait_names` method,\n",
      " |      but is unbound.\n",
      " |  \n",
      " |  class_traits(**metadata) from traitlets.traitlets.MetaHasTraits\n",
      " |      Get a ``dict`` of all the traits of this class.  The dictionary\n",
      " |      is keyed on the name and the values are the TraitType objects.\n",
      " |      \n",
      " |      This method is just like the :meth:`traits` method, but is unbound.\n",
      " |      \n",
      " |      The TraitTypes returned don't know anything about the values\n",
      " |      that the various HasTrait's instances are holding.\n",
      " |      \n",
      " |      The metadata kwargs allow functions to be passed in which\n",
      " |      filter traits based on metadata values.  The functions should\n",
      " |      take a single value as an argument and return a boolean.  If\n",
      " |      any function returns False, then the trait is not included in\n",
      " |      the output.  If a metadata key doesn't exist, None will be passed\n",
      " |      to the function.\n",
      " |  \n",
      " |  trait_events(name=None) from traitlets.traitlets.MetaHasTraits\n",
      " |      Get a ``dict`` of all the event handlers of this class.\n",
      " |      \n",
      " |      Parameters\n",
      " |      ----------\n",
      " |      name : str (default: None)\n",
      " |          The name of a trait of this class. If name is ``None`` then all\n",
      " |          the event handlers of this class will be returned instead.\n",
      " |      \n",
      " |      Returns\n",
      " |      -------\n",
      " |      The event handlers associated with a trait name, or all event handlers.\n",
      " |  \n",
      " |  ----------------------------------------------------------------------\n",
      " |  Readonly properties inherited from traitlets.traitlets.HasTraits:\n",
      " |  \n",
      " |  cross_validation_lock\n",
      " |      A contextmanager for running a block with our cross validation lock set\n",
      " |      to True.\n",
      " |      \n",
      " |      At the end of the block, the lock's value is restored to its value\n",
      " |      prior to entering the block.\n",
      " |  \n",
      " |  ----------------------------------------------------------------------\n",
      " |  Static methods inherited from traitlets.traitlets.HasDescriptors:\n",
      " |  \n",
      " |  __new__(*args, **kwargs)\n",
      " |      Create and return a new object.  See help(type) for accurate signature.\n",
      " |  \n",
      " |  ----------------------------------------------------------------------\n",
      " |  Data descriptors inherited from traitlets.traitlets.HasDescriptors:\n",
      " |  \n",
      " |  __dict__\n",
      " |      dictionary for instance variables (if defined)\n",
      " |  \n",
      " |  __weakref__\n",
      " |      list of weak references to the object (if defined)\n",
      "\n"
     ]
    }
   ],
   "source": [
    "help(IntSlider)"
   ]
  },
  {
   "cell_type": "code",
   "execution_count": 66,
   "metadata": {},
   "outputs": [],
   "source": [
    "def graph_error(Z):\n",
    "\n",
    "    \n",
    "    \n",
    "    FFdata = db.EPDL[Z-1][(7, 93, 0, 0, 0, 942)]\n",
    "    err = getErr(Z)\n",
    "    #a1, a2, a3, a4, a5 = fmin(err, 5*[5], maxfun=1e7)\n",
    "    \n",
    "    \n",
    "    res = basinhopping(err, \n",
    "                    tuple(5*[0]),\n",
    "                    niter = 200,\n",
    "                    minimizer_kwargs = dict(method = 'Nelder-Mead'))\n",
    "    a1, a2, a3, a4, a5 = res.x\n",
    "    @njit\n",
    "    def func(x):\n",
    "        \"\"\"x = 10**-10 * sin(theta/2)/lambda\"\"\"\n",
    "        A = 1 + a1*x**2 + a2 * x**3 + a3 * x**4\n",
    "        B = 1 + a4*x**2 + a5 * x**4\n",
    "        return (1-A/B**2)*Z\n",
    "    \n",
    "    f = func\n",
    "    \n",
    "    FFx, FFy = FFdata.X, FFdata.Y\n",
    "    FFx = FFx*10**6\n",
    "    FFy = FFy/Z\n",
    "    \n",
    "    Yfit = [Z**-1 * f(x) for x in FFx]\n",
    "    Yfit = array(Yfit)\n",
    "    fig = figure(figsize=(10, 10))\n",
    "    err = Yfit - FFy\n",
    "    \n",
    "    print(f\"\"\"\n",
    "    max err = {max(err)}\n",
    "    min err = {min(err)}\n",
    "    \"\"\")\n",
    "    \n",
    "    hist(err, bins = 300)\n",
    "    title(\"Error distribution for fit of element \" + str(Z))"
   ]
  },
  {
   "cell_type": "code",
   "execution_count": 68,
   "metadata": {},
   "outputs": [
    {
     "data": {
      "application/vnd.jupyter.widget-view+json": {
       "model_id": "285e8ad99e99462b9c4a4f2236c76e5a",
       "version_major": 2,
       "version_minor": 0
      },
      "text/plain": [
       "interactive(children=(IntSlider(value=1, description='Z', max=70, min=1), Output()), _dom_classes=('widget-int…"
      ]
     },
     "metadata": {},
     "output_type": "display_data"
    }
   ],
   "source": [
    "w = interact(graph_error, Z = IntSlider(min = 1, max = 70))"
   ]
  },
  {
   "cell_type": "code",
   "execution_count": null,
   "metadata": {},
   "outputs": [],
   "source": [
    "a = fit(3)\n",
    "\n"
   ]
  },
  {
   "cell_type": "code",
   "execution_count": null,
   "metadata": {},
   "outputs": [],
   "source": [
    "from scipy.optimize import fmin\n",
    "\n",
    "\n",
    "\n",
    "err = fit(6)\n",
    "\n",
    "err(fmin(err, 5*[3], maxfun=1e6))\n",
    "\n"
   ]
  },
  {
   "cell_type": "code",
   "execution_count": null,
   "metadata": {},
   "outputs": [],
   "source": [
    "array(5*[0])"
   ]
  },
  {
   "cell_type": "code",
   "execution_count": null,
   "metadata": {},
   "outputs": [],
   "source": [
    "help(fmin)"
   ]
  },
  {
   "cell_type": "code",
   "execution_count": 140,
   "metadata": {},
   "outputs": [],
   "source": [
    "from MontyCarlo.tools import RITA"
   ]
  },
  {
   "cell_type": "code",
   "execution_count": 254,
   "metadata": {
    "scrolled": true
   },
   "outputs": [
    {
     "ename": "ZeroDivisionError",
     "evalue": "float division",
     "output_type": "error",
     "traceback": [
      "\u001b[1;31m---------------------------------------------------------------------------\u001b[0m",
      "\u001b[1;31mZeroDivisionError\u001b[0m                         Traceback (most recent call last)",
      "\u001b[1;31mZeroDivisionError\u001b[0m: float division"
     ]
    },
    {
     "name": "stderr",
     "output_type": "stream",
     "text": [
      "Exception ignored in: 'MontyCarlo.tools.RITA.Interval._eval'\n",
      "Traceback (most recent call last):\n",
      "  File \"<ipython-input-254-2eca1893ac94>\", line 4, in <module>\n",
      "ZeroDivisionError: float division\n"
     ]
    },
    {
     "ename": "ZeroDivisionError",
     "evalue": "float division",
     "output_type": "error",
     "traceback": [
      "\u001b[1;31m---------------------------------------------------------------------------\u001b[0m",
      "\u001b[1;31mZeroDivisionError\u001b[0m                         Traceback (most recent call last)",
      "\u001b[1;31mZeroDivisionError\u001b[0m: float division"
     ]
    },
    {
     "name": "stderr",
     "output_type": "stream",
     "text": [
      "Exception ignored in: 'MontyCarlo.tools.RITA.Interval._eval'\n",
      "Traceback (most recent call last):\n",
      "  File \"<ipython-input-254-2eca1893ac94>\", line 4, in <module>\n",
      "ZeroDivisionError: float division\n"
     ]
    },
    {
     "ename": "ZeroDivisionError",
     "evalue": "float division",
     "output_type": "error",
     "traceback": [
      "\u001b[1;31m---------------------------------------------------------------------------\u001b[0m",
      "\u001b[1;31mZeroDivisionError\u001b[0m                         Traceback (most recent call last)",
      "\u001b[1;31mZeroDivisionError\u001b[0m: float division"
     ]
    },
    {
     "name": "stderr",
     "output_type": "stream",
     "text": [
      "Exception ignored in: 'MontyCarlo.tools.RITA.Interval._eval'\n",
      "Traceback (most recent call last):\n",
      "  File \"<ipython-input-254-2eca1893ac94>\", line 4, in <module>\n",
      "ZeroDivisionError: float division\n"
     ]
    },
    {
     "ename": "ZeroDivisionError",
     "evalue": "float division",
     "output_type": "error",
     "traceback": [
      "\u001b[1;31m---------------------------------------------------------------------------\u001b[0m",
      "\u001b[1;31mZeroDivisionError\u001b[0m                         Traceback (most recent call last)",
      "\u001b[1;31mZeroDivisionError\u001b[0m: float division"
     ]
    },
    {
     "name": "stderr",
     "output_type": "stream",
     "text": [
      "Exception ignored in: 'MontyCarlo.tools.RITA.Interval._eval'\n",
      "Traceback (most recent call last):\n",
      "  File \"<ipython-input-254-2eca1893ac94>\", line 4, in <module>\n",
      "ZeroDivisionError: float division\n"
     ]
    },
    {
     "ename": "ZeroDivisionError",
     "evalue": "float division",
     "output_type": "error",
     "traceback": [
      "\u001b[1;31m---------------------------------------------------------------------------\u001b[0m",
      "\u001b[1;31mZeroDivisionError\u001b[0m                         Traceback (most recent call last)",
      "\u001b[1;31mZeroDivisionError\u001b[0m: float division"
     ]
    },
    {
     "name": "stderr",
     "output_type": "stream",
     "text": [
      "Exception ignored in: 'MontyCarlo.tools.RITA.Interval._eval'\n",
      "Traceback (most recent call last):\n",
      "  File \"<ipython-input-254-2eca1893ac94>\", line 4, in <module>\n",
      "ZeroDivisionError: float division\n"
     ]
    },
    {
     "ename": "ZeroDivisionError",
     "evalue": "float division",
     "output_type": "error",
     "traceback": [
      "\u001b[1;31m---------------------------------------------------------------------------\u001b[0m",
      "\u001b[1;31mZeroDivisionError\u001b[0m                         Traceback (most recent call last)",
      "\u001b[1;31mZeroDivisionError\u001b[0m: float division"
     ]
    },
    {
     "name": "stderr",
     "output_type": "stream",
     "text": [
      "Exception ignored in: 'MontyCarlo.tools.RITA.Interval._eval'\n",
      "Traceback (most recent call last):\n",
      "  File \"<ipython-input-254-2eca1893ac94>\", line 4, in <module>\n",
      "ZeroDivisionError: float division\n"
     ]
    },
    {
     "ename": "ZeroDivisionError",
     "evalue": "float division",
     "output_type": "error",
     "traceback": [
      "\u001b[1;31m---------------------------------------------------------------------------\u001b[0m",
      "\u001b[1;31mZeroDivisionError\u001b[0m                         Traceback (most recent call last)",
      "\u001b[1;31mZeroDivisionError\u001b[0m: float division"
     ]
    },
    {
     "name": "stderr",
     "output_type": "stream",
     "text": [
      "Exception ignored in: 'MontyCarlo.tools.RITA.Interval._eval'\n",
      "Traceback (most recent call last):\n",
      "  File \"<ipython-input-254-2eca1893ac94>\", line 4, in <module>\n",
      "ZeroDivisionError: float division\n"
     ]
    },
    {
     "ename": "ZeroDivisionError",
     "evalue": "float division",
     "output_type": "error",
     "traceback": [
      "\u001b[1;31m---------------------------------------------------------------------------\u001b[0m",
      "\u001b[1;31mZeroDivisionError\u001b[0m                         Traceback (most recent call last)",
      "\u001b[1;31mZeroDivisionError\u001b[0m: float division"
     ]
    },
    {
     "name": "stderr",
     "output_type": "stream",
     "text": [
      "Exception ignored in: 'MontyCarlo.tools.RITA.Interval._eval'\n",
      "Traceback (most recent call last):\n",
      "  File \"<ipython-input-254-2eca1893ac94>\", line 4, in <module>\n",
      "ZeroDivisionError: float division\n"
     ]
    },
    {
     "ename": "ZeroDivisionError",
     "evalue": "float division",
     "output_type": "error",
     "traceback": [
      "\u001b[1;31m---------------------------------------------------------------------------\u001b[0m",
      "\u001b[1;31mZeroDivisionError\u001b[0m                         Traceback (most recent call last)",
      "\u001b[1;31mZeroDivisionError\u001b[0m: float division"
     ]
    },
    {
     "name": "stderr",
     "output_type": "stream",
     "text": [
      "Exception ignored in: 'MontyCarlo.tools.RITA.Interval._eval'\n",
      "Traceback (most recent call last):\n",
      "  File \"<ipython-input-254-2eca1893ac94>\", line 4, in <module>\n",
      "ZeroDivisionError: float division\n"
     ]
    },
    {
     "ename": "ZeroDivisionError",
     "evalue": "float division",
     "output_type": "error",
     "traceback": [
      "\u001b[1;31m---------------------------------------------------------------------------\u001b[0m",
      "\u001b[1;31mZeroDivisionError\u001b[0m                         Traceback (most recent call last)",
      "\u001b[1;31mZeroDivisionError\u001b[0m: float division"
     ]
    },
    {
     "name": "stderr",
     "output_type": "stream",
     "text": [
      "Exception ignored in: 'MontyCarlo.tools.RITA.Interval._eval'\n",
      "Traceback (most recent call last):\n",
      "  File \"<ipython-input-254-2eca1893ac94>\", line 4, in <module>\n",
      "ZeroDivisionError: float division\n"
     ]
    },
    {
     "ename": "ZeroDivisionError",
     "evalue": "float division",
     "output_type": "error",
     "traceback": [
      "\u001b[1;31m---------------------------------------------------------------------------\u001b[0m",
      "\u001b[1;31mZeroDivisionError\u001b[0m                         Traceback (most recent call last)",
      "\u001b[1;31mZeroDivisionError\u001b[0m: float division"
     ]
    },
    {
     "name": "stderr",
     "output_type": "stream",
     "text": [
      "Exception ignored in: 'MontyCarlo.tools.RITA.Interval._eval'\n",
      "Traceback (most recent call last):\n",
      "  File \"<ipython-input-254-2eca1893ac94>\", line 4, in <module>\n",
      "ZeroDivisionError: float division\n"
     ]
    },
    {
     "ename": "ZeroDivisionError",
     "evalue": "float division",
     "output_type": "error",
     "traceback": [
      "\u001b[1;31m---------------------------------------------------------------------------\u001b[0m",
      "\u001b[1;31mZeroDivisionError\u001b[0m                         Traceback (most recent call last)",
      "\u001b[1;31mZeroDivisionError\u001b[0m: float division"
     ]
    },
    {
     "name": "stderr",
     "output_type": "stream",
     "text": [
      "Exception ignored in: 'MontyCarlo.tools.RITA.Interval._eval'\n",
      "Traceback (most recent call last):\n",
      "  File \"<ipython-input-254-2eca1893ac94>\", line 4, in <module>\n",
      "ZeroDivisionError: float division\n"
     ]
    },
    {
     "ename": "ZeroDivisionError",
     "evalue": "float division",
     "output_type": "error",
     "traceback": [
      "\u001b[1;31m---------------------------------------------------------------------------\u001b[0m",
      "\u001b[1;31mZeroDivisionError\u001b[0m                         Traceback (most recent call last)",
      "\u001b[1;31mZeroDivisionError\u001b[0m: float division"
     ]
    },
    {
     "name": "stderr",
     "output_type": "stream",
     "text": [
      "Exception ignored in: 'MontyCarlo.tools.RITA.Interval._eval'\n",
      "Traceback (most recent call last):\n",
      "  File \"<ipython-input-254-2eca1893ac94>\", line 4, in <module>\n",
      "ZeroDivisionError: float division\n"
     ]
    },
    {
     "ename": "ZeroDivisionError",
     "evalue": "float division",
     "output_type": "error",
     "traceback": [
      "\u001b[1;31m---------------------------------------------------------------------------\u001b[0m",
      "\u001b[1;31mZeroDivisionError\u001b[0m                         Traceback (most recent call last)",
      "\u001b[1;31mZeroDivisionError\u001b[0m: float division"
     ]
    },
    {
     "name": "stderr",
     "output_type": "stream",
     "text": [
      "Exception ignored in: 'MontyCarlo.tools.RITA.Interval._eval'\n",
      "Traceback (most recent call last):\n",
      "  File \"<ipython-input-254-2eca1893ac94>\", line 4, in <module>\n",
      "ZeroDivisionError: float division\n"
     ]
    },
    {
     "ename": "ZeroDivisionError",
     "evalue": "float division",
     "output_type": "error",
     "traceback": [
      "\u001b[1;31m---------------------------------------------------------------------------\u001b[0m",
      "\u001b[1;31mZeroDivisionError\u001b[0m                         Traceback (most recent call last)",
      "\u001b[1;31mZeroDivisionError\u001b[0m: float division"
     ]
    },
    {
     "name": "stderr",
     "output_type": "stream",
     "text": [
      "Exception ignored in: 'MontyCarlo.tools.RITA.Interval._eval'\n",
      "Traceback (most recent call last):\n",
      "  File \"<ipython-input-254-2eca1893ac94>\", line 4, in <module>\n",
      "ZeroDivisionError: float division\n"
     ]
    },
    {
     "ename": "ZeroDivisionError",
     "evalue": "float division",
     "output_type": "error",
     "traceback": [
      "\u001b[1;31m---------------------------------------------------------------------------\u001b[0m",
      "\u001b[1;31mZeroDivisionError\u001b[0m                         Traceback (most recent call last)",
      "\u001b[1;31mZeroDivisionError\u001b[0m: float division"
     ]
    },
    {
     "name": "stderr",
     "output_type": "stream",
     "text": [
      "Exception ignored in: 'MontyCarlo.tools.RITA.Interval._eval'\n",
      "Traceback (most recent call last):\n",
      "  File \"<ipython-input-254-2eca1893ac94>\", line 4, in <module>\n",
      "ZeroDivisionError: float division\n"
     ]
    },
    {
     "ename": "ZeroDivisionError",
     "evalue": "float division",
     "output_type": "error",
     "traceback": [
      "\u001b[1;31m---------------------------------------------------------------------------\u001b[0m",
      "\u001b[1;31mZeroDivisionError\u001b[0m                         Traceback (most recent call last)",
      "\u001b[1;31mZeroDivisionError\u001b[0m: float division"
     ]
    },
    {
     "name": "stderr",
     "output_type": "stream",
     "text": [
      "Exception ignored in: 'MontyCarlo.tools.RITA.Interval._eval'\n",
      "Traceback (most recent call last):\n",
      "  File \"<ipython-input-254-2eca1893ac94>\", line 4, in <module>\n",
      "ZeroDivisionError: float division\n"
     ]
    },
    {
     "ename": "ZeroDivisionError",
     "evalue": "float division",
     "output_type": "error",
     "traceback": [
      "\u001b[1;31m---------------------------------------------------------------------------\u001b[0m",
      "\u001b[1;31mZeroDivisionError\u001b[0m                         Traceback (most recent call last)",
      "\u001b[1;31mZeroDivisionError\u001b[0m: float division"
     ]
    },
    {
     "name": "stderr",
     "output_type": "stream",
     "text": [
      "Exception ignored in: 'MontyCarlo.tools.RITA.Interval._eval'\n",
      "Traceback (most recent call last):\n",
      "  File \"<ipython-input-254-2eca1893ac94>\", line 4, in <module>\n",
      "ZeroDivisionError: float division\n"
     ]
    },
    {
     "ename": "ZeroDivisionError",
     "evalue": "float division",
     "output_type": "error",
     "traceback": [
      "\u001b[1;31m---------------------------------------------------------------------------\u001b[0m",
      "\u001b[1;31mZeroDivisionError\u001b[0m                         Traceback (most recent call last)",
      "\u001b[1;31mZeroDivisionError\u001b[0m: float division"
     ]
    },
    {
     "name": "stderr",
     "output_type": "stream",
     "text": [
      "Exception ignored in: 'MontyCarlo.tools.RITA.Interval._eval'\n",
      "Traceback (most recent call last):\n",
      "  File \"<ipython-input-254-2eca1893ac94>\", line 4, in <module>\n",
      "ZeroDivisionError: float division\n"
     ]
    },
    {
     "ename": "ZeroDivisionError",
     "evalue": "float division",
     "output_type": "error",
     "traceback": [
      "\u001b[1;31m---------------------------------------------------------------------------\u001b[0m",
      "\u001b[1;31mZeroDivisionError\u001b[0m                         Traceback (most recent call last)",
      "\u001b[1;31mZeroDivisionError\u001b[0m: float division"
     ]
    },
    {
     "name": "stderr",
     "output_type": "stream",
     "text": [
      "Exception ignored in: 'MontyCarlo.tools.RITA.Interval._eval'\n",
      "Traceback (most recent call last):\n",
      "  File \"<ipython-input-254-2eca1893ac94>\", line 4, in <module>\n",
      "ZeroDivisionError: float division\n"
     ]
    },
    {
     "ename": "ZeroDivisionError",
     "evalue": "float division",
     "output_type": "error",
     "traceback": [
      "\u001b[1;31m---------------------------------------------------------------------------\u001b[0m",
      "\u001b[1;31mZeroDivisionError\u001b[0m                         Traceback (most recent call last)",
      "\u001b[1;31mZeroDivisionError\u001b[0m: float division"
     ]
    },
    {
     "name": "stderr",
     "output_type": "stream",
     "text": [
      "Exception ignored in: 'MontyCarlo.tools.RITA.Interval._eval'\n",
      "Traceback (most recent call last):\n",
      "  File \"<ipython-input-254-2eca1893ac94>\", line 4, in <module>\n",
      "ZeroDivisionError: float division\n"
     ]
    },
    {
     "ename": "ZeroDivisionError",
     "evalue": "float division",
     "output_type": "error",
     "traceback": [
      "\u001b[1;31m---------------------------------------------------------------------------\u001b[0m",
      "\u001b[1;31mZeroDivisionError\u001b[0m                         Traceback (most recent call last)",
      "\u001b[1;31mZeroDivisionError\u001b[0m: float division"
     ]
    },
    {
     "name": "stderr",
     "output_type": "stream",
     "text": [
      "Exception ignored in: 'MontyCarlo.tools.RITA.Interval._eval'\n",
      "Traceback (most recent call last):\n",
      "  File \"<ipython-input-254-2eca1893ac94>\", line 4, in <module>\n",
      "ZeroDivisionError: float division\n"
     ]
    },
    {
     "ename": "ZeroDivisionError",
     "evalue": "float division",
     "output_type": "error",
     "traceback": [
      "\u001b[1;31m---------------------------------------------------------------------------\u001b[0m",
      "\u001b[1;31mZeroDivisionError\u001b[0m                         Traceback (most recent call last)",
      "\u001b[1;31mZeroDivisionError\u001b[0m: float division"
     ]
    },
    {
     "name": "stderr",
     "output_type": "stream",
     "text": [
      "Exception ignored in: 'MontyCarlo.tools.RITA.Interval._eval'\n",
      "Traceback (most recent call last):\n",
      "  File \"<ipython-input-254-2eca1893ac94>\", line 4, in <module>\n",
      "ZeroDivisionError: float division\n"
     ]
    },
    {
     "ename": "ZeroDivisionError",
     "evalue": "float division",
     "output_type": "error",
     "traceback": [
      "\u001b[1;31m---------------------------------------------------------------------------\u001b[0m",
      "\u001b[1;31mZeroDivisionError\u001b[0m                         Traceback (most recent call last)",
      "\u001b[1;31mZeroDivisionError\u001b[0m: float division"
     ]
    },
    {
     "name": "stderr",
     "output_type": "stream",
     "text": [
      "Exception ignored in: 'MontyCarlo.tools.RITA.Interval._eval'\n",
      "Traceback (most recent call last):\n",
      "  File \"<ipython-input-254-2eca1893ac94>\", line 4, in <module>\n",
      "ZeroDivisionError: float division\n"
     ]
    },
    {
     "ename": "ZeroDivisionError",
     "evalue": "float division",
     "output_type": "error",
     "traceback": [
      "\u001b[1;31m---------------------------------------------------------------------------\u001b[0m",
      "\u001b[1;31mZeroDivisionError\u001b[0m                         Traceback (most recent call last)",
      "\u001b[1;31mZeroDivisionError\u001b[0m: float division"
     ]
    },
    {
     "name": "stderr",
     "output_type": "stream",
     "text": [
      "Exception ignored in: 'MontyCarlo.tools.RITA.Interval._eval'\n",
      "Traceback (most recent call last):\n",
      "  File \"<ipython-input-254-2eca1893ac94>\", line 4, in <module>\n",
      "ZeroDivisionError: float division\n"
     ]
    },
    {
     "ename": "ZeroDivisionError",
     "evalue": "float division",
     "output_type": "error",
     "traceback": [
      "\u001b[1;31m---------------------------------------------------------------------------\u001b[0m",
      "\u001b[1;31mZeroDivisionError\u001b[0m                         Traceback (most recent call last)",
      "\u001b[1;31mZeroDivisionError\u001b[0m: float division"
     ]
    },
    {
     "name": "stderr",
     "output_type": "stream",
     "text": [
      "Exception ignored in: 'MontyCarlo.tools.RITA.Interval._eval'\n",
      "Traceback (most recent call last):\n",
      "  File \"<ipython-input-254-2eca1893ac94>\", line 4, in <module>\n",
      "ZeroDivisionError: float division\n"
     ]
    },
    {
     "ename": "ZeroDivisionError",
     "evalue": "float division",
     "output_type": "error",
     "traceback": [
      "\u001b[1;31m---------------------------------------------------------------------------\u001b[0m",
      "\u001b[1;31mZeroDivisionError\u001b[0m                         Traceback (most recent call last)",
      "\u001b[1;31mZeroDivisionError\u001b[0m: float division"
     ]
    },
    {
     "name": "stderr",
     "output_type": "stream",
     "text": [
      "Exception ignored in: 'MontyCarlo.tools.RITA.Interval._eval'\n",
      "Traceback (most recent call last):\n",
      "  File \"<ipython-input-254-2eca1893ac94>\", line 4, in <module>\n",
      "ZeroDivisionError: float division\n"
     ]
    },
    {
     "ename": "ZeroDivisionError",
     "evalue": "float division",
     "output_type": "error",
     "traceback": [
      "\u001b[1;31m---------------------------------------------------------------------------\u001b[0m",
      "\u001b[1;31mZeroDivisionError\u001b[0m                         Traceback (most recent call last)",
      "\u001b[1;31mZeroDivisionError\u001b[0m: float division"
     ]
    },
    {
     "name": "stderr",
     "output_type": "stream",
     "text": [
      "Exception ignored in: 'MontyCarlo.tools.RITA.Interval._eval'\n",
      "Traceback (most recent call last):\n",
      "  File \"<ipython-input-254-2eca1893ac94>\", line 4, in <module>\n",
      "ZeroDivisionError: float division\n"
     ]
    },
    {
     "ename": "ZeroDivisionError",
     "evalue": "float division",
     "output_type": "error",
     "traceback": [
      "\u001b[1;31m---------------------------------------------------------------------------\u001b[0m",
      "\u001b[1;31mZeroDivisionError\u001b[0m                         Traceback (most recent call last)",
      "\u001b[1;31mZeroDivisionError\u001b[0m: float division"
     ]
    },
    {
     "name": "stderr",
     "output_type": "stream",
     "text": [
      "Exception ignored in: 'MontyCarlo.tools.RITA.Interval._eval'\n",
      "Traceback (most recent call last):\n",
      "  File \"<ipython-input-254-2eca1893ac94>\", line 4, in <module>\n",
      "ZeroDivisionError: float division\n"
     ]
    },
    {
     "ename": "ZeroDivisionError",
     "evalue": "float division",
     "output_type": "error",
     "traceback": [
      "\u001b[1;31m---------------------------------------------------------------------------\u001b[0m",
      "\u001b[1;31mZeroDivisionError\u001b[0m                         Traceback (most recent call last)",
      "\u001b[1;31mZeroDivisionError\u001b[0m: float division"
     ]
    },
    {
     "name": "stderr",
     "output_type": "stream",
     "text": [
      "Exception ignored in: 'MontyCarlo.tools.RITA.Interval._eval'\n",
      "Traceback (most recent call last):\n",
      "  File \"<ipython-input-254-2eca1893ac94>\", line 4, in <module>\n",
      "ZeroDivisionError: float division\n"
     ]
    },
    {
     "ename": "ZeroDivisionError",
     "evalue": "float division",
     "output_type": "error",
     "traceback": [
      "\u001b[1;31m---------------------------------------------------------------------------\u001b[0m",
      "\u001b[1;31mZeroDivisionError\u001b[0m                         Traceback (most recent call last)",
      "\u001b[1;31mZeroDivisionError\u001b[0m: float division"
     ]
    },
    {
     "name": "stderr",
     "output_type": "stream",
     "text": [
      "Exception ignored in: 'MontyCarlo.tools.RITA.Interval._eval'\n",
      "Traceback (most recent call last):\n",
      "  File \"<ipython-input-254-2eca1893ac94>\", line 4, in <module>\n",
      "ZeroDivisionError: float division\n"
     ]
    },
    {
     "ename": "ZeroDivisionError",
     "evalue": "float division",
     "output_type": "error",
     "traceback": [
      "\u001b[1;31m---------------------------------------------------------------------------\u001b[0m",
      "\u001b[1;31mZeroDivisionError\u001b[0m                         Traceback (most recent call last)",
      "\u001b[1;31mZeroDivisionError\u001b[0m: float division"
     ]
    },
    {
     "name": "stderr",
     "output_type": "stream",
     "text": [
      "Exception ignored in: 'MontyCarlo.tools.RITA.Interval._eval'\n",
      "Traceback (most recent call last):\n",
      "  File \"<ipython-input-254-2eca1893ac94>\", line 4, in <module>\n",
      "ZeroDivisionError: float division\n"
     ]
    },
    {
     "ename": "ZeroDivisionError",
     "evalue": "float division",
     "output_type": "error",
     "traceback": [
      "\u001b[1;31m---------------------------------------------------------------------------\u001b[0m",
      "\u001b[1;31mZeroDivisionError\u001b[0m                         Traceback (most recent call last)",
      "\u001b[1;31mZeroDivisionError\u001b[0m: float division"
     ]
    },
    {
     "name": "stderr",
     "output_type": "stream",
     "text": [
      "Exception ignored in: 'MontyCarlo.tools.RITA.Interval._eval'\n",
      "Traceback (most recent call last):\n",
      "  File \"<ipython-input-254-2eca1893ac94>\", line 4, in <module>\n",
      "ZeroDivisionError: float division\n"
     ]
    },
    {
     "ename": "ZeroDivisionError",
     "evalue": "float division",
     "output_type": "error",
     "traceback": [
      "\u001b[1;31m---------------------------------------------------------------------------\u001b[0m",
      "\u001b[1;31mZeroDivisionError\u001b[0m                         Traceback (most recent call last)",
      "\u001b[1;31mZeroDivisionError\u001b[0m: float division"
     ]
    },
    {
     "name": "stderr",
     "output_type": "stream",
     "text": [
      "Exception ignored in: 'MontyCarlo.tools.RITA.Interval._eval'\n",
      "Traceback (most recent call last):\n",
      "  File \"<ipython-input-254-2eca1893ac94>\", line 4, in <module>\n",
      "ZeroDivisionError: float division\n"
     ]
    },
    {
     "ename": "ZeroDivisionError",
     "evalue": "float division",
     "output_type": "error",
     "traceback": [
      "\u001b[1;31m---------------------------------------------------------------------------\u001b[0m",
      "\u001b[1;31mZeroDivisionError\u001b[0m                         Traceback (most recent call last)",
      "\u001b[1;31mZeroDivisionError\u001b[0m: float division"
     ]
    },
    {
     "name": "stderr",
     "output_type": "stream",
     "text": [
      "Exception ignored in: 'MontyCarlo.tools.RITA.Interval._eval'\n",
      "Traceback (most recent call last):\n",
      "  File \"<ipython-input-254-2eca1893ac94>\", line 4, in <module>\n",
      "ZeroDivisionError: float division\n"
     ]
    },
    {
     "ename": "ZeroDivisionError",
     "evalue": "float division",
     "output_type": "error",
     "traceback": [
      "\u001b[1;31m---------------------------------------------------------------------------\u001b[0m",
      "\u001b[1;31mZeroDivisionError\u001b[0m                         Traceback (most recent call last)",
      "\u001b[1;31mZeroDivisionError\u001b[0m: float division"
     ]
    },
    {
     "name": "stderr",
     "output_type": "stream",
     "text": [
      "Exception ignored in: 'MontyCarlo.tools.RITA.Interval._eval'\n",
      "Traceback (most recent call last):\n",
      "  File \"<ipython-input-254-2eca1893ac94>\", line 4, in <module>\n",
      "ZeroDivisionError: float division\n"
     ]
    },
    {
     "ename": "ZeroDivisionError",
     "evalue": "float division",
     "output_type": "error",
     "traceback": [
      "\u001b[1;31m---------------------------------------------------------------------------\u001b[0m",
      "\u001b[1;31mZeroDivisionError\u001b[0m                         Traceback (most recent call last)",
      "\u001b[1;31mZeroDivisionError\u001b[0m: float division"
     ]
    },
    {
     "name": "stderr",
     "output_type": "stream",
     "text": [
      "Exception ignored in: 'MontyCarlo.tools.RITA.Interval._eval'\n",
      "Traceback (most recent call last):\n",
      "  File \"<ipython-input-254-2eca1893ac94>\", line 4, in <module>\n",
      "ZeroDivisionError: float division\n"
     ]
    },
    {
     "ename": "ZeroDivisionError",
     "evalue": "float division",
     "output_type": "error",
     "traceback": [
      "\u001b[1;31m---------------------------------------------------------------------------\u001b[0m",
      "\u001b[1;31mZeroDivisionError\u001b[0m                         Traceback (most recent call last)",
      "\u001b[1;31mZeroDivisionError\u001b[0m: float division"
     ]
    },
    {
     "name": "stderr",
     "output_type": "stream",
     "text": [
      "Exception ignored in: 'MontyCarlo.tools.RITA.Interval._eval'\n",
      "Traceback (most recent call last):\n",
      "  File \"<ipython-input-254-2eca1893ac94>\", line 4, in <module>\n",
      "ZeroDivisionError: float division\n"
     ]
    },
    {
     "ename": "ZeroDivisionError",
     "evalue": "float division",
     "output_type": "error",
     "traceback": [
      "\u001b[1;31m---------------------------------------------------------------------------\u001b[0m",
      "\u001b[1;31mZeroDivisionError\u001b[0m                         Traceback (most recent call last)",
      "\u001b[1;31mZeroDivisionError\u001b[0m: float division"
     ]
    },
    {
     "name": "stderr",
     "output_type": "stream",
     "text": [
      "Exception ignored in: 'MontyCarlo.tools.RITA.Interval._eval'\n",
      "Traceback (most recent call last):\n",
      "  File \"<ipython-input-254-2eca1893ac94>\", line 4, in <module>\n",
      "ZeroDivisionError: float division\n"
     ]
    },
    {
     "ename": "ZeroDivisionError",
     "evalue": "float division",
     "output_type": "error",
     "traceback": [
      "\u001b[1;31m---------------------------------------------------------------------------\u001b[0m",
      "\u001b[1;31mZeroDivisionError\u001b[0m                         Traceback (most recent call last)",
      "\u001b[1;31mZeroDivisionError\u001b[0m: float division"
     ]
    },
    {
     "name": "stderr",
     "output_type": "stream",
     "text": [
      "Exception ignored in: 'MontyCarlo.tools.RITA.Interval._eval'\n",
      "Traceback (most recent call last):\n",
      "  File \"<ipython-input-254-2eca1893ac94>\", line 4, in <module>\n",
      "ZeroDivisionError: float division\n"
     ]
    },
    {
     "ename": "ZeroDivisionError",
     "evalue": "float division",
     "output_type": "error",
     "traceback": [
      "\u001b[1;31m---------------------------------------------------------------------------\u001b[0m",
      "\u001b[1;31mZeroDivisionError\u001b[0m                         Traceback (most recent call last)",
      "\u001b[1;31mZeroDivisionError\u001b[0m: float division"
     ]
    },
    {
     "name": "stderr",
     "output_type": "stream",
     "text": [
      "Exception ignored in: 'MontyCarlo.tools.RITA.Interval._eval'\n",
      "Traceback (most recent call last):\n",
      "  File \"<ipython-input-254-2eca1893ac94>\", line 4, in <module>\n",
      "ZeroDivisionError: float division\n"
     ]
    },
    {
     "ename": "ZeroDivisionError",
     "evalue": "float division",
     "output_type": "error",
     "traceback": [
      "\u001b[1;31m---------------------------------------------------------------------------\u001b[0m",
      "\u001b[1;31mZeroDivisionError\u001b[0m                         Traceback (most recent call last)",
      "\u001b[1;31mZeroDivisionError\u001b[0m: float division"
     ]
    },
    {
     "name": "stderr",
     "output_type": "stream",
     "text": [
      "Exception ignored in: 'MontyCarlo.tools.RITA.Interval._eval'\n",
      "Traceback (most recent call last):\n",
      "  File \"<ipython-input-254-2eca1893ac94>\", line 4, in <module>\n",
      "ZeroDivisionError: float division\n"
     ]
    },
    {
     "ename": "ZeroDivisionError",
     "evalue": "float division",
     "output_type": "error",
     "traceback": [
      "\u001b[1;31m---------------------------------------------------------------------------\u001b[0m",
      "\u001b[1;31mZeroDivisionError\u001b[0m                         Traceback (most recent call last)",
      "\u001b[1;31mZeroDivisionError\u001b[0m: float division"
     ]
    },
    {
     "name": "stderr",
     "output_type": "stream",
     "text": [
      "Exception ignored in: 'MontyCarlo.tools.RITA.Interval._eval'\n",
      "Traceback (most recent call last):\n",
      "  File \"<ipython-input-254-2eca1893ac94>\", line 4, in <module>\n",
      "ZeroDivisionError: float division\n"
     ]
    },
    {
     "ename": "ZeroDivisionError",
     "evalue": "float division",
     "output_type": "error",
     "traceback": [
      "\u001b[1;31m---------------------------------------------------------------------------\u001b[0m",
      "\u001b[1;31mZeroDivisionError\u001b[0m                         Traceback (most recent call last)",
      "\u001b[1;31mZeroDivisionError\u001b[0m: float division"
     ]
    },
    {
     "name": "stderr",
     "output_type": "stream",
     "text": [
      "Exception ignored in: 'MontyCarlo.tools.RITA.Interval._eval'\n",
      "Traceback (most recent call last):\n",
      "  File \"<ipython-input-254-2eca1893ac94>\", line 4, in <module>\n",
      "ZeroDivisionError: float division\n"
     ]
    },
    {
     "ename": "ZeroDivisionError",
     "evalue": "float division",
     "output_type": "error",
     "traceback": [
      "\u001b[1;31m---------------------------------------------------------------------------\u001b[0m",
      "\u001b[1;31mZeroDivisionError\u001b[0m                         Traceback (most recent call last)",
      "\u001b[1;31mZeroDivisionError\u001b[0m: float division"
     ]
    },
    {
     "name": "stderr",
     "output_type": "stream",
     "text": [
      "Exception ignored in: 'MontyCarlo.tools.RITA.Interval._eval'\n",
      "Traceback (most recent call last):\n",
      "  File \"<ipython-input-254-2eca1893ac94>\", line 4, in <module>\n",
      "ZeroDivisionError: float division\n"
     ]
    },
    {
     "ename": "ZeroDivisionError",
     "evalue": "float division",
     "output_type": "error",
     "traceback": [
      "\u001b[1;31m---------------------------------------------------------------------------\u001b[0m",
      "\u001b[1;31mZeroDivisionError\u001b[0m                         Traceback (most recent call last)",
      "\u001b[1;31mZeroDivisionError\u001b[0m: float division"
     ]
    },
    {
     "name": "stderr",
     "output_type": "stream",
     "text": [
      "Exception ignored in: 'MontyCarlo.tools.RITA.Interval._eval'\n",
      "Traceback (most recent call last):\n",
      "  File \"<ipython-input-254-2eca1893ac94>\", line 4, in <module>\n",
      "ZeroDivisionError: float division\n"
     ]
    },
    {
     "ename": "ZeroDivisionError",
     "evalue": "float division",
     "output_type": "error",
     "traceback": [
      "\u001b[1;31m---------------------------------------------------------------------------\u001b[0m",
      "\u001b[1;31mZeroDivisionError\u001b[0m                         Traceback (most recent call last)",
      "\u001b[1;31mZeroDivisionError\u001b[0m: float division"
     ]
    },
    {
     "name": "stderr",
     "output_type": "stream",
     "text": [
      "Exception ignored in: 'MontyCarlo.tools.RITA.Interval._eval'\n",
      "Traceback (most recent call last):\n",
      "  File \"<ipython-input-254-2eca1893ac94>\", line 4, in <module>\n",
      "ZeroDivisionError: float division\n"
     ]
    },
    {
     "ename": "ZeroDivisionError",
     "evalue": "float division",
     "output_type": "error",
     "traceback": [
      "\u001b[1;31m---------------------------------------------------------------------------\u001b[0m",
      "\u001b[1;31mZeroDivisionError\u001b[0m                         Traceback (most recent call last)",
      "\u001b[1;31mZeroDivisionError\u001b[0m: float division"
     ]
    },
    {
     "name": "stderr",
     "output_type": "stream",
     "text": [
      "Exception ignored in: 'MontyCarlo.tools.RITA.Interval._eval'\n",
      "Traceback (most recent call last):\n",
      "  File \"<ipython-input-254-2eca1893ac94>\", line 4, in <module>\n",
      "ZeroDivisionError: float division\n"
     ]
    },
    {
     "ename": "ZeroDivisionError",
     "evalue": "float division",
     "output_type": "error",
     "traceback": [
      "\u001b[1;31m---------------------------------------------------------------------------\u001b[0m",
      "\u001b[1;31mZeroDivisionError\u001b[0m                         Traceback (most recent call last)",
      "\u001b[1;31mZeroDivisionError\u001b[0m: float division"
     ]
    },
    {
     "name": "stderr",
     "output_type": "stream",
     "text": [
      "Exception ignored in: 'MontyCarlo.tools.RITA.Interval._eval'\n",
      "Traceback (most recent call last):\n",
      "  File \"<ipython-input-254-2eca1893ac94>\", line 4, in <module>\n",
      "ZeroDivisionError: float division\n"
     ]
    },
    {
     "ename": "ZeroDivisionError",
     "evalue": "float division",
     "output_type": "error",
     "traceback": [
      "\u001b[1;31m---------------------------------------------------------------------------\u001b[0m",
      "\u001b[1;31mZeroDivisionError\u001b[0m                         Traceback (most recent call last)",
      "\u001b[1;31mZeroDivisionError\u001b[0m: float division"
     ]
    },
    {
     "name": "stderr",
     "output_type": "stream",
     "text": [
      "Exception ignored in: 'MontyCarlo.tools.RITA.Interval._eval'\n",
      "Traceback (most recent call last):\n",
      "  File \"<ipython-input-254-2eca1893ac94>\", line 4, in <module>\n",
      "ZeroDivisionError: float division\n"
     ]
    },
    {
     "ename": "ZeroDivisionError",
     "evalue": "float division",
     "output_type": "error",
     "traceback": [
      "\u001b[1;31m---------------------------------------------------------------------------\u001b[0m",
      "\u001b[1;31mZeroDivisionError\u001b[0m                         Traceback (most recent call last)",
      "\u001b[1;31mZeroDivisionError\u001b[0m: float division"
     ]
    },
    {
     "name": "stderr",
     "output_type": "stream",
     "text": [
      "Exception ignored in: 'MontyCarlo.tools.RITA.Interval._eval'\n",
      "Traceback (most recent call last):\n",
      "  File \"<ipython-input-254-2eca1893ac94>\", line 4, in <module>\n",
      "ZeroDivisionError: float division\n"
     ]
    },
    {
     "ename": "ZeroDivisionError",
     "evalue": "float division",
     "output_type": "error",
     "traceback": [
      "\u001b[1;31m---------------------------------------------------------------------------\u001b[0m",
      "\u001b[1;31mZeroDivisionError\u001b[0m                         Traceback (most recent call last)",
      "\u001b[1;31mZeroDivisionError\u001b[0m: float division"
     ]
    },
    {
     "name": "stderr",
     "output_type": "stream",
     "text": [
      "Exception ignored in: 'MontyCarlo.tools.RITA.Interval._eval'\n",
      "Traceback (most recent call last):\n",
      "  File \"<ipython-input-254-2eca1893ac94>\", line 4, in <module>\n",
      "ZeroDivisionError: float division\n"
     ]
    },
    {
     "ename": "ZeroDivisionError",
     "evalue": "float division",
     "output_type": "error",
     "traceback": [
      "\u001b[1;31m---------------------------------------------------------------------------\u001b[0m",
      "\u001b[1;31mZeroDivisionError\u001b[0m                         Traceback (most recent call last)",
      "\u001b[1;31mZeroDivisionError\u001b[0m: float division"
     ]
    },
    {
     "name": "stderr",
     "output_type": "stream",
     "text": [
      "Exception ignored in: 'MontyCarlo.tools.RITA.Interval._eval'\n",
      "Traceback (most recent call last):\n",
      "  File \"<ipython-input-254-2eca1893ac94>\", line 4, in <module>\n",
      "ZeroDivisionError: float division\n"
     ]
    },
    {
     "ename": "ZeroDivisionError",
     "evalue": "float division",
     "output_type": "error",
     "traceback": [
      "\u001b[1;31m---------------------------------------------------------------------------\u001b[0m",
      "\u001b[1;31mZeroDivisionError\u001b[0m                         Traceback (most recent call last)",
      "\u001b[1;31mZeroDivisionError\u001b[0m: float division"
     ]
    },
    {
     "name": "stderr",
     "output_type": "stream",
     "text": [
      "Exception ignored in: 'MontyCarlo.tools.RITA.Interval._eval'\n",
      "Traceback (most recent call last):\n",
      "  File \"<ipython-input-254-2eca1893ac94>\", line 4, in <module>\n",
      "ZeroDivisionError: float division\n"
     ]
    },
    {
     "ename": "ZeroDivisionError",
     "evalue": "float division",
     "output_type": "error",
     "traceback": [
      "\u001b[1;31m---------------------------------------------------------------------------\u001b[0m",
      "\u001b[1;31mZeroDivisionError\u001b[0m                         Traceback (most recent call last)",
      "\u001b[1;31mZeroDivisionError\u001b[0m: float division"
     ]
    },
    {
     "name": "stderr",
     "output_type": "stream",
     "text": [
      "Exception ignored in: 'MontyCarlo.tools.RITA.Interval._eval'\n",
      "Traceback (most recent call last):\n",
      "  File \"<ipython-input-254-2eca1893ac94>\", line 4, in <module>\n",
      "ZeroDivisionError: float division\n"
     ]
    },
    {
     "ename": "ZeroDivisionError",
     "evalue": "float division",
     "output_type": "error",
     "traceback": [
      "\u001b[1;31m---------------------------------------------------------------------------\u001b[0m",
      "\u001b[1;31mZeroDivisionError\u001b[0m                         Traceback (most recent call last)",
      "\u001b[1;31mZeroDivisionError\u001b[0m: float division"
     ]
    },
    {
     "name": "stderr",
     "output_type": "stream",
     "text": [
      "Exception ignored in: 'MontyCarlo.tools.RITA.Interval._eval'\n",
      "Traceback (most recent call last):\n",
      "  File \"<ipython-input-254-2eca1893ac94>\", line 4, in <module>\n",
      "ZeroDivisionError: float division\n"
     ]
    },
    {
     "ename": "ZeroDivisionError",
     "evalue": "float division",
     "output_type": "error",
     "traceback": [
      "\u001b[1;31m---------------------------------------------------------------------------\u001b[0m",
      "\u001b[1;31mZeroDivisionError\u001b[0m                         Traceback (most recent call last)",
      "\u001b[1;31mZeroDivisionError\u001b[0m: float division"
     ]
    },
    {
     "name": "stderr",
     "output_type": "stream",
     "text": [
      "Exception ignored in: 'MontyCarlo.tools.RITA.Interval._eval'\n",
      "Traceback (most recent call last):\n",
      "  File \"<ipython-input-254-2eca1893ac94>\", line 4, in <module>\n",
      "ZeroDivisionError: float division\n"
     ]
    },
    {
     "ename": "ZeroDivisionError",
     "evalue": "float division",
     "output_type": "error",
     "traceback": [
      "\u001b[1;31m---------------------------------------------------------------------------\u001b[0m",
      "\u001b[1;31mZeroDivisionError\u001b[0m                         Traceback (most recent call last)",
      "\u001b[1;31mZeroDivisionError\u001b[0m: float division"
     ]
    },
    {
     "name": "stderr",
     "output_type": "stream",
     "text": [
      "Exception ignored in: 'MontyCarlo.tools.RITA.Interval._eval'\n",
      "Traceback (most recent call last):\n",
      "  File \"<ipython-input-254-2eca1893ac94>\", line 4, in <module>\n",
      "ZeroDivisionError: float division\n"
     ]
    },
    {
     "ename": "ZeroDivisionError",
     "evalue": "float division",
     "output_type": "error",
     "traceback": [
      "\u001b[1;31m---------------------------------------------------------------------------\u001b[0m",
      "\u001b[1;31mZeroDivisionError\u001b[0m                         Traceback (most recent call last)",
      "\u001b[1;31mZeroDivisionError\u001b[0m: float division"
     ]
    },
    {
     "name": "stderr",
     "output_type": "stream",
     "text": [
      "Exception ignored in: 'MontyCarlo.tools.RITA.Interval._eval'\n",
      "Traceback (most recent call last):\n",
      "  File \"<ipython-input-254-2eca1893ac94>\", line 4, in <module>\n",
      "ZeroDivisionError: float division\n"
     ]
    },
    {
     "ename": "ZeroDivisionError",
     "evalue": "float division",
     "output_type": "error",
     "traceback": [
      "\u001b[1;31m---------------------------------------------------------------------------\u001b[0m",
      "\u001b[1;31mZeroDivisionError\u001b[0m                         Traceback (most recent call last)",
      "\u001b[1;31mZeroDivisionError\u001b[0m: float division"
     ]
    },
    {
     "name": "stderr",
     "output_type": "stream",
     "text": [
      "Exception ignored in: 'MontyCarlo.tools.RITA.Interval._eval'\n",
      "Traceback (most recent call last):\n",
      "  File \"<ipython-input-254-2eca1893ac94>\", line 4, in <module>\n",
      "ZeroDivisionError: float division\n"
     ]
    },
    {
     "ename": "ZeroDivisionError",
     "evalue": "float division",
     "output_type": "error",
     "traceback": [
      "\u001b[1;31m---------------------------------------------------------------------------\u001b[0m",
      "\u001b[1;31mZeroDivisionError\u001b[0m                         Traceback (most recent call last)",
      "\u001b[1;31mZeroDivisionError\u001b[0m: float division"
     ]
    },
    {
     "name": "stderr",
     "output_type": "stream",
     "text": [
      "Exception ignored in: 'MontyCarlo.tools.RITA.Interval._eval'\n",
      "Traceback (most recent call last):\n",
      "  File \"<ipython-input-254-2eca1893ac94>\", line 4, in <module>\n",
      "ZeroDivisionError: float division\n"
     ]
    },
    {
     "ename": "ZeroDivisionError",
     "evalue": "float division",
     "output_type": "error",
     "traceback": [
      "\u001b[1;31m---------------------------------------------------------------------------\u001b[0m",
      "\u001b[1;31mZeroDivisionError\u001b[0m                         Traceback (most recent call last)",
      "\u001b[1;31mZeroDivisionError\u001b[0m: float division"
     ]
    },
    {
     "name": "stderr",
     "output_type": "stream",
     "text": [
      "Exception ignored in: 'MontyCarlo.tools.RITA.Interval._eval'\n",
      "Traceback (most recent call last):\n",
      "  File \"<ipython-input-254-2eca1893ac94>\", line 4, in <module>\n",
      "ZeroDivisionError: float division\n"
     ]
    },
    {
     "ename": "ZeroDivisionError",
     "evalue": "float division",
     "output_type": "error",
     "traceback": [
      "\u001b[1;31m---------------------------------------------------------------------------\u001b[0m",
      "\u001b[1;31mZeroDivisionError\u001b[0m                         Traceback (most recent call last)",
      "\u001b[1;31mZeroDivisionError\u001b[0m: float division"
     ]
    },
    {
     "name": "stderr",
     "output_type": "stream",
     "text": [
      "Exception ignored in: 'MontyCarlo.tools.RITA.Interval._eval'\n",
      "Traceback (most recent call last):\n",
      "  File \"<ipython-input-254-2eca1893ac94>\", line 4, in <module>\n",
      "ZeroDivisionError: float division\n"
     ]
    },
    {
     "ename": "ZeroDivisionError",
     "evalue": "float division",
     "output_type": "error",
     "traceback": [
      "\u001b[1;31m---------------------------------------------------------------------------\u001b[0m",
      "\u001b[1;31mZeroDivisionError\u001b[0m                         Traceback (most recent call last)",
      "\u001b[1;31mZeroDivisionError\u001b[0m: float division"
     ]
    },
    {
     "name": "stderr",
     "output_type": "stream",
     "text": [
      "Exception ignored in: 'MontyCarlo.tools.RITA.Interval._eval'\n",
      "Traceback (most recent call last):\n",
      "  File \"<ipython-input-254-2eca1893ac94>\", line 4, in <module>\n",
      "ZeroDivisionError: float division\n"
     ]
    },
    {
     "ename": "ZeroDivisionError",
     "evalue": "float division",
     "output_type": "error",
     "traceback": [
      "\u001b[1;31m---------------------------------------------------------------------------\u001b[0m",
      "\u001b[1;31mZeroDivisionError\u001b[0m                         Traceback (most recent call last)",
      "\u001b[1;31mZeroDivisionError\u001b[0m: float division"
     ]
    },
    {
     "name": "stderr",
     "output_type": "stream",
     "text": [
      "Exception ignored in: 'MontyCarlo.tools.RITA.Interval._eval'\n",
      "Traceback (most recent call last):\n",
      "  File \"<ipython-input-254-2eca1893ac94>\", line 4, in <module>\n",
      "ZeroDivisionError: float division\n"
     ]
    },
    {
     "ename": "ZeroDivisionError",
     "evalue": "float division",
     "output_type": "error",
     "traceback": [
      "\u001b[1;31m---------------------------------------------------------------------------\u001b[0m",
      "\u001b[1;31mZeroDivisionError\u001b[0m                         Traceback (most recent call last)",
      "\u001b[1;31mZeroDivisionError\u001b[0m: float division"
     ]
    },
    {
     "name": "stderr",
     "output_type": "stream",
     "text": [
      "Exception ignored in: 'MontyCarlo.tools.RITA.Interval._eval'\n",
      "Traceback (most recent call last):\n",
      "  File \"<ipython-input-254-2eca1893ac94>\", line 4, in <module>\n",
      "ZeroDivisionError: float division\n"
     ]
    },
    {
     "ename": "ZeroDivisionError",
     "evalue": "float division",
     "output_type": "error",
     "traceback": [
      "\u001b[1;31m---------------------------------------------------------------------------\u001b[0m",
      "\u001b[1;31mZeroDivisionError\u001b[0m                         Traceback (most recent call last)",
      "\u001b[1;31mZeroDivisionError\u001b[0m: float division"
     ]
    },
    {
     "name": "stderr",
     "output_type": "stream",
     "text": [
      "Exception ignored in: 'MontyCarlo.tools.RITA.Interval._eval'\n",
      "Traceback (most recent call last):\n",
      "  File \"<ipython-input-254-2eca1893ac94>\", line 4, in <module>\n",
      "ZeroDivisionError: float division\n"
     ]
    },
    {
     "ename": "ZeroDivisionError",
     "evalue": "float division",
     "output_type": "error",
     "traceback": [
      "\u001b[1;31m---------------------------------------------------------------------------\u001b[0m",
      "\u001b[1;31mZeroDivisionError\u001b[0m                         Traceback (most recent call last)",
      "\u001b[1;31mZeroDivisionError\u001b[0m: float division"
     ]
    },
    {
     "name": "stderr",
     "output_type": "stream",
     "text": [
      "Exception ignored in: 'MontyCarlo.tools.RITA.Interval._eval'\n",
      "Traceback (most recent call last):\n",
      "  File \"<ipython-input-254-2eca1893ac94>\", line 4, in <module>\n",
      "ZeroDivisionError: float division\n"
     ]
    },
    {
     "ename": "ZeroDivisionError",
     "evalue": "float division",
     "output_type": "error",
     "traceback": [
      "\u001b[1;31m---------------------------------------------------------------------------\u001b[0m",
      "\u001b[1;31mZeroDivisionError\u001b[0m                         Traceback (most recent call last)",
      "\u001b[1;31mZeroDivisionError\u001b[0m: float division"
     ]
    },
    {
     "name": "stderr",
     "output_type": "stream",
     "text": [
      "Exception ignored in: 'MontyCarlo.tools.RITA.Interval._eval'\n",
      "Traceback (most recent call last):\n",
      "  File \"<ipython-input-254-2eca1893ac94>\", line 4, in <module>\n",
      "ZeroDivisionError: float division\n"
     ]
    },
    {
     "ename": "ZeroDivisionError",
     "evalue": "float division",
     "output_type": "error",
     "traceback": [
      "\u001b[1;31m---------------------------------------------------------------------------\u001b[0m",
      "\u001b[1;31mZeroDivisionError\u001b[0m                         Traceback (most recent call last)",
      "\u001b[1;31mZeroDivisionError\u001b[0m: float division"
     ]
    },
    {
     "name": "stderr",
     "output_type": "stream",
     "text": [
      "Exception ignored in: 'MontyCarlo.tools.RITA.Interval._eval'\n",
      "Traceback (most recent call last):\n",
      "  File \"<ipython-input-254-2eca1893ac94>\", line 4, in <module>\n",
      "ZeroDivisionError: float division\n"
     ]
    },
    {
     "ename": "ZeroDivisionError",
     "evalue": "float division",
     "output_type": "error",
     "traceback": [
      "\u001b[1;31m---------------------------------------------------------------------------\u001b[0m",
      "\u001b[1;31mZeroDivisionError\u001b[0m                         Traceback (most recent call last)",
      "\u001b[1;31mZeroDivisionError\u001b[0m: float division"
     ]
    },
    {
     "name": "stderr",
     "output_type": "stream",
     "text": [
      "Exception ignored in: 'MontyCarlo.tools.RITA.Interval._eval'\n",
      "Traceback (most recent call last):\n",
      "  File \"<ipython-input-254-2eca1893ac94>\", line 4, in <module>\n",
      "ZeroDivisionError: float division\n"
     ]
    },
    {
     "ename": "ZeroDivisionError",
     "evalue": "float division",
     "output_type": "error",
     "traceback": [
      "\u001b[1;31m---------------------------------------------------------------------------\u001b[0m",
      "\u001b[1;31mZeroDivisionError\u001b[0m                         Traceback (most recent call last)",
      "\u001b[1;31mZeroDivisionError\u001b[0m: float division"
     ]
    },
    {
     "name": "stderr",
     "output_type": "stream",
     "text": [
      "Exception ignored in: 'MontyCarlo.tools.RITA.Interval._eval'\n",
      "Traceback (most recent call last):\n",
      "  File \"<ipython-input-254-2eca1893ac94>\", line 4, in <module>\n",
      "ZeroDivisionError: float division\n"
     ]
    },
    {
     "ename": "ZeroDivisionError",
     "evalue": "float division",
     "output_type": "error",
     "traceback": [
      "\u001b[1;31m---------------------------------------------------------------------------\u001b[0m",
      "\u001b[1;31mZeroDivisionError\u001b[0m                         Traceback (most recent call last)",
      "\u001b[1;31mZeroDivisionError\u001b[0m: float division"
     ]
    },
    {
     "name": "stderr",
     "output_type": "stream",
     "text": [
      "Exception ignored in: 'MontyCarlo.tools.RITA.Interval._eval'\n",
      "Traceback (most recent call last):\n",
      "  File \"<ipython-input-254-2eca1893ac94>\", line 4, in <module>\n",
      "ZeroDivisionError: float division\n"
     ]
    },
    {
     "ename": "ZeroDivisionError",
     "evalue": "float division",
     "output_type": "error",
     "traceback": [
      "\u001b[1;31m---------------------------------------------------------------------------\u001b[0m",
      "\u001b[1;31mZeroDivisionError\u001b[0m                         Traceback (most recent call last)",
      "\u001b[1;31mZeroDivisionError\u001b[0m: float division"
     ]
    },
    {
     "name": "stderr",
     "output_type": "stream",
     "text": [
      "Exception ignored in: 'MontyCarlo.tools.RITA.Interval._eval'\n",
      "Traceback (most recent call last):\n",
      "  File \"<ipython-input-254-2eca1893ac94>\", line 4, in <module>\n",
      "ZeroDivisionError: float division\n"
     ]
    },
    {
     "ename": "ZeroDivisionError",
     "evalue": "float division",
     "output_type": "error",
     "traceback": [
      "\u001b[1;31m---------------------------------------------------------------------------\u001b[0m",
      "\u001b[1;31mZeroDivisionError\u001b[0m                         Traceback (most recent call last)",
      "\u001b[1;31mZeroDivisionError\u001b[0m: float division"
     ]
    },
    {
     "name": "stderr",
     "output_type": "stream",
     "text": [
      "Exception ignored in: 'MontyCarlo.tools.RITA.Interval._eval'\n",
      "Traceback (most recent call last):\n",
      "  File \"<ipython-input-254-2eca1893ac94>\", line 4, in <module>\n",
      "ZeroDivisionError: float division\n"
     ]
    },
    {
     "ename": "ZeroDivisionError",
     "evalue": "float division",
     "output_type": "error",
     "traceback": [
      "\u001b[1;31m---------------------------------------------------------------------------\u001b[0m",
      "\u001b[1;31mZeroDivisionError\u001b[0m                         Traceback (most recent call last)",
      "\u001b[1;31mZeroDivisionError\u001b[0m: float division"
     ]
    },
    {
     "name": "stderr",
     "output_type": "stream",
     "text": [
      "Exception ignored in: 'MontyCarlo.tools.RITA.Interval._eval'\n",
      "Traceback (most recent call last):\n",
      "  File \"<ipython-input-254-2eca1893ac94>\", line 4, in <module>\n",
      "ZeroDivisionError: float division\n"
     ]
    },
    {
     "ename": "ZeroDivisionError",
     "evalue": "float division",
     "output_type": "error",
     "traceback": [
      "\u001b[1;31m---------------------------------------------------------------------------\u001b[0m",
      "\u001b[1;31mZeroDivisionError\u001b[0m                         Traceback (most recent call last)",
      "\u001b[1;31mZeroDivisionError\u001b[0m: float division"
     ]
    },
    {
     "name": "stderr",
     "output_type": "stream",
     "text": [
      "Exception ignored in: 'MontyCarlo.tools.RITA.Interval._eval'\n",
      "Traceback (most recent call last):\n",
      "  File \"<ipython-input-254-2eca1893ac94>\", line 4, in <module>\n",
      "ZeroDivisionError: float division\n"
     ]
    },
    {
     "ename": "ZeroDivisionError",
     "evalue": "float division",
     "output_type": "error",
     "traceback": [
      "\u001b[1;31m---------------------------------------------------------------------------\u001b[0m",
      "\u001b[1;31mZeroDivisionError\u001b[0m                         Traceback (most recent call last)",
      "\u001b[1;31mZeroDivisionError\u001b[0m: float division"
     ]
    },
    {
     "name": "stderr",
     "output_type": "stream",
     "text": [
      "Exception ignored in: 'MontyCarlo.tools.RITA.Interval._eval'\n",
      "Traceback (most recent call last):\n",
      "  File \"<ipython-input-254-2eca1893ac94>\", line 4, in <module>\n",
      "ZeroDivisionError: float division\n"
     ]
    },
    {
     "ename": "ZeroDivisionError",
     "evalue": "float division",
     "output_type": "error",
     "traceback": [
      "\u001b[1;31m---------------------------------------------------------------------------\u001b[0m",
      "\u001b[1;31mZeroDivisionError\u001b[0m                         Traceback (most recent call last)",
      "\u001b[1;31mZeroDivisionError\u001b[0m: float division"
     ]
    },
    {
     "name": "stderr",
     "output_type": "stream",
     "text": [
      "Exception ignored in: 'MontyCarlo.tools.RITA.Interval._eval'\n",
      "Traceback (most recent call last):\n",
      "  File \"<ipython-input-254-2eca1893ac94>\", line 4, in <module>\n",
      "ZeroDivisionError: float division\n"
     ]
    },
    {
     "ename": "ZeroDivisionError",
     "evalue": "float division",
     "output_type": "error",
     "traceback": [
      "\u001b[1;31m---------------------------------------------------------------------------\u001b[0m",
      "\u001b[1;31mZeroDivisionError\u001b[0m                         Traceback (most recent call last)",
      "\u001b[1;31mZeroDivisionError\u001b[0m: float division"
     ]
    },
    {
     "name": "stderr",
     "output_type": "stream",
     "text": [
      "Exception ignored in: 'MontyCarlo.tools.RITA.Interval._eval'\n",
      "Traceback (most recent call last):\n",
      "  File \"<ipython-input-254-2eca1893ac94>\", line 4, in <module>\n",
      "ZeroDivisionError: float division\n"
     ]
    },
    {
     "ename": "ZeroDivisionError",
     "evalue": "float division",
     "output_type": "error",
     "traceback": [
      "\u001b[1;31m---------------------------------------------------------------------------\u001b[0m",
      "\u001b[1;31mZeroDivisionError\u001b[0m                         Traceback (most recent call last)",
      "\u001b[1;31mZeroDivisionError\u001b[0m: float division"
     ]
    },
    {
     "name": "stderr",
     "output_type": "stream",
     "text": [
      "Exception ignored in: 'MontyCarlo.tools.RITA.Interval._eval'\n",
      "Traceback (most recent call last):\n",
      "  File \"<ipython-input-254-2eca1893ac94>\", line 4, in <module>\n",
      "ZeroDivisionError: float division\n"
     ]
    },
    {
     "ename": "ZeroDivisionError",
     "evalue": "float division",
     "output_type": "error",
     "traceback": [
      "\u001b[1;31m---------------------------------------------------------------------------\u001b[0m",
      "\u001b[1;31mZeroDivisionError\u001b[0m                         Traceback (most recent call last)",
      "\u001b[1;31mZeroDivisionError\u001b[0m: float division"
     ]
    },
    {
     "name": "stderr",
     "output_type": "stream",
     "text": [
      "Exception ignored in: 'MontyCarlo.tools.RITA.Interval._eval'\n",
      "Traceback (most recent call last):\n",
      "  File \"<ipython-input-254-2eca1893ac94>\", line 4, in <module>\n",
      "ZeroDivisionError: float division\n"
     ]
    },
    {
     "ename": "ZeroDivisionError",
     "evalue": "float division",
     "output_type": "error",
     "traceback": [
      "\u001b[1;31m---------------------------------------------------------------------------\u001b[0m",
      "\u001b[1;31mZeroDivisionError\u001b[0m                         Traceback (most recent call last)",
      "\u001b[1;31mZeroDivisionError\u001b[0m: float division"
     ]
    },
    {
     "name": "stderr",
     "output_type": "stream",
     "text": [
      "Exception ignored in: 'MontyCarlo.tools.RITA.Interval._eval'\n",
      "Traceback (most recent call last):\n",
      "  File \"<ipython-input-254-2eca1893ac94>\", line 4, in <module>\n",
      "ZeroDivisionError: float division\n"
     ]
    },
    {
     "ename": "ZeroDivisionError",
     "evalue": "float division",
     "output_type": "error",
     "traceback": [
      "\u001b[1;31m---------------------------------------------------------------------------\u001b[0m",
      "\u001b[1;31mZeroDivisionError\u001b[0m                         Traceback (most recent call last)",
      "\u001b[1;31mZeroDivisionError\u001b[0m: float division"
     ]
    },
    {
     "name": "stderr",
     "output_type": "stream",
     "text": [
      "Exception ignored in: 'MontyCarlo.tools.RITA.Interval._eval'\n",
      "Traceback (most recent call last):\n",
      "  File \"<ipython-input-254-2eca1893ac94>\", line 4, in <module>\n",
      "ZeroDivisionError: float division\n"
     ]
    },
    {
     "ename": "ZeroDivisionError",
     "evalue": "float division",
     "output_type": "error",
     "traceback": [
      "\u001b[1;31m---------------------------------------------------------------------------\u001b[0m",
      "\u001b[1;31mZeroDivisionError\u001b[0m                         Traceback (most recent call last)",
      "\u001b[1;31mZeroDivisionError\u001b[0m: float division"
     ]
    },
    {
     "name": "stderr",
     "output_type": "stream",
     "text": [
      "Exception ignored in: 'MontyCarlo.tools.RITA.Interval._eval'\n",
      "Traceback (most recent call last):\n",
      "  File \"<ipython-input-254-2eca1893ac94>\", line 4, in <module>\n",
      "ZeroDivisionError: float division\n"
     ]
    },
    {
     "ename": "ZeroDivisionError",
     "evalue": "float division",
     "output_type": "error",
     "traceback": [
      "\u001b[1;31m---------------------------------------------------------------------------\u001b[0m",
      "\u001b[1;31mZeroDivisionError\u001b[0m                         Traceback (most recent call last)",
      "\u001b[1;31mZeroDivisionError\u001b[0m: float division"
     ]
    },
    {
     "name": "stderr",
     "output_type": "stream",
     "text": [
      "Exception ignored in: 'MontyCarlo.tools.RITA.Interval._eval'\n",
      "Traceback (most recent call last):\n",
      "  File \"<ipython-input-254-2eca1893ac94>\", line 4, in <module>\n",
      "ZeroDivisionError: float division\n"
     ]
    },
    {
     "ename": "ZeroDivisionError",
     "evalue": "float division",
     "output_type": "error",
     "traceback": [
      "\u001b[1;31m---------------------------------------------------------------------------\u001b[0m",
      "\u001b[1;31mZeroDivisionError\u001b[0m                         Traceback (most recent call last)",
      "\u001b[1;31mZeroDivisionError\u001b[0m: float division"
     ]
    },
    {
     "name": "stderr",
     "output_type": "stream",
     "text": [
      "Exception ignored in: 'MontyCarlo.tools.RITA.Interval._eval'\n",
      "Traceback (most recent call last):\n",
      "  File \"<ipython-input-254-2eca1893ac94>\", line 4, in <module>\n",
      "ZeroDivisionError: float division\n"
     ]
    },
    {
     "ename": "ZeroDivisionError",
     "evalue": "float division",
     "output_type": "error",
     "traceback": [
      "\u001b[1;31m---------------------------------------------------------------------------\u001b[0m",
      "\u001b[1;31mZeroDivisionError\u001b[0m                         Traceback (most recent call last)",
      "\u001b[1;31mZeroDivisionError\u001b[0m: float division"
     ]
    },
    {
     "name": "stderr",
     "output_type": "stream",
     "text": [
      "Exception ignored in: 'MontyCarlo.tools.RITA.Interval._eval'\n",
      "Traceback (most recent call last):\n",
      "  File \"<ipython-input-254-2eca1893ac94>\", line 4, in <module>\n",
      "ZeroDivisionError: float division\n"
     ]
    },
    {
     "ename": "ZeroDivisionError",
     "evalue": "float division",
     "output_type": "error",
     "traceback": [
      "\u001b[1;31m---------------------------------------------------------------------------\u001b[0m",
      "\u001b[1;31mZeroDivisionError\u001b[0m                         Traceback (most recent call last)",
      "\u001b[1;31mZeroDivisionError\u001b[0m: float division"
     ]
    },
    {
     "name": "stderr",
     "output_type": "stream",
     "text": [
      "Exception ignored in: 'MontyCarlo.tools.RITA.Interval._eval'\n",
      "Traceback (most recent call last):\n",
      "  File \"<ipython-input-254-2eca1893ac94>\", line 4, in <module>\n",
      "ZeroDivisionError: float division\n"
     ]
    },
    {
     "ename": "ZeroDivisionError",
     "evalue": "float division",
     "output_type": "error",
     "traceback": [
      "\u001b[1;31m---------------------------------------------------------------------------\u001b[0m",
      "\u001b[1;31mZeroDivisionError\u001b[0m                         Traceback (most recent call last)",
      "\u001b[1;31mZeroDivisionError\u001b[0m: float division"
     ]
    },
    {
     "name": "stderr",
     "output_type": "stream",
     "text": [
      "Exception ignored in: 'MontyCarlo.tools.RITA.Interval._eval'\n",
      "Traceback (most recent call last):\n",
      "  File \"<ipython-input-254-2eca1893ac94>\", line 4, in <module>\n",
      "ZeroDivisionError: float division\n"
     ]
    },
    {
     "ename": "ZeroDivisionError",
     "evalue": "float division",
     "output_type": "error",
     "traceback": [
      "\u001b[1;31m---------------------------------------------------------------------------\u001b[0m",
      "\u001b[1;31mZeroDivisionError\u001b[0m                         Traceback (most recent call last)",
      "\u001b[1;31mZeroDivisionError\u001b[0m: float division"
     ]
    },
    {
     "name": "stderr",
     "output_type": "stream",
     "text": [
      "Exception ignored in: 'MontyCarlo.tools.RITA.Interval._eval'\n",
      "Traceback (most recent call last):\n",
      "  File \"<ipython-input-254-2eca1893ac94>\", line 4, in <module>\n",
      "ZeroDivisionError: float division\n"
     ]
    },
    {
     "ename": "ZeroDivisionError",
     "evalue": "float division",
     "output_type": "error",
     "traceback": [
      "\u001b[1;31m---------------------------------------------------------------------------\u001b[0m",
      "\u001b[1;31mZeroDivisionError\u001b[0m                         Traceback (most recent call last)",
      "\u001b[1;31mZeroDivisionError\u001b[0m: float division"
     ]
    },
    {
     "name": "stderr",
     "output_type": "stream",
     "text": [
      "Exception ignored in: 'MontyCarlo.tools.RITA.Interval._eval'\n",
      "Traceback (most recent call last):\n",
      "  File \"<ipython-input-254-2eca1893ac94>\", line 4, in <module>\n",
      "ZeroDivisionError: float division\n"
     ]
    },
    {
     "ename": "ZeroDivisionError",
     "evalue": "float division",
     "output_type": "error",
     "traceback": [
      "\u001b[1;31m---------------------------------------------------------------------------\u001b[0m",
      "\u001b[1;31mZeroDivisionError\u001b[0m                         Traceback (most recent call last)",
      "\u001b[1;31mZeroDivisionError\u001b[0m: float division"
     ]
    },
    {
     "name": "stderr",
     "output_type": "stream",
     "text": [
      "Exception ignored in: 'MontyCarlo.tools.RITA.Interval._eval'\n",
      "Traceback (most recent call last):\n",
      "  File \"<ipython-input-254-2eca1893ac94>\", line 4, in <module>\n",
      "ZeroDivisionError: float division\n"
     ]
    },
    {
     "ename": "ZeroDivisionError",
     "evalue": "float division",
     "output_type": "error",
     "traceback": [
      "\u001b[1;31m---------------------------------------------------------------------------\u001b[0m",
      "\u001b[1;31mZeroDivisionError\u001b[0m                         Traceback (most recent call last)",
      "\u001b[1;31mZeroDivisionError\u001b[0m: float division"
     ]
    },
    {
     "name": "stderr",
     "output_type": "stream",
     "text": [
      "Exception ignored in: 'MontyCarlo.tools.RITA.Interval._eval'\n",
      "Traceback (most recent call last):\n",
      "  File \"<ipython-input-254-2eca1893ac94>\", line 4, in <module>\n",
      "ZeroDivisionError: float division\n"
     ]
    },
    {
     "ename": "ZeroDivisionError",
     "evalue": "float division",
     "output_type": "error",
     "traceback": [
      "\u001b[1;31m---------------------------------------------------------------------------\u001b[0m",
      "\u001b[1;31mZeroDivisionError\u001b[0m                         Traceback (most recent call last)",
      "\u001b[1;31mZeroDivisionError\u001b[0m: float division"
     ]
    },
    {
     "name": "stderr",
     "output_type": "stream",
     "text": [
      "Exception ignored in: 'MontyCarlo.tools.RITA.Interval._eval'\n",
      "Traceback (most recent call last):\n",
      "  File \"<ipython-input-254-2eca1893ac94>\", line 4, in <module>\n",
      "ZeroDivisionError: float division\n"
     ]
    },
    {
     "ename": "ZeroDivisionError",
     "evalue": "float division",
     "output_type": "error",
     "traceback": [
      "\u001b[1;31m---------------------------------------------------------------------------\u001b[0m",
      "\u001b[1;31mZeroDivisionError\u001b[0m                         Traceback (most recent call last)",
      "\u001b[1;31mZeroDivisionError\u001b[0m: float division"
     ]
    },
    {
     "name": "stderr",
     "output_type": "stream",
     "text": [
      "Exception ignored in: 'MontyCarlo.tools.RITA.Interval._eval'\n",
      "Traceback (most recent call last):\n",
      "  File \"<ipython-input-254-2eca1893ac94>\", line 4, in <module>\n",
      "ZeroDivisionError: float division\n"
     ]
    },
    {
     "ename": "ZeroDivisionError",
     "evalue": "float division",
     "output_type": "error",
     "traceback": [
      "\u001b[1;31m---------------------------------------------------------------------------\u001b[0m",
      "\u001b[1;31mZeroDivisionError\u001b[0m                         Traceback (most recent call last)",
      "\u001b[1;31mZeroDivisionError\u001b[0m: float division"
     ]
    },
    {
     "name": "stderr",
     "output_type": "stream",
     "text": [
      "Exception ignored in: 'MontyCarlo.tools.RITA.Interval._eval'\n",
      "Traceback (most recent call last):\n",
      "  File \"<ipython-input-254-2eca1893ac94>\", line 4, in <module>\n",
      "ZeroDivisionError: float division\n"
     ]
    },
    {
     "ename": "ZeroDivisionError",
     "evalue": "float division",
     "output_type": "error",
     "traceback": [
      "\u001b[1;31m---------------------------------------------------------------------------\u001b[0m",
      "\u001b[1;31mZeroDivisionError\u001b[0m                         Traceback (most recent call last)",
      "\u001b[1;31mZeroDivisionError\u001b[0m: float division"
     ]
    },
    {
     "name": "stderr",
     "output_type": "stream",
     "text": [
      "Exception ignored in: 'MontyCarlo.tools.RITA.Interval._eval'\n",
      "Traceback (most recent call last):\n",
      "  File \"<ipython-input-254-2eca1893ac94>\", line 4, in <module>\n",
      "ZeroDivisionError: float division\n"
     ]
    },
    {
     "ename": "ZeroDivisionError",
     "evalue": "float division",
     "output_type": "error",
     "traceback": [
      "\u001b[1;31m---------------------------------------------------------------------------\u001b[0m",
      "\u001b[1;31mZeroDivisionError\u001b[0m                         Traceback (most recent call last)",
      "\u001b[1;31mZeroDivisionError\u001b[0m: float division"
     ]
    },
    {
     "name": "stderr",
     "output_type": "stream",
     "text": [
      "Exception ignored in: 'MontyCarlo.tools.RITA.Interval._eval'\n",
      "Traceback (most recent call last):\n",
      "  File \"<ipython-input-254-2eca1893ac94>\", line 4, in <module>\n",
      "ZeroDivisionError: float division\n"
     ]
    },
    {
     "ename": "ZeroDivisionError",
     "evalue": "float division",
     "output_type": "error",
     "traceback": [
      "\u001b[1;31m---------------------------------------------------------------------------\u001b[0m",
      "\u001b[1;31mZeroDivisionError\u001b[0m                         Traceback (most recent call last)",
      "\u001b[1;31mZeroDivisionError\u001b[0m: float division"
     ]
    },
    {
     "name": "stderr",
     "output_type": "stream",
     "text": [
      "Exception ignored in: 'MontyCarlo.tools.RITA.Interval._eval'\n",
      "Traceback (most recent call last):\n",
      "  File \"<ipython-input-254-2eca1893ac94>\", line 4, in <module>\n",
      "ZeroDivisionError: float division\n"
     ]
    },
    {
     "ename": "ZeroDivisionError",
     "evalue": "float division",
     "output_type": "error",
     "traceback": [
      "\u001b[1;31m---------------------------------------------------------------------------\u001b[0m",
      "\u001b[1;31mZeroDivisionError\u001b[0m                         Traceback (most recent call last)",
      "\u001b[1;31mZeroDivisionError\u001b[0m: float division"
     ]
    },
    {
     "name": "stderr",
     "output_type": "stream",
     "text": [
      "Exception ignored in: 'MontyCarlo.tools.RITA.Interval._eval'\n",
      "Traceback (most recent call last):\n",
      "  File \"<ipython-input-254-2eca1893ac94>\", line 4, in <module>\n",
      "ZeroDivisionError: float division\n"
     ]
    },
    {
     "ename": "ZeroDivisionError",
     "evalue": "float division",
     "output_type": "error",
     "traceback": [
      "\u001b[1;31m---------------------------------------------------------------------------\u001b[0m",
      "\u001b[1;31mZeroDivisionError\u001b[0m                         Traceback (most recent call last)",
      "\u001b[1;31mZeroDivisionError\u001b[0m: float division"
     ]
    },
    {
     "name": "stderr",
     "output_type": "stream",
     "text": [
      "Exception ignored in: 'MontyCarlo.tools.RITA.Interval._eval'\n",
      "Traceback (most recent call last):\n",
      "  File \"<ipython-input-254-2eca1893ac94>\", line 4, in <module>\n",
      "ZeroDivisionError: float division\n"
     ]
    },
    {
     "ename": "ZeroDivisionError",
     "evalue": "float division",
     "output_type": "error",
     "traceback": [
      "\u001b[1;31m---------------------------------------------------------------------------\u001b[0m",
      "\u001b[1;31mZeroDivisionError\u001b[0m                         Traceback (most recent call last)",
      "\u001b[1;31mZeroDivisionError\u001b[0m: float division"
     ]
    },
    {
     "name": "stderr",
     "output_type": "stream",
     "text": [
      "Exception ignored in: 'MontyCarlo.tools.RITA.Interval._eval'\n",
      "Traceback (most recent call last):\n",
      "  File \"<ipython-input-254-2eca1893ac94>\", line 4, in <module>\n",
      "ZeroDivisionError: float division\n"
     ]
    },
    {
     "ename": "ZeroDivisionError",
     "evalue": "float division",
     "output_type": "error",
     "traceback": [
      "\u001b[1;31m---------------------------------------------------------------------------\u001b[0m",
      "\u001b[1;31mZeroDivisionError\u001b[0m                         Traceback (most recent call last)",
      "\u001b[1;31mZeroDivisionError\u001b[0m: float division"
     ]
    },
    {
     "name": "stderr",
     "output_type": "stream",
     "text": [
      "Exception ignored in: 'MontyCarlo.tools.RITA.Interval._eval'\n",
      "Traceback (most recent call last):\n",
      "  File \"<ipython-input-254-2eca1893ac94>\", line 4, in <module>\n",
      "ZeroDivisionError: float division\n"
     ]
    },
    {
     "ename": "ZeroDivisionError",
     "evalue": "float division",
     "output_type": "error",
     "traceback": [
      "\u001b[1;31m---------------------------------------------------------------------------\u001b[0m",
      "\u001b[1;31mZeroDivisionError\u001b[0m                         Traceback (most recent call last)",
      "\u001b[1;31mZeroDivisionError\u001b[0m: float division"
     ]
    },
    {
     "name": "stderr",
     "output_type": "stream",
     "text": [
      "Exception ignored in: 'MontyCarlo.tools.RITA.Interval._eval'\n",
      "Traceback (most recent call last):\n",
      "  File \"<ipython-input-254-2eca1893ac94>\", line 4, in <module>\n",
      "ZeroDivisionError: float division\n"
     ]
    },
    {
     "ename": "ZeroDivisionError",
     "evalue": "float division",
     "output_type": "error",
     "traceback": [
      "\u001b[1;31m---------------------------------------------------------------------------\u001b[0m",
      "\u001b[1;31mZeroDivisionError\u001b[0m                         Traceback (most recent call last)",
      "\u001b[1;31mZeroDivisionError\u001b[0m: float division"
     ]
    },
    {
     "name": "stderr",
     "output_type": "stream",
     "text": [
      "Exception ignored in: 'MontyCarlo.tools.RITA.Interval._eval'\n",
      "Traceback (most recent call last):\n",
      "  File \"<ipython-input-254-2eca1893ac94>\", line 4, in <module>\n",
      "ZeroDivisionError: float division\n"
     ]
    },
    {
     "ename": "ZeroDivisionError",
     "evalue": "float division",
     "output_type": "error",
     "traceback": [
      "\u001b[1;31m---------------------------------------------------------------------------\u001b[0m",
      "\u001b[1;31mZeroDivisionError\u001b[0m                         Traceback (most recent call last)",
      "\u001b[1;31mZeroDivisionError\u001b[0m: float division"
     ]
    },
    {
     "name": "stderr",
     "output_type": "stream",
     "text": [
      "Exception ignored in: 'MontyCarlo.tools.RITA.Interval._eval'\n",
      "Traceback (most recent call last):\n",
      "  File \"<ipython-input-254-2eca1893ac94>\", line 4, in <module>\n",
      "ZeroDivisionError: float division\n"
     ]
    },
    {
     "ename": "ZeroDivisionError",
     "evalue": "float division",
     "output_type": "error",
     "traceback": [
      "\u001b[1;31m---------------------------------------------------------------------------\u001b[0m",
      "\u001b[1;31mZeroDivisionError\u001b[0m                         Traceback (most recent call last)",
      "\u001b[1;31mZeroDivisionError\u001b[0m: float division"
     ]
    },
    {
     "name": "stderr",
     "output_type": "stream",
     "text": [
      "Exception ignored in: 'MontyCarlo.tools.RITA.Interval._eval'\n",
      "Traceback (most recent call last):\n",
      "  File \"<ipython-input-254-2eca1893ac94>\", line 4, in <module>\n",
      "ZeroDivisionError: float division\n"
     ]
    },
    {
     "ename": "ZeroDivisionError",
     "evalue": "float division",
     "output_type": "error",
     "traceback": [
      "\u001b[1;31m---------------------------------------------------------------------------\u001b[0m",
      "\u001b[1;31mZeroDivisionError\u001b[0m                         Traceback (most recent call last)",
      "\u001b[1;31mZeroDivisionError\u001b[0m: float division"
     ]
    },
    {
     "name": "stderr",
     "output_type": "stream",
     "text": [
      "Exception ignored in: 'MontyCarlo.tools.RITA.Interval._eval'\n",
      "Traceback (most recent call last):\n",
      "  File \"<ipython-input-254-2eca1893ac94>\", line 4, in <module>\n",
      "ZeroDivisionError: float division\n"
     ]
    },
    {
     "ename": "ZeroDivisionError",
     "evalue": "float division",
     "output_type": "error",
     "traceback": [
      "\u001b[1;31m---------------------------------------------------------------------------\u001b[0m",
      "\u001b[1;31mZeroDivisionError\u001b[0m                         Traceback (most recent call last)",
      "\u001b[1;31mZeroDivisionError\u001b[0m: float division"
     ]
    },
    {
     "name": "stderr",
     "output_type": "stream",
     "text": [
      "Exception ignored in: 'MontyCarlo.tools.RITA.Interval._eval'\n",
      "Traceback (most recent call last):\n",
      "  File \"<ipython-input-254-2eca1893ac94>\", line 4, in <module>\n",
      "ZeroDivisionError: float division\n"
     ]
    },
    {
     "ename": "ZeroDivisionError",
     "evalue": "float division",
     "output_type": "error",
     "traceback": [
      "\u001b[1;31m---------------------------------------------------------------------------\u001b[0m",
      "\u001b[1;31mZeroDivisionError\u001b[0m                         Traceback (most recent call last)",
      "\u001b[1;31mZeroDivisionError\u001b[0m: float division"
     ]
    },
    {
     "name": "stderr",
     "output_type": "stream",
     "text": [
      "Exception ignored in: 'MontyCarlo.tools.RITA.Interval._eval'\n",
      "Traceback (most recent call last):\n",
      "  File \"<ipython-input-254-2eca1893ac94>\", line 4, in <module>\n",
      "ZeroDivisionError: float division\n"
     ]
    },
    {
     "ename": "ZeroDivisionError",
     "evalue": "float division",
     "output_type": "error",
     "traceback": [
      "\u001b[1;31m---------------------------------------------------------------------------\u001b[0m",
      "\u001b[1;31mZeroDivisionError\u001b[0m                         Traceback (most recent call last)",
      "\u001b[1;31mZeroDivisionError\u001b[0m: float division"
     ]
    },
    {
     "name": "stderr",
     "output_type": "stream",
     "text": [
      "Exception ignored in: 'MontyCarlo.tools.RITA.Interval._eval'\n",
      "Traceback (most recent call last):\n",
      "  File \"<ipython-input-254-2eca1893ac94>\", line 4, in <module>\n",
      "ZeroDivisionError: float division\n"
     ]
    },
    {
     "ename": "ZeroDivisionError",
     "evalue": "float division",
     "output_type": "error",
     "traceback": [
      "\u001b[1;31m---------------------------------------------------------------------------\u001b[0m",
      "\u001b[1;31mZeroDivisionError\u001b[0m                         Traceback (most recent call last)",
      "\u001b[1;31mZeroDivisionError\u001b[0m: float division"
     ]
    },
    {
     "name": "stderr",
     "output_type": "stream",
     "text": [
      "Exception ignored in: 'MontyCarlo.tools.RITA.Interval._eval'\n",
      "Traceback (most recent call last):\n",
      "  File \"<ipython-input-254-2eca1893ac94>\", line 4, in <module>\n",
      "ZeroDivisionError: float division\n"
     ]
    },
    {
     "ename": "ZeroDivisionError",
     "evalue": "float division",
     "output_type": "error",
     "traceback": [
      "\u001b[1;31m---------------------------------------------------------------------------\u001b[0m",
      "\u001b[1;31mZeroDivisionError\u001b[0m                         Traceback (most recent call last)",
      "\u001b[1;31mZeroDivisionError\u001b[0m: float division"
     ]
    },
    {
     "name": "stderr",
     "output_type": "stream",
     "text": [
      "Exception ignored in: 'MontyCarlo.tools.RITA.Interval._eval'\n",
      "Traceback (most recent call last):\n",
      "  File \"<ipython-input-254-2eca1893ac94>\", line 4, in <module>\n",
      "ZeroDivisionError: float division\n"
     ]
    },
    {
     "ename": "ZeroDivisionError",
     "evalue": "float division",
     "output_type": "error",
     "traceback": [
      "\u001b[1;31m---------------------------------------------------------------------------\u001b[0m",
      "\u001b[1;31mZeroDivisionError\u001b[0m                         Traceback (most recent call last)",
      "\u001b[1;31mZeroDivisionError\u001b[0m: float division"
     ]
    },
    {
     "name": "stderr",
     "output_type": "stream",
     "text": [
      "Exception ignored in: 'MontyCarlo.tools.RITA.Interval._eval'\n",
      "Traceback (most recent call last):\n",
      "  File \"<ipython-input-254-2eca1893ac94>\", line 4, in <module>\n",
      "ZeroDivisionError: float division\n"
     ]
    },
    {
     "ename": "ZeroDivisionError",
     "evalue": "float division",
     "output_type": "error",
     "traceback": [
      "\u001b[1;31m---------------------------------------------------------------------------\u001b[0m",
      "\u001b[1;31mZeroDivisionError\u001b[0m                         Traceback (most recent call last)",
      "\u001b[1;31mZeroDivisionError\u001b[0m: float division"
     ]
    },
    {
     "name": "stderr",
     "output_type": "stream",
     "text": [
      "Exception ignored in: 'MontyCarlo.tools.RITA.Interval._eval'\n",
      "Traceback (most recent call last):\n",
      "  File \"<ipython-input-254-2eca1893ac94>\", line 4, in <module>\n",
      "ZeroDivisionError: float division\n"
     ]
    },
    {
     "ename": "ZeroDivisionError",
     "evalue": "float division",
     "output_type": "error",
     "traceback": [
      "\u001b[1;31m---------------------------------------------------------------------------\u001b[0m",
      "\u001b[1;31mZeroDivisionError\u001b[0m                         Traceback (most recent call last)",
      "\u001b[1;31mZeroDivisionError\u001b[0m: float division"
     ]
    },
    {
     "name": "stderr",
     "output_type": "stream",
     "text": [
      "Exception ignored in: 'MontyCarlo.tools.RITA.Interval._eval'\n",
      "Traceback (most recent call last):\n",
      "  File \"<ipython-input-254-2eca1893ac94>\", line 4, in <module>\n",
      "ZeroDivisionError: float division\n"
     ]
    },
    {
     "ename": "ZeroDivisionError",
     "evalue": "float division",
     "output_type": "error",
     "traceback": [
      "\u001b[1;31m---------------------------------------------------------------------------\u001b[0m",
      "\u001b[1;31mZeroDivisionError\u001b[0m                         Traceback (most recent call last)",
      "\u001b[1;31mZeroDivisionError\u001b[0m: float division"
     ]
    },
    {
     "name": "stderr",
     "output_type": "stream",
     "text": [
      "Exception ignored in: 'MontyCarlo.tools.RITA.Interval._eval'\n",
      "Traceback (most recent call last):\n",
      "  File \"<ipython-input-254-2eca1893ac94>\", line 4, in <module>\n",
      "ZeroDivisionError: float division\n"
     ]
    },
    {
     "ename": "ZeroDivisionError",
     "evalue": "float division",
     "output_type": "error",
     "traceback": [
      "\u001b[1;31m---------------------------------------------------------------------------\u001b[0m",
      "\u001b[1;31mZeroDivisionError\u001b[0m                         Traceback (most recent call last)",
      "\u001b[1;31mZeroDivisionError\u001b[0m: float division"
     ]
    },
    {
     "name": "stderr",
     "output_type": "stream",
     "text": [
      "Exception ignored in: 'MontyCarlo.tools.RITA.Interval._eval'\n",
      "Traceback (most recent call last):\n",
      "  File \"<ipython-input-254-2eca1893ac94>\", line 4, in <module>\n",
      "ZeroDivisionError: float division\n"
     ]
    },
    {
     "ename": "ZeroDivisionError",
     "evalue": "float division",
     "output_type": "error",
     "traceback": [
      "\u001b[1;31m---------------------------------------------------------------------------\u001b[0m",
      "\u001b[1;31mZeroDivisionError\u001b[0m                         Traceback (most recent call last)",
      "\u001b[1;31mZeroDivisionError\u001b[0m: float division"
     ]
    },
    {
     "name": "stderr",
     "output_type": "stream",
     "text": [
      "Exception ignored in: 'MontyCarlo.tools.RITA.Interval._eval'\n",
      "Traceback (most recent call last):\n",
      "  File \"<ipython-input-254-2eca1893ac94>\", line 4, in <module>\n",
      "ZeroDivisionError: float division\n"
     ]
    },
    {
     "ename": "ZeroDivisionError",
     "evalue": "float division",
     "output_type": "error",
     "traceback": [
      "\u001b[1;31m---------------------------------------------------------------------------\u001b[0m",
      "\u001b[1;31mZeroDivisionError\u001b[0m                         Traceback (most recent call last)",
      "\u001b[1;31mZeroDivisionError\u001b[0m: float division"
     ]
    },
    {
     "name": "stderr",
     "output_type": "stream",
     "text": [
      "Exception ignored in: 'MontyCarlo.tools.RITA.Interval._eval'\n",
      "Traceback (most recent call last):\n",
      "  File \"<ipython-input-254-2eca1893ac94>\", line 4, in <module>\n",
      "ZeroDivisionError: float division\n"
     ]
    },
    {
     "ename": "ZeroDivisionError",
     "evalue": "float division",
     "output_type": "error",
     "traceback": [
      "\u001b[1;31m---------------------------------------------------------------------------\u001b[0m",
      "\u001b[1;31mZeroDivisionError\u001b[0m                         Traceback (most recent call last)",
      "\u001b[1;31mZeroDivisionError\u001b[0m: float division"
     ]
    },
    {
     "name": "stderr",
     "output_type": "stream",
     "text": [
      "Exception ignored in: 'MontyCarlo.tools.RITA.Interval._eval'\n",
      "Traceback (most recent call last):\n",
      "  File \"<ipython-input-254-2eca1893ac94>\", line 4, in <module>\n",
      "ZeroDivisionError: float division\n"
     ]
    },
    {
     "ename": "ZeroDivisionError",
     "evalue": "float division",
     "output_type": "error",
     "traceback": [
      "\u001b[1;31m---------------------------------------------------------------------------\u001b[0m",
      "\u001b[1;31mZeroDivisionError\u001b[0m                         Traceback (most recent call last)",
      "\u001b[1;31mZeroDivisionError\u001b[0m: float division"
     ]
    },
    {
     "name": "stderr",
     "output_type": "stream",
     "text": [
      "Exception ignored in: 'MontyCarlo.tools.RITA.Interval._eval'\n",
      "Traceback (most recent call last):\n",
      "  File \"<ipython-input-254-2eca1893ac94>\", line 4, in <module>\n",
      "ZeroDivisionError: float division\n"
     ]
    },
    {
     "ename": "ZeroDivisionError",
     "evalue": "float division",
     "output_type": "error",
     "traceback": [
      "\u001b[1;31m---------------------------------------------------------------------------\u001b[0m",
      "\u001b[1;31mZeroDivisionError\u001b[0m                         Traceback (most recent call last)",
      "\u001b[1;31mZeroDivisionError\u001b[0m: float division"
     ]
    },
    {
     "name": "stderr",
     "output_type": "stream",
     "text": [
      "Exception ignored in: 'MontyCarlo.tools.RITA.Interval._eval'\n",
      "Traceback (most recent call last):\n",
      "  File \"<ipython-input-254-2eca1893ac94>\", line 4, in <module>\n",
      "ZeroDivisionError: float division\n"
     ]
    },
    {
     "ename": "ZeroDivisionError",
     "evalue": "float division",
     "output_type": "error",
     "traceback": [
      "\u001b[1;31m---------------------------------------------------------------------------\u001b[0m",
      "\u001b[1;31mZeroDivisionError\u001b[0m                         Traceback (most recent call last)",
      "\u001b[1;31mZeroDivisionError\u001b[0m: float division"
     ]
    },
    {
     "name": "stderr",
     "output_type": "stream",
     "text": [
      "Exception ignored in: 'MontyCarlo.tools.RITA.Interval._eval'\n",
      "Traceback (most recent call last):\n",
      "  File \"<ipython-input-254-2eca1893ac94>\", line 4, in <module>\n",
      "ZeroDivisionError: float division\n"
     ]
    },
    {
     "ename": "ZeroDivisionError",
     "evalue": "float division",
     "output_type": "error",
     "traceback": [
      "\u001b[1;31m---------------------------------------------------------------------------\u001b[0m",
      "\u001b[1;31mZeroDivisionError\u001b[0m                         Traceback (most recent call last)",
      "\u001b[1;31mZeroDivisionError\u001b[0m: float division"
     ]
    },
    {
     "name": "stderr",
     "output_type": "stream",
     "text": [
      "Exception ignored in: 'MontyCarlo.tools.RITA.Interval._eval'\n",
      "Traceback (most recent call last):\n",
      "  File \"<ipython-input-254-2eca1893ac94>\", line 4, in <module>\n",
      "ZeroDivisionError: float division\n"
     ]
    },
    {
     "ename": "ZeroDivisionError",
     "evalue": "float division",
     "output_type": "error",
     "traceback": [
      "\u001b[1;31m---------------------------------------------------------------------------\u001b[0m",
      "\u001b[1;31mZeroDivisionError\u001b[0m                         Traceback (most recent call last)",
      "\u001b[1;31mZeroDivisionError\u001b[0m: float division"
     ]
    },
    {
     "name": "stderr",
     "output_type": "stream",
     "text": [
      "Exception ignored in: 'MontyCarlo.tools.RITA.Interval._eval'\n",
      "Traceback (most recent call last):\n",
      "  File \"<ipython-input-254-2eca1893ac94>\", line 4, in <module>\n",
      "ZeroDivisionError: float division\n"
     ]
    },
    {
     "ename": "ZeroDivisionError",
     "evalue": "float division",
     "output_type": "error",
     "traceback": [
      "\u001b[1;31m---------------------------------------------------------------------------\u001b[0m",
      "\u001b[1;31mZeroDivisionError\u001b[0m                         Traceback (most recent call last)",
      "\u001b[1;31mZeroDivisionError\u001b[0m: float division"
     ]
    },
    {
     "name": "stderr",
     "output_type": "stream",
     "text": [
      "Exception ignored in: 'MontyCarlo.tools.RITA.Interval._eval'\n",
      "Traceback (most recent call last):\n",
      "  File \"<ipython-input-254-2eca1893ac94>\", line 4, in <module>\n",
      "ZeroDivisionError: float division\n"
     ]
    },
    {
     "ename": "ZeroDivisionError",
     "evalue": "float division",
     "output_type": "error",
     "traceback": [
      "\u001b[1;31m---------------------------------------------------------------------------\u001b[0m",
      "\u001b[1;31mZeroDivisionError\u001b[0m                         Traceback (most recent call last)",
      "\u001b[1;31mZeroDivisionError\u001b[0m: float division"
     ]
    },
    {
     "name": "stderr",
     "output_type": "stream",
     "text": [
      "Exception ignored in: 'MontyCarlo.tools.RITA.Interval._eval'\n",
      "Traceback (most recent call last):\n",
      "  File \"<ipython-input-254-2eca1893ac94>\", line 4, in <module>\n",
      "ZeroDivisionError: float division\n"
     ]
    },
    {
     "ename": "ZeroDivisionError",
     "evalue": "float division",
     "output_type": "error",
     "traceback": [
      "\u001b[1;31m---------------------------------------------------------------------------\u001b[0m",
      "\u001b[1;31mZeroDivisionError\u001b[0m                         Traceback (most recent call last)",
      "\u001b[1;31mZeroDivisionError\u001b[0m: float division"
     ]
    },
    {
     "name": "stderr",
     "output_type": "stream",
     "text": [
      "Exception ignored in: 'MontyCarlo.tools.RITA.Interval._eval'\n",
      "Traceback (most recent call last):\n",
      "  File \"<ipython-input-254-2eca1893ac94>\", line 4, in <module>\n",
      "ZeroDivisionError: float division\n"
     ]
    },
    {
     "ename": "ZeroDivisionError",
     "evalue": "float division",
     "output_type": "error",
     "traceback": [
      "\u001b[1;31m---------------------------------------------------------------------------\u001b[0m",
      "\u001b[1;31mZeroDivisionError\u001b[0m                         Traceback (most recent call last)",
      "\u001b[1;31mZeroDivisionError\u001b[0m: float division"
     ]
    },
    {
     "name": "stderr",
     "output_type": "stream",
     "text": [
      "Exception ignored in: 'MontyCarlo.tools.RITA.Interval._eval'\n",
      "Traceback (most recent call last):\n",
      "  File \"<ipython-input-254-2eca1893ac94>\", line 4, in <module>\n",
      "ZeroDivisionError: float division\n"
     ]
    },
    {
     "ename": "ZeroDivisionError",
     "evalue": "float division",
     "output_type": "error",
     "traceback": [
      "\u001b[1;31m---------------------------------------------------------------------------\u001b[0m",
      "\u001b[1;31mZeroDivisionError\u001b[0m                         Traceback (most recent call last)",
      "\u001b[1;31mZeroDivisionError\u001b[0m: float division"
     ]
    },
    {
     "name": "stderr",
     "output_type": "stream",
     "text": [
      "Exception ignored in: 'MontyCarlo.tools.RITA.Interval._eval'\n",
      "Traceback (most recent call last):\n",
      "  File \"<ipython-input-254-2eca1893ac94>\", line 4, in <module>\n",
      "ZeroDivisionError: float division\n"
     ]
    },
    {
     "ename": "ZeroDivisionError",
     "evalue": "float division",
     "output_type": "error",
     "traceback": [
      "\u001b[1;31m---------------------------------------------------------------------------\u001b[0m",
      "\u001b[1;31mZeroDivisionError\u001b[0m                         Traceback (most recent call last)",
      "\u001b[1;31mZeroDivisionError\u001b[0m: float division"
     ]
    },
    {
     "name": "stderr",
     "output_type": "stream",
     "text": [
      "Exception ignored in: 'MontyCarlo.tools.RITA.Interval._eval'\n",
      "Traceback (most recent call last):\n",
      "  File \"<ipython-input-254-2eca1893ac94>\", line 4, in <module>\n",
      "ZeroDivisionError: float division\n"
     ]
    },
    {
     "ename": "ZeroDivisionError",
     "evalue": "float division",
     "output_type": "error",
     "traceback": [
      "\u001b[1;31m---------------------------------------------------------------------------\u001b[0m",
      "\u001b[1;31mZeroDivisionError\u001b[0m                         Traceback (most recent call last)",
      "\u001b[1;31mZeroDivisionError\u001b[0m: float division"
     ]
    },
    {
     "name": "stderr",
     "output_type": "stream",
     "text": [
      "Exception ignored in: 'MontyCarlo.tools.RITA.Interval._eval'\n",
      "Traceback (most recent call last):\n",
      "  File \"<ipython-input-254-2eca1893ac94>\", line 4, in <module>\n",
      "ZeroDivisionError: float division\n"
     ]
    },
    {
     "ename": "ZeroDivisionError",
     "evalue": "float division",
     "output_type": "error",
     "traceback": [
      "\u001b[1;31m---------------------------------------------------------------------------\u001b[0m",
      "\u001b[1;31mZeroDivisionError\u001b[0m                         Traceback (most recent call last)",
      "\u001b[1;31mZeroDivisionError\u001b[0m: float division"
     ]
    },
    {
     "name": "stderr",
     "output_type": "stream",
     "text": [
      "Exception ignored in: 'MontyCarlo.tools.RITA.Interval._eval'\n",
      "Traceback (most recent call last):\n",
      "  File \"<ipython-input-254-2eca1893ac94>\", line 4, in <module>\n",
      "ZeroDivisionError: float division\n"
     ]
    },
    {
     "ename": "ZeroDivisionError",
     "evalue": "float division",
     "output_type": "error",
     "traceback": [
      "\u001b[1;31m---------------------------------------------------------------------------\u001b[0m",
      "\u001b[1;31mZeroDivisionError\u001b[0m                         Traceback (most recent call last)",
      "\u001b[1;31mZeroDivisionError\u001b[0m: float division"
     ]
    },
    {
     "name": "stderr",
     "output_type": "stream",
     "text": [
      "Exception ignored in: 'MontyCarlo.tools.RITA.Interval._eval'\n",
      "Traceback (most recent call last):\n",
      "  File \"<ipython-input-254-2eca1893ac94>\", line 4, in <module>\n",
      "ZeroDivisionError: float division\n"
     ]
    },
    {
     "ename": "ZeroDivisionError",
     "evalue": "float division",
     "output_type": "error",
     "traceback": [
      "\u001b[1;31m---------------------------------------------------------------------------\u001b[0m",
      "\u001b[1;31mZeroDivisionError\u001b[0m                         Traceback (most recent call last)",
      "\u001b[1;31mZeroDivisionError\u001b[0m: float division"
     ]
    },
    {
     "name": "stderr",
     "output_type": "stream",
     "text": [
      "Exception ignored in: 'MontyCarlo.tools.RITA.Interval._eval'\n",
      "Traceback (most recent call last):\n",
      "  File \"<ipython-input-254-2eca1893ac94>\", line 4, in <module>\n",
      "ZeroDivisionError: float division\n"
     ]
    },
    {
     "ename": "ZeroDivisionError",
     "evalue": "float division",
     "output_type": "error",
     "traceback": [
      "\u001b[1;31m---------------------------------------------------------------------------\u001b[0m",
      "\u001b[1;31mZeroDivisionError\u001b[0m                         Traceback (most recent call last)",
      "\u001b[1;31mZeroDivisionError\u001b[0m: float division"
     ]
    },
    {
     "name": "stderr",
     "output_type": "stream",
     "text": [
      "Exception ignored in: 'MontyCarlo.tools.RITA.Interval._eval'\n",
      "Traceback (most recent call last):\n",
      "  File \"<ipython-input-254-2eca1893ac94>\", line 4, in <module>\n",
      "ZeroDivisionError: float division\n"
     ]
    },
    {
     "ename": "ZeroDivisionError",
     "evalue": "float division",
     "output_type": "error",
     "traceback": [
      "\u001b[1;31m---------------------------------------------------------------------------\u001b[0m",
      "\u001b[1;31mZeroDivisionError\u001b[0m                         Traceback (most recent call last)",
      "\u001b[1;31mZeroDivisionError\u001b[0m: float division"
     ]
    },
    {
     "name": "stderr",
     "output_type": "stream",
     "text": [
      "Exception ignored in: 'MontyCarlo.tools.RITA.Interval._eval'\n",
      "Traceback (most recent call last):\n",
      "  File \"<ipython-input-254-2eca1893ac94>\", line 4, in <module>\n",
      "ZeroDivisionError: float division\n"
     ]
    },
    {
     "ename": "ZeroDivisionError",
     "evalue": "float division",
     "output_type": "error",
     "traceback": [
      "\u001b[1;31m---------------------------------------------------------------------------\u001b[0m",
      "\u001b[1;31mZeroDivisionError\u001b[0m                         Traceback (most recent call last)",
      "\u001b[1;31mZeroDivisionError\u001b[0m: float division"
     ]
    },
    {
     "name": "stderr",
     "output_type": "stream",
     "text": [
      "Exception ignored in: 'MontyCarlo.tools.RITA.Interval._eval'\n",
      "Traceback (most recent call last):\n",
      "  File \"<ipython-input-254-2eca1893ac94>\", line 4, in <module>\n",
      "ZeroDivisionError: float division\n"
     ]
    },
    {
     "ename": "ZeroDivisionError",
     "evalue": "float division",
     "output_type": "error",
     "traceback": [
      "\u001b[1;31m---------------------------------------------------------------------------\u001b[0m",
      "\u001b[1;31mZeroDivisionError\u001b[0m                         Traceback (most recent call last)",
      "\u001b[1;31mZeroDivisionError\u001b[0m: float division"
     ]
    },
    {
     "name": "stderr",
     "output_type": "stream",
     "text": [
      "Exception ignored in: 'MontyCarlo.tools.RITA.Interval._eval'\n",
      "Traceback (most recent call last):\n",
      "  File \"<ipython-input-254-2eca1893ac94>\", line 4, in <module>\n",
      "ZeroDivisionError: float division\n"
     ]
    },
    {
     "ename": "ZeroDivisionError",
     "evalue": "float division",
     "output_type": "error",
     "traceback": [
      "\u001b[1;31m---------------------------------------------------------------------------\u001b[0m",
      "\u001b[1;31mZeroDivisionError\u001b[0m                         Traceback (most recent call last)",
      "\u001b[1;31mZeroDivisionError\u001b[0m: float division"
     ]
    },
    {
     "name": "stderr",
     "output_type": "stream",
     "text": [
      "Exception ignored in: 'MontyCarlo.tools.RITA.Interval._eval'\n",
      "Traceback (most recent call last):\n",
      "  File \"<ipython-input-254-2eca1893ac94>\", line 4, in <module>\n",
      "ZeroDivisionError: float division\n"
     ]
    },
    {
     "ename": "ZeroDivisionError",
     "evalue": "float division",
     "output_type": "error",
     "traceback": [
      "\u001b[1;31m---------------------------------------------------------------------------\u001b[0m",
      "\u001b[1;31mZeroDivisionError\u001b[0m                         Traceback (most recent call last)",
      "\u001b[1;31mZeroDivisionError\u001b[0m: float division"
     ]
    },
    {
     "name": "stderr",
     "output_type": "stream",
     "text": [
      "Exception ignored in: 'MontyCarlo.tools.RITA.Interval._eval'\n",
      "Traceback (most recent call last):\n",
      "  File \"<ipython-input-254-2eca1893ac94>\", line 4, in <module>\n",
      "ZeroDivisionError: float division\n"
     ]
    },
    {
     "ename": "ZeroDivisionError",
     "evalue": "float division",
     "output_type": "error",
     "traceback": [
      "\u001b[1;31m---------------------------------------------------------------------------\u001b[0m",
      "\u001b[1;31mZeroDivisionError\u001b[0m                         Traceback (most recent call last)",
      "\u001b[1;31mZeroDivisionError\u001b[0m: float division"
     ]
    },
    {
     "name": "stderr",
     "output_type": "stream",
     "text": [
      "Exception ignored in: 'MontyCarlo.tools.RITA.Interval._eval'\n",
      "Traceback (most recent call last):\n",
      "  File \"<ipython-input-254-2eca1893ac94>\", line 4, in <module>\n",
      "ZeroDivisionError: float division\n"
     ]
    },
    {
     "ename": "ZeroDivisionError",
     "evalue": "float division",
     "output_type": "error",
     "traceback": [
      "\u001b[1;31m---------------------------------------------------------------------------\u001b[0m",
      "\u001b[1;31mZeroDivisionError\u001b[0m                         Traceback (most recent call last)",
      "\u001b[1;31mZeroDivisionError\u001b[0m: float division"
     ]
    },
    {
     "name": "stderr",
     "output_type": "stream",
     "text": [
      "Exception ignored in: 'MontyCarlo.tools.RITA.Interval._eval'\n",
      "Traceback (most recent call last):\n",
      "  File \"<ipython-input-254-2eca1893ac94>\", line 4, in <module>\n",
      "ZeroDivisionError: float division\n"
     ]
    },
    {
     "ename": "ZeroDivisionError",
     "evalue": "float division",
     "output_type": "error",
     "traceback": [
      "\u001b[1;31m---------------------------------------------------------------------------\u001b[0m",
      "\u001b[1;31mZeroDivisionError\u001b[0m                         Traceback (most recent call last)",
      "\u001b[1;31mZeroDivisionError\u001b[0m: float division"
     ]
    },
    {
     "name": "stderr",
     "output_type": "stream",
     "text": [
      "Exception ignored in: 'MontyCarlo.tools.RITA.Interval._eval'\n",
      "Traceback (most recent call last):\n",
      "  File \"<ipython-input-254-2eca1893ac94>\", line 4, in <module>\n",
      "ZeroDivisionError: float division\n"
     ]
    },
    {
     "ename": "ZeroDivisionError",
     "evalue": "float division",
     "output_type": "error",
     "traceback": [
      "\u001b[1;31m---------------------------------------------------------------------------\u001b[0m",
      "\u001b[1;31mZeroDivisionError\u001b[0m                         Traceback (most recent call last)",
      "\u001b[1;31mZeroDivisionError\u001b[0m: float division"
     ]
    },
    {
     "name": "stderr",
     "output_type": "stream",
     "text": [
      "Exception ignored in: 'MontyCarlo.tools.RITA.Interval._eval'\n",
      "Traceback (most recent call last):\n",
      "  File \"<ipython-input-254-2eca1893ac94>\", line 4, in <module>\n",
      "ZeroDivisionError: float division\n"
     ]
    },
    {
     "ename": "ZeroDivisionError",
     "evalue": "float division",
     "output_type": "error",
     "traceback": [
      "\u001b[1;31m---------------------------------------------------------------------------\u001b[0m",
      "\u001b[1;31mZeroDivisionError\u001b[0m                         Traceback (most recent call last)",
      "\u001b[1;31mZeroDivisionError\u001b[0m: float division"
     ]
    },
    {
     "name": "stderr",
     "output_type": "stream",
     "text": [
      "Exception ignored in: 'MontyCarlo.tools.RITA.Interval._eval'\n",
      "Traceback (most recent call last):\n",
      "  File \"<ipython-input-254-2eca1893ac94>\", line 4, in <module>\n",
      "ZeroDivisionError: float division\n"
     ]
    },
    {
     "ename": "ZeroDivisionError",
     "evalue": "float division",
     "output_type": "error",
     "traceback": [
      "\u001b[1;31m---------------------------------------------------------------------------\u001b[0m",
      "\u001b[1;31mZeroDivisionError\u001b[0m                         Traceback (most recent call last)",
      "\u001b[1;31mZeroDivisionError\u001b[0m: float division"
     ]
    },
    {
     "name": "stderr",
     "output_type": "stream",
     "text": [
      "Exception ignored in: 'MontyCarlo.tools.RITA.Interval._eval'\n",
      "Traceback (most recent call last):\n",
      "  File \"<ipython-input-254-2eca1893ac94>\", line 4, in <module>\n",
      "ZeroDivisionError: float division\n"
     ]
    },
    {
     "ename": "ZeroDivisionError",
     "evalue": "float division",
     "output_type": "error",
     "traceback": [
      "\u001b[1;31m---------------------------------------------------------------------------\u001b[0m",
      "\u001b[1;31mZeroDivisionError\u001b[0m                         Traceback (most recent call last)",
      "\u001b[1;31mZeroDivisionError\u001b[0m: float division"
     ]
    },
    {
     "name": "stderr",
     "output_type": "stream",
     "text": [
      "Exception ignored in: 'MontyCarlo.tools.RITA.Interval._eval'\n",
      "Traceback (most recent call last):\n",
      "  File \"<ipython-input-254-2eca1893ac94>\", line 4, in <module>\n",
      "ZeroDivisionError: float division\n"
     ]
    },
    {
     "ename": "ZeroDivisionError",
     "evalue": "float division",
     "output_type": "error",
     "traceback": [
      "\u001b[1;31m---------------------------------------------------------------------------\u001b[0m",
      "\u001b[1;31mZeroDivisionError\u001b[0m                         Traceback (most recent call last)",
      "\u001b[1;31mZeroDivisionError\u001b[0m: float division"
     ]
    },
    {
     "name": "stderr",
     "output_type": "stream",
     "text": [
      "Exception ignored in: 'MontyCarlo.tools.RITA.Interval._eval'\n",
      "Traceback (most recent call last):\n",
      "  File \"<ipython-input-254-2eca1893ac94>\", line 4, in <module>\n",
      "ZeroDivisionError: float division\n"
     ]
    },
    {
     "ename": "ZeroDivisionError",
     "evalue": "float division",
     "output_type": "error",
     "traceback": [
      "\u001b[1;31m---------------------------------------------------------------------------\u001b[0m",
      "\u001b[1;31mZeroDivisionError\u001b[0m                         Traceback (most recent call last)",
      "\u001b[1;31mZeroDivisionError\u001b[0m: float division"
     ]
    },
    {
     "name": "stderr",
     "output_type": "stream",
     "text": [
      "Exception ignored in: 'MontyCarlo.tools.RITA.Interval._eval'\n",
      "Traceback (most recent call last):\n",
      "  File \"<ipython-input-254-2eca1893ac94>\", line 4, in <module>\n",
      "ZeroDivisionError: float division\n"
     ]
    },
    {
     "ename": "ZeroDivisionError",
     "evalue": "float division",
     "output_type": "error",
     "traceback": [
      "\u001b[1;31m---------------------------------------------------------------------------\u001b[0m",
      "\u001b[1;31mZeroDivisionError\u001b[0m                         Traceback (most recent call last)",
      "\u001b[1;31mZeroDivisionError\u001b[0m: float division"
     ]
    },
    {
     "name": "stderr",
     "output_type": "stream",
     "text": [
      "Exception ignored in: 'MontyCarlo.tools.RITA.Interval._eval'\n",
      "Traceback (most recent call last):\n",
      "  File \"<ipython-input-254-2eca1893ac94>\", line 4, in <module>\n",
      "ZeroDivisionError: float division\n"
     ]
    },
    {
     "ename": "ZeroDivisionError",
     "evalue": "float division",
     "output_type": "error",
     "traceback": [
      "\u001b[1;31m---------------------------------------------------------------------------\u001b[0m",
      "\u001b[1;31mZeroDivisionError\u001b[0m                         Traceback (most recent call last)",
      "\u001b[1;31mZeroDivisionError\u001b[0m: float division"
     ]
    },
    {
     "name": "stderr",
     "output_type": "stream",
     "text": [
      "Exception ignored in: 'MontyCarlo.tools.RITA.Interval._eval'\n",
      "Traceback (most recent call last):\n",
      "  File \"<ipython-input-254-2eca1893ac94>\", line 4, in <module>\n",
      "ZeroDivisionError: float division\n"
     ]
    },
    {
     "ename": "ZeroDivisionError",
     "evalue": "float division",
     "output_type": "error",
     "traceback": [
      "\u001b[1;31m---------------------------------------------------------------------------\u001b[0m",
      "\u001b[1;31mZeroDivisionError\u001b[0m                         Traceback (most recent call last)",
      "\u001b[1;31mZeroDivisionError\u001b[0m: float division"
     ]
    },
    {
     "name": "stderr",
     "output_type": "stream",
     "text": [
      "Exception ignored in: 'MontyCarlo.tools.RITA.Interval._eval'\n",
      "Traceback (most recent call last):\n",
      "  File \"<ipython-input-254-2eca1893ac94>\", line 4, in <module>\n",
      "ZeroDivisionError: float division\n"
     ]
    },
    {
     "ename": "ZeroDivisionError",
     "evalue": "float division",
     "output_type": "error",
     "traceback": [
      "\u001b[1;31m---------------------------------------------------------------------------\u001b[0m",
      "\u001b[1;31mZeroDivisionError\u001b[0m                         Traceback (most recent call last)",
      "\u001b[1;31mZeroDivisionError\u001b[0m: float division"
     ]
    },
    {
     "name": "stderr",
     "output_type": "stream",
     "text": [
      "Exception ignored in: 'MontyCarlo.tools.RITA.Interval._eval'\n",
      "Traceback (most recent call last):\n",
      "  File \"<ipython-input-254-2eca1893ac94>\", line 4, in <module>\n",
      "ZeroDivisionError: float division\n"
     ]
    },
    {
     "ename": "ZeroDivisionError",
     "evalue": "float division",
     "output_type": "error",
     "traceback": [
      "\u001b[1;31m---------------------------------------------------------------------------\u001b[0m",
      "\u001b[1;31mZeroDivisionError\u001b[0m                         Traceback (most recent call last)",
      "\u001b[1;31mZeroDivisionError\u001b[0m: float division"
     ]
    },
    {
     "name": "stderr",
     "output_type": "stream",
     "text": [
      "Exception ignored in: 'MontyCarlo.tools.RITA.Interval._eval'\n",
      "Traceback (most recent call last):\n",
      "  File \"<ipython-input-254-2eca1893ac94>\", line 4, in <module>\n",
      "ZeroDivisionError: float division\n"
     ]
    },
    {
     "ename": "ZeroDivisionError",
     "evalue": "float division",
     "output_type": "error",
     "traceback": [
      "\u001b[1;31m---------------------------------------------------------------------------\u001b[0m",
      "\u001b[1;31mZeroDivisionError\u001b[0m                         Traceback (most recent call last)",
      "\u001b[1;31mZeroDivisionError\u001b[0m: float division"
     ]
    },
    {
     "name": "stderr",
     "output_type": "stream",
     "text": [
      "Exception ignored in: 'MontyCarlo.tools.RITA.Interval._eval'\n",
      "Traceback (most recent call last):\n",
      "  File \"<ipython-input-254-2eca1893ac94>\", line 4, in <module>\n",
      "ZeroDivisionError: float division\n"
     ]
    },
    {
     "ename": "ZeroDivisionError",
     "evalue": "float division",
     "output_type": "error",
     "traceback": [
      "\u001b[1;31m---------------------------------------------------------------------------\u001b[0m",
      "\u001b[1;31mZeroDivisionError\u001b[0m                         Traceback (most recent call last)",
      "\u001b[1;31mZeroDivisionError\u001b[0m: float division"
     ]
    },
    {
     "name": "stderr",
     "output_type": "stream",
     "text": [
      "Exception ignored in: 'MontyCarlo.tools.RITA.Interval._eval'\n",
      "Traceback (most recent call last):\n",
      "  File \"<ipython-input-254-2eca1893ac94>\", line 4, in <module>\n",
      "ZeroDivisionError: float division\n"
     ]
    },
    {
     "ename": "ZeroDivisionError",
     "evalue": "float division",
     "output_type": "error",
     "traceback": [
      "\u001b[1;31m---------------------------------------------------------------------------\u001b[0m",
      "\u001b[1;31mZeroDivisionError\u001b[0m                         Traceback (most recent call last)",
      "\u001b[1;31mZeroDivisionError\u001b[0m: float division"
     ]
    },
    {
     "name": "stderr",
     "output_type": "stream",
     "text": [
      "Exception ignored in: 'MontyCarlo.tools.RITA.Interval._eval'\n",
      "Traceback (most recent call last):\n",
      "  File \"<ipython-input-254-2eca1893ac94>\", line 4, in <module>\n",
      "ZeroDivisionError: float division\n"
     ]
    },
    {
     "ename": "ZeroDivisionError",
     "evalue": "float division",
     "output_type": "error",
     "traceback": [
      "\u001b[1;31m---------------------------------------------------------------------------\u001b[0m",
      "\u001b[1;31mZeroDivisionError\u001b[0m                         Traceback (most recent call last)",
      "\u001b[1;31mZeroDivisionError\u001b[0m: float division"
     ]
    },
    {
     "name": "stderr",
     "output_type": "stream",
     "text": [
      "Exception ignored in: 'MontyCarlo.tools.RITA.Interval._eval'\n",
      "Traceback (most recent call last):\n",
      "  File \"<ipython-input-254-2eca1893ac94>\", line 4, in <module>\n",
      "ZeroDivisionError: float division\n"
     ]
    },
    {
     "ename": "ZeroDivisionError",
     "evalue": "float division",
     "output_type": "error",
     "traceback": [
      "\u001b[1;31m---------------------------------------------------------------------------\u001b[0m",
      "\u001b[1;31mZeroDivisionError\u001b[0m                         Traceback (most recent call last)",
      "\u001b[1;31mZeroDivisionError\u001b[0m: float division"
     ]
    },
    {
     "name": "stderr",
     "output_type": "stream",
     "text": [
      "Exception ignored in: 'MontyCarlo.tools.RITA.Interval._eval'\n",
      "Traceback (most recent call last):\n",
      "  File \"<ipython-input-254-2eca1893ac94>\", line 4, in <module>\n",
      "ZeroDivisionError: float division\n"
     ]
    },
    {
     "ename": "ZeroDivisionError",
     "evalue": "float division",
     "output_type": "error",
     "traceback": [
      "\u001b[1;31m---------------------------------------------------------------------------\u001b[0m",
      "\u001b[1;31mZeroDivisionError\u001b[0m                         Traceback (most recent call last)",
      "\u001b[1;31mZeroDivisionError\u001b[0m: float division"
     ]
    },
    {
     "name": "stderr",
     "output_type": "stream",
     "text": [
      "Exception ignored in: 'MontyCarlo.tools.RITA.Interval._eval'\n",
      "Traceback (most recent call last):\n",
      "  File \"<ipython-input-254-2eca1893ac94>\", line 4, in <module>\n",
      "ZeroDivisionError: float division\n"
     ]
    },
    {
     "ename": "ZeroDivisionError",
     "evalue": "float division",
     "output_type": "error",
     "traceback": [
      "\u001b[1;31m---------------------------------------------------------------------------\u001b[0m",
      "\u001b[1;31mZeroDivisionError\u001b[0m                         Traceback (most recent call last)",
      "\u001b[1;31mZeroDivisionError\u001b[0m: float division"
     ]
    },
    {
     "name": "stderr",
     "output_type": "stream",
     "text": [
      "Exception ignored in: 'MontyCarlo.tools.RITA.Interval._eval'\n",
      "Traceback (most recent call last):\n",
      "  File \"<ipython-input-254-2eca1893ac94>\", line 4, in <module>\n",
      "ZeroDivisionError: float division\n"
     ]
    },
    {
     "ename": "ZeroDivisionError",
     "evalue": "float division",
     "output_type": "error",
     "traceback": [
      "\u001b[1;31m---------------------------------------------------------------------------\u001b[0m",
      "\u001b[1;31mZeroDivisionError\u001b[0m                         Traceback (most recent call last)",
      "\u001b[1;31mZeroDivisionError\u001b[0m: float division"
     ]
    },
    {
     "name": "stderr",
     "output_type": "stream",
     "text": [
      "Exception ignored in: 'MontyCarlo.tools.RITA.Interval._eval'\n",
      "Traceback (most recent call last):\n",
      "  File \"<ipython-input-254-2eca1893ac94>\", line 4, in <module>\n",
      "ZeroDivisionError: float division\n"
     ]
    },
    {
     "ename": "ZeroDivisionError",
     "evalue": "float division",
     "output_type": "error",
     "traceback": [
      "\u001b[1;31m---------------------------------------------------------------------------\u001b[0m",
      "\u001b[1;31mZeroDivisionError\u001b[0m                         Traceback (most recent call last)",
      "\u001b[1;31mZeroDivisionError\u001b[0m: float division"
     ]
    },
    {
     "name": "stderr",
     "output_type": "stream",
     "text": [
      "Exception ignored in: 'MontyCarlo.tools.RITA.Interval._eval'\n",
      "Traceback (most recent call last):\n",
      "  File \"<ipython-input-254-2eca1893ac94>\", line 4, in <module>\n",
      "ZeroDivisionError: float division\n"
     ]
    },
    {
     "ename": "ZeroDivisionError",
     "evalue": "float division",
     "output_type": "error",
     "traceback": [
      "\u001b[1;31m---------------------------------------------------------------------------\u001b[0m",
      "\u001b[1;31mZeroDivisionError\u001b[0m                         Traceback (most recent call last)",
      "\u001b[1;31mZeroDivisionError\u001b[0m: float division"
     ]
    },
    {
     "name": "stderr",
     "output_type": "stream",
     "text": [
      "Exception ignored in: 'MontyCarlo.tools.RITA.Interval._eval'\n",
      "Traceback (most recent call last):\n",
      "  File \"<ipython-input-254-2eca1893ac94>\", line 4, in <module>\n",
      "ZeroDivisionError: float division\n"
     ]
    },
    {
     "ename": "ZeroDivisionError",
     "evalue": "float division",
     "output_type": "error",
     "traceback": [
      "\u001b[1;31m---------------------------------------------------------------------------\u001b[0m",
      "\u001b[1;31mZeroDivisionError\u001b[0m                         Traceback (most recent call last)",
      "\u001b[1;31mZeroDivisionError\u001b[0m: float division"
     ]
    },
    {
     "name": "stderr",
     "output_type": "stream",
     "text": [
      "Exception ignored in: 'MontyCarlo.tools.RITA.Interval._eval'\n",
      "Traceback (most recent call last):\n",
      "  File \"<ipython-input-254-2eca1893ac94>\", line 4, in <module>\n",
      "ZeroDivisionError: float division\n"
     ]
    },
    {
     "ename": "ZeroDivisionError",
     "evalue": "float division",
     "output_type": "error",
     "traceback": [
      "\u001b[1;31m---------------------------------------------------------------------------\u001b[0m",
      "\u001b[1;31mZeroDivisionError\u001b[0m                         Traceback (most recent call last)",
      "\u001b[1;31mZeroDivisionError\u001b[0m: float division"
     ]
    },
    {
     "name": "stderr",
     "output_type": "stream",
     "text": [
      "Exception ignored in: 'MontyCarlo.tools.RITA.Interval._eval'\n",
      "Traceback (most recent call last):\n",
      "  File \"<ipython-input-254-2eca1893ac94>\", line 4, in <module>\n",
      "ZeroDivisionError: float division\n"
     ]
    },
    {
     "ename": "ZeroDivisionError",
     "evalue": "float division",
     "output_type": "error",
     "traceback": [
      "\u001b[1;31m---------------------------------------------------------------------------\u001b[0m",
      "\u001b[1;31mZeroDivisionError\u001b[0m                         Traceback (most recent call last)",
      "\u001b[1;31mZeroDivisionError\u001b[0m: float division"
     ]
    },
    {
     "name": "stderr",
     "output_type": "stream",
     "text": [
      "Exception ignored in: 'MontyCarlo.tools.RITA.Interval._eval'\n",
      "Traceback (most recent call last):\n",
      "  File \"<ipython-input-254-2eca1893ac94>\", line 4, in <module>\n",
      "ZeroDivisionError: float division\n"
     ]
    },
    {
     "ename": "ZeroDivisionError",
     "evalue": "float division",
     "output_type": "error",
     "traceback": [
      "\u001b[1;31m---------------------------------------------------------------------------\u001b[0m",
      "\u001b[1;31mZeroDivisionError\u001b[0m                         Traceback (most recent call last)",
      "\u001b[1;31mZeroDivisionError\u001b[0m: float division"
     ]
    },
    {
     "name": "stderr",
     "output_type": "stream",
     "text": [
      "Exception ignored in: 'MontyCarlo.tools.RITA.Interval._eval'\n",
      "Traceback (most recent call last):\n",
      "  File \"<ipython-input-254-2eca1893ac94>\", line 4, in <module>\n",
      "ZeroDivisionError: float division\n"
     ]
    },
    {
     "ename": "ZeroDivisionError",
     "evalue": "float division",
     "output_type": "error",
     "traceback": [
      "\u001b[1;31m---------------------------------------------------------------------------\u001b[0m",
      "\u001b[1;31mZeroDivisionError\u001b[0m                         Traceback (most recent call last)",
      "\u001b[1;31mZeroDivisionError\u001b[0m: float division"
     ]
    },
    {
     "name": "stderr",
     "output_type": "stream",
     "text": [
      "Exception ignored in: 'MontyCarlo.tools.RITA.Interval._eval'\n",
      "Traceback (most recent call last):\n",
      "  File \"<ipython-input-254-2eca1893ac94>\", line 4, in <module>\n",
      "ZeroDivisionError: float division\n"
     ]
    },
    {
     "ename": "ZeroDivisionError",
     "evalue": "float division",
     "output_type": "error",
     "traceback": [
      "\u001b[1;31m---------------------------------------------------------------------------\u001b[0m",
      "\u001b[1;31mZeroDivisionError\u001b[0m                         Traceback (most recent call last)",
      "\u001b[1;31mZeroDivisionError\u001b[0m: float division"
     ]
    },
    {
     "name": "stderr",
     "output_type": "stream",
     "text": [
      "Exception ignored in: 'MontyCarlo.tools.RITA.Interval._eval'\n",
      "Traceback (most recent call last):\n",
      "  File \"<ipython-input-254-2eca1893ac94>\", line 4, in <module>\n",
      "ZeroDivisionError: float division\n"
     ]
    },
    {
     "ename": "ZeroDivisionError",
     "evalue": "float division",
     "output_type": "error",
     "traceback": [
      "\u001b[1;31m---------------------------------------------------------------------------\u001b[0m",
      "\u001b[1;31mZeroDivisionError\u001b[0m                         Traceback (most recent call last)",
      "\u001b[1;31mZeroDivisionError\u001b[0m: float division"
     ]
    },
    {
     "name": "stderr",
     "output_type": "stream",
     "text": [
      "Exception ignored in: 'MontyCarlo.tools.RITA.Interval._eval'\n",
      "Traceback (most recent call last):\n",
      "  File \"<ipython-input-254-2eca1893ac94>\", line 4, in <module>\n",
      "ZeroDivisionError: float division\n"
     ]
    },
    {
     "ename": "ZeroDivisionError",
     "evalue": "float division",
     "output_type": "error",
     "traceback": [
      "\u001b[1;31m---------------------------------------------------------------------------\u001b[0m",
      "\u001b[1;31mZeroDivisionError\u001b[0m                         Traceback (most recent call last)",
      "\u001b[1;31mZeroDivisionError\u001b[0m: float division"
     ]
    },
    {
     "name": "stderr",
     "output_type": "stream",
     "text": [
      "Exception ignored in: 'MontyCarlo.tools.RITA.Interval._eval'\n",
      "Traceback (most recent call last):\n",
      "  File \"<ipython-input-254-2eca1893ac94>\", line 4, in <module>\n",
      "ZeroDivisionError: float division\n"
     ]
    },
    {
     "ename": "ZeroDivisionError",
     "evalue": "float division",
     "output_type": "error",
     "traceback": [
      "\u001b[1;31m---------------------------------------------------------------------------\u001b[0m",
      "\u001b[1;31mZeroDivisionError\u001b[0m                         Traceback (most recent call last)",
      "\u001b[1;31mZeroDivisionError\u001b[0m: float division"
     ]
    },
    {
     "name": "stderr",
     "output_type": "stream",
     "text": [
      "Exception ignored in: 'MontyCarlo.tools.RITA.Interval._eval'\n",
      "Traceback (most recent call last):\n",
      "  File \"<ipython-input-254-2eca1893ac94>\", line 4, in <module>\n",
      "ZeroDivisionError: float division\n"
     ]
    },
    {
     "ename": "ZeroDivisionError",
     "evalue": "float division",
     "output_type": "error",
     "traceback": [
      "\u001b[1;31m---------------------------------------------------------------------------\u001b[0m",
      "\u001b[1;31mZeroDivisionError\u001b[0m                         Traceback (most recent call last)",
      "\u001b[1;31mZeroDivisionError\u001b[0m: float division"
     ]
    },
    {
     "name": "stderr",
     "output_type": "stream",
     "text": [
      "Exception ignored in: 'MontyCarlo.tools.RITA.Interval._eval'\n",
      "Traceback (most recent call last):\n",
      "  File \"<ipython-input-254-2eca1893ac94>\", line 4, in <module>\n",
      "ZeroDivisionError: float division\n"
     ]
    },
    {
     "ename": "ZeroDivisionError",
     "evalue": "float division",
     "output_type": "error",
     "traceback": [
      "\u001b[1;31m---------------------------------------------------------------------------\u001b[0m",
      "\u001b[1;31mZeroDivisionError\u001b[0m                         Traceback (most recent call last)",
      "\u001b[1;31mZeroDivisionError\u001b[0m: float division"
     ]
    },
    {
     "name": "stderr",
     "output_type": "stream",
     "text": [
      "Exception ignored in: 'MontyCarlo.tools.RITA.Interval._eval'\n",
      "Traceback (most recent call last):\n",
      "  File \"<ipython-input-254-2eca1893ac94>\", line 4, in <module>\n",
      "ZeroDivisionError: float division\n"
     ]
    },
    {
     "ename": "ZeroDivisionError",
     "evalue": "float division",
     "output_type": "error",
     "traceback": [
      "\u001b[1;31m---------------------------------------------------------------------------\u001b[0m",
      "\u001b[1;31mZeroDivisionError\u001b[0m                         Traceback (most recent call last)",
      "\u001b[1;31mZeroDivisionError\u001b[0m: float division"
     ]
    },
    {
     "name": "stderr",
     "output_type": "stream",
     "text": [
      "Exception ignored in: 'MontyCarlo.tools.RITA.Interval._eval'\n",
      "Traceback (most recent call last):\n",
      "  File \"<ipython-input-254-2eca1893ac94>\", line 4, in <module>\n",
      "ZeroDivisionError: float division\n"
     ]
    },
    {
     "ename": "ZeroDivisionError",
     "evalue": "float division",
     "output_type": "error",
     "traceback": [
      "\u001b[1;31m---------------------------------------------------------------------------\u001b[0m",
      "\u001b[1;31mZeroDivisionError\u001b[0m                         Traceback (most recent call last)",
      "\u001b[1;31mZeroDivisionError\u001b[0m: float division"
     ]
    },
    {
     "name": "stderr",
     "output_type": "stream",
     "text": [
      "Exception ignored in: 'MontyCarlo.tools.RITA.Interval._eval'\n",
      "Traceback (most recent call last):\n",
      "  File \"<ipython-input-254-2eca1893ac94>\", line 4, in <module>\n",
      "ZeroDivisionError: float division\n"
     ]
    },
    {
     "ename": "ZeroDivisionError",
     "evalue": "float division",
     "output_type": "error",
     "traceback": [
      "\u001b[1;31m---------------------------------------------------------------------------\u001b[0m",
      "\u001b[1;31mZeroDivisionError\u001b[0m                         Traceback (most recent call last)",
      "\u001b[1;31mZeroDivisionError\u001b[0m: float division"
     ]
    },
    {
     "name": "stderr",
     "output_type": "stream",
     "text": [
      "Exception ignored in: 'MontyCarlo.tools.RITA.Interval._eval'\n",
      "Traceback (most recent call last):\n",
      "  File \"<ipython-input-254-2eca1893ac94>\", line 4, in <module>\n",
      "ZeroDivisionError: float division\n"
     ]
    },
    {
     "ename": "ZeroDivisionError",
     "evalue": "float division",
     "output_type": "error",
     "traceback": [
      "\u001b[1;31m---------------------------------------------------------------------------\u001b[0m",
      "\u001b[1;31mZeroDivisionError\u001b[0m                         Traceback (most recent call last)",
      "\u001b[1;31mZeroDivisionError\u001b[0m: float division"
     ]
    },
    {
     "name": "stderr",
     "output_type": "stream",
     "text": [
      "Exception ignored in: 'MontyCarlo.tools.RITA.Interval._eval'\n",
      "Traceback (most recent call last):\n",
      "  File \"<ipython-input-254-2eca1893ac94>\", line 4, in <module>\n",
      "ZeroDivisionError: float division\n"
     ]
    },
    {
     "ename": "ZeroDivisionError",
     "evalue": "float division",
     "output_type": "error",
     "traceback": [
      "\u001b[1;31m---------------------------------------------------------------------------\u001b[0m",
      "\u001b[1;31mZeroDivisionError\u001b[0m                         Traceback (most recent call last)",
      "\u001b[1;31mZeroDivisionError\u001b[0m: float division"
     ]
    },
    {
     "name": "stderr",
     "output_type": "stream",
     "text": [
      "Exception ignored in: 'MontyCarlo.tools.RITA.Interval._eval'\n",
      "Traceback (most recent call last):\n",
      "  File \"<ipython-input-254-2eca1893ac94>\", line 4, in <module>\n",
      "ZeroDivisionError: float division\n"
     ]
    },
    {
     "ename": "ZeroDivisionError",
     "evalue": "float division",
     "output_type": "error",
     "traceback": [
      "\u001b[1;31m---------------------------------------------------------------------------\u001b[0m",
      "\u001b[1;31mZeroDivisionError\u001b[0m                         Traceback (most recent call last)",
      "\u001b[1;31mZeroDivisionError\u001b[0m: float division"
     ]
    },
    {
     "name": "stderr",
     "output_type": "stream",
     "text": [
      "Exception ignored in: 'MontyCarlo.tools.RITA.Interval._eval'\n",
      "Traceback (most recent call last):\n",
      "  File \"<ipython-input-254-2eca1893ac94>\", line 4, in <module>\n",
      "ZeroDivisionError: float division\n"
     ]
    },
    {
     "ename": "ZeroDivisionError",
     "evalue": "float division",
     "output_type": "error",
     "traceback": [
      "\u001b[1;31m---------------------------------------------------------------------------\u001b[0m",
      "\u001b[1;31mZeroDivisionError\u001b[0m                         Traceback (most recent call last)",
      "\u001b[1;31mZeroDivisionError\u001b[0m: float division"
     ]
    },
    {
     "name": "stderr",
     "output_type": "stream",
     "text": [
      "Exception ignored in: 'MontyCarlo.tools.RITA.Interval._eval'\n",
      "Traceback (most recent call last):\n",
      "  File \"<ipython-input-254-2eca1893ac94>\", line 4, in <module>\n",
      "ZeroDivisionError: float division\n"
     ]
    },
    {
     "ename": "ZeroDivisionError",
     "evalue": "float division",
     "output_type": "error",
     "traceback": [
      "\u001b[1;31m---------------------------------------------------------------------------\u001b[0m",
      "\u001b[1;31mZeroDivisionError\u001b[0m                         Traceback (most recent call last)",
      "\u001b[1;31mZeroDivisionError\u001b[0m: float division"
     ]
    },
    {
     "name": "stderr",
     "output_type": "stream",
     "text": [
      "Exception ignored in: 'MontyCarlo.tools.RITA.Interval._eval'\n",
      "Traceback (most recent call last):\n",
      "  File \"<ipython-input-254-2eca1893ac94>\", line 4, in <module>\n",
      "ZeroDivisionError: float division\n"
     ]
    },
    {
     "ename": "ZeroDivisionError",
     "evalue": "float division",
     "output_type": "error",
     "traceback": [
      "\u001b[1;31m---------------------------------------------------------------------------\u001b[0m",
      "\u001b[1;31mZeroDivisionError\u001b[0m                         Traceback (most recent call last)",
      "\u001b[1;31mZeroDivisionError\u001b[0m: float division"
     ]
    },
    {
     "name": "stderr",
     "output_type": "stream",
     "text": [
      "Exception ignored in: 'MontyCarlo.tools.RITA.Interval._eval'\n",
      "Traceback (most recent call last):\n",
      "  File \"<ipython-input-254-2eca1893ac94>\", line 4, in <module>\n",
      "ZeroDivisionError: float division\n"
     ]
    },
    {
     "ename": "ZeroDivisionError",
     "evalue": "float division",
     "output_type": "error",
     "traceback": [
      "\u001b[1;31m---------------------------------------------------------------------------\u001b[0m",
      "\u001b[1;31mZeroDivisionError\u001b[0m                         Traceback (most recent call last)",
      "\u001b[1;31mZeroDivisionError\u001b[0m: float division"
     ]
    },
    {
     "name": "stderr",
     "output_type": "stream",
     "text": [
      "Exception ignored in: 'MontyCarlo.tools.RITA.Interval._eval'\n",
      "Traceback (most recent call last):\n",
      "  File \"<ipython-input-254-2eca1893ac94>\", line 4, in <module>\n",
      "ZeroDivisionError: float division\n"
     ]
    },
    {
     "ename": "ZeroDivisionError",
     "evalue": "float division",
     "output_type": "error",
     "traceback": [
      "\u001b[1;31m---------------------------------------------------------------------------\u001b[0m",
      "\u001b[1;31mZeroDivisionError\u001b[0m                         Traceback (most recent call last)",
      "\u001b[1;31mZeroDivisionError\u001b[0m: float division"
     ]
    },
    {
     "name": "stderr",
     "output_type": "stream",
     "text": [
      "Exception ignored in: 'MontyCarlo.tools.RITA.Interval._eval'\n",
      "Traceback (most recent call last):\n",
      "  File \"<ipython-input-254-2eca1893ac94>\", line 4, in <module>\n",
      "ZeroDivisionError: float division\n"
     ]
    },
    {
     "ename": "ZeroDivisionError",
     "evalue": "float division",
     "output_type": "error",
     "traceback": [
      "\u001b[1;31m---------------------------------------------------------------------------\u001b[0m",
      "\u001b[1;31mZeroDivisionError\u001b[0m                         Traceback (most recent call last)",
      "\u001b[1;31mZeroDivisionError\u001b[0m: float division"
     ]
    },
    {
     "name": "stderr",
     "output_type": "stream",
     "text": [
      "Exception ignored in: 'MontyCarlo.tools.RITA.Interval._eval'\n",
      "Traceback (most recent call last):\n",
      "  File \"<ipython-input-254-2eca1893ac94>\", line 4, in <module>\n",
      "ZeroDivisionError: float division\n"
     ]
    },
    {
     "ename": "ZeroDivisionError",
     "evalue": "float division",
     "output_type": "error",
     "traceback": [
      "\u001b[1;31m---------------------------------------------------------------------------\u001b[0m",
      "\u001b[1;31mZeroDivisionError\u001b[0m                         Traceback (most recent call last)",
      "\u001b[1;31mZeroDivisionError\u001b[0m: float division"
     ]
    },
    {
     "name": "stderr",
     "output_type": "stream",
     "text": [
      "Exception ignored in: 'MontyCarlo.tools.RITA.Interval._eval'\n",
      "Traceback (most recent call last):\n",
      "  File \"<ipython-input-254-2eca1893ac94>\", line 4, in <module>\n",
      "ZeroDivisionError: float division\n"
     ]
    },
    {
     "ename": "ZeroDivisionError",
     "evalue": "float division",
     "output_type": "error",
     "traceback": [
      "\u001b[1;31m---------------------------------------------------------------------------\u001b[0m",
      "\u001b[1;31mZeroDivisionError\u001b[0m                         Traceback (most recent call last)",
      "\u001b[1;31mZeroDivisionError\u001b[0m: float division"
     ]
    },
    {
     "name": "stderr",
     "output_type": "stream",
     "text": [
      "Exception ignored in: 'MontyCarlo.tools.RITA.Interval._eval'\n",
      "Traceback (most recent call last):\n",
      "  File \"<ipython-input-254-2eca1893ac94>\", line 4, in <module>\n",
      "ZeroDivisionError: float division\n"
     ]
    },
    {
     "ename": "ZeroDivisionError",
     "evalue": "float division",
     "output_type": "error",
     "traceback": [
      "\u001b[1;31m---------------------------------------------------------------------------\u001b[0m",
      "\u001b[1;31mZeroDivisionError\u001b[0m                         Traceback (most recent call last)",
      "\u001b[1;31mZeroDivisionError\u001b[0m: float division"
     ]
    },
    {
     "name": "stderr",
     "output_type": "stream",
     "text": [
      "Exception ignored in: 'MontyCarlo.tools.RITA.Interval._eval'\n",
      "Traceback (most recent call last):\n",
      "  File \"<ipython-input-254-2eca1893ac94>\", line 4, in <module>\n",
      "ZeroDivisionError: float division\n"
     ]
    },
    {
     "ename": "ZeroDivisionError",
     "evalue": "float division",
     "output_type": "error",
     "traceback": [
      "\u001b[1;31m---------------------------------------------------------------------------\u001b[0m",
      "\u001b[1;31mZeroDivisionError\u001b[0m                         Traceback (most recent call last)",
      "\u001b[1;31mZeroDivisionError\u001b[0m: float division"
     ]
    },
    {
     "name": "stderr",
     "output_type": "stream",
     "text": [
      "Exception ignored in: 'MontyCarlo.tools.RITA.Interval._eval'\n",
      "Traceback (most recent call last):\n",
      "  File \"<ipython-input-254-2eca1893ac94>\", line 4, in <module>\n",
      "ZeroDivisionError: float division\n"
     ]
    },
    {
     "ename": "ZeroDivisionError",
     "evalue": "float division",
     "output_type": "error",
     "traceback": [
      "\u001b[1;31m---------------------------------------------------------------------------\u001b[0m",
      "\u001b[1;31mZeroDivisionError\u001b[0m                         Traceback (most recent call last)",
      "\u001b[1;31mZeroDivisionError\u001b[0m: float division"
     ]
    },
    {
     "name": "stderr",
     "output_type": "stream",
     "text": [
      "Exception ignored in: 'MontyCarlo.tools.RITA.Interval._eval'\n",
      "Traceback (most recent call last):\n",
      "  File \"<ipython-input-254-2eca1893ac94>\", line 4, in <module>\n",
      "ZeroDivisionError: float division\n"
     ]
    },
    {
     "ename": "ZeroDivisionError",
     "evalue": "float division",
     "output_type": "error",
     "traceback": [
      "\u001b[1;31m---------------------------------------------------------------------------\u001b[0m",
      "\u001b[1;31mZeroDivisionError\u001b[0m                         Traceback (most recent call last)",
      "\u001b[1;31mZeroDivisionError\u001b[0m: float division"
     ]
    },
    {
     "name": "stderr",
     "output_type": "stream",
     "text": [
      "Exception ignored in: 'MontyCarlo.tools.RITA.Interval._eval'\n",
      "Traceback (most recent call last):\n",
      "  File \"<ipython-input-254-2eca1893ac94>\", line 4, in <module>\n",
      "ZeroDivisionError: float division\n"
     ]
    },
    {
     "ename": "ZeroDivisionError",
     "evalue": "float division",
     "output_type": "error",
     "traceback": [
      "\u001b[1;31m---------------------------------------------------------------------------\u001b[0m",
      "\u001b[1;31mZeroDivisionError\u001b[0m                         Traceback (most recent call last)",
      "\u001b[1;31mZeroDivisionError\u001b[0m: float division"
     ]
    },
    {
     "name": "stderr",
     "output_type": "stream",
     "text": [
      "Exception ignored in: 'MontyCarlo.tools.RITA.Interval._eval'\n",
      "Traceback (most recent call last):\n",
      "  File \"<ipython-input-254-2eca1893ac94>\", line 4, in <module>\n",
      "ZeroDivisionError: float division\n"
     ]
    },
    {
     "ename": "ZeroDivisionError",
     "evalue": "float division",
     "output_type": "error",
     "traceback": [
      "\u001b[1;31m---------------------------------------------------------------------------\u001b[0m",
      "\u001b[1;31mZeroDivisionError\u001b[0m                         Traceback (most recent call last)",
      "\u001b[1;31mZeroDivisionError\u001b[0m: float division"
     ]
    },
    {
     "name": "stderr",
     "output_type": "stream",
     "text": [
      "Exception ignored in: 'MontyCarlo.tools.RITA.Interval._eval'\n",
      "Traceback (most recent call last):\n",
      "  File \"<ipython-input-254-2eca1893ac94>\", line 4, in <module>\n",
      "ZeroDivisionError: float division\n"
     ]
    },
    {
     "ename": "ZeroDivisionError",
     "evalue": "float division",
     "output_type": "error",
     "traceback": [
      "\u001b[1;31m---------------------------------------------------------------------------\u001b[0m",
      "\u001b[1;31mZeroDivisionError\u001b[0m                         Traceback (most recent call last)",
      "\u001b[1;31mZeroDivisionError\u001b[0m: float division"
     ]
    },
    {
     "name": "stderr",
     "output_type": "stream",
     "text": [
      "Exception ignored in: 'MontyCarlo.tools.RITA.Interval._eval'\n",
      "Traceback (most recent call last):\n",
      "  File \"<ipython-input-254-2eca1893ac94>\", line 4, in <module>\n",
      "ZeroDivisionError: float division\n"
     ]
    },
    {
     "ename": "ZeroDivisionError",
     "evalue": "float division",
     "output_type": "error",
     "traceback": [
      "\u001b[1;31m---------------------------------------------------------------------------\u001b[0m",
      "\u001b[1;31mZeroDivisionError\u001b[0m                         Traceback (most recent call last)",
      "\u001b[1;31mZeroDivisionError\u001b[0m: float division"
     ]
    },
    {
     "name": "stderr",
     "output_type": "stream",
     "text": [
      "Exception ignored in: 'MontyCarlo.tools.RITA.Interval._eval'\n",
      "Traceback (most recent call last):\n",
      "  File \"<ipython-input-254-2eca1893ac94>\", line 4, in <module>\n",
      "ZeroDivisionError: float division\n"
     ]
    },
    {
     "ename": "ZeroDivisionError",
     "evalue": "float division",
     "output_type": "error",
     "traceback": [
      "\u001b[1;31m---------------------------------------------------------------------------\u001b[0m",
      "\u001b[1;31mZeroDivisionError\u001b[0m                         Traceback (most recent call last)",
      "\u001b[1;31mZeroDivisionError\u001b[0m: float division"
     ]
    },
    {
     "name": "stderr",
     "output_type": "stream",
     "text": [
      "Exception ignored in: 'MontyCarlo.tools.RITA.Interval._eval'\n",
      "Traceback (most recent call last):\n",
      "  File \"<ipython-input-254-2eca1893ac94>\", line 4, in <module>\n",
      "ZeroDivisionError: float division\n"
     ]
    },
    {
     "ename": "ZeroDivisionError",
     "evalue": "float division",
     "output_type": "error",
     "traceback": [
      "\u001b[1;31m---------------------------------------------------------------------------\u001b[0m",
      "\u001b[1;31mZeroDivisionError\u001b[0m                         Traceback (most recent call last)",
      "\u001b[1;31mZeroDivisionError\u001b[0m: float division"
     ]
    },
    {
     "name": "stderr",
     "output_type": "stream",
     "text": [
      "Exception ignored in: 'MontyCarlo.tools.RITA.Interval._eval'\n",
      "Traceback (most recent call last):\n",
      "  File \"<ipython-input-254-2eca1893ac94>\", line 4, in <module>\n",
      "ZeroDivisionError: float division\n"
     ]
    },
    {
     "ename": "ZeroDivisionError",
     "evalue": "float division",
     "output_type": "error",
     "traceback": [
      "\u001b[1;31m---------------------------------------------------------------------------\u001b[0m",
      "\u001b[1;31mZeroDivisionError\u001b[0m                         Traceback (most recent call last)",
      "\u001b[1;31mZeroDivisionError\u001b[0m: float division"
     ]
    },
    {
     "name": "stderr",
     "output_type": "stream",
     "text": [
      "Exception ignored in: 'MontyCarlo.tools.RITA.Interval._eval'\n",
      "Traceback (most recent call last):\n",
      "  File \"<ipython-input-254-2eca1893ac94>\", line 4, in <module>\n",
      "ZeroDivisionError: float division\n"
     ]
    },
    {
     "ename": "ZeroDivisionError",
     "evalue": "float division",
     "output_type": "error",
     "traceback": [
      "\u001b[1;31m---------------------------------------------------------------------------\u001b[0m",
      "\u001b[1;31mZeroDivisionError\u001b[0m                         Traceback (most recent call last)",
      "\u001b[1;31mZeroDivisionError\u001b[0m: float division"
     ]
    },
    {
     "name": "stderr",
     "output_type": "stream",
     "text": [
      "Exception ignored in: 'MontyCarlo.tools.RITA.Interval._eval'\n",
      "Traceback (most recent call last):\n",
      "  File \"<ipython-input-254-2eca1893ac94>\", line 4, in <module>\n",
      "ZeroDivisionError: float division\n"
     ]
    },
    {
     "ename": "ZeroDivisionError",
     "evalue": "float division",
     "output_type": "error",
     "traceback": [
      "\u001b[1;31m---------------------------------------------------------------------------\u001b[0m",
      "\u001b[1;31mZeroDivisionError\u001b[0m                         Traceback (most recent call last)",
      "\u001b[1;31mZeroDivisionError\u001b[0m: float division"
     ]
    },
    {
     "name": "stderr",
     "output_type": "stream",
     "text": [
      "Exception ignored in: 'MontyCarlo.tools.RITA.Interval._eval'\n",
      "Traceback (most recent call last):\n",
      "  File \"<ipython-input-254-2eca1893ac94>\", line 4, in <module>\n",
      "ZeroDivisionError: float division\n"
     ]
    },
    {
     "ename": "ZeroDivisionError",
     "evalue": "float division",
     "output_type": "error",
     "traceback": [
      "\u001b[1;31m---------------------------------------------------------------------------\u001b[0m",
      "\u001b[1;31mZeroDivisionError\u001b[0m                         Traceback (most recent call last)",
      "\u001b[1;31mZeroDivisionError\u001b[0m: float division"
     ]
    },
    {
     "name": "stderr",
     "output_type": "stream",
     "text": [
      "Exception ignored in: 'MontyCarlo.tools.RITA.Interval._eval'\n",
      "Traceback (most recent call last):\n",
      "  File \"<ipython-input-254-2eca1893ac94>\", line 4, in <module>\n",
      "ZeroDivisionError: float division\n"
     ]
    },
    {
     "ename": "ZeroDivisionError",
     "evalue": "float division",
     "output_type": "error",
     "traceback": [
      "\u001b[1;31m---------------------------------------------------------------------------\u001b[0m",
      "\u001b[1;31mZeroDivisionError\u001b[0m                         Traceback (most recent call last)",
      "\u001b[1;31mZeroDivisionError\u001b[0m: float division"
     ]
    },
    {
     "name": "stderr",
     "output_type": "stream",
     "text": [
      "Exception ignored in: 'MontyCarlo.tools.RITA.Interval._eval'\n",
      "Traceback (most recent call last):\n",
      "  File \"<ipython-input-254-2eca1893ac94>\", line 4, in <module>\n",
      "ZeroDivisionError: float division\n"
     ]
    },
    {
     "ename": "ZeroDivisionError",
     "evalue": "float division",
     "output_type": "error",
     "traceback": [
      "\u001b[1;31m---------------------------------------------------------------------------\u001b[0m",
      "\u001b[1;31mZeroDivisionError\u001b[0m                         Traceback (most recent call last)",
      "\u001b[1;31mZeroDivisionError\u001b[0m: float division"
     ]
    },
    {
     "name": "stderr",
     "output_type": "stream",
     "text": [
      "Exception ignored in: 'MontyCarlo.tools.RITA.Interval._eval'\n",
      "Traceback (most recent call last):\n",
      "  File \"<ipython-input-254-2eca1893ac94>\", line 4, in <module>\n",
      "ZeroDivisionError: float division\n"
     ]
    },
    {
     "ename": "ZeroDivisionError",
     "evalue": "float division",
     "output_type": "error",
     "traceback": [
      "\u001b[1;31m---------------------------------------------------------------------------\u001b[0m",
      "\u001b[1;31mZeroDivisionError\u001b[0m                         Traceback (most recent call last)",
      "\u001b[1;31mZeroDivisionError\u001b[0m: float division"
     ]
    },
    {
     "name": "stderr",
     "output_type": "stream",
     "text": [
      "Exception ignored in: 'MontyCarlo.tools.RITA.Interval._eval'\n",
      "Traceback (most recent call last):\n",
      "  File \"<ipython-input-254-2eca1893ac94>\", line 4, in <module>\n",
      "ZeroDivisionError: float division\n"
     ]
    },
    {
     "ename": "ZeroDivisionError",
     "evalue": "float division",
     "output_type": "error",
     "traceback": [
      "\u001b[1;31m---------------------------------------------------------------------------\u001b[0m",
      "\u001b[1;31mZeroDivisionError\u001b[0m                         Traceback (most recent call last)",
      "\u001b[1;31mZeroDivisionError\u001b[0m: float division"
     ]
    },
    {
     "name": "stderr",
     "output_type": "stream",
     "text": [
      "Exception ignored in: 'MontyCarlo.tools.RITA.Interval._eval'\n",
      "Traceback (most recent call last):\n",
      "  File \"<ipython-input-254-2eca1893ac94>\", line 4, in <module>\n",
      "ZeroDivisionError: float division\n"
     ]
    },
    {
     "ename": "ZeroDivisionError",
     "evalue": "float division",
     "output_type": "error",
     "traceback": [
      "\u001b[1;31m---------------------------------------------------------------------------\u001b[0m",
      "\u001b[1;31mZeroDivisionError\u001b[0m                         Traceback (most recent call last)",
      "\u001b[1;31mZeroDivisionError\u001b[0m: float division"
     ]
    },
    {
     "name": "stderr",
     "output_type": "stream",
     "text": [
      "Exception ignored in: 'MontyCarlo.tools.RITA.Interval._eval'\n",
      "Traceback (most recent call last):\n",
      "  File \"<ipython-input-254-2eca1893ac94>\", line 4, in <module>\n",
      "ZeroDivisionError: float division\n"
     ]
    },
    {
     "ename": "ZeroDivisionError",
     "evalue": "float division",
     "output_type": "error",
     "traceback": [
      "\u001b[1;31m---------------------------------------------------------------------------\u001b[0m",
      "\u001b[1;31mZeroDivisionError\u001b[0m                         Traceback (most recent call last)",
      "\u001b[1;31mZeroDivisionError\u001b[0m: float division"
     ]
    },
    {
     "name": "stderr",
     "output_type": "stream",
     "text": [
      "Exception ignored in: 'MontyCarlo.tools.RITA.Interval._eval'\n",
      "Traceback (most recent call last):\n",
      "  File \"<ipython-input-254-2eca1893ac94>\", line 4, in <module>\n",
      "ZeroDivisionError: float division\n"
     ]
    },
    {
     "ename": "ZeroDivisionError",
     "evalue": "float division",
     "output_type": "error",
     "traceback": [
      "\u001b[1;31m---------------------------------------------------------------------------\u001b[0m",
      "\u001b[1;31mZeroDivisionError\u001b[0m                         Traceback (most recent call last)",
      "\u001b[1;31mZeroDivisionError\u001b[0m: float division"
     ]
    },
    {
     "name": "stderr",
     "output_type": "stream",
     "text": [
      "Exception ignored in: 'MontyCarlo.tools.RITA.Interval._eval'\n",
      "Traceback (most recent call last):\n",
      "  File \"<ipython-input-254-2eca1893ac94>\", line 4, in <module>\n",
      "ZeroDivisionError: float division\n"
     ]
    },
    {
     "ename": "ZeroDivisionError",
     "evalue": "float division",
     "output_type": "error",
     "traceback": [
      "\u001b[1;31m---------------------------------------------------------------------------\u001b[0m",
      "\u001b[1;31mZeroDivisionError\u001b[0m                         Traceback (most recent call last)",
      "\u001b[1;31mZeroDivisionError\u001b[0m: float division"
     ]
    },
    {
     "name": "stderr",
     "output_type": "stream",
     "text": [
      "Exception ignored in: 'MontyCarlo.tools.RITA.Interval._eval'\n",
      "Traceback (most recent call last):\n",
      "  File \"<ipython-input-254-2eca1893ac94>\", line 4, in <module>\n",
      "ZeroDivisionError: float division\n"
     ]
    },
    {
     "ename": "ZeroDivisionError",
     "evalue": "float division",
     "output_type": "error",
     "traceback": [
      "\u001b[1;31m---------------------------------------------------------------------------\u001b[0m",
      "\u001b[1;31mZeroDivisionError\u001b[0m                         Traceback (most recent call last)",
      "\u001b[1;31mZeroDivisionError\u001b[0m: float division"
     ]
    },
    {
     "name": "stderr",
     "output_type": "stream",
     "text": [
      "Exception ignored in: 'MontyCarlo.tools.RITA.Interval._eval'\n",
      "Traceback (most recent call last):\n",
      "  File \"<ipython-input-254-2eca1893ac94>\", line 4, in <module>\n",
      "ZeroDivisionError: float division\n"
     ]
    },
    {
     "ename": "ZeroDivisionError",
     "evalue": "float division",
     "output_type": "error",
     "traceback": [
      "\u001b[1;31m---------------------------------------------------------------------------\u001b[0m",
      "\u001b[1;31mZeroDivisionError\u001b[0m                         Traceback (most recent call last)",
      "\u001b[1;31mZeroDivisionError\u001b[0m: float division"
     ]
    },
    {
     "name": "stderr",
     "output_type": "stream",
     "text": [
      "Exception ignored in: 'MontyCarlo.tools.RITA.Interval._eval'\n",
      "Traceback (most recent call last):\n",
      "  File \"<ipython-input-254-2eca1893ac94>\", line 4, in <module>\n",
      "ZeroDivisionError: float division\n"
     ]
    },
    {
     "ename": "ZeroDivisionError",
     "evalue": "float division",
     "output_type": "error",
     "traceback": [
      "\u001b[1;31m---------------------------------------------------------------------------\u001b[0m",
      "\u001b[1;31mZeroDivisionError\u001b[0m                         Traceback (most recent call last)",
      "\u001b[1;31mZeroDivisionError\u001b[0m: float division"
     ]
    },
    {
     "name": "stderr",
     "output_type": "stream",
     "text": [
      "Exception ignored in: 'MontyCarlo.tools.RITA.Interval._eval'\n",
      "Traceback (most recent call last):\n",
      "  File \"<ipython-input-254-2eca1893ac94>\", line 4, in <module>\n",
      "ZeroDivisionError: float division\n"
     ]
    },
    {
     "ename": "ZeroDivisionError",
     "evalue": "float division",
     "output_type": "error",
     "traceback": [
      "\u001b[1;31m---------------------------------------------------------------------------\u001b[0m",
      "\u001b[1;31mZeroDivisionError\u001b[0m                         Traceback (most recent call last)",
      "\u001b[1;31mZeroDivisionError\u001b[0m: float division"
     ]
    },
    {
     "name": "stderr",
     "output_type": "stream",
     "text": [
      "Exception ignored in: 'MontyCarlo.tools.RITA.Interval._eval'\n",
      "Traceback (most recent call last):\n",
      "  File \"<ipython-input-254-2eca1893ac94>\", line 4, in <module>\n",
      "ZeroDivisionError: float division\n"
     ]
    },
    {
     "ename": "ZeroDivisionError",
     "evalue": "float division",
     "output_type": "error",
     "traceback": [
      "\u001b[1;31m---------------------------------------------------------------------------\u001b[0m",
      "\u001b[1;31mZeroDivisionError\u001b[0m                         Traceback (most recent call last)",
      "\u001b[1;31mZeroDivisionError\u001b[0m: float division"
     ]
    },
    {
     "name": "stderr",
     "output_type": "stream",
     "text": [
      "Exception ignored in: 'MontyCarlo.tools.RITA.Interval._eval'\n",
      "Traceback (most recent call last):\n",
      "  File \"<ipython-input-254-2eca1893ac94>\", line 4, in <module>\n",
      "ZeroDivisionError: float division\n"
     ]
    },
    {
     "ename": "ZeroDivisionError",
     "evalue": "float division",
     "output_type": "error",
     "traceback": [
      "\u001b[1;31m---------------------------------------------------------------------------\u001b[0m",
      "\u001b[1;31mZeroDivisionError\u001b[0m                         Traceback (most recent call last)",
      "\u001b[1;31mZeroDivisionError\u001b[0m: float division"
     ]
    },
    {
     "name": "stderr",
     "output_type": "stream",
     "text": [
      "Exception ignored in: 'MontyCarlo.tools.RITA.Interval._eval'\n",
      "Traceback (most recent call last):\n",
      "  File \"<ipython-input-254-2eca1893ac94>\", line 4, in <module>\n",
      "ZeroDivisionError: float division\n"
     ]
    },
    {
     "ename": "ZeroDivisionError",
     "evalue": "float division",
     "output_type": "error",
     "traceback": [
      "\u001b[1;31m---------------------------------------------------------------------------\u001b[0m",
      "\u001b[1;31mZeroDivisionError\u001b[0m                         Traceback (most recent call last)",
      "\u001b[1;31mZeroDivisionError\u001b[0m: float division"
     ]
    },
    {
     "name": "stderr",
     "output_type": "stream",
     "text": [
      "Exception ignored in: 'MontyCarlo.tools.RITA.Interval._eval'\n",
      "Traceback (most recent call last):\n",
      "  File \"<ipython-input-254-2eca1893ac94>\", line 4, in <module>\n",
      "ZeroDivisionError: float division\n"
     ]
    },
    {
     "ename": "ZeroDivisionError",
     "evalue": "float division",
     "output_type": "error",
     "traceback": [
      "\u001b[1;31m---------------------------------------------------------------------------\u001b[0m",
      "\u001b[1;31mZeroDivisionError\u001b[0m                         Traceback (most recent call last)",
      "\u001b[1;31mZeroDivisionError\u001b[0m: float division"
     ]
    },
    {
     "name": "stderr",
     "output_type": "stream",
     "text": [
      "Exception ignored in: 'MontyCarlo.tools.RITA.Interval._eval'\n",
      "Traceback (most recent call last):\n",
      "  File \"<ipython-input-254-2eca1893ac94>\", line 4, in <module>\n",
      "ZeroDivisionError: float division\n"
     ]
    },
    {
     "ename": "ZeroDivisionError",
     "evalue": "float division",
     "output_type": "error",
     "traceback": [
      "\u001b[1;31m---------------------------------------------------------------------------\u001b[0m",
      "\u001b[1;31mZeroDivisionError\u001b[0m                         Traceback (most recent call last)",
      "\u001b[1;31mZeroDivisionError\u001b[0m: float division"
     ]
    },
    {
     "name": "stderr",
     "output_type": "stream",
     "text": [
      "Exception ignored in: 'MontyCarlo.tools.RITA.Interval._eval'\n",
      "Traceback (most recent call last):\n",
      "  File \"<ipython-input-254-2eca1893ac94>\", line 4, in <module>\n",
      "ZeroDivisionError: float division\n"
     ]
    },
    {
     "ename": "ZeroDivisionError",
     "evalue": "float division",
     "output_type": "error",
     "traceback": [
      "\u001b[1;31m---------------------------------------------------------------------------\u001b[0m",
      "\u001b[1;31mZeroDivisionError\u001b[0m                         Traceback (most recent call last)",
      "\u001b[1;31mZeroDivisionError\u001b[0m: float division"
     ]
    },
    {
     "name": "stderr",
     "output_type": "stream",
     "text": [
      "Exception ignored in: 'MontyCarlo.tools.RITA.Interval._eval'\n",
      "Traceback (most recent call last):\n",
      "  File \"<ipython-input-254-2eca1893ac94>\", line 4, in <module>\n",
      "ZeroDivisionError: float division\n"
     ]
    },
    {
     "ename": "ZeroDivisionError",
     "evalue": "float division",
     "output_type": "error",
     "traceback": [
      "\u001b[1;31m---------------------------------------------------------------------------\u001b[0m",
      "\u001b[1;31mZeroDivisionError\u001b[0m                         Traceback (most recent call last)",
      "\u001b[1;31mZeroDivisionError\u001b[0m: float division"
     ]
    },
    {
     "name": "stderr",
     "output_type": "stream",
     "text": [
      "Exception ignored in: 'MontyCarlo.tools.RITA.Interval._eval'\n",
      "Traceback (most recent call last):\n",
      "  File \"<ipython-input-254-2eca1893ac94>\", line 4, in <module>\n",
      "ZeroDivisionError: float division\n"
     ]
    },
    {
     "ename": "ZeroDivisionError",
     "evalue": "float division",
     "output_type": "error",
     "traceback": [
      "\u001b[1;31m---------------------------------------------------------------------------\u001b[0m",
      "\u001b[1;31mZeroDivisionError\u001b[0m                         Traceback (most recent call last)",
      "\u001b[1;31mZeroDivisionError\u001b[0m: float division"
     ]
    },
    {
     "name": "stderr",
     "output_type": "stream",
     "text": [
      "Exception ignored in: 'MontyCarlo.tools.RITA.Interval._eval'\n",
      "Traceback (most recent call last):\n",
      "  File \"<ipython-input-254-2eca1893ac94>\", line 4, in <module>\n",
      "ZeroDivisionError: float division\n"
     ]
    },
    {
     "ename": "ZeroDivisionError",
     "evalue": "float division",
     "output_type": "error",
     "traceback": [
      "\u001b[1;31m---------------------------------------------------------------------------\u001b[0m",
      "\u001b[1;31mZeroDivisionError\u001b[0m                         Traceback (most recent call last)",
      "\u001b[1;31mZeroDivisionError\u001b[0m: float division"
     ]
    },
    {
     "name": "stderr",
     "output_type": "stream",
     "text": [
      "Exception ignored in: 'MontyCarlo.tools.RITA.Interval._eval'\n",
      "Traceback (most recent call last):\n",
      "  File \"<ipython-input-254-2eca1893ac94>\", line 4, in <module>\n",
      "ZeroDivisionError: float division\n"
     ]
    },
    {
     "ename": "ZeroDivisionError",
     "evalue": "float division",
     "output_type": "error",
     "traceback": [
      "\u001b[1;31m---------------------------------------------------------------------------\u001b[0m",
      "\u001b[1;31mZeroDivisionError\u001b[0m                         Traceback (most recent call last)",
      "\u001b[1;31mZeroDivisionError\u001b[0m: float division"
     ]
    },
    {
     "name": "stderr",
     "output_type": "stream",
     "text": [
      "Exception ignored in: 'MontyCarlo.tools.RITA.Interval._eval'\n",
      "Traceback (most recent call last):\n",
      "  File \"<ipython-input-254-2eca1893ac94>\", line 4, in <module>\n",
      "ZeroDivisionError: float division\n"
     ]
    },
    {
     "ename": "ZeroDivisionError",
     "evalue": "float division",
     "output_type": "error",
     "traceback": [
      "\u001b[1;31m---------------------------------------------------------------------------\u001b[0m",
      "\u001b[1;31mZeroDivisionError\u001b[0m                         Traceback (most recent call last)",
      "\u001b[1;31mZeroDivisionError\u001b[0m: float division"
     ]
    },
    {
     "name": "stderr",
     "output_type": "stream",
     "text": [
      "Exception ignored in: 'MontyCarlo.tools.RITA.Interval._eval'\n",
      "Traceback (most recent call last):\n",
      "  File \"<ipython-input-254-2eca1893ac94>\", line 4, in <module>\n",
      "ZeroDivisionError: float division\n"
     ]
    },
    {
     "ename": "ZeroDivisionError",
     "evalue": "float division",
     "output_type": "error",
     "traceback": [
      "\u001b[1;31m---------------------------------------------------------------------------\u001b[0m",
      "\u001b[1;31mZeroDivisionError\u001b[0m                         Traceback (most recent call last)",
      "\u001b[1;31mZeroDivisionError\u001b[0m: float division"
     ]
    },
    {
     "name": "stderr",
     "output_type": "stream",
     "text": [
      "Exception ignored in: 'MontyCarlo.tools.RITA.Interval._eval'\n",
      "Traceback (most recent call last):\n",
      "  File \"<ipython-input-254-2eca1893ac94>\", line 4, in <module>\n",
      "ZeroDivisionError: float division\n"
     ]
    },
    {
     "ename": "ZeroDivisionError",
     "evalue": "float division",
     "output_type": "error",
     "traceback": [
      "\u001b[1;31m---------------------------------------------------------------------------\u001b[0m",
      "\u001b[1;31mZeroDivisionError\u001b[0m                         Traceback (most recent call last)",
      "\u001b[1;31mZeroDivisionError\u001b[0m: float division"
     ]
    },
    {
     "name": "stderr",
     "output_type": "stream",
     "text": [
      "Exception ignored in: 'MontyCarlo.tools.RITA.Interval._eval'\n",
      "Traceback (most recent call last):\n",
      "  File \"<ipython-input-254-2eca1893ac94>\", line 4, in <module>\n",
      "ZeroDivisionError: float division\n"
     ]
    },
    {
     "ename": "ZeroDivisionError",
     "evalue": "float division",
     "output_type": "error",
     "traceback": [
      "\u001b[1;31m---------------------------------------------------------------------------\u001b[0m",
      "\u001b[1;31mZeroDivisionError\u001b[0m                         Traceback (most recent call last)",
      "\u001b[1;31mZeroDivisionError\u001b[0m: float division"
     ]
    },
    {
     "name": "stderr",
     "output_type": "stream",
     "text": [
      "Exception ignored in: 'MontyCarlo.tools.RITA.Interval._eval'\n",
      "Traceback (most recent call last):\n",
      "  File \"<ipython-input-254-2eca1893ac94>\", line 4, in <module>\n",
      "ZeroDivisionError: float division\n"
     ]
    },
    {
     "ename": "ZeroDivisionError",
     "evalue": "float division",
     "output_type": "error",
     "traceback": [
      "\u001b[1;31m---------------------------------------------------------------------------\u001b[0m",
      "\u001b[1;31mZeroDivisionError\u001b[0m                         Traceback (most recent call last)",
      "\u001b[1;31mZeroDivisionError\u001b[0m: float division"
     ]
    },
    {
     "name": "stderr",
     "output_type": "stream",
     "text": [
      "Exception ignored in: 'MontyCarlo.tools.RITA.Interval._eval'\n",
      "Traceback (most recent call last):\n",
      "  File \"<ipython-input-254-2eca1893ac94>\", line 4, in <module>\n",
      "ZeroDivisionError: float division\n"
     ]
    },
    {
     "ename": "ZeroDivisionError",
     "evalue": "float division",
     "output_type": "error",
     "traceback": [
      "\u001b[1;31m---------------------------------------------------------------------------\u001b[0m",
      "\u001b[1;31mZeroDivisionError\u001b[0m                         Traceback (most recent call last)",
      "\u001b[1;31mZeroDivisionError\u001b[0m: float division"
     ]
    },
    {
     "name": "stderr",
     "output_type": "stream",
     "text": [
      "Exception ignored in: 'MontyCarlo.tools.RITA.Interval._eval'\n",
      "Traceback (most recent call last):\n",
      "  File \"<ipython-input-254-2eca1893ac94>\", line 4, in <module>\n",
      "ZeroDivisionError: float division\n"
     ]
    },
    {
     "ename": "ZeroDivisionError",
     "evalue": "float division",
     "output_type": "error",
     "traceback": [
      "\u001b[1;31m---------------------------------------------------------------------------\u001b[0m",
      "\u001b[1;31mZeroDivisionError\u001b[0m                         Traceback (most recent call last)",
      "\u001b[1;31mZeroDivisionError\u001b[0m: float division"
     ]
    },
    {
     "name": "stderr",
     "output_type": "stream",
     "text": [
      "Exception ignored in: 'MontyCarlo.tools.RITA.Interval._eval'\n",
      "Traceback (most recent call last):\n",
      "  File \"<ipython-input-254-2eca1893ac94>\", line 4, in <module>\n",
      "ZeroDivisionError: float division\n"
     ]
    },
    {
     "ename": "ZeroDivisionError",
     "evalue": "float division",
     "output_type": "error",
     "traceback": [
      "\u001b[1;31m---------------------------------------------------------------------------\u001b[0m",
      "\u001b[1;31mZeroDivisionError\u001b[0m                         Traceback (most recent call last)",
      "\u001b[1;31mZeroDivisionError\u001b[0m: float division"
     ]
    },
    {
     "name": "stderr",
     "output_type": "stream",
     "text": [
      "Exception ignored in: 'MontyCarlo.tools.RITA.Interval._eval'\n",
      "Traceback (most recent call last):\n",
      "  File \"<ipython-input-254-2eca1893ac94>\", line 4, in <module>\n",
      "ZeroDivisionError: float division\n"
     ]
    },
    {
     "ename": "ZeroDivisionError",
     "evalue": "float division",
     "output_type": "error",
     "traceback": [
      "\u001b[1;31m---------------------------------------------------------------------------\u001b[0m",
      "\u001b[1;31mZeroDivisionError\u001b[0m                         Traceback (most recent call last)",
      "\u001b[1;31mZeroDivisionError\u001b[0m: float division"
     ]
    },
    {
     "name": "stderr",
     "output_type": "stream",
     "text": [
      "Exception ignored in: 'MontyCarlo.tools.RITA.Interval._eval'\n",
      "Traceback (most recent call last):\n",
      "  File \"<ipython-input-254-2eca1893ac94>\", line 4, in <module>\n",
      "ZeroDivisionError: float division\n"
     ]
    },
    {
     "ename": "ZeroDivisionError",
     "evalue": "float division",
     "output_type": "error",
     "traceback": [
      "\u001b[1;31m---------------------------------------------------------------------------\u001b[0m",
      "\u001b[1;31mZeroDivisionError\u001b[0m                         Traceback (most recent call last)",
      "\u001b[1;31mZeroDivisionError\u001b[0m: float division"
     ]
    },
    {
     "name": "stderr",
     "output_type": "stream",
     "text": [
      "Exception ignored in: 'MontyCarlo.tools.RITA.Interval._eval'\n",
      "Traceback (most recent call last):\n",
      "  File \"<ipython-input-254-2eca1893ac94>\", line 4, in <module>\n",
      "ZeroDivisionError: float division\n"
     ]
    },
    {
     "ename": "ZeroDivisionError",
     "evalue": "float division",
     "output_type": "error",
     "traceback": [
      "\u001b[1;31m---------------------------------------------------------------------------\u001b[0m",
      "\u001b[1;31mZeroDivisionError\u001b[0m                         Traceback (most recent call last)",
      "\u001b[1;31mZeroDivisionError\u001b[0m: float division"
     ]
    },
    {
     "name": "stderr",
     "output_type": "stream",
     "text": [
      "Exception ignored in: 'MontyCarlo.tools.RITA.Interval._eval'\n",
      "Traceback (most recent call last):\n",
      "  File \"<ipython-input-254-2eca1893ac94>\", line 4, in <module>\n",
      "ZeroDivisionError: float division\n"
     ]
    },
    {
     "ename": "ZeroDivisionError",
     "evalue": "float division",
     "output_type": "error",
     "traceback": [
      "\u001b[1;31m---------------------------------------------------------------------------\u001b[0m",
      "\u001b[1;31mZeroDivisionError\u001b[0m                         Traceback (most recent call last)",
      "\u001b[1;31mZeroDivisionError\u001b[0m: float division"
     ]
    },
    {
     "name": "stderr",
     "output_type": "stream",
     "text": [
      "Exception ignored in: 'MontyCarlo.tools.RITA.Interval._eval'\n",
      "Traceback (most recent call last):\n",
      "  File \"<ipython-input-254-2eca1893ac94>\", line 4, in <module>\n",
      "ZeroDivisionError: float division\n"
     ]
    },
    {
     "ename": "ZeroDivisionError",
     "evalue": "float division",
     "output_type": "error",
     "traceback": [
      "\u001b[1;31m---------------------------------------------------------------------------\u001b[0m",
      "\u001b[1;31mZeroDivisionError\u001b[0m                         Traceback (most recent call last)",
      "\u001b[1;31mZeroDivisionError\u001b[0m: float division"
     ]
    },
    {
     "name": "stderr",
     "output_type": "stream",
     "text": [
      "Exception ignored in: 'MontyCarlo.tools.RITA.Interval._eval'\n",
      "Traceback (most recent call last):\n",
      "  File \"<ipython-input-254-2eca1893ac94>\", line 4, in <module>\n",
      "ZeroDivisionError: float division\n"
     ]
    },
    {
     "ename": "ZeroDivisionError",
     "evalue": "float division",
     "output_type": "error",
     "traceback": [
      "\u001b[1;31m---------------------------------------------------------------------------\u001b[0m",
      "\u001b[1;31mZeroDivisionError\u001b[0m                         Traceback (most recent call last)",
      "\u001b[1;31mZeroDivisionError\u001b[0m: float division"
     ]
    },
    {
     "name": "stderr",
     "output_type": "stream",
     "text": [
      "Exception ignored in: 'MontyCarlo.tools.RITA.Interval._eval'\n",
      "Traceback (most recent call last):\n",
      "  File \"<ipython-input-254-2eca1893ac94>\", line 4, in <module>\n",
      "ZeroDivisionError: float division\n"
     ]
    },
    {
     "ename": "ZeroDivisionError",
     "evalue": "float division",
     "output_type": "error",
     "traceback": [
      "\u001b[1;31m---------------------------------------------------------------------------\u001b[0m",
      "\u001b[1;31mZeroDivisionError\u001b[0m                         Traceback (most recent call last)",
      "\u001b[1;31mZeroDivisionError\u001b[0m: float division"
     ]
    },
    {
     "name": "stderr",
     "output_type": "stream",
     "text": [
      "Exception ignored in: 'MontyCarlo.tools.RITA.Interval._eval'\n",
      "Traceback (most recent call last):\n",
      "  File \"<ipython-input-254-2eca1893ac94>\", line 4, in <module>\n",
      "ZeroDivisionError: float division\n"
     ]
    },
    {
     "ename": "ZeroDivisionError",
     "evalue": "float division",
     "output_type": "error",
     "traceback": [
      "\u001b[1;31m---------------------------------------------------------------------------\u001b[0m",
      "\u001b[1;31mZeroDivisionError\u001b[0m                         Traceback (most recent call last)",
      "\u001b[1;31mZeroDivisionError\u001b[0m: float division"
     ]
    },
    {
     "name": "stderr",
     "output_type": "stream",
     "text": [
      "Exception ignored in: 'MontyCarlo.tools.RITA.Interval._eval'\n",
      "Traceback (most recent call last):\n",
      "  File \"<ipython-input-254-2eca1893ac94>\", line 4, in <module>\n",
      "ZeroDivisionError: float division\n"
     ]
    },
    {
     "ename": "ZeroDivisionError",
     "evalue": "float division",
     "output_type": "error",
     "traceback": [
      "\u001b[1;31m---------------------------------------------------------------------------\u001b[0m",
      "\u001b[1;31mZeroDivisionError\u001b[0m                         Traceback (most recent call last)",
      "\u001b[1;31mZeroDivisionError\u001b[0m: float division"
     ]
    },
    {
     "name": "stderr",
     "output_type": "stream",
     "text": [
      "Exception ignored in: 'MontyCarlo.tools.RITA.Interval._eval'\n",
      "Traceback (most recent call last):\n",
      "  File \"<ipython-input-254-2eca1893ac94>\", line 4, in <module>\n",
      "ZeroDivisionError: float division\n"
     ]
    },
    {
     "ename": "ZeroDivisionError",
     "evalue": "float division",
     "output_type": "error",
     "traceback": [
      "\u001b[1;31m---------------------------------------------------------------------------\u001b[0m",
      "\u001b[1;31mZeroDivisionError\u001b[0m                         Traceback (most recent call last)",
      "\u001b[1;31mZeroDivisionError\u001b[0m: float division"
     ]
    },
    {
     "name": "stderr",
     "output_type": "stream",
     "text": [
      "Exception ignored in: 'MontyCarlo.tools.RITA.Interval._eval'\n",
      "Traceback (most recent call last):\n",
      "  File \"<ipython-input-254-2eca1893ac94>\", line 4, in <module>\n",
      "ZeroDivisionError: float division\n"
     ]
    },
    {
     "ename": "ZeroDivisionError",
     "evalue": "float division",
     "output_type": "error",
     "traceback": [
      "\u001b[1;31m---------------------------------------------------------------------------\u001b[0m",
      "\u001b[1;31mZeroDivisionError\u001b[0m                         Traceback (most recent call last)",
      "\u001b[1;31mZeroDivisionError\u001b[0m: float division"
     ]
    },
    {
     "name": "stderr",
     "output_type": "stream",
     "text": [
      "Exception ignored in: 'MontyCarlo.tools.RITA.Interval._eval'\n",
      "Traceback (most recent call last):\n",
      "  File \"<ipython-input-254-2eca1893ac94>\", line 4, in <module>\n",
      "ZeroDivisionError: float division\n"
     ]
    },
    {
     "ename": "ZeroDivisionError",
     "evalue": "float division",
     "output_type": "error",
     "traceback": [
      "\u001b[1;31m---------------------------------------------------------------------------\u001b[0m",
      "\u001b[1;31mZeroDivisionError\u001b[0m                         Traceback (most recent call last)",
      "\u001b[1;31mZeroDivisionError\u001b[0m: float division"
     ]
    },
    {
     "name": "stderr",
     "output_type": "stream",
     "text": [
      "Exception ignored in: 'MontyCarlo.tools.RITA.Interval._eval'\n",
      "Traceback (most recent call last):\n",
      "  File \"<ipython-input-254-2eca1893ac94>\", line 4, in <module>\n",
      "ZeroDivisionError: float division\n"
     ]
    },
    {
     "ename": "ZeroDivisionError",
     "evalue": "float division",
     "output_type": "error",
     "traceback": [
      "\u001b[1;31m---------------------------------------------------------------------------\u001b[0m",
      "\u001b[1;31mZeroDivisionError\u001b[0m                         Traceback (most recent call last)",
      "\u001b[1;31mZeroDivisionError\u001b[0m: float division"
     ]
    },
    {
     "name": "stderr",
     "output_type": "stream",
     "text": [
      "Exception ignored in: 'MontyCarlo.tools.RITA.Interval._eval'\n",
      "Traceback (most recent call last):\n",
      "  File \"<ipython-input-254-2eca1893ac94>\", line 4, in <module>\n",
      "ZeroDivisionError: float division\n"
     ]
    },
    {
     "ename": "ZeroDivisionError",
     "evalue": "float division",
     "output_type": "error",
     "traceback": [
      "\u001b[1;31m---------------------------------------------------------------------------\u001b[0m",
      "\u001b[1;31mZeroDivisionError\u001b[0m                         Traceback (most recent call last)",
      "\u001b[1;31mZeroDivisionError\u001b[0m: float division"
     ]
    },
    {
     "name": "stderr",
     "output_type": "stream",
     "text": [
      "Exception ignored in: 'MontyCarlo.tools.RITA.Interval._eval'\n",
      "Traceback (most recent call last):\n",
      "  File \"<ipython-input-254-2eca1893ac94>\", line 4, in <module>\n",
      "ZeroDivisionError: float division\n"
     ]
    },
    {
     "ename": "ZeroDivisionError",
     "evalue": "float division",
     "output_type": "error",
     "traceback": [
      "\u001b[1;31m---------------------------------------------------------------------------\u001b[0m",
      "\u001b[1;31mZeroDivisionError\u001b[0m                         Traceback (most recent call last)",
      "\u001b[1;31mZeroDivisionError\u001b[0m: float division"
     ]
    },
    {
     "name": "stderr",
     "output_type": "stream",
     "text": [
      "Exception ignored in: 'MontyCarlo.tools.RITA.Interval._eval'\n",
      "Traceback (most recent call last):\n",
      "  File \"<ipython-input-254-2eca1893ac94>\", line 4, in <module>\n",
      "ZeroDivisionError: float division\n"
     ]
    },
    {
     "ename": "ZeroDivisionError",
     "evalue": "float division",
     "output_type": "error",
     "traceback": [
      "\u001b[1;31m---------------------------------------------------------------------------\u001b[0m",
      "\u001b[1;31mZeroDivisionError\u001b[0m                         Traceback (most recent call last)",
      "\u001b[1;31mZeroDivisionError\u001b[0m: float division"
     ]
    },
    {
     "name": "stderr",
     "output_type": "stream",
     "text": [
      "Exception ignored in: 'MontyCarlo.tools.RITA.Interval._eval'\n",
      "Traceback (most recent call last):\n",
      "  File \"<ipython-input-254-2eca1893ac94>\", line 4, in <module>\n",
      "ZeroDivisionError: float division\n"
     ]
    },
    {
     "ename": "ZeroDivisionError",
     "evalue": "float division",
     "output_type": "error",
     "traceback": [
      "\u001b[1;31m---------------------------------------------------------------------------\u001b[0m",
      "\u001b[1;31mZeroDivisionError\u001b[0m                         Traceback (most recent call last)",
      "\u001b[1;31mZeroDivisionError\u001b[0m: float division"
     ]
    },
    {
     "name": "stderr",
     "output_type": "stream",
     "text": [
      "Exception ignored in: 'MontyCarlo.tools.RITA.Interval._eval'\n",
      "Traceback (most recent call last):\n",
      "  File \"<ipython-input-254-2eca1893ac94>\", line 4, in <module>\n",
      "ZeroDivisionError: float division\n"
     ]
    },
    {
     "ename": "ZeroDivisionError",
     "evalue": "float division",
     "output_type": "error",
     "traceback": [
      "\u001b[1;31m---------------------------------------------------------------------------\u001b[0m",
      "\u001b[1;31mZeroDivisionError\u001b[0m                         Traceback (most recent call last)",
      "\u001b[1;31mZeroDivisionError\u001b[0m: float division"
     ]
    },
    {
     "name": "stderr",
     "output_type": "stream",
     "text": [
      "Exception ignored in: 'MontyCarlo.tools.RITA.Interval._eval'\n",
      "Traceback (most recent call last):\n",
      "  File \"<ipython-input-254-2eca1893ac94>\", line 4, in <module>\n",
      "ZeroDivisionError: float division\n"
     ]
    },
    {
     "ename": "ZeroDivisionError",
     "evalue": "float division",
     "output_type": "error",
     "traceback": [
      "\u001b[1;31m---------------------------------------------------------------------------\u001b[0m",
      "\u001b[1;31mZeroDivisionError\u001b[0m                         Traceback (most recent call last)",
      "\u001b[1;31mZeroDivisionError\u001b[0m: float division"
     ]
    },
    {
     "name": "stderr",
     "output_type": "stream",
     "text": [
      "Exception ignored in: 'MontyCarlo.tools.RITA.Interval._eval'\n",
      "Traceback (most recent call last):\n",
      "  File \"<ipython-input-254-2eca1893ac94>\", line 4, in <module>\n",
      "ZeroDivisionError: float division\n"
     ]
    },
    {
     "ename": "ZeroDivisionError",
     "evalue": "float division",
     "output_type": "error",
     "traceback": [
      "\u001b[1;31m---------------------------------------------------------------------------\u001b[0m",
      "\u001b[1;31mZeroDivisionError\u001b[0m                         Traceback (most recent call last)",
      "\u001b[1;31mZeroDivisionError\u001b[0m: float division"
     ]
    },
    {
     "name": "stderr",
     "output_type": "stream",
     "text": [
      "Exception ignored in: 'MontyCarlo.tools.RITA.Interval._eval'\n",
      "Traceback (most recent call last):\n",
      "  File \"<ipython-input-254-2eca1893ac94>\", line 4, in <module>\n",
      "ZeroDivisionError: float division\n"
     ]
    },
    {
     "ename": "ZeroDivisionError",
     "evalue": "float division",
     "output_type": "error",
     "traceback": [
      "\u001b[1;31m---------------------------------------------------------------------------\u001b[0m",
      "\u001b[1;31mZeroDivisionError\u001b[0m                         Traceback (most recent call last)",
      "\u001b[1;31mZeroDivisionError\u001b[0m: float division"
     ]
    },
    {
     "name": "stderr",
     "output_type": "stream",
     "text": [
      "Exception ignored in: 'MontyCarlo.tools.RITA.Interval._eval'\n",
      "Traceback (most recent call last):\n",
      "  File \"<ipython-input-254-2eca1893ac94>\", line 4, in <module>\n",
      "ZeroDivisionError: float division\n"
     ]
    },
    {
     "ename": "ZeroDivisionError",
     "evalue": "float division",
     "output_type": "error",
     "traceback": [
      "\u001b[1;31m---------------------------------------------------------------------------\u001b[0m",
      "\u001b[1;31mZeroDivisionError\u001b[0m                         Traceback (most recent call last)",
      "\u001b[1;31mZeroDivisionError\u001b[0m: float division"
     ]
    },
    {
     "name": "stderr",
     "output_type": "stream",
     "text": [
      "Exception ignored in: 'MontyCarlo.tools.RITA.Interval._eval'\n",
      "Traceback (most recent call last):\n",
      "  File \"<ipython-input-254-2eca1893ac94>\", line 4, in <module>\n",
      "ZeroDivisionError: float division\n"
     ]
    },
    {
     "ename": "ZeroDivisionError",
     "evalue": "float division",
     "output_type": "error",
     "traceback": [
      "\u001b[1;31m---------------------------------------------------------------------------\u001b[0m",
      "\u001b[1;31mZeroDivisionError\u001b[0m                         Traceback (most recent call last)",
      "\u001b[1;31mZeroDivisionError\u001b[0m: float division"
     ]
    },
    {
     "name": "stderr",
     "output_type": "stream",
     "text": [
      "Exception ignored in: 'MontyCarlo.tools.RITA.Interval._eval'\n",
      "Traceback (most recent call last):\n",
      "  File \"<ipython-input-254-2eca1893ac94>\", line 4, in <module>\n",
      "ZeroDivisionError: float division\n"
     ]
    },
    {
     "ename": "ZeroDivisionError",
     "evalue": "float division",
     "output_type": "error",
     "traceback": [
      "\u001b[1;31m---------------------------------------------------------------------------\u001b[0m",
      "\u001b[1;31mZeroDivisionError\u001b[0m                         Traceback (most recent call last)",
      "\u001b[1;31mZeroDivisionError\u001b[0m: float division"
     ]
    },
    {
     "name": "stderr",
     "output_type": "stream",
     "text": [
      "Exception ignored in: 'MontyCarlo.tools.RITA.Interval._eval'\n",
      "Traceback (most recent call last):\n",
      "  File \"<ipython-input-254-2eca1893ac94>\", line 4, in <module>\n",
      "ZeroDivisionError: float division\n"
     ]
    },
    {
     "ename": "ZeroDivisionError",
     "evalue": "float division",
     "output_type": "error",
     "traceback": [
      "\u001b[1;31m---------------------------------------------------------------------------\u001b[0m",
      "\u001b[1;31mZeroDivisionError\u001b[0m                         Traceback (most recent call last)",
      "\u001b[1;31mZeroDivisionError\u001b[0m: float division"
     ]
    },
    {
     "name": "stderr",
     "output_type": "stream",
     "text": [
      "Exception ignored in: 'MontyCarlo.tools.RITA.Interval._eval'\n",
      "Traceback (most recent call last):\n",
      "  File \"<ipython-input-254-2eca1893ac94>\", line 4, in <module>\n",
      "ZeroDivisionError: float division\n"
     ]
    },
    {
     "ename": "ZeroDivisionError",
     "evalue": "float division",
     "output_type": "error",
     "traceback": [
      "\u001b[1;31m---------------------------------------------------------------------------\u001b[0m",
      "\u001b[1;31mZeroDivisionError\u001b[0m                         Traceback (most recent call last)",
      "\u001b[1;31mZeroDivisionError\u001b[0m: float division"
     ]
    },
    {
     "name": "stderr",
     "output_type": "stream",
     "text": [
      "Exception ignored in: 'MontyCarlo.tools.RITA.Interval._eval'\n",
      "Traceback (most recent call last):\n",
      "  File \"<ipython-input-254-2eca1893ac94>\", line 4, in <module>\n",
      "ZeroDivisionError: float division\n"
     ]
    },
    {
     "ename": "ZeroDivisionError",
     "evalue": "float division",
     "output_type": "error",
     "traceback": [
      "\u001b[1;31m---------------------------------------------------------------------------\u001b[0m",
      "\u001b[1;31mZeroDivisionError\u001b[0m                         Traceback (most recent call last)",
      "\u001b[1;31mZeroDivisionError\u001b[0m: float division"
     ]
    },
    {
     "name": "stderr",
     "output_type": "stream",
     "text": [
      "Exception ignored in: 'MontyCarlo.tools.RITA.Interval._eval'\n",
      "Traceback (most recent call last):\n",
      "  File \"<ipython-input-254-2eca1893ac94>\", line 4, in <module>\n",
      "ZeroDivisionError: float division\n"
     ]
    },
    {
     "ename": "ZeroDivisionError",
     "evalue": "float division",
     "output_type": "error",
     "traceback": [
      "\u001b[1;31m---------------------------------------------------------------------------\u001b[0m",
      "\u001b[1;31mZeroDivisionError\u001b[0m                         Traceback (most recent call last)",
      "\u001b[1;31mZeroDivisionError\u001b[0m: float division"
     ]
    },
    {
     "name": "stderr",
     "output_type": "stream",
     "text": [
      "Exception ignored in: 'MontyCarlo.tools.RITA.Interval._eval'\n",
      "Traceback (most recent call last):\n",
      "  File \"<ipython-input-254-2eca1893ac94>\", line 4, in <module>\n",
      "ZeroDivisionError: float division\n"
     ]
    },
    {
     "ename": "ZeroDivisionError",
     "evalue": "float division",
     "output_type": "error",
     "traceback": [
      "\u001b[1;31m---------------------------------------------------------------------------\u001b[0m",
      "\u001b[1;31mZeroDivisionError\u001b[0m                         Traceback (most recent call last)",
      "\u001b[1;31mZeroDivisionError\u001b[0m: float division"
     ]
    },
    {
     "name": "stderr",
     "output_type": "stream",
     "text": [
      "Exception ignored in: 'MontyCarlo.tools.RITA.Interval._eval'\n",
      "Traceback (most recent call last):\n",
      "  File \"<ipython-input-254-2eca1893ac94>\", line 4, in <module>\n",
      "ZeroDivisionError: float division\n"
     ]
    },
    {
     "ename": "ZeroDivisionError",
     "evalue": "float division",
     "output_type": "error",
     "traceback": [
      "\u001b[1;31m---------------------------------------------------------------------------\u001b[0m",
      "\u001b[1;31mZeroDivisionError\u001b[0m                         Traceback (most recent call last)",
      "\u001b[1;31mZeroDivisionError\u001b[0m: float division"
     ]
    },
    {
     "name": "stderr",
     "output_type": "stream",
     "text": [
      "Exception ignored in: 'MontyCarlo.tools.RITA.Interval._eval'\n",
      "Traceback (most recent call last):\n",
      "  File \"<ipython-input-254-2eca1893ac94>\", line 4, in <module>\n",
      "ZeroDivisionError: float division\n"
     ]
    },
    {
     "ename": "ZeroDivisionError",
     "evalue": "float division",
     "output_type": "error",
     "traceback": [
      "\u001b[1;31m---------------------------------------------------------------------------\u001b[0m",
      "\u001b[1;31mZeroDivisionError\u001b[0m                         Traceback (most recent call last)",
      "\u001b[1;31mZeroDivisionError\u001b[0m: float division"
     ]
    },
    {
     "name": "stderr",
     "output_type": "stream",
     "text": [
      "Exception ignored in: 'MontyCarlo.tools.RITA.Interval._eval'\n",
      "Traceback (most recent call last):\n",
      "  File \"<ipython-input-254-2eca1893ac94>\", line 4, in <module>\n",
      "ZeroDivisionError: float division\n"
     ]
    },
    {
     "ename": "ZeroDivisionError",
     "evalue": "float division",
     "output_type": "error",
     "traceback": [
      "\u001b[1;31m---------------------------------------------------------------------------\u001b[0m",
      "\u001b[1;31mZeroDivisionError\u001b[0m                         Traceback (most recent call last)",
      "\u001b[1;31mZeroDivisionError\u001b[0m: float division"
     ]
    },
    {
     "name": "stderr",
     "output_type": "stream",
     "text": [
      "Exception ignored in: 'MontyCarlo.tools.RITA.Interval._eval'\n",
      "Traceback (most recent call last):\n",
      "  File \"<ipython-input-254-2eca1893ac94>\", line 4, in <module>\n",
      "ZeroDivisionError: float division\n"
     ]
    },
    {
     "ename": "ZeroDivisionError",
     "evalue": "float division",
     "output_type": "error",
     "traceback": [
      "\u001b[1;31m---------------------------------------------------------------------------\u001b[0m",
      "\u001b[1;31mZeroDivisionError\u001b[0m                         Traceback (most recent call last)",
      "\u001b[1;31mZeroDivisionError\u001b[0m: float division"
     ]
    },
    {
     "name": "stderr",
     "output_type": "stream",
     "text": [
      "Exception ignored in: 'MontyCarlo.tools.RITA.Interval._eval'\n",
      "Traceback (most recent call last):\n",
      "  File \"<ipython-input-254-2eca1893ac94>\", line 4, in <module>\n",
      "ZeroDivisionError: float division\n"
     ]
    },
    {
     "ename": "ZeroDivisionError",
     "evalue": "float division",
     "output_type": "error",
     "traceback": [
      "\u001b[1;31m---------------------------------------------------------------------------\u001b[0m",
      "\u001b[1;31mZeroDivisionError\u001b[0m                         Traceback (most recent call last)",
      "\u001b[1;31mZeroDivisionError\u001b[0m: float division"
     ]
    },
    {
     "name": "stderr",
     "output_type": "stream",
     "text": [
      "Exception ignored in: 'MontyCarlo.tools.RITA.Interval._eval'\n",
      "Traceback (most recent call last):\n",
      "  File \"<ipython-input-254-2eca1893ac94>\", line 4, in <module>\n",
      "ZeroDivisionError: float division\n"
     ]
    },
    {
     "ename": "ZeroDivisionError",
     "evalue": "float division",
     "output_type": "error",
     "traceback": [
      "\u001b[1;31m---------------------------------------------------------------------------\u001b[0m",
      "\u001b[1;31mZeroDivisionError\u001b[0m                         Traceback (most recent call last)",
      "\u001b[1;31mZeroDivisionError\u001b[0m: float division"
     ]
    },
    {
     "name": "stderr",
     "output_type": "stream",
     "text": [
      "Exception ignored in: 'MontyCarlo.tools.RITA.Interval._eval'\n",
      "Traceback (most recent call last):\n",
      "  File \"<ipython-input-254-2eca1893ac94>\", line 4, in <module>\n",
      "ZeroDivisionError: float division\n"
     ]
    },
    {
     "ename": "ZeroDivisionError",
     "evalue": "float division",
     "output_type": "error",
     "traceback": [
      "\u001b[1;31m---------------------------------------------------------------------------\u001b[0m",
      "\u001b[1;31mZeroDivisionError\u001b[0m                         Traceback (most recent call last)",
      "\u001b[1;31mZeroDivisionError\u001b[0m: float division"
     ]
    },
    {
     "name": "stderr",
     "output_type": "stream",
     "text": [
      "Exception ignored in: 'MontyCarlo.tools.RITA.Interval._eval'\n",
      "Traceback (most recent call last):\n",
      "  File \"<ipython-input-254-2eca1893ac94>\", line 4, in <module>\n",
      "ZeroDivisionError: float division\n"
     ]
    },
    {
     "ename": "ZeroDivisionError",
     "evalue": "float division",
     "output_type": "error",
     "traceback": [
      "\u001b[1;31m---------------------------------------------------------------------------\u001b[0m",
      "\u001b[1;31mZeroDivisionError\u001b[0m                         Traceback (most recent call last)",
      "\u001b[1;31mZeroDivisionError\u001b[0m: float division"
     ]
    },
    {
     "name": "stderr",
     "output_type": "stream",
     "text": [
      "Exception ignored in: 'MontyCarlo.tools.RITA.Interval._eval'\n",
      "Traceback (most recent call last):\n",
      "  File \"<ipython-input-254-2eca1893ac94>\", line 4, in <module>\n",
      "ZeroDivisionError: float division\n"
     ]
    },
    {
     "ename": "ZeroDivisionError",
     "evalue": "float division",
     "output_type": "error",
     "traceback": [
      "\u001b[1;31m---------------------------------------------------------------------------\u001b[0m",
      "\u001b[1;31mZeroDivisionError\u001b[0m                         Traceback (most recent call last)",
      "\u001b[1;31mZeroDivisionError\u001b[0m: float division"
     ]
    },
    {
     "name": "stderr",
     "output_type": "stream",
     "text": [
      "Exception ignored in: 'MontyCarlo.tools.RITA.Interval._eval'\n",
      "Traceback (most recent call last):\n",
      "  File \"<ipython-input-254-2eca1893ac94>\", line 4, in <module>\n",
      "ZeroDivisionError: float division\n"
     ]
    },
    {
     "ename": "ZeroDivisionError",
     "evalue": "float division",
     "output_type": "error",
     "traceback": [
      "\u001b[1;31m---------------------------------------------------------------------------\u001b[0m",
      "\u001b[1;31mZeroDivisionError\u001b[0m                         Traceback (most recent call last)",
      "\u001b[1;31mZeroDivisionError\u001b[0m: float division"
     ]
    },
    {
     "name": "stderr",
     "output_type": "stream",
     "text": [
      "Exception ignored in: 'MontyCarlo.tools.RITA.Interval._eval'\n",
      "Traceback (most recent call last):\n",
      "  File \"<ipython-input-254-2eca1893ac94>\", line 4, in <module>\n",
      "ZeroDivisionError: float division\n"
     ]
    },
    {
     "ename": "ZeroDivisionError",
     "evalue": "float division",
     "output_type": "error",
     "traceback": [
      "\u001b[1;31m---------------------------------------------------------------------------\u001b[0m",
      "\u001b[1;31mZeroDivisionError\u001b[0m                         Traceback (most recent call last)",
      "\u001b[1;31mZeroDivisionError\u001b[0m: float division"
     ]
    },
    {
     "name": "stderr",
     "output_type": "stream",
     "text": [
      "Exception ignored in: 'MontyCarlo.tools.RITA.Interval._eval'\n",
      "Traceback (most recent call last):\n",
      "  File \"<ipython-input-254-2eca1893ac94>\", line 4, in <module>\n",
      "ZeroDivisionError: float division\n"
     ]
    },
    {
     "ename": "ZeroDivisionError",
     "evalue": "float division",
     "output_type": "error",
     "traceback": [
      "\u001b[1;31m---------------------------------------------------------------------------\u001b[0m",
      "\u001b[1;31mZeroDivisionError\u001b[0m                         Traceback (most recent call last)",
      "\u001b[1;31mZeroDivisionError\u001b[0m: float division"
     ]
    },
    {
     "name": "stderr",
     "output_type": "stream",
     "text": [
      "Exception ignored in: 'MontyCarlo.tools.RITA.Interval._eval'\n",
      "Traceback (most recent call last):\n",
      "  File \"<ipython-input-254-2eca1893ac94>\", line 4, in <module>\n",
      "ZeroDivisionError: float division\n"
     ]
    },
    {
     "ename": "ZeroDivisionError",
     "evalue": "float division",
     "output_type": "error",
     "traceback": [
      "\u001b[1;31m---------------------------------------------------------------------------\u001b[0m",
      "\u001b[1;31mZeroDivisionError\u001b[0m                         Traceback (most recent call last)",
      "\u001b[1;31mZeroDivisionError\u001b[0m: float division"
     ]
    },
    {
     "name": "stderr",
     "output_type": "stream",
     "text": [
      "Exception ignored in: 'MontyCarlo.tools.RITA.Interval._eval'\n",
      "Traceback (most recent call last):\n",
      "  File \"<ipython-input-254-2eca1893ac94>\", line 4, in <module>\n",
      "ZeroDivisionError: float division\n"
     ]
    },
    {
     "ename": "ZeroDivisionError",
     "evalue": "float division",
     "output_type": "error",
     "traceback": [
      "\u001b[1;31m---------------------------------------------------------------------------\u001b[0m",
      "\u001b[1;31mZeroDivisionError\u001b[0m                         Traceback (most recent call last)",
      "\u001b[1;31mZeroDivisionError\u001b[0m: float division"
     ]
    },
    {
     "name": "stderr",
     "output_type": "stream",
     "text": [
      "Exception ignored in: 'MontyCarlo.tools.RITA.Interval._eval'\n",
      "Traceback (most recent call last):\n",
      "  File \"<ipython-input-254-2eca1893ac94>\", line 4, in <module>\n",
      "ZeroDivisionError: float division\n"
     ]
    },
    {
     "ename": "ZeroDivisionError",
     "evalue": "float division",
     "output_type": "error",
     "traceback": [
      "\u001b[1;31m---------------------------------------------------------------------------\u001b[0m",
      "\u001b[1;31mZeroDivisionError\u001b[0m                         Traceback (most recent call last)",
      "\u001b[1;31mZeroDivisionError\u001b[0m: float division"
     ]
    },
    {
     "name": "stderr",
     "output_type": "stream",
     "text": [
      "Exception ignored in: 'MontyCarlo.tools.RITA.Interval._eval'\n",
      "Traceback (most recent call last):\n",
      "  File \"<ipython-input-254-2eca1893ac94>\", line 4, in <module>\n",
      "ZeroDivisionError: float division\n"
     ]
    },
    {
     "ename": "ZeroDivisionError",
     "evalue": "float division",
     "output_type": "error",
     "traceback": [
      "\u001b[1;31m---------------------------------------------------------------------------\u001b[0m",
      "\u001b[1;31mZeroDivisionError\u001b[0m                         Traceback (most recent call last)",
      "\u001b[1;31mZeroDivisionError\u001b[0m: float division"
     ]
    },
    {
     "name": "stderr",
     "output_type": "stream",
     "text": [
      "Exception ignored in: 'MontyCarlo.tools.RITA.Interval._eval'\n",
      "Traceback (most recent call last):\n",
      "  File \"<ipython-input-254-2eca1893ac94>\", line 4, in <module>\n",
      "ZeroDivisionError: float division\n"
     ]
    },
    {
     "ename": "ZeroDivisionError",
     "evalue": "float division",
     "output_type": "error",
     "traceback": [
      "\u001b[1;31m---------------------------------------------------------------------------\u001b[0m",
      "\u001b[1;31mZeroDivisionError\u001b[0m                         Traceback (most recent call last)",
      "\u001b[1;31mZeroDivisionError\u001b[0m: float division"
     ]
    },
    {
     "name": "stderr",
     "output_type": "stream",
     "text": [
      "Exception ignored in: 'MontyCarlo.tools.RITA.Interval._eval'\n",
      "Traceback (most recent call last):\n",
      "  File \"<ipython-input-254-2eca1893ac94>\", line 4, in <module>\n",
      "ZeroDivisionError: float division\n"
     ]
    },
    {
     "ename": "ZeroDivisionError",
     "evalue": "float division",
     "output_type": "error",
     "traceback": [
      "\u001b[1;31m---------------------------------------------------------------------------\u001b[0m",
      "\u001b[1;31mZeroDivisionError\u001b[0m                         Traceback (most recent call last)",
      "\u001b[1;31mZeroDivisionError\u001b[0m: float division"
     ]
    },
    {
     "name": "stderr",
     "output_type": "stream",
     "text": [
      "Exception ignored in: 'MontyCarlo.tools.RITA.Interval._eval'\n",
      "Traceback (most recent call last):\n",
      "  File \"<ipython-input-254-2eca1893ac94>\", line 4, in <module>\n",
      "ZeroDivisionError: float division\n"
     ]
    },
    {
     "ename": "ZeroDivisionError",
     "evalue": "float division",
     "output_type": "error",
     "traceback": [
      "\u001b[1;31m---------------------------------------------------------------------------\u001b[0m",
      "\u001b[1;31mZeroDivisionError\u001b[0m                         Traceback (most recent call last)",
      "\u001b[1;31mZeroDivisionError\u001b[0m: float division"
     ]
    },
    {
     "name": "stderr",
     "output_type": "stream",
     "text": [
      "Exception ignored in: 'MontyCarlo.tools.RITA.Interval._eval'\n",
      "Traceback (most recent call last):\n",
      "  File \"<ipython-input-254-2eca1893ac94>\", line 4, in <module>\n",
      "ZeroDivisionError: float division\n"
     ]
    },
    {
     "ename": "ZeroDivisionError",
     "evalue": "float division",
     "output_type": "error",
     "traceback": [
      "\u001b[1;31m---------------------------------------------------------------------------\u001b[0m",
      "\u001b[1;31mZeroDivisionError\u001b[0m                         Traceback (most recent call last)",
      "\u001b[1;31mZeroDivisionError\u001b[0m: float division"
     ]
    },
    {
     "name": "stderr",
     "output_type": "stream",
     "text": [
      "Exception ignored in: 'MontyCarlo.tools.RITA.Interval._eval'\n",
      "Traceback (most recent call last):\n",
      "  File \"<ipython-input-254-2eca1893ac94>\", line 4, in <module>\n",
      "ZeroDivisionError: float division\n"
     ]
    },
    {
     "ename": "ZeroDivisionError",
     "evalue": "float division",
     "output_type": "error",
     "traceback": [
      "\u001b[1;31m---------------------------------------------------------------------------\u001b[0m",
      "\u001b[1;31mZeroDivisionError\u001b[0m                         Traceback (most recent call last)",
      "\u001b[1;31mZeroDivisionError\u001b[0m: float division"
     ]
    },
    {
     "name": "stderr",
     "output_type": "stream",
     "text": [
      "Exception ignored in: 'MontyCarlo.tools.RITA.Interval._eval'\n",
      "Traceback (most recent call last):\n",
      "  File \"<ipython-input-254-2eca1893ac94>\", line 4, in <module>\n",
      "ZeroDivisionError: float division\n"
     ]
    },
    {
     "ename": "ZeroDivisionError",
     "evalue": "float division",
     "output_type": "error",
     "traceback": [
      "\u001b[1;31m---------------------------------------------------------------------------\u001b[0m",
      "\u001b[1;31mZeroDivisionError\u001b[0m                         Traceback (most recent call last)",
      "\u001b[1;31mZeroDivisionError\u001b[0m: float division"
     ]
    },
    {
     "name": "stderr",
     "output_type": "stream",
     "text": [
      "Exception ignored in: 'MontyCarlo.tools.RITA.Interval._eval'\n",
      "Traceback (most recent call last):\n",
      "  File \"<ipython-input-254-2eca1893ac94>\", line 4, in <module>\n",
      "ZeroDivisionError: float division\n"
     ]
    },
    {
     "ename": "ZeroDivisionError",
     "evalue": "float division",
     "output_type": "error",
     "traceback": [
      "\u001b[1;31m---------------------------------------------------------------------------\u001b[0m",
      "\u001b[1;31mZeroDivisionError\u001b[0m                         Traceback (most recent call last)",
      "\u001b[1;31mZeroDivisionError\u001b[0m: float division"
     ]
    },
    {
     "name": "stderr",
     "output_type": "stream",
     "text": [
      "Exception ignored in: 'MontyCarlo.tools.RITA.Interval._eval'\n",
      "Traceback (most recent call last):\n",
      "  File \"<ipython-input-254-2eca1893ac94>\", line 4, in <module>\n",
      "ZeroDivisionError: float division\n"
     ]
    },
    {
     "ename": "ZeroDivisionError",
     "evalue": "float division",
     "output_type": "error",
     "traceback": [
      "\u001b[1;31m---------------------------------------------------------------------------\u001b[0m",
      "\u001b[1;31mZeroDivisionError\u001b[0m                         Traceback (most recent call last)",
      "\u001b[1;31mZeroDivisionError\u001b[0m: float division"
     ]
    },
    {
     "name": "stderr",
     "output_type": "stream",
     "text": [
      "Exception ignored in: 'MontyCarlo.tools.RITA.Interval._eval'\n",
      "Traceback (most recent call last):\n",
      "  File \"<ipython-input-254-2eca1893ac94>\", line 4, in <module>\n",
      "ZeroDivisionError: float division\n"
     ]
    },
    {
     "ename": "ZeroDivisionError",
     "evalue": "float division",
     "output_type": "error",
     "traceback": [
      "\u001b[1;31m---------------------------------------------------------------------------\u001b[0m",
      "\u001b[1;31mZeroDivisionError\u001b[0m                         Traceback (most recent call last)",
      "\u001b[1;31mZeroDivisionError\u001b[0m: float division"
     ]
    },
    {
     "name": "stderr",
     "output_type": "stream",
     "text": [
      "Exception ignored in: 'MontyCarlo.tools.RITA.Interval._eval'\n",
      "Traceback (most recent call last):\n",
      "  File \"<ipython-input-254-2eca1893ac94>\", line 4, in <module>\n",
      "ZeroDivisionError: float division\n"
     ]
    },
    {
     "ename": "ZeroDivisionError",
     "evalue": "float division",
     "output_type": "error",
     "traceback": [
      "\u001b[1;31m---------------------------------------------------------------------------\u001b[0m",
      "\u001b[1;31mZeroDivisionError\u001b[0m                         Traceback (most recent call last)",
      "\u001b[1;31mZeroDivisionError\u001b[0m: float division"
     ]
    },
    {
     "name": "stderr",
     "output_type": "stream",
     "text": [
      "Exception ignored in: 'MontyCarlo.tools.RITA.Interval._eval'\n",
      "Traceback (most recent call last):\n",
      "  File \"<ipython-input-254-2eca1893ac94>\", line 4, in <module>\n",
      "ZeroDivisionError: float division\n"
     ]
    },
    {
     "ename": "ZeroDivisionError",
     "evalue": "float division",
     "output_type": "error",
     "traceback": [
      "\u001b[1;31m---------------------------------------------------------------------------\u001b[0m",
      "\u001b[1;31mZeroDivisionError\u001b[0m                         Traceback (most recent call last)",
      "\u001b[1;31mZeroDivisionError\u001b[0m: float division"
     ]
    },
    {
     "name": "stderr",
     "output_type": "stream",
     "text": [
      "Exception ignored in: 'MontyCarlo.tools.RITA.Interval._eval'\n",
      "Traceback (most recent call last):\n",
      "  File \"<ipython-input-254-2eca1893ac94>\", line 4, in <module>\n",
      "ZeroDivisionError: float division\n"
     ]
    },
    {
     "ename": "ZeroDivisionError",
     "evalue": "float division",
     "output_type": "error",
     "traceback": [
      "\u001b[1;31m---------------------------------------------------------------------------\u001b[0m",
      "\u001b[1;31mZeroDivisionError\u001b[0m                         Traceback (most recent call last)",
      "\u001b[1;31mZeroDivisionError\u001b[0m: float division"
     ]
    },
    {
     "name": "stderr",
     "output_type": "stream",
     "text": [
      "Exception ignored in: 'MontyCarlo.tools.RITA.Interval._eval'\n",
      "Traceback (most recent call last):\n",
      "  File \"<ipython-input-254-2eca1893ac94>\", line 4, in <module>\n",
      "ZeroDivisionError: float division\n"
     ]
    },
    {
     "ename": "ZeroDivisionError",
     "evalue": "float division",
     "output_type": "error",
     "traceback": [
      "\u001b[1;31m---------------------------------------------------------------------------\u001b[0m",
      "\u001b[1;31mZeroDivisionError\u001b[0m                         Traceback (most recent call last)",
      "\u001b[1;31mZeroDivisionError\u001b[0m: float division"
     ]
    },
    {
     "name": "stderr",
     "output_type": "stream",
     "text": [
      "Exception ignored in: 'MontyCarlo.tools.RITA.Interval._eval'\n",
      "Traceback (most recent call last):\n",
      "  File \"<ipython-input-254-2eca1893ac94>\", line 4, in <module>\n",
      "ZeroDivisionError: float division\n"
     ]
    },
    {
     "ename": "ZeroDivisionError",
     "evalue": "float division",
     "output_type": "error",
     "traceback": [
      "\u001b[1;31m---------------------------------------------------------------------------\u001b[0m",
      "\u001b[1;31mZeroDivisionError\u001b[0m                         Traceback (most recent call last)",
      "\u001b[1;31mZeroDivisionError\u001b[0m: float division"
     ]
    },
    {
     "name": "stderr",
     "output_type": "stream",
     "text": [
      "Exception ignored in: 'MontyCarlo.tools.RITA.Interval._eval'\n",
      "Traceback (most recent call last):\n",
      "  File \"<ipython-input-254-2eca1893ac94>\", line 4, in <module>\n",
      "ZeroDivisionError: float division\n"
     ]
    },
    {
     "ename": "ZeroDivisionError",
     "evalue": "float division",
     "output_type": "error",
     "traceback": [
      "\u001b[1;31m---------------------------------------------------------------------------\u001b[0m",
      "\u001b[1;31mZeroDivisionError\u001b[0m                         Traceback (most recent call last)",
      "\u001b[1;31mZeroDivisionError\u001b[0m: float division"
     ]
    },
    {
     "name": "stderr",
     "output_type": "stream",
     "text": [
      "Exception ignored in: 'MontyCarlo.tools.RITA.Interval._eval'\n",
      "Traceback (most recent call last):\n",
      "  File \"<ipython-input-254-2eca1893ac94>\", line 4, in <module>\n",
      "ZeroDivisionError: float division\n"
     ]
    },
    {
     "ename": "ZeroDivisionError",
     "evalue": "float division",
     "output_type": "error",
     "traceback": [
      "\u001b[1;31m---------------------------------------------------------------------------\u001b[0m",
      "\u001b[1;31mZeroDivisionError\u001b[0m                         Traceback (most recent call last)",
      "\u001b[1;31mZeroDivisionError\u001b[0m: float division"
     ]
    },
    {
     "name": "stderr",
     "output_type": "stream",
     "text": [
      "Exception ignored in: 'MontyCarlo.tools.RITA.Interval._eval'\n",
      "Traceback (most recent call last):\n",
      "  File \"<ipython-input-254-2eca1893ac94>\", line 4, in <module>\n",
      "ZeroDivisionError: float division\n"
     ]
    },
    {
     "ename": "ZeroDivisionError",
     "evalue": "float division",
     "output_type": "error",
     "traceback": [
      "\u001b[1;31m---------------------------------------------------------------------------\u001b[0m",
      "\u001b[1;31mZeroDivisionError\u001b[0m                         Traceback (most recent call last)",
      "\u001b[1;31mZeroDivisionError\u001b[0m: float division"
     ]
    },
    {
     "name": "stderr",
     "output_type": "stream",
     "text": [
      "Exception ignored in: 'MontyCarlo.tools.RITA.Interval._eval'\n",
      "Traceback (most recent call last):\n",
      "  File \"<ipython-input-254-2eca1893ac94>\", line 4, in <module>\n",
      "ZeroDivisionError: float division\n"
     ]
    },
    {
     "ename": "ZeroDivisionError",
     "evalue": "float division",
     "output_type": "error",
     "traceback": [
      "\u001b[1;31m---------------------------------------------------------------------------\u001b[0m",
      "\u001b[1;31mZeroDivisionError\u001b[0m                         Traceback (most recent call last)",
      "\u001b[1;31mZeroDivisionError\u001b[0m: float division"
     ]
    },
    {
     "name": "stderr",
     "output_type": "stream",
     "text": [
      "Exception ignored in: 'MontyCarlo.tools.RITA.Interval._eval'\n",
      "Traceback (most recent call last):\n",
      "  File \"<ipython-input-254-2eca1893ac94>\", line 4, in <module>\n",
      "ZeroDivisionError: float division\n"
     ]
    },
    {
     "ename": "ZeroDivisionError",
     "evalue": "float division",
     "output_type": "error",
     "traceback": [
      "\u001b[1;31m---------------------------------------------------------------------------\u001b[0m",
      "\u001b[1;31mZeroDivisionError\u001b[0m                         Traceback (most recent call last)",
      "\u001b[1;31mZeroDivisionError\u001b[0m: float division"
     ]
    },
    {
     "name": "stderr",
     "output_type": "stream",
     "text": [
      "Exception ignored in: 'MontyCarlo.tools.RITA.Interval._eval'\n",
      "Traceback (most recent call last):\n",
      "  File \"<ipython-input-254-2eca1893ac94>\", line 4, in <module>\n",
      "ZeroDivisionError: float division\n"
     ]
    },
    {
     "ename": "ZeroDivisionError",
     "evalue": "float division",
     "output_type": "error",
     "traceback": [
      "\u001b[1;31m---------------------------------------------------------------------------\u001b[0m",
      "\u001b[1;31mZeroDivisionError\u001b[0m                         Traceback (most recent call last)",
      "\u001b[1;31mZeroDivisionError\u001b[0m: float division"
     ]
    },
    {
     "name": "stderr",
     "output_type": "stream",
     "text": [
      "Exception ignored in: 'MontyCarlo.tools.RITA.Interval._eval'\n",
      "Traceback (most recent call last):\n",
      "  File \"<ipython-input-254-2eca1893ac94>\", line 4, in <module>\n",
      "ZeroDivisionError: float division\n"
     ]
    },
    {
     "ename": "ZeroDivisionError",
     "evalue": "float division",
     "output_type": "error",
     "traceback": [
      "\u001b[1;31m---------------------------------------------------------------------------\u001b[0m",
      "\u001b[1;31mZeroDivisionError\u001b[0m                         Traceback (most recent call last)",
      "\u001b[1;31mZeroDivisionError\u001b[0m: float division"
     ]
    },
    {
     "name": "stderr",
     "output_type": "stream",
     "text": [
      "Exception ignored in: 'MontyCarlo.tools.RITA.Interval._eval'\n",
      "Traceback (most recent call last):\n",
      "  File \"<ipython-input-254-2eca1893ac94>\", line 4, in <module>\n",
      "ZeroDivisionError: float division\n"
     ]
    },
    {
     "ename": "ZeroDivisionError",
     "evalue": "float division",
     "output_type": "error",
     "traceback": [
      "\u001b[1;31m---------------------------------------------------------------------------\u001b[0m",
      "\u001b[1;31mZeroDivisionError\u001b[0m                         Traceback (most recent call last)",
      "\u001b[1;31mZeroDivisionError\u001b[0m: float division"
     ]
    },
    {
     "name": "stderr",
     "output_type": "stream",
     "text": [
      "Exception ignored in: 'MontyCarlo.tools.RITA.Interval._eval'\n",
      "Traceback (most recent call last):\n",
      "  File \"<ipython-input-254-2eca1893ac94>\", line 4, in <module>\n",
      "ZeroDivisionError: float division\n"
     ]
    },
    {
     "ename": "ZeroDivisionError",
     "evalue": "float division",
     "output_type": "error",
     "traceback": [
      "\u001b[1;31m---------------------------------------------------------------------------\u001b[0m",
      "\u001b[1;31mZeroDivisionError\u001b[0m                         Traceback (most recent call last)",
      "\u001b[1;31mZeroDivisionError\u001b[0m: float division"
     ]
    },
    {
     "name": "stderr",
     "output_type": "stream",
     "text": [
      "Exception ignored in: 'MontyCarlo.tools.RITA.Interval._eval'\n",
      "Traceback (most recent call last):\n",
      "  File \"<ipython-input-254-2eca1893ac94>\", line 4, in <module>\n",
      "ZeroDivisionError: float division\n"
     ]
    },
    {
     "ename": "ZeroDivisionError",
     "evalue": "float division",
     "output_type": "error",
     "traceback": [
      "\u001b[1;31m---------------------------------------------------------------------------\u001b[0m",
      "\u001b[1;31mZeroDivisionError\u001b[0m                         Traceback (most recent call last)",
      "\u001b[1;31mZeroDivisionError\u001b[0m: float division"
     ]
    },
    {
     "name": "stderr",
     "output_type": "stream",
     "text": [
      "Exception ignored in: 'MontyCarlo.tools.RITA.Interval._eval'\n",
      "Traceback (most recent call last):\n",
      "  File \"<ipython-input-254-2eca1893ac94>\", line 4, in <module>\n",
      "ZeroDivisionError: float division\n"
     ]
    },
    {
     "ename": "ZeroDivisionError",
     "evalue": "float division",
     "output_type": "error",
     "traceback": [
      "\u001b[1;31m---------------------------------------------------------------------------\u001b[0m",
      "\u001b[1;31mZeroDivisionError\u001b[0m                         Traceback (most recent call last)",
      "\u001b[1;31mZeroDivisionError\u001b[0m: float division"
     ]
    },
    {
     "name": "stderr",
     "output_type": "stream",
     "text": [
      "Exception ignored in: 'MontyCarlo.tools.RITA.Interval._eval'\n",
      "Traceback (most recent call last):\n",
      "  File \"<ipython-input-254-2eca1893ac94>\", line 4, in <module>\n",
      "ZeroDivisionError: float division\n"
     ]
    },
    {
     "ename": "ZeroDivisionError",
     "evalue": "float division",
     "output_type": "error",
     "traceback": [
      "\u001b[1;31m---------------------------------------------------------------------------\u001b[0m",
      "\u001b[1;31mZeroDivisionError\u001b[0m                         Traceback (most recent call last)",
      "\u001b[1;31mZeroDivisionError\u001b[0m: float division"
     ]
    },
    {
     "name": "stderr",
     "output_type": "stream",
     "text": [
      "Exception ignored in: 'MontyCarlo.tools.RITA.Interval._eval'\n",
      "Traceback (most recent call last):\n",
      "  File \"<ipython-input-254-2eca1893ac94>\", line 4, in <module>\n",
      "ZeroDivisionError: float division\n"
     ]
    },
    {
     "ename": "ZeroDivisionError",
     "evalue": "float division",
     "output_type": "error",
     "traceback": [
      "\u001b[1;31m---------------------------------------------------------------------------\u001b[0m",
      "\u001b[1;31mZeroDivisionError\u001b[0m                         Traceback (most recent call last)",
      "\u001b[1;31mZeroDivisionError\u001b[0m: float division"
     ]
    },
    {
     "name": "stderr",
     "output_type": "stream",
     "text": [
      "Exception ignored in: 'MontyCarlo.tools.RITA.Interval._eval'\n",
      "Traceback (most recent call last):\n",
      "  File \"<ipython-input-254-2eca1893ac94>\", line 4, in <module>\n",
      "ZeroDivisionError: float division\n"
     ]
    },
    {
     "ename": "ZeroDivisionError",
     "evalue": "float division",
     "output_type": "error",
     "traceback": [
      "\u001b[1;31m---------------------------------------------------------------------------\u001b[0m",
      "\u001b[1;31mZeroDivisionError\u001b[0m                         Traceback (most recent call last)",
      "\u001b[1;31mZeroDivisionError\u001b[0m: float division"
     ]
    },
    {
     "name": "stderr",
     "output_type": "stream",
     "text": [
      "Exception ignored in: 'MontyCarlo.tools.RITA.Interval._eval'\n",
      "Traceback (most recent call last):\n",
      "  File \"<ipython-input-254-2eca1893ac94>\", line 4, in <module>\n",
      "ZeroDivisionError: float division\n"
     ]
    },
    {
     "ename": "ZeroDivisionError",
     "evalue": "float division",
     "output_type": "error",
     "traceback": [
      "\u001b[1;31m---------------------------------------------------------------------------\u001b[0m",
      "\u001b[1;31mZeroDivisionError\u001b[0m                         Traceback (most recent call last)",
      "\u001b[1;31mZeroDivisionError\u001b[0m: float division"
     ]
    },
    {
     "name": "stderr",
     "output_type": "stream",
     "text": [
      "Exception ignored in: 'MontyCarlo.tools.RITA.Interval._eval'\n",
      "Traceback (most recent call last):\n",
      "  File \"<ipython-input-254-2eca1893ac94>\", line 4, in <module>\n",
      "ZeroDivisionError: float division\n"
     ]
    },
    {
     "ename": "ZeroDivisionError",
     "evalue": "float division",
     "output_type": "error",
     "traceback": [
      "\u001b[1;31m---------------------------------------------------------------------------\u001b[0m",
      "\u001b[1;31mZeroDivisionError\u001b[0m                         Traceback (most recent call last)",
      "\u001b[1;31mZeroDivisionError\u001b[0m: float division"
     ]
    },
    {
     "name": "stderr",
     "output_type": "stream",
     "text": [
      "Exception ignored in: 'MontyCarlo.tools.RITA.Interval._eval'\n",
      "Traceback (most recent call last):\n",
      "  File \"<ipython-input-254-2eca1893ac94>\", line 4, in <module>\n",
      "ZeroDivisionError: float division\n"
     ]
    },
    {
     "ename": "ZeroDivisionError",
     "evalue": "float division",
     "output_type": "error",
     "traceback": [
      "\u001b[1;31m---------------------------------------------------------------------------\u001b[0m",
      "\u001b[1;31mZeroDivisionError\u001b[0m                         Traceback (most recent call last)",
      "\u001b[1;31mZeroDivisionError\u001b[0m: float division"
     ]
    },
    {
     "name": "stderr",
     "output_type": "stream",
     "text": [
      "Exception ignored in: 'MontyCarlo.tools.RITA.Interval._eval'\n",
      "Traceback (most recent call last):\n",
      "  File \"<ipython-input-254-2eca1893ac94>\", line 4, in <module>\n",
      "ZeroDivisionError: float division\n"
     ]
    },
    {
     "ename": "ZeroDivisionError",
     "evalue": "float division",
     "output_type": "error",
     "traceback": [
      "\u001b[1;31m---------------------------------------------------------------------------\u001b[0m",
      "\u001b[1;31mZeroDivisionError\u001b[0m                         Traceback (most recent call last)",
      "\u001b[1;31mZeroDivisionError\u001b[0m: float division"
     ]
    },
    {
     "name": "stderr",
     "output_type": "stream",
     "text": [
      "Exception ignored in: 'MontyCarlo.tools.RITA.Interval._eval'\n",
      "Traceback (most recent call last):\n",
      "  File \"<ipython-input-254-2eca1893ac94>\", line 4, in <module>\n",
      "ZeroDivisionError: float division\n"
     ]
    },
    {
     "ename": "ZeroDivisionError",
     "evalue": "float division",
     "output_type": "error",
     "traceback": [
      "\u001b[1;31m---------------------------------------------------------------------------\u001b[0m",
      "\u001b[1;31mZeroDivisionError\u001b[0m                         Traceback (most recent call last)",
      "\u001b[1;31mZeroDivisionError\u001b[0m: float division"
     ]
    },
    {
     "name": "stderr",
     "output_type": "stream",
     "text": [
      "Exception ignored in: 'MontyCarlo.tools.RITA.Interval._eval'\n",
      "Traceback (most recent call last):\n",
      "  File \"<ipython-input-254-2eca1893ac94>\", line 4, in <module>\n",
      "ZeroDivisionError: float division\n"
     ]
    },
    {
     "ename": "ZeroDivisionError",
     "evalue": "float division",
     "output_type": "error",
     "traceback": [
      "\u001b[1;31m---------------------------------------------------------------------------\u001b[0m",
      "\u001b[1;31mZeroDivisionError\u001b[0m                         Traceback (most recent call last)",
      "\u001b[1;31mZeroDivisionError\u001b[0m: float division"
     ]
    },
    {
     "name": "stderr",
     "output_type": "stream",
     "text": [
      "Exception ignored in: 'MontyCarlo.tools.RITA.Interval._eval'\n",
      "Traceback (most recent call last):\n",
      "  File \"<ipython-input-254-2eca1893ac94>\", line 4, in <module>\n",
      "ZeroDivisionError: float division\n"
     ]
    },
    {
     "ename": "ZeroDivisionError",
     "evalue": "float division",
     "output_type": "error",
     "traceback": [
      "\u001b[1;31m---------------------------------------------------------------------------\u001b[0m",
      "\u001b[1;31mZeroDivisionError\u001b[0m                         Traceback (most recent call last)",
      "\u001b[1;31mZeroDivisionError\u001b[0m: float division"
     ]
    },
    {
     "name": "stderr",
     "output_type": "stream",
     "text": [
      "Exception ignored in: 'MontyCarlo.tools.RITA.Interval._eval'\n",
      "Traceback (most recent call last):\n",
      "  File \"<ipython-input-254-2eca1893ac94>\", line 4, in <module>\n",
      "ZeroDivisionError: float division\n"
     ]
    },
    {
     "ename": "ZeroDivisionError",
     "evalue": "float division",
     "output_type": "error",
     "traceback": [
      "\u001b[1;31m---------------------------------------------------------------------------\u001b[0m",
      "\u001b[1;31mZeroDivisionError\u001b[0m                         Traceback (most recent call last)",
      "\u001b[1;31mZeroDivisionError\u001b[0m: float division"
     ]
    },
    {
     "name": "stderr",
     "output_type": "stream",
     "text": [
      "Exception ignored in: 'MontyCarlo.tools.RITA.Interval._eval'\n",
      "Traceback (most recent call last):\n",
      "  File \"<ipython-input-254-2eca1893ac94>\", line 4, in <module>\n",
      "ZeroDivisionError: float division\n"
     ]
    },
    {
     "ename": "ZeroDivisionError",
     "evalue": "float division",
     "output_type": "error",
     "traceback": [
      "\u001b[1;31m---------------------------------------------------------------------------\u001b[0m",
      "\u001b[1;31mZeroDivisionError\u001b[0m                         Traceback (most recent call last)",
      "\u001b[1;31mZeroDivisionError\u001b[0m: float division"
     ]
    },
    {
     "name": "stderr",
     "output_type": "stream",
     "text": [
      "Exception ignored in: 'MontyCarlo.tools.RITA.Interval._eval'\n",
      "Traceback (most recent call last):\n",
      "  File \"<ipython-input-254-2eca1893ac94>\", line 4, in <module>\n",
      "ZeroDivisionError: float division\n"
     ]
    },
    {
     "ename": "ZeroDivisionError",
     "evalue": "float division",
     "output_type": "error",
     "traceback": [
      "\u001b[1;31m---------------------------------------------------------------------------\u001b[0m",
      "\u001b[1;31mZeroDivisionError\u001b[0m                         Traceback (most recent call last)",
      "\u001b[1;31mZeroDivisionError\u001b[0m: float division"
     ]
    },
    {
     "name": "stderr",
     "output_type": "stream",
     "text": [
      "Exception ignored in: 'MontyCarlo.tools.RITA.Interval._eval'\n",
      "Traceback (most recent call last):\n",
      "  File \"<ipython-input-254-2eca1893ac94>\", line 4, in <module>\n",
      "ZeroDivisionError: float division\n"
     ]
    },
    {
     "ename": "ZeroDivisionError",
     "evalue": "float division",
     "output_type": "error",
     "traceback": [
      "\u001b[1;31m---------------------------------------------------------------------------\u001b[0m",
      "\u001b[1;31mZeroDivisionError\u001b[0m                         Traceback (most recent call last)",
      "\u001b[1;31mZeroDivisionError\u001b[0m: float division"
     ]
    },
    {
     "name": "stderr",
     "output_type": "stream",
     "text": [
      "Exception ignored in: 'MontyCarlo.tools.RITA.Interval._eval'\n",
      "Traceback (most recent call last):\n",
      "  File \"<ipython-input-254-2eca1893ac94>\", line 4, in <module>\n",
      "ZeroDivisionError: float division\n"
     ]
    },
    {
     "ename": "ZeroDivisionError",
     "evalue": "float division",
     "output_type": "error",
     "traceback": [
      "\u001b[1;31m---------------------------------------------------------------------------\u001b[0m",
      "\u001b[1;31mZeroDivisionError\u001b[0m                         Traceback (most recent call last)",
      "\u001b[1;31mZeroDivisionError\u001b[0m: float division"
     ]
    },
    {
     "name": "stderr",
     "output_type": "stream",
     "text": [
      "Exception ignored in: 'MontyCarlo.tools.RITA.Interval._eval'\n",
      "Traceback (most recent call last):\n",
      "  File \"<ipython-input-254-2eca1893ac94>\", line 4, in <module>\n",
      "ZeroDivisionError: float division\n"
     ]
    },
    {
     "ename": "ZeroDivisionError",
     "evalue": "float division",
     "output_type": "error",
     "traceback": [
      "\u001b[1;31m---------------------------------------------------------------------------\u001b[0m",
      "\u001b[1;31mZeroDivisionError\u001b[0m                         Traceback (most recent call last)",
      "\u001b[1;31mZeroDivisionError\u001b[0m: float division"
     ]
    },
    {
     "name": "stderr",
     "output_type": "stream",
     "text": [
      "Exception ignored in: 'MontyCarlo.tools.RITA.Interval._eval'\n",
      "Traceback (most recent call last):\n",
      "  File \"<ipython-input-254-2eca1893ac94>\", line 4, in <module>\n",
      "ZeroDivisionError: float division\n"
     ]
    },
    {
     "ename": "ZeroDivisionError",
     "evalue": "float division",
     "output_type": "error",
     "traceback": [
      "\u001b[1;31m---------------------------------------------------------------------------\u001b[0m",
      "\u001b[1;31mZeroDivisionError\u001b[0m                         Traceback (most recent call last)",
      "\u001b[1;31mZeroDivisionError\u001b[0m: float division"
     ]
    },
    {
     "name": "stderr",
     "output_type": "stream",
     "text": [
      "Exception ignored in: 'MontyCarlo.tools.RITA.Interval._eval'\n",
      "Traceback (most recent call last):\n",
      "  File \"<ipython-input-254-2eca1893ac94>\", line 4, in <module>\n",
      "ZeroDivisionError: float division\n"
     ]
    },
    {
     "ename": "ZeroDivisionError",
     "evalue": "float division",
     "output_type": "error",
     "traceback": [
      "\u001b[1;31m---------------------------------------------------------------------------\u001b[0m",
      "\u001b[1;31mZeroDivisionError\u001b[0m                         Traceback (most recent call last)",
      "\u001b[1;31mZeroDivisionError\u001b[0m: float division"
     ]
    },
    {
     "name": "stderr",
     "output_type": "stream",
     "text": [
      "Exception ignored in: 'MontyCarlo.tools.RITA.Interval._eval'\n",
      "Traceback (most recent call last):\n",
      "  File \"<ipython-input-254-2eca1893ac94>\", line 4, in <module>\n",
      "ZeroDivisionError: float division\n"
     ]
    },
    {
     "ename": "ZeroDivisionError",
     "evalue": "float division",
     "output_type": "error",
     "traceback": [
      "\u001b[1;31m---------------------------------------------------------------------------\u001b[0m",
      "\u001b[1;31mZeroDivisionError\u001b[0m                         Traceback (most recent call last)",
      "\u001b[1;31mZeroDivisionError\u001b[0m: float division"
     ]
    },
    {
     "name": "stderr",
     "output_type": "stream",
     "text": [
      "Exception ignored in: 'MontyCarlo.tools.RITA.Interval._eval'\n",
      "Traceback (most recent call last):\n",
      "  File \"<ipython-input-254-2eca1893ac94>\", line 4, in <module>\n",
      "ZeroDivisionError: float division\n"
     ]
    },
    {
     "ename": "ZeroDivisionError",
     "evalue": "float division",
     "output_type": "error",
     "traceback": [
      "\u001b[1;31m---------------------------------------------------------------------------\u001b[0m",
      "\u001b[1;31mZeroDivisionError\u001b[0m                         Traceback (most recent call last)",
      "\u001b[1;31mZeroDivisionError\u001b[0m: float division"
     ]
    },
    {
     "name": "stderr",
     "output_type": "stream",
     "text": [
      "Exception ignored in: 'MontyCarlo.tools.RITA.Interval._eval'\n",
      "Traceback (most recent call last):\n",
      "  File \"<ipython-input-254-2eca1893ac94>\", line 4, in <module>\n",
      "ZeroDivisionError: float division\n"
     ]
    },
    {
     "ename": "ZeroDivisionError",
     "evalue": "float division",
     "output_type": "error",
     "traceback": [
      "\u001b[1;31m---------------------------------------------------------------------------\u001b[0m",
      "\u001b[1;31mZeroDivisionError\u001b[0m                         Traceback (most recent call last)",
      "\u001b[1;31mZeroDivisionError\u001b[0m: float division"
     ]
    },
    {
     "name": "stderr",
     "output_type": "stream",
     "text": [
      "Exception ignored in: 'MontyCarlo.tools.RITA.Interval._eval'\n",
      "Traceback (most recent call last):\n",
      "  File \"<ipython-input-254-2eca1893ac94>\", line 4, in <module>\n",
      "ZeroDivisionError: float division\n"
     ]
    },
    {
     "ename": "ZeroDivisionError",
     "evalue": "float division",
     "output_type": "error",
     "traceback": [
      "\u001b[1;31m---------------------------------------------------------------------------\u001b[0m",
      "\u001b[1;31mZeroDivisionError\u001b[0m                         Traceback (most recent call last)",
      "\u001b[1;31mZeroDivisionError\u001b[0m: float division"
     ]
    },
    {
     "name": "stderr",
     "output_type": "stream",
     "text": [
      "Exception ignored in: 'MontyCarlo.tools.RITA.Interval._eval'\n",
      "Traceback (most recent call last):\n",
      "  File \"<ipython-input-254-2eca1893ac94>\", line 4, in <module>\n",
      "ZeroDivisionError: float division\n"
     ]
    },
    {
     "ename": "ZeroDivisionError",
     "evalue": "float division",
     "output_type": "error",
     "traceback": [
      "\u001b[1;31m---------------------------------------------------------------------------\u001b[0m",
      "\u001b[1;31mZeroDivisionError\u001b[0m                         Traceback (most recent call last)",
      "\u001b[1;31mZeroDivisionError\u001b[0m: float division"
     ]
    },
    {
     "name": "stderr",
     "output_type": "stream",
     "text": [
      "Exception ignored in: 'MontyCarlo.tools.RITA.Interval._eval'\n",
      "Traceback (most recent call last):\n",
      "  File \"<ipython-input-254-2eca1893ac94>\", line 4, in <module>\n",
      "ZeroDivisionError: float division\n"
     ]
    },
    {
     "ename": "ZeroDivisionError",
     "evalue": "float division",
     "output_type": "error",
     "traceback": [
      "\u001b[1;31m---------------------------------------------------------------------------\u001b[0m",
      "\u001b[1;31mZeroDivisionError\u001b[0m                         Traceback (most recent call last)",
      "\u001b[1;31mZeroDivisionError\u001b[0m: float division"
     ]
    },
    {
     "name": "stderr",
     "output_type": "stream",
     "text": [
      "Exception ignored in: 'MontyCarlo.tools.RITA.Interval._eval'\n",
      "Traceback (most recent call last):\n",
      "  File \"<ipython-input-254-2eca1893ac94>\", line 4, in <module>\n",
      "ZeroDivisionError: float division\n"
     ]
    },
    {
     "ename": "ZeroDivisionError",
     "evalue": "float division",
     "output_type": "error",
     "traceback": [
      "\u001b[1;31m---------------------------------------------------------------------------\u001b[0m",
      "\u001b[1;31mZeroDivisionError\u001b[0m                         Traceback (most recent call last)",
      "\u001b[1;31mZeroDivisionError\u001b[0m: float division"
     ]
    },
    {
     "name": "stderr",
     "output_type": "stream",
     "text": [
      "Exception ignored in: 'MontyCarlo.tools.RITA.Interval._eval'\n",
      "Traceback (most recent call last):\n",
      "  File \"<ipython-input-254-2eca1893ac94>\", line 4, in <module>\n",
      "ZeroDivisionError: float division\n"
     ]
    },
    {
     "ename": "ZeroDivisionError",
     "evalue": "float division",
     "output_type": "error",
     "traceback": [
      "\u001b[1;31m---------------------------------------------------------------------------\u001b[0m",
      "\u001b[1;31mZeroDivisionError\u001b[0m                         Traceback (most recent call last)",
      "\u001b[1;31mZeroDivisionError\u001b[0m: float division"
     ]
    },
    {
     "name": "stderr",
     "output_type": "stream",
     "text": [
      "Exception ignored in: 'MontyCarlo.tools.RITA.Interval._eval'\n",
      "Traceback (most recent call last):\n",
      "  File \"<ipython-input-254-2eca1893ac94>\", line 4, in <module>\n",
      "ZeroDivisionError: float division\n"
     ]
    },
    {
     "ename": "ZeroDivisionError",
     "evalue": "float division",
     "output_type": "error",
     "traceback": [
      "\u001b[1;31m---------------------------------------------------------------------------\u001b[0m",
      "\u001b[1;31mZeroDivisionError\u001b[0m                         Traceback (most recent call last)",
      "\u001b[1;31mZeroDivisionError\u001b[0m: float division"
     ]
    },
    {
     "name": "stderr",
     "output_type": "stream",
     "text": [
      "Exception ignored in: 'MontyCarlo.tools.RITA.Interval._eval'\n",
      "Traceback (most recent call last):\n",
      "  File \"<ipython-input-254-2eca1893ac94>\", line 4, in <module>\n",
      "ZeroDivisionError: float division\n"
     ]
    },
    {
     "ename": "ZeroDivisionError",
     "evalue": "float division",
     "output_type": "error",
     "traceback": [
      "\u001b[1;31m---------------------------------------------------------------------------\u001b[0m",
      "\u001b[1;31mZeroDivisionError\u001b[0m                         Traceback (most recent call last)",
      "\u001b[1;31mZeroDivisionError\u001b[0m: float division"
     ]
    },
    {
     "name": "stderr",
     "output_type": "stream",
     "text": [
      "Exception ignored in: 'MontyCarlo.tools.RITA.Interval._eval'\n",
      "Traceback (most recent call last):\n",
      "  File \"<ipython-input-254-2eca1893ac94>\", line 4, in <module>\n",
      "ZeroDivisionError: float division\n"
     ]
    },
    {
     "ename": "ZeroDivisionError",
     "evalue": "float division",
     "output_type": "error",
     "traceback": [
      "\u001b[1;31m---------------------------------------------------------------------------\u001b[0m",
      "\u001b[1;31mZeroDivisionError\u001b[0m                         Traceback (most recent call last)",
      "\u001b[1;31mZeroDivisionError\u001b[0m: float division"
     ]
    },
    {
     "name": "stderr",
     "output_type": "stream",
     "text": [
      "Exception ignored in: 'MontyCarlo.tools.RITA.Interval._eval'\n",
      "Traceback (most recent call last):\n",
      "  File \"<ipython-input-254-2eca1893ac94>\", line 4, in <module>\n",
      "ZeroDivisionError: float division\n"
     ]
    },
    {
     "ename": "ZeroDivisionError",
     "evalue": "float division",
     "output_type": "error",
     "traceback": [
      "\u001b[1;31m---------------------------------------------------------------------------\u001b[0m",
      "\u001b[1;31mZeroDivisionError\u001b[0m                         Traceback (most recent call last)",
      "\u001b[1;31mZeroDivisionError\u001b[0m: float division"
     ]
    },
    {
     "name": "stderr",
     "output_type": "stream",
     "text": [
      "Exception ignored in: 'MontyCarlo.tools.RITA.Interval._eval'\n",
      "Traceback (most recent call last):\n",
      "  File \"<ipython-input-254-2eca1893ac94>\", line 4, in <module>\n",
      "ZeroDivisionError: float division\n"
     ]
    },
    {
     "ename": "ZeroDivisionError",
     "evalue": "float division",
     "output_type": "error",
     "traceback": [
      "\u001b[1;31m---------------------------------------------------------------------------\u001b[0m",
      "\u001b[1;31mZeroDivisionError\u001b[0m                         Traceback (most recent call last)",
      "\u001b[1;31mZeroDivisionError\u001b[0m: float division"
     ]
    },
    {
     "name": "stderr",
     "output_type": "stream",
     "text": [
      "Exception ignored in: 'MontyCarlo.tools.RITA.Interval._eval'\n",
      "Traceback (most recent call last):\n",
      "  File \"<ipython-input-254-2eca1893ac94>\", line 4, in <module>\n",
      "ZeroDivisionError: float division\n"
     ]
    },
    {
     "ename": "ZeroDivisionError",
     "evalue": "float division",
     "output_type": "error",
     "traceback": [
      "\u001b[1;31m---------------------------------------------------------------------------\u001b[0m",
      "\u001b[1;31mZeroDivisionError\u001b[0m                         Traceback (most recent call last)",
      "\u001b[1;31mZeroDivisionError\u001b[0m: float division"
     ]
    },
    {
     "name": "stderr",
     "output_type": "stream",
     "text": [
      "Exception ignored in: 'MontyCarlo.tools.RITA.Interval._eval'\n",
      "Traceback (most recent call last):\n",
      "  File \"<ipython-input-254-2eca1893ac94>\", line 4, in <module>\n",
      "ZeroDivisionError: float division\n"
     ]
    },
    {
     "ename": "ZeroDivisionError",
     "evalue": "float division",
     "output_type": "error",
     "traceback": [
      "\u001b[1;31m---------------------------------------------------------------------------\u001b[0m",
      "\u001b[1;31mZeroDivisionError\u001b[0m                         Traceback (most recent call last)",
      "\u001b[1;31mZeroDivisionError\u001b[0m: float division"
     ]
    },
    {
     "name": "stderr",
     "output_type": "stream",
     "text": [
      "Exception ignored in: 'MontyCarlo.tools.RITA.Interval._eval'\n",
      "Traceback (most recent call last):\n",
      "  File \"<ipython-input-254-2eca1893ac94>\", line 4, in <module>\n",
      "ZeroDivisionError: float division\n"
     ]
    },
    {
     "ename": "ZeroDivisionError",
     "evalue": "float division",
     "output_type": "error",
     "traceback": [
      "\u001b[1;31m---------------------------------------------------------------------------\u001b[0m",
      "\u001b[1;31mZeroDivisionError\u001b[0m                         Traceback (most recent call last)",
      "\u001b[1;31mZeroDivisionError\u001b[0m: float division"
     ]
    },
    {
     "name": "stderr",
     "output_type": "stream",
     "text": [
      "Exception ignored in: 'MontyCarlo.tools.RITA.Interval._eval'\n",
      "Traceback (most recent call last):\n",
      "  File \"<ipython-input-254-2eca1893ac94>\", line 4, in <module>\n",
      "ZeroDivisionError: float division\n"
     ]
    },
    {
     "ename": "ZeroDivisionError",
     "evalue": "float division",
     "output_type": "error",
     "traceback": [
      "\u001b[1;31m---------------------------------------------------------------------------\u001b[0m",
      "\u001b[1;31mZeroDivisionError\u001b[0m                         Traceback (most recent call last)",
      "\u001b[1;31mZeroDivisionError\u001b[0m: float division"
     ]
    },
    {
     "name": "stderr",
     "output_type": "stream",
     "text": [
      "Exception ignored in: 'MontyCarlo.tools.RITA.Interval._eval'\n",
      "Traceback (most recent call last):\n",
      "  File \"<ipython-input-254-2eca1893ac94>\", line 4, in <module>\n",
      "ZeroDivisionError: float division\n"
     ]
    },
    {
     "ename": "ZeroDivisionError",
     "evalue": "float division",
     "output_type": "error",
     "traceback": [
      "\u001b[1;31m---------------------------------------------------------------------------\u001b[0m",
      "\u001b[1;31mZeroDivisionError\u001b[0m                         Traceback (most recent call last)",
      "\u001b[1;31mZeroDivisionError\u001b[0m: float division"
     ]
    },
    {
     "name": "stderr",
     "output_type": "stream",
     "text": [
      "Exception ignored in: 'MontyCarlo.tools.RITA.Interval._eval'\n",
      "Traceback (most recent call last):\n",
      "  File \"<ipython-input-254-2eca1893ac94>\", line 4, in <module>\n",
      "ZeroDivisionError: float division\n"
     ]
    },
    {
     "ename": "ZeroDivisionError",
     "evalue": "float division",
     "output_type": "error",
     "traceback": [
      "\u001b[1;31m---------------------------------------------------------------------------\u001b[0m",
      "\u001b[1;31mZeroDivisionError\u001b[0m                         Traceback (most recent call last)",
      "\u001b[1;31mZeroDivisionError\u001b[0m: float division"
     ]
    },
    {
     "name": "stderr",
     "output_type": "stream",
     "text": [
      "Exception ignored in: 'MontyCarlo.tools.RITA.Interval._eval'\n",
      "Traceback (most recent call last):\n",
      "  File \"<ipython-input-254-2eca1893ac94>\", line 4, in <module>\n",
      "ZeroDivisionError: float division\n"
     ]
    },
    {
     "ename": "ZeroDivisionError",
     "evalue": "float division",
     "output_type": "error",
     "traceback": [
      "\u001b[1;31m---------------------------------------------------------------------------\u001b[0m",
      "\u001b[1;31mZeroDivisionError\u001b[0m                         Traceback (most recent call last)",
      "\u001b[1;31mZeroDivisionError\u001b[0m: float division"
     ]
    },
    {
     "name": "stderr",
     "output_type": "stream",
     "text": [
      "Exception ignored in: 'MontyCarlo.tools.RITA.Interval._eval'\n",
      "Traceback (most recent call last):\n",
      "  File \"<ipython-input-254-2eca1893ac94>\", line 4, in <module>\n",
      "ZeroDivisionError: float division\n"
     ]
    },
    {
     "ename": "ZeroDivisionError",
     "evalue": "float division",
     "output_type": "error",
     "traceback": [
      "\u001b[1;31m---------------------------------------------------------------------------\u001b[0m",
      "\u001b[1;31mZeroDivisionError\u001b[0m                         Traceback (most recent call last)",
      "\u001b[1;31mZeroDivisionError\u001b[0m: float division"
     ]
    },
    {
     "name": "stderr",
     "output_type": "stream",
     "text": [
      "Exception ignored in: 'MontyCarlo.tools.RITA.Interval._eval'\n",
      "Traceback (most recent call last):\n",
      "  File \"<ipython-input-254-2eca1893ac94>\", line 4, in <module>\n",
      "ZeroDivisionError: float division\n"
     ]
    },
    {
     "ename": "ZeroDivisionError",
     "evalue": "float division",
     "output_type": "error",
     "traceback": [
      "\u001b[1;31m---------------------------------------------------------------------------\u001b[0m",
      "\u001b[1;31mZeroDivisionError\u001b[0m                         Traceback (most recent call last)",
      "\u001b[1;31mZeroDivisionError\u001b[0m: float division"
     ]
    },
    {
     "name": "stderr",
     "output_type": "stream",
     "text": [
      "Exception ignored in: 'MontyCarlo.tools.RITA.Interval._eval'\n",
      "Traceback (most recent call last):\n",
      "  File \"<ipython-input-254-2eca1893ac94>\", line 4, in <module>\n",
      "ZeroDivisionError: float division\n"
     ]
    },
    {
     "ename": "ZeroDivisionError",
     "evalue": "float division",
     "output_type": "error",
     "traceback": [
      "\u001b[1;31m---------------------------------------------------------------------------\u001b[0m",
      "\u001b[1;31mZeroDivisionError\u001b[0m                         Traceback (most recent call last)",
      "\u001b[1;31mZeroDivisionError\u001b[0m: float division"
     ]
    },
    {
     "name": "stderr",
     "output_type": "stream",
     "text": [
      "Exception ignored in: 'MontyCarlo.tools.RITA.Interval._eval'\n",
      "Traceback (most recent call last):\n",
      "  File \"<ipython-input-254-2eca1893ac94>\", line 4, in <module>\n",
      "ZeroDivisionError: float division\n"
     ]
    },
    {
     "ename": "ZeroDivisionError",
     "evalue": "float division",
     "output_type": "error",
     "traceback": [
      "\u001b[1;31m---------------------------------------------------------------------------\u001b[0m",
      "\u001b[1;31mZeroDivisionError\u001b[0m                         Traceback (most recent call last)",
      "\u001b[1;31mZeroDivisionError\u001b[0m: float division"
     ]
    },
    {
     "name": "stderr",
     "output_type": "stream",
     "text": [
      "Exception ignored in: 'MontyCarlo.tools.RITA.Interval._eval'\n",
      "Traceback (most recent call last):\n",
      "  File \"<ipython-input-254-2eca1893ac94>\", line 4, in <module>\n",
      "ZeroDivisionError: float division\n"
     ]
    },
    {
     "ename": "ZeroDivisionError",
     "evalue": "float division",
     "output_type": "error",
     "traceback": [
      "\u001b[1;31m---------------------------------------------------------------------------\u001b[0m",
      "\u001b[1;31mZeroDivisionError\u001b[0m                         Traceback (most recent call last)",
      "\u001b[1;31mZeroDivisionError\u001b[0m: float division"
     ]
    },
    {
     "name": "stderr",
     "output_type": "stream",
     "text": [
      "Exception ignored in: 'MontyCarlo.tools.RITA.Interval._eval'\n",
      "Traceback (most recent call last):\n",
      "  File \"<ipython-input-254-2eca1893ac94>\", line 4, in <module>\n",
      "ZeroDivisionError: float division\n"
     ]
    },
    {
     "ename": "ZeroDivisionError",
     "evalue": "float division",
     "output_type": "error",
     "traceback": [
      "\u001b[1;31m---------------------------------------------------------------------------\u001b[0m",
      "\u001b[1;31mZeroDivisionError\u001b[0m                         Traceback (most recent call last)",
      "\u001b[1;31mZeroDivisionError\u001b[0m: float division"
     ]
    },
    {
     "name": "stderr",
     "output_type": "stream",
     "text": [
      "Exception ignored in: 'MontyCarlo.tools.RITA.Interval._eval'\n",
      "Traceback (most recent call last):\n",
      "  File \"<ipython-input-254-2eca1893ac94>\", line 4, in <module>\n",
      "ZeroDivisionError: float division\n"
     ]
    },
    {
     "ename": "ZeroDivisionError",
     "evalue": "float division",
     "output_type": "error",
     "traceback": [
      "\u001b[1;31m---------------------------------------------------------------------------\u001b[0m",
      "\u001b[1;31mZeroDivisionError\u001b[0m                         Traceback (most recent call last)",
      "\u001b[1;31mZeroDivisionError\u001b[0m: float division"
     ]
    },
    {
     "name": "stderr",
     "output_type": "stream",
     "text": [
      "Exception ignored in: 'MontyCarlo.tools.RITA.Interval._eval'\n",
      "Traceback (most recent call last):\n",
      "  File \"<ipython-input-254-2eca1893ac94>\", line 4, in <module>\n",
      "ZeroDivisionError: float division\n"
     ]
    },
    {
     "ename": "ZeroDivisionError",
     "evalue": "float division",
     "output_type": "error",
     "traceback": [
      "\u001b[1;31m---------------------------------------------------------------------------\u001b[0m",
      "\u001b[1;31mZeroDivisionError\u001b[0m                         Traceback (most recent call last)",
      "\u001b[1;31mZeroDivisionError\u001b[0m: float division"
     ]
    },
    {
     "name": "stderr",
     "output_type": "stream",
     "text": [
      "Exception ignored in: 'MontyCarlo.tools.RITA.Interval._eval'\n",
      "Traceback (most recent call last):\n",
      "  File \"<ipython-input-254-2eca1893ac94>\", line 4, in <module>\n",
      "ZeroDivisionError: float division\n"
     ]
    },
    {
     "ename": "ZeroDivisionError",
     "evalue": "float division",
     "output_type": "error",
     "traceback": [
      "\u001b[1;31m---------------------------------------------------------------------------\u001b[0m",
      "\u001b[1;31mZeroDivisionError\u001b[0m                         Traceback (most recent call last)",
      "\u001b[1;31mZeroDivisionError\u001b[0m: float division"
     ]
    },
    {
     "name": "stderr",
     "output_type": "stream",
     "text": [
      "Exception ignored in: 'MontyCarlo.tools.RITA.Interval._eval'\n",
      "Traceback (most recent call last):\n",
      "  File \"<ipython-input-254-2eca1893ac94>\", line 4, in <module>\n",
      "ZeroDivisionError: float division\n"
     ]
    },
    {
     "ename": "ZeroDivisionError",
     "evalue": "float division",
     "output_type": "error",
     "traceback": [
      "\u001b[1;31m---------------------------------------------------------------------------\u001b[0m",
      "\u001b[1;31mZeroDivisionError\u001b[0m                         Traceback (most recent call last)",
      "\u001b[1;31mZeroDivisionError\u001b[0m: float division"
     ]
    },
    {
     "name": "stderr",
     "output_type": "stream",
     "text": [
      "Exception ignored in: 'MontyCarlo.tools.RITA.Interval._eval'\n",
      "Traceback (most recent call last):\n",
      "  File \"<ipython-input-254-2eca1893ac94>\", line 4, in <module>\n",
      "ZeroDivisionError: float division\n"
     ]
    },
    {
     "ename": "ZeroDivisionError",
     "evalue": "float division",
     "output_type": "error",
     "traceback": [
      "\u001b[1;31m---------------------------------------------------------------------------\u001b[0m",
      "\u001b[1;31mZeroDivisionError\u001b[0m                         Traceback (most recent call last)",
      "\u001b[1;31mZeroDivisionError\u001b[0m: float division"
     ]
    },
    {
     "name": "stderr",
     "output_type": "stream",
     "text": [
      "Exception ignored in: 'MontyCarlo.tools.RITA.Interval._eval'\n",
      "Traceback (most recent call last):\n",
      "  File \"<ipython-input-254-2eca1893ac94>\", line 4, in <module>\n",
      "ZeroDivisionError: float division\n"
     ]
    },
    {
     "ename": "ZeroDivisionError",
     "evalue": "float division",
     "output_type": "error",
     "traceback": [
      "\u001b[1;31m---------------------------------------------------------------------------\u001b[0m",
      "\u001b[1;31mZeroDivisionError\u001b[0m                         Traceback (most recent call last)",
      "\u001b[1;31mZeroDivisionError\u001b[0m: float division"
     ]
    },
    {
     "name": "stderr",
     "output_type": "stream",
     "text": [
      "Exception ignored in: 'MontyCarlo.tools.RITA.Interval._eval'\n",
      "Traceback (most recent call last):\n",
      "  File \"<ipython-input-254-2eca1893ac94>\", line 4, in <module>\n",
      "ZeroDivisionError: float division\n"
     ]
    },
    {
     "ename": "ZeroDivisionError",
     "evalue": "float division",
     "output_type": "error",
     "traceback": [
      "\u001b[1;31m---------------------------------------------------------------------------\u001b[0m",
      "\u001b[1;31mZeroDivisionError\u001b[0m                         Traceback (most recent call last)",
      "\u001b[1;31mZeroDivisionError\u001b[0m: float division"
     ]
    },
    {
     "name": "stderr",
     "output_type": "stream",
     "text": [
      "Exception ignored in: 'MontyCarlo.tools.RITA.Interval._eval'\n",
      "Traceback (most recent call last):\n",
      "  File \"<ipython-input-254-2eca1893ac94>\", line 4, in <module>\n",
      "ZeroDivisionError: float division\n"
     ]
    },
    {
     "ename": "ZeroDivisionError",
     "evalue": "float division",
     "output_type": "error",
     "traceback": [
      "\u001b[1;31m---------------------------------------------------------------------------\u001b[0m",
      "\u001b[1;31mZeroDivisionError\u001b[0m                         Traceback (most recent call last)",
      "\u001b[1;31mZeroDivisionError\u001b[0m: float division"
     ]
    },
    {
     "name": "stderr",
     "output_type": "stream",
     "text": [
      "Exception ignored in: 'MontyCarlo.tools.RITA.Interval._eval'\n",
      "Traceback (most recent call last):\n",
      "  File \"<ipython-input-254-2eca1893ac94>\", line 4, in <module>\n",
      "ZeroDivisionError: float division\n"
     ]
    },
    {
     "ename": "ZeroDivisionError",
     "evalue": "float division",
     "output_type": "error",
     "traceback": [
      "\u001b[1;31m---------------------------------------------------------------------------\u001b[0m",
      "\u001b[1;31mZeroDivisionError\u001b[0m                         Traceback (most recent call last)",
      "\u001b[1;31mZeroDivisionError\u001b[0m: float division"
     ]
    },
    {
     "name": "stderr",
     "output_type": "stream",
     "text": [
      "Exception ignored in: 'MontyCarlo.tools.RITA.Interval._eval'\n",
      "Traceback (most recent call last):\n",
      "  File \"<ipython-input-254-2eca1893ac94>\", line 4, in <module>\n",
      "ZeroDivisionError: float division\n"
     ]
    },
    {
     "ename": "ZeroDivisionError",
     "evalue": "float division",
     "output_type": "error",
     "traceback": [
      "\u001b[1;31m---------------------------------------------------------------------------\u001b[0m",
      "\u001b[1;31mZeroDivisionError\u001b[0m                         Traceback (most recent call last)",
      "\u001b[1;31mZeroDivisionError\u001b[0m: float division"
     ]
    },
    {
     "name": "stderr",
     "output_type": "stream",
     "text": [
      "Exception ignored in: 'MontyCarlo.tools.RITA.Interval._eval'\n",
      "Traceback (most recent call last):\n",
      "  File \"<ipython-input-254-2eca1893ac94>\", line 4, in <module>\n",
      "ZeroDivisionError: float division\n"
     ]
    },
    {
     "ename": "ZeroDivisionError",
     "evalue": "float division",
     "output_type": "error",
     "traceback": [
      "\u001b[1;31m---------------------------------------------------------------------------\u001b[0m",
      "\u001b[1;31mZeroDivisionError\u001b[0m                         Traceback (most recent call last)",
      "\u001b[1;31mZeroDivisionError\u001b[0m: float division"
     ]
    },
    {
     "name": "stderr",
     "output_type": "stream",
     "text": [
      "Exception ignored in: 'MontyCarlo.tools.RITA.Interval._eval'\n",
      "Traceback (most recent call last):\n",
      "  File \"<ipython-input-254-2eca1893ac94>\", line 4, in <module>\n",
      "ZeroDivisionError: float division\n"
     ]
    },
    {
     "ename": "ZeroDivisionError",
     "evalue": "float division",
     "output_type": "error",
     "traceback": [
      "\u001b[1;31m---------------------------------------------------------------------------\u001b[0m",
      "\u001b[1;31mZeroDivisionError\u001b[0m                         Traceback (most recent call last)",
      "\u001b[1;31mZeroDivisionError\u001b[0m: float division"
     ]
    },
    {
     "name": "stderr",
     "output_type": "stream",
     "text": [
      "Exception ignored in: 'MontyCarlo.tools.RITA.Interval._eval'\n",
      "Traceback (most recent call last):\n",
      "  File \"<ipython-input-254-2eca1893ac94>\", line 4, in <module>\n",
      "ZeroDivisionError: float division\n"
     ]
    },
    {
     "ename": "ZeroDivisionError",
     "evalue": "float division",
     "output_type": "error",
     "traceback": [
      "\u001b[1;31m---------------------------------------------------------------------------\u001b[0m",
      "\u001b[1;31mZeroDivisionError\u001b[0m                         Traceback (most recent call last)",
      "\u001b[1;31mZeroDivisionError\u001b[0m: float division"
     ]
    },
    {
     "name": "stderr",
     "output_type": "stream",
     "text": [
      "Exception ignored in: 'MontyCarlo.tools.RITA.Interval._eval'\n",
      "Traceback (most recent call last):\n",
      "  File \"<ipython-input-254-2eca1893ac94>\", line 4, in <module>\n",
      "ZeroDivisionError: float division\n"
     ]
    },
    {
     "ename": "ZeroDivisionError",
     "evalue": "float division",
     "output_type": "error",
     "traceback": [
      "\u001b[1;31m---------------------------------------------------------------------------\u001b[0m",
      "\u001b[1;31mZeroDivisionError\u001b[0m                         Traceback (most recent call last)",
      "\u001b[1;31mZeroDivisionError\u001b[0m: float division"
     ]
    },
    {
     "name": "stderr",
     "output_type": "stream",
     "text": [
      "Exception ignored in: 'MontyCarlo.tools.RITA.Interval._eval'\n",
      "Traceback (most recent call last):\n",
      "  File \"<ipython-input-254-2eca1893ac94>\", line 4, in <module>\n",
      "ZeroDivisionError: float division\n"
     ]
    },
    {
     "ename": "ZeroDivisionError",
     "evalue": "float division",
     "output_type": "error",
     "traceback": [
      "\u001b[1;31m---------------------------------------------------------------------------\u001b[0m",
      "\u001b[1;31mZeroDivisionError\u001b[0m                         Traceback (most recent call last)",
      "\u001b[1;31mZeroDivisionError\u001b[0m: float division"
     ]
    },
    {
     "name": "stderr",
     "output_type": "stream",
     "text": [
      "Exception ignored in: 'MontyCarlo.tools.RITA.Interval._eval'\n",
      "Traceback (most recent call last):\n",
      "  File \"<ipython-input-254-2eca1893ac94>\", line 4, in <module>\n",
      "ZeroDivisionError: float division\n"
     ]
    },
    {
     "ename": "ZeroDivisionError",
     "evalue": "float division",
     "output_type": "error",
     "traceback": [
      "\u001b[1;31m---------------------------------------------------------------------------\u001b[0m",
      "\u001b[1;31mZeroDivisionError\u001b[0m                         Traceback (most recent call last)",
      "\u001b[1;31mZeroDivisionError\u001b[0m: float division"
     ]
    },
    {
     "name": "stderr",
     "output_type": "stream",
     "text": [
      "Exception ignored in: 'MontyCarlo.tools.RITA.Interval._eval'\n",
      "Traceback (most recent call last):\n",
      "  File \"<ipython-input-254-2eca1893ac94>\", line 4, in <module>\n",
      "ZeroDivisionError: float division\n"
     ]
    },
    {
     "ename": "ZeroDivisionError",
     "evalue": "float division",
     "output_type": "error",
     "traceback": [
      "\u001b[1;31m---------------------------------------------------------------------------\u001b[0m",
      "\u001b[1;31mZeroDivisionError\u001b[0m                         Traceback (most recent call last)",
      "\u001b[1;31mZeroDivisionError\u001b[0m: float division"
     ]
    },
    {
     "name": "stderr",
     "output_type": "stream",
     "text": [
      "Exception ignored in: 'MontyCarlo.tools.RITA.Interval._eval'\n",
      "Traceback (most recent call last):\n",
      "  File \"<ipython-input-254-2eca1893ac94>\", line 4, in <module>\n",
      "ZeroDivisionError: float division\n"
     ]
    },
    {
     "ename": "ZeroDivisionError",
     "evalue": "float division",
     "output_type": "error",
     "traceback": [
      "\u001b[1;31m---------------------------------------------------------------------------\u001b[0m",
      "\u001b[1;31mZeroDivisionError\u001b[0m                         Traceback (most recent call last)",
      "\u001b[1;31mZeroDivisionError\u001b[0m: float division"
     ]
    },
    {
     "name": "stderr",
     "output_type": "stream",
     "text": [
      "Exception ignored in: 'MontyCarlo.tools.RITA.Interval._eval'\n",
      "Traceback (most recent call last):\n",
      "  File \"<ipython-input-254-2eca1893ac94>\", line 4, in <module>\n",
      "ZeroDivisionError: float division\n"
     ]
    },
    {
     "ename": "ZeroDivisionError",
     "evalue": "float division",
     "output_type": "error",
     "traceback": [
      "\u001b[1;31m---------------------------------------------------------------------------\u001b[0m",
      "\u001b[1;31mZeroDivisionError\u001b[0m                         Traceback (most recent call last)",
      "\u001b[1;31mZeroDivisionError\u001b[0m: float division"
     ]
    },
    {
     "name": "stderr",
     "output_type": "stream",
     "text": [
      "Exception ignored in: 'MontyCarlo.tools.RITA.Interval._eval'\n",
      "Traceback (most recent call last):\n",
      "  File \"<ipython-input-254-2eca1893ac94>\", line 4, in <module>\n",
      "ZeroDivisionError: float division\n"
     ]
    },
    {
     "ename": "ZeroDivisionError",
     "evalue": "float division",
     "output_type": "error",
     "traceback": [
      "\u001b[1;31m---------------------------------------------------------------------------\u001b[0m",
      "\u001b[1;31mZeroDivisionError\u001b[0m                         Traceback (most recent call last)",
      "\u001b[1;31mZeroDivisionError\u001b[0m: float division"
     ]
    },
    {
     "name": "stderr",
     "output_type": "stream",
     "text": [
      "Exception ignored in: 'MontyCarlo.tools.RITA.Interval._eval'\n",
      "Traceback (most recent call last):\n",
      "  File \"<ipython-input-254-2eca1893ac94>\", line 4, in <module>\n",
      "ZeroDivisionError: float division\n"
     ]
    },
    {
     "ename": "ZeroDivisionError",
     "evalue": "float division",
     "output_type": "error",
     "traceback": [
      "\u001b[1;31m---------------------------------------------------------------------------\u001b[0m",
      "\u001b[1;31mZeroDivisionError\u001b[0m                         Traceback (most recent call last)",
      "\u001b[1;31mZeroDivisionError\u001b[0m: float division"
     ]
    },
    {
     "name": "stderr",
     "output_type": "stream",
     "text": [
      "Exception ignored in: 'MontyCarlo.tools.RITA.Interval._eval'\n",
      "Traceback (most recent call last):\n",
      "  File \"<ipython-input-254-2eca1893ac94>\", line 4, in <module>\n",
      "ZeroDivisionError: float division\n"
     ]
    },
    {
     "ename": "ZeroDivisionError",
     "evalue": "float division",
     "output_type": "error",
     "traceback": [
      "\u001b[1;31m---------------------------------------------------------------------------\u001b[0m",
      "\u001b[1;31mZeroDivisionError\u001b[0m                         Traceback (most recent call last)",
      "\u001b[1;31mZeroDivisionError\u001b[0m: float division"
     ]
    },
    {
     "name": "stderr",
     "output_type": "stream",
     "text": [
      "Exception ignored in: 'MontyCarlo.tools.RITA.Interval._eval'\n",
      "Traceback (most recent call last):\n",
      "  File \"<ipython-input-254-2eca1893ac94>\", line 4, in <module>\n",
      "ZeroDivisionError: float division\n"
     ]
    },
    {
     "ename": "ZeroDivisionError",
     "evalue": "float division",
     "output_type": "error",
     "traceback": [
      "\u001b[1;31m---------------------------------------------------------------------------\u001b[0m",
      "\u001b[1;31mZeroDivisionError\u001b[0m                         Traceback (most recent call last)",
      "\u001b[1;31mZeroDivisionError\u001b[0m: float division"
     ]
    },
    {
     "name": "stderr",
     "output_type": "stream",
     "text": [
      "Exception ignored in: 'MontyCarlo.tools.RITA.Interval._eval'\n",
      "Traceback (most recent call last):\n",
      "  File \"<ipython-input-254-2eca1893ac94>\", line 4, in <module>\n",
      "ZeroDivisionError: float division\n"
     ]
    },
    {
     "ename": "ZeroDivisionError",
     "evalue": "float division",
     "output_type": "error",
     "traceback": [
      "\u001b[1;31m---------------------------------------------------------------------------\u001b[0m",
      "\u001b[1;31mZeroDivisionError\u001b[0m                         Traceback (most recent call last)",
      "\u001b[1;31mZeroDivisionError\u001b[0m: float division"
     ]
    },
    {
     "name": "stderr",
     "output_type": "stream",
     "text": [
      "Exception ignored in: 'MontyCarlo.tools.RITA.Interval._eval'\n",
      "Traceback (most recent call last):\n",
      "  File \"<ipython-input-254-2eca1893ac94>\", line 4, in <module>\n",
      "ZeroDivisionError: float division\n"
     ]
    },
    {
     "ename": "ZeroDivisionError",
     "evalue": "float division",
     "output_type": "error",
     "traceback": [
      "\u001b[1;31m---------------------------------------------------------------------------\u001b[0m",
      "\u001b[1;31mZeroDivisionError\u001b[0m                         Traceback (most recent call last)",
      "\u001b[1;31mZeroDivisionError\u001b[0m: float division"
     ]
    },
    {
     "name": "stderr",
     "output_type": "stream",
     "text": [
      "Exception ignored in: 'MontyCarlo.tools.RITA.Interval._eval'\n",
      "Traceback (most recent call last):\n",
      "  File \"<ipython-input-254-2eca1893ac94>\", line 4, in <module>\n",
      "ZeroDivisionError: float division\n"
     ]
    },
    {
     "ename": "ZeroDivisionError",
     "evalue": "float division",
     "output_type": "error",
     "traceback": [
      "\u001b[1;31m---------------------------------------------------------------------------\u001b[0m",
      "\u001b[1;31mZeroDivisionError\u001b[0m                         Traceback (most recent call last)",
      "\u001b[1;31mZeroDivisionError\u001b[0m: float division"
     ]
    },
    {
     "name": "stderr",
     "output_type": "stream",
     "text": [
      "Exception ignored in: 'MontyCarlo.tools.RITA.Interval._eval'\n",
      "Traceback (most recent call last):\n",
      "  File \"<ipython-input-254-2eca1893ac94>\", line 4, in <module>\n",
      "ZeroDivisionError: float division\n"
     ]
    },
    {
     "ename": "ZeroDivisionError",
     "evalue": "float division",
     "output_type": "error",
     "traceback": [
      "\u001b[1;31m---------------------------------------------------------------------------\u001b[0m",
      "\u001b[1;31mZeroDivisionError\u001b[0m                         Traceback (most recent call last)",
      "\u001b[1;31mZeroDivisionError\u001b[0m: float division"
     ]
    },
    {
     "name": "stderr",
     "output_type": "stream",
     "text": [
      "Exception ignored in: 'MontyCarlo.tools.RITA.Interval._eval'\n",
      "Traceback (most recent call last):\n",
      "  File \"<ipython-input-254-2eca1893ac94>\", line 4, in <module>\n",
      "ZeroDivisionError: float division\n"
     ]
    },
    {
     "ename": "ZeroDivisionError",
     "evalue": "float division",
     "output_type": "error",
     "traceback": [
      "\u001b[1;31m---------------------------------------------------------------------------\u001b[0m",
      "\u001b[1;31mZeroDivisionError\u001b[0m                         Traceback (most recent call last)",
      "\u001b[1;31mZeroDivisionError\u001b[0m: float division"
     ]
    },
    {
     "name": "stderr",
     "output_type": "stream",
     "text": [
      "Exception ignored in: 'MontyCarlo.tools.RITA.Interval._eval'\n",
      "Traceback (most recent call last):\n",
      "  File \"<ipython-input-254-2eca1893ac94>\", line 4, in <module>\n",
      "ZeroDivisionError: float division\n"
     ]
    },
    {
     "ename": "ZeroDivisionError",
     "evalue": "float division",
     "output_type": "error",
     "traceback": [
      "\u001b[1;31m---------------------------------------------------------------------------\u001b[0m",
      "\u001b[1;31mZeroDivisionError\u001b[0m                         Traceback (most recent call last)",
      "\u001b[1;31mZeroDivisionError\u001b[0m: float division"
     ]
    },
    {
     "name": "stderr",
     "output_type": "stream",
     "text": [
      "Exception ignored in: 'MontyCarlo.tools.RITA.Interval._eval'\n",
      "Traceback (most recent call last):\n",
      "  File \"<ipython-input-254-2eca1893ac94>\", line 4, in <module>\n",
      "ZeroDivisionError: float division\n"
     ]
    },
    {
     "ename": "ZeroDivisionError",
     "evalue": "float division",
     "output_type": "error",
     "traceback": [
      "\u001b[1;31m---------------------------------------------------------------------------\u001b[0m",
      "\u001b[1;31mZeroDivisionError\u001b[0m                         Traceback (most recent call last)",
      "\u001b[1;31mZeroDivisionError\u001b[0m: float division"
     ]
    },
    {
     "name": "stderr",
     "output_type": "stream",
     "text": [
      "Exception ignored in: 'MontyCarlo.tools.RITA.Interval._eval'\n",
      "Traceback (most recent call last):\n",
      "  File \"<ipython-input-254-2eca1893ac94>\", line 4, in <module>\n",
      "ZeroDivisionError: float division\n"
     ]
    },
    {
     "ename": "ZeroDivisionError",
     "evalue": "float division",
     "output_type": "error",
     "traceback": [
      "\u001b[1;31m---------------------------------------------------------------------------\u001b[0m",
      "\u001b[1;31mZeroDivisionError\u001b[0m                         Traceback (most recent call last)",
      "\u001b[1;31mZeroDivisionError\u001b[0m: float division"
     ]
    },
    {
     "name": "stderr",
     "output_type": "stream",
     "text": [
      "Exception ignored in: 'MontyCarlo.tools.RITA.Interval._eval'\n",
      "Traceback (most recent call last):\n",
      "  File \"<ipython-input-254-2eca1893ac94>\", line 4, in <module>\n",
      "ZeroDivisionError: float division\n"
     ]
    },
    {
     "ename": "ZeroDivisionError",
     "evalue": "float division",
     "output_type": "error",
     "traceback": [
      "\u001b[1;31m---------------------------------------------------------------------------\u001b[0m",
      "\u001b[1;31mZeroDivisionError\u001b[0m                         Traceback (most recent call last)",
      "\u001b[1;31mZeroDivisionError\u001b[0m: float division"
     ]
    },
    {
     "name": "stderr",
     "output_type": "stream",
     "text": [
      "Exception ignored in: 'MontyCarlo.tools.RITA.Interval._eval'\n",
      "Traceback (most recent call last):\n",
      "  File \"<ipython-input-254-2eca1893ac94>\", line 4, in <module>\n",
      "ZeroDivisionError: float division\n"
     ]
    },
    {
     "ename": "ZeroDivisionError",
     "evalue": "float division",
     "output_type": "error",
     "traceback": [
      "\u001b[1;31m---------------------------------------------------------------------------\u001b[0m",
      "\u001b[1;31mZeroDivisionError\u001b[0m                         Traceback (most recent call last)",
      "\u001b[1;31mZeroDivisionError\u001b[0m: float division"
     ]
    },
    {
     "name": "stderr",
     "output_type": "stream",
     "text": [
      "Exception ignored in: 'MontyCarlo.tools.RITA.Interval._eval'\n",
      "Traceback (most recent call last):\n",
      "  File \"<ipython-input-254-2eca1893ac94>\", line 4, in <module>\n",
      "ZeroDivisionError: float division\n"
     ]
    },
    {
     "ename": "ZeroDivisionError",
     "evalue": "float division",
     "output_type": "error",
     "traceback": [
      "\u001b[1;31m---------------------------------------------------------------------------\u001b[0m",
      "\u001b[1;31mZeroDivisionError\u001b[0m                         Traceback (most recent call last)",
      "\u001b[1;31mZeroDivisionError\u001b[0m: float division"
     ]
    },
    {
     "name": "stderr",
     "output_type": "stream",
     "text": [
      "Exception ignored in: 'MontyCarlo.tools.RITA.Interval._eval'\n",
      "Traceback (most recent call last):\n",
      "  File \"<ipython-input-254-2eca1893ac94>\", line 4, in <module>\n",
      "ZeroDivisionError: float division\n"
     ]
    },
    {
     "ename": "ZeroDivisionError",
     "evalue": "float division",
     "output_type": "error",
     "traceback": [
      "\u001b[1;31m---------------------------------------------------------------------------\u001b[0m",
      "\u001b[1;31mZeroDivisionError\u001b[0m                         Traceback (most recent call last)",
      "\u001b[1;31mZeroDivisionError\u001b[0m: float division"
     ]
    },
    {
     "name": "stderr",
     "output_type": "stream",
     "text": [
      "Exception ignored in: 'MontyCarlo.tools.RITA.Interval._eval'\n",
      "Traceback (most recent call last):\n",
      "  File \"<ipython-input-254-2eca1893ac94>\", line 4, in <module>\n",
      "ZeroDivisionError: float division\n"
     ]
    },
    {
     "ename": "ZeroDivisionError",
     "evalue": "float division",
     "output_type": "error",
     "traceback": [
      "\u001b[1;31m---------------------------------------------------------------------------\u001b[0m",
      "\u001b[1;31mZeroDivisionError\u001b[0m                         Traceback (most recent call last)",
      "\u001b[1;31mZeroDivisionError\u001b[0m: float division"
     ]
    },
    {
     "name": "stderr",
     "output_type": "stream",
     "text": [
      "Exception ignored in: 'MontyCarlo.tools.RITA.Interval._eval'\n",
      "Traceback (most recent call last):\n",
      "  File \"<ipython-input-254-2eca1893ac94>\", line 4, in <module>\n",
      "ZeroDivisionError: float division\n"
     ]
    },
    {
     "ename": "ZeroDivisionError",
     "evalue": "float division",
     "output_type": "error",
     "traceback": [
      "\u001b[1;31m---------------------------------------------------------------------------\u001b[0m",
      "\u001b[1;31mZeroDivisionError\u001b[0m                         Traceback (most recent call last)",
      "\u001b[1;31mZeroDivisionError\u001b[0m: float division"
     ]
    },
    {
     "name": "stderr",
     "output_type": "stream",
     "text": [
      "Exception ignored in: 'MontyCarlo.tools.RITA.Interval._eval'\n",
      "Traceback (most recent call last):\n",
      "  File \"<ipython-input-254-2eca1893ac94>\", line 4, in <module>\n",
      "ZeroDivisionError: float division\n"
     ]
    },
    {
     "ename": "ZeroDivisionError",
     "evalue": "float division",
     "output_type": "error",
     "traceback": [
      "\u001b[1;31m---------------------------------------------------------------------------\u001b[0m",
      "\u001b[1;31mZeroDivisionError\u001b[0m                         Traceback (most recent call last)",
      "\u001b[1;31mZeroDivisionError\u001b[0m: float division"
     ]
    },
    {
     "name": "stderr",
     "output_type": "stream",
     "text": [
      "Exception ignored in: 'MontyCarlo.tools.RITA.Interval._eval'\n",
      "Traceback (most recent call last):\n",
      "  File \"<ipython-input-254-2eca1893ac94>\", line 4, in <module>\n",
      "ZeroDivisionError: float division\n"
     ]
    },
    {
     "ename": "ZeroDivisionError",
     "evalue": "float division",
     "output_type": "error",
     "traceback": [
      "\u001b[1;31m---------------------------------------------------------------------------\u001b[0m",
      "\u001b[1;31mZeroDivisionError\u001b[0m                         Traceback (most recent call last)",
      "\u001b[1;31mZeroDivisionError\u001b[0m: float division"
     ]
    },
    {
     "name": "stderr",
     "output_type": "stream",
     "text": [
      "Exception ignored in: 'MontyCarlo.tools.RITA.Interval._eval'\n",
      "Traceback (most recent call last):\n",
      "  File \"<ipython-input-254-2eca1893ac94>\", line 4, in <module>\n",
      "ZeroDivisionError: float division\n"
     ]
    },
    {
     "ename": "ZeroDivisionError",
     "evalue": "float division",
     "output_type": "error",
     "traceback": [
      "\u001b[1;31m---------------------------------------------------------------------------\u001b[0m",
      "\u001b[1;31mZeroDivisionError\u001b[0m                         Traceback (most recent call last)",
      "\u001b[1;31mZeroDivisionError\u001b[0m: float division"
     ]
    },
    {
     "name": "stderr",
     "output_type": "stream",
     "text": [
      "Exception ignored in: 'MontyCarlo.tools.RITA.Interval._eval'\n",
      "Traceback (most recent call last):\n",
      "  File \"<ipython-input-254-2eca1893ac94>\", line 4, in <module>\n",
      "ZeroDivisionError: float division\n"
     ]
    },
    {
     "ename": "ZeroDivisionError",
     "evalue": "float division",
     "output_type": "error",
     "traceback": [
      "\u001b[1;31m---------------------------------------------------------------------------\u001b[0m",
      "\u001b[1;31mZeroDivisionError\u001b[0m                         Traceback (most recent call last)",
      "\u001b[1;31mZeroDivisionError\u001b[0m: float division"
     ]
    },
    {
     "name": "stderr",
     "output_type": "stream",
     "text": [
      "Exception ignored in: 'MontyCarlo.tools.RITA.Interval._eval'\n",
      "Traceback (most recent call last):\n",
      "  File \"<ipython-input-254-2eca1893ac94>\", line 4, in <module>\n",
      "ZeroDivisionError: float division\n"
     ]
    },
    {
     "ename": "ZeroDivisionError",
     "evalue": "float division",
     "output_type": "error",
     "traceback": [
      "\u001b[1;31m---------------------------------------------------------------------------\u001b[0m",
      "\u001b[1;31mZeroDivisionError\u001b[0m                         Traceback (most recent call last)",
      "\u001b[1;31mZeroDivisionError\u001b[0m: float division"
     ]
    },
    {
     "name": "stderr",
     "output_type": "stream",
     "text": [
      "Exception ignored in: 'MontyCarlo.tools.RITA.Interval._eval'\n",
      "Traceback (most recent call last):\n",
      "  File \"<ipython-input-254-2eca1893ac94>\", line 4, in <module>\n",
      "ZeroDivisionError: float division\n"
     ]
    },
    {
     "ename": "ZeroDivisionError",
     "evalue": "float division",
     "output_type": "error",
     "traceback": [
      "\u001b[1;31m---------------------------------------------------------------------------\u001b[0m",
      "\u001b[1;31mZeroDivisionError\u001b[0m                         Traceback (most recent call last)",
      "\u001b[1;31mZeroDivisionError\u001b[0m: float division"
     ]
    },
    {
     "name": "stderr",
     "output_type": "stream",
     "text": [
      "Exception ignored in: 'MontyCarlo.tools.RITA.Interval._eval'\n",
      "Traceback (most recent call last):\n",
      "  File \"<ipython-input-254-2eca1893ac94>\", line 4, in <module>\n",
      "ZeroDivisionError: float division\n"
     ]
    },
    {
     "ename": "ZeroDivisionError",
     "evalue": "float division",
     "output_type": "error",
     "traceback": [
      "\u001b[1;31m---------------------------------------------------------------------------\u001b[0m",
      "\u001b[1;31mZeroDivisionError\u001b[0m                         Traceback (most recent call last)",
      "\u001b[1;31mZeroDivisionError\u001b[0m: float division"
     ]
    },
    {
     "name": "stderr",
     "output_type": "stream",
     "text": [
      "Exception ignored in: 'MontyCarlo.tools.RITA.Interval._eval'\n",
      "Traceback (most recent call last):\n",
      "  File \"<ipython-input-254-2eca1893ac94>\", line 4, in <module>\n",
      "ZeroDivisionError: float division\n"
     ]
    },
    {
     "ename": "ZeroDivisionError",
     "evalue": "float division",
     "output_type": "error",
     "traceback": [
      "\u001b[1;31m---------------------------------------------------------------------------\u001b[0m",
      "\u001b[1;31mZeroDivisionError\u001b[0m                         Traceback (most recent call last)",
      "\u001b[1;31mZeroDivisionError\u001b[0m: float division"
     ]
    },
    {
     "name": "stderr",
     "output_type": "stream",
     "text": [
      "Exception ignored in: 'MontyCarlo.tools.RITA.Interval._eval'\n",
      "Traceback (most recent call last):\n",
      "  File \"<ipython-input-254-2eca1893ac94>\", line 4, in <module>\n",
      "ZeroDivisionError: float division\n"
     ]
    },
    {
     "ename": "ZeroDivisionError",
     "evalue": "float division",
     "output_type": "error",
     "traceback": [
      "\u001b[1;31m---------------------------------------------------------------------------\u001b[0m",
      "\u001b[1;31mZeroDivisionError\u001b[0m                         Traceback (most recent call last)",
      "\u001b[1;31mZeroDivisionError\u001b[0m: float division"
     ]
    },
    {
     "name": "stderr",
     "output_type": "stream",
     "text": [
      "Exception ignored in: 'MontyCarlo.tools.RITA.Interval._eval'\n",
      "Traceback (most recent call last):\n",
      "  File \"<ipython-input-254-2eca1893ac94>\", line 4, in <module>\n",
      "ZeroDivisionError: float division\n"
     ]
    },
    {
     "ename": "ZeroDivisionError",
     "evalue": "float division",
     "output_type": "error",
     "traceback": [
      "\u001b[1;31m---------------------------------------------------------------------------\u001b[0m",
      "\u001b[1;31mZeroDivisionError\u001b[0m                         Traceback (most recent call last)",
      "\u001b[1;31mZeroDivisionError\u001b[0m: float division"
     ]
    },
    {
     "name": "stderr",
     "output_type": "stream",
     "text": [
      "Exception ignored in: 'MontyCarlo.tools.RITA.Interval._eval'\n",
      "Traceback (most recent call last):\n",
      "  File \"<ipython-input-254-2eca1893ac94>\", line 4, in <module>\n",
      "ZeroDivisionError: float division\n"
     ]
    },
    {
     "ename": "ZeroDivisionError",
     "evalue": "float division",
     "output_type": "error",
     "traceback": [
      "\u001b[1;31m---------------------------------------------------------------------------\u001b[0m",
      "\u001b[1;31mZeroDivisionError\u001b[0m                         Traceback (most recent call last)",
      "\u001b[1;31mZeroDivisionError\u001b[0m: float division"
     ]
    },
    {
     "name": "stderr",
     "output_type": "stream",
     "text": [
      "Exception ignored in: 'MontyCarlo.tools.RITA.Interval._eval'\n",
      "Traceback (most recent call last):\n",
      "  File \"<ipython-input-254-2eca1893ac94>\", line 4, in <module>\n",
      "ZeroDivisionError: float division\n"
     ]
    },
    {
     "ename": "ZeroDivisionError",
     "evalue": "float division",
     "output_type": "error",
     "traceback": [
      "\u001b[1;31m---------------------------------------------------------------------------\u001b[0m",
      "\u001b[1;31mZeroDivisionError\u001b[0m                         Traceback (most recent call last)",
      "\u001b[1;31mZeroDivisionError\u001b[0m: float division"
     ]
    },
    {
     "name": "stderr",
     "output_type": "stream",
     "text": [
      "Exception ignored in: 'MontyCarlo.tools.RITA.Interval._eval'\n",
      "Traceback (most recent call last):\n",
      "  File \"<ipython-input-254-2eca1893ac94>\", line 4, in <module>\n",
      "ZeroDivisionError: float division\n"
     ]
    },
    {
     "ename": "ZeroDivisionError",
     "evalue": "float division",
     "output_type": "error",
     "traceback": [
      "\u001b[1;31m---------------------------------------------------------------------------\u001b[0m",
      "\u001b[1;31mZeroDivisionError\u001b[0m                         Traceback (most recent call last)",
      "\u001b[1;31mZeroDivisionError\u001b[0m: float division"
     ]
    },
    {
     "name": "stderr",
     "output_type": "stream",
     "text": [
      "Exception ignored in: 'MontyCarlo.tools.RITA.Interval._eval'\n",
      "Traceback (most recent call last):\n",
      "  File \"<ipython-input-254-2eca1893ac94>\", line 4, in <module>\n",
      "ZeroDivisionError: float division\n"
     ]
    },
    {
     "ename": "ZeroDivisionError",
     "evalue": "float division",
     "output_type": "error",
     "traceback": [
      "\u001b[1;31m---------------------------------------------------------------------------\u001b[0m",
      "\u001b[1;31mZeroDivisionError\u001b[0m                         Traceback (most recent call last)",
      "\u001b[1;31mZeroDivisionError\u001b[0m: float division"
     ]
    },
    {
     "name": "stderr",
     "output_type": "stream",
     "text": [
      "Exception ignored in: 'MontyCarlo.tools.RITA.Interval._eval'\n",
      "Traceback (most recent call last):\n",
      "  File \"<ipython-input-254-2eca1893ac94>\", line 4, in <module>\n",
      "ZeroDivisionError: float division\n"
     ]
    },
    {
     "ename": "ZeroDivisionError",
     "evalue": "float division",
     "output_type": "error",
     "traceback": [
      "\u001b[1;31m---------------------------------------------------------------------------\u001b[0m",
      "\u001b[1;31mZeroDivisionError\u001b[0m                         Traceback (most recent call last)",
      "\u001b[1;31mZeroDivisionError\u001b[0m: float division"
     ]
    },
    {
     "name": "stderr",
     "output_type": "stream",
     "text": [
      "Exception ignored in: 'MontyCarlo.tools.RITA.Interval._eval'\n",
      "Traceback (most recent call last):\n",
      "  File \"<ipython-input-254-2eca1893ac94>\", line 4, in <module>\n",
      "ZeroDivisionError: float division\n"
     ]
    },
    {
     "ename": "ZeroDivisionError",
     "evalue": "float division",
     "output_type": "error",
     "traceback": [
      "\u001b[1;31m---------------------------------------------------------------------------\u001b[0m",
      "\u001b[1;31mZeroDivisionError\u001b[0m                         Traceback (most recent call last)",
      "\u001b[1;31mZeroDivisionError\u001b[0m: float division"
     ]
    },
    {
     "name": "stderr",
     "output_type": "stream",
     "text": [
      "Exception ignored in: 'MontyCarlo.tools.RITA.Interval._eval'\n",
      "Traceback (most recent call last):\n",
      "  File \"<ipython-input-254-2eca1893ac94>\", line 4, in <module>\n",
      "ZeroDivisionError: float division\n"
     ]
    },
    {
     "ename": "ZeroDivisionError",
     "evalue": "float division",
     "output_type": "error",
     "traceback": [
      "\u001b[1;31m---------------------------------------------------------------------------\u001b[0m",
      "\u001b[1;31mZeroDivisionError\u001b[0m                         Traceback (most recent call last)",
      "\u001b[1;31mZeroDivisionError\u001b[0m: float division"
     ]
    },
    {
     "name": "stderr",
     "output_type": "stream",
     "text": [
      "Exception ignored in: 'MontyCarlo.tools.RITA.Interval._eval'\n",
      "Traceback (most recent call last):\n",
      "  File \"<ipython-input-254-2eca1893ac94>\", line 4, in <module>\n",
      "ZeroDivisionError: float division\n"
     ]
    },
    {
     "ename": "ZeroDivisionError",
     "evalue": "float division",
     "output_type": "error",
     "traceback": [
      "\u001b[1;31m---------------------------------------------------------------------------\u001b[0m",
      "\u001b[1;31mZeroDivisionError\u001b[0m                         Traceback (most recent call last)",
      "\u001b[1;31mZeroDivisionError\u001b[0m: float division"
     ]
    },
    {
     "name": "stderr",
     "output_type": "stream",
     "text": [
      "Exception ignored in: 'MontyCarlo.tools.RITA.Interval._eval'\n",
      "Traceback (most recent call last):\n",
      "  File \"<ipython-input-254-2eca1893ac94>\", line 4, in <module>\n",
      "ZeroDivisionError: float division\n"
     ]
    },
    {
     "ename": "ZeroDivisionError",
     "evalue": "float division",
     "output_type": "error",
     "traceback": [
      "\u001b[1;31m---------------------------------------------------------------------------\u001b[0m",
      "\u001b[1;31mZeroDivisionError\u001b[0m                         Traceback (most recent call last)",
      "\u001b[1;31mZeroDivisionError\u001b[0m: float division"
     ]
    },
    {
     "name": "stderr",
     "output_type": "stream",
     "text": [
      "Exception ignored in: 'MontyCarlo.tools.RITA.Interval._eval'\n",
      "Traceback (most recent call last):\n",
      "  File \"<ipython-input-254-2eca1893ac94>\", line 4, in <module>\n",
      "ZeroDivisionError: float division\n"
     ]
    },
    {
     "ename": "ZeroDivisionError",
     "evalue": "float division",
     "output_type": "error",
     "traceback": [
      "\u001b[1;31m---------------------------------------------------------------------------\u001b[0m",
      "\u001b[1;31mZeroDivisionError\u001b[0m                         Traceback (most recent call last)",
      "\u001b[1;31mZeroDivisionError\u001b[0m: float division"
     ]
    },
    {
     "name": "stderr",
     "output_type": "stream",
     "text": [
      "Exception ignored in: 'MontyCarlo.tools.RITA.Interval._eval'\n",
      "Traceback (most recent call last):\n",
      "  File \"<ipython-input-254-2eca1893ac94>\", line 4, in <module>\n",
      "ZeroDivisionError: float division\n"
     ]
    },
    {
     "ename": "ZeroDivisionError",
     "evalue": "float division",
     "output_type": "error",
     "traceback": [
      "\u001b[1;31m---------------------------------------------------------------------------\u001b[0m",
      "\u001b[1;31mZeroDivisionError\u001b[0m                         Traceback (most recent call last)",
      "\u001b[1;31mZeroDivisionError\u001b[0m: float division"
     ]
    },
    {
     "name": "stderr",
     "output_type": "stream",
     "text": [
      "Exception ignored in: 'MontyCarlo.tools.RITA.Interval._eval'\n",
      "Traceback (most recent call last):\n",
      "  File \"<ipython-input-254-2eca1893ac94>\", line 4, in <module>\n",
      "ZeroDivisionError: float division\n"
     ]
    },
    {
     "ename": "ZeroDivisionError",
     "evalue": "float division",
     "output_type": "error",
     "traceback": [
      "\u001b[1;31m---------------------------------------------------------------------------\u001b[0m",
      "\u001b[1;31mZeroDivisionError\u001b[0m                         Traceback (most recent call last)",
      "\u001b[1;31mZeroDivisionError\u001b[0m: float division"
     ]
    },
    {
     "name": "stderr",
     "output_type": "stream",
     "text": [
      "Exception ignored in: 'MontyCarlo.tools.RITA.Interval._eval'\n",
      "Traceback (most recent call last):\n",
      "  File \"<ipython-input-254-2eca1893ac94>\", line 4, in <module>\n",
      "ZeroDivisionError: float division\n"
     ]
    },
    {
     "ename": "ZeroDivisionError",
     "evalue": "float division",
     "output_type": "error",
     "traceback": [
      "\u001b[1;31m---------------------------------------------------------------------------\u001b[0m",
      "\u001b[1;31mZeroDivisionError\u001b[0m                         Traceback (most recent call last)",
      "\u001b[1;31mZeroDivisionError\u001b[0m: float division"
     ]
    },
    {
     "name": "stderr",
     "output_type": "stream",
     "text": [
      "Exception ignored in: 'MontyCarlo.tools.RITA.Interval._eval'\n",
      "Traceback (most recent call last):\n",
      "  File \"<ipython-input-254-2eca1893ac94>\", line 4, in <module>\n",
      "ZeroDivisionError: float division\n"
     ]
    },
    {
     "ename": "ZeroDivisionError",
     "evalue": "float division",
     "output_type": "error",
     "traceback": [
      "\u001b[1;31m---------------------------------------------------------------------------\u001b[0m",
      "\u001b[1;31mZeroDivisionError\u001b[0m                         Traceback (most recent call last)",
      "\u001b[1;31mZeroDivisionError\u001b[0m: float division"
     ]
    },
    {
     "name": "stderr",
     "output_type": "stream",
     "text": [
      "Exception ignored in: 'MontyCarlo.tools.RITA.Interval._eval'\n",
      "Traceback (most recent call last):\n",
      "  File \"<ipython-input-254-2eca1893ac94>\", line 4, in <module>\n",
      "ZeroDivisionError: float division\n"
     ]
    },
    {
     "ename": "ZeroDivisionError",
     "evalue": "float division",
     "output_type": "error",
     "traceback": [
      "\u001b[1;31m---------------------------------------------------------------------------\u001b[0m",
      "\u001b[1;31mZeroDivisionError\u001b[0m                         Traceback (most recent call last)",
      "\u001b[1;31mZeroDivisionError\u001b[0m: float division"
     ]
    },
    {
     "name": "stderr",
     "output_type": "stream",
     "text": [
      "Exception ignored in: 'MontyCarlo.tools.RITA.Interval._eval'\n",
      "Traceback (most recent call last):\n",
      "  File \"<ipython-input-254-2eca1893ac94>\", line 4, in <module>\n",
      "ZeroDivisionError: float division\n"
     ]
    },
    {
     "ename": "ZeroDivisionError",
     "evalue": "float division",
     "output_type": "error",
     "traceback": [
      "\u001b[1;31m---------------------------------------------------------------------------\u001b[0m",
      "\u001b[1;31mZeroDivisionError\u001b[0m                         Traceback (most recent call last)",
      "\u001b[1;31mZeroDivisionError\u001b[0m: float division"
     ]
    },
    {
     "name": "stderr",
     "output_type": "stream",
     "text": [
      "Exception ignored in: 'MontyCarlo.tools.RITA.Interval._eval'\n",
      "Traceback (most recent call last):\n",
      "  File \"<ipython-input-254-2eca1893ac94>\", line 4, in <module>\n",
      "ZeroDivisionError: float division\n"
     ]
    },
    {
     "ename": "ZeroDivisionError",
     "evalue": "float division",
     "output_type": "error",
     "traceback": [
      "\u001b[1;31m---------------------------------------------------------------------------\u001b[0m",
      "\u001b[1;31mZeroDivisionError\u001b[0m                         Traceback (most recent call last)",
      "\u001b[1;31mZeroDivisionError\u001b[0m: float division"
     ]
    },
    {
     "name": "stderr",
     "output_type": "stream",
     "text": [
      "Exception ignored in: 'MontyCarlo.tools.RITA.Interval._eval'\n",
      "Traceback (most recent call last):\n",
      "  File \"<ipython-input-254-2eca1893ac94>\", line 4, in <module>\n",
      "ZeroDivisionError: float division\n"
     ]
    },
    {
     "ename": "ZeroDivisionError",
     "evalue": "float division",
     "output_type": "error",
     "traceback": [
      "\u001b[1;31m---------------------------------------------------------------------------\u001b[0m",
      "\u001b[1;31mZeroDivisionError\u001b[0m                         Traceback (most recent call last)",
      "\u001b[1;31mZeroDivisionError\u001b[0m: float division"
     ]
    },
    {
     "name": "stderr",
     "output_type": "stream",
     "text": [
      "Exception ignored in: 'MontyCarlo.tools.RITA.Interval._eval'\n",
      "Traceback (most recent call last):\n",
      "  File \"<ipython-input-254-2eca1893ac94>\", line 4, in <module>\n",
      "ZeroDivisionError: float division\n"
     ]
    },
    {
     "ename": "ZeroDivisionError",
     "evalue": "float division",
     "output_type": "error",
     "traceback": [
      "\u001b[1;31m---------------------------------------------------------------------------\u001b[0m",
      "\u001b[1;31mZeroDivisionError\u001b[0m                         Traceback (most recent call last)",
      "\u001b[1;31mZeroDivisionError\u001b[0m: float division"
     ]
    },
    {
     "name": "stderr",
     "output_type": "stream",
     "text": [
      "Exception ignored in: 'MontyCarlo.tools.RITA.Interval._eval'\n",
      "Traceback (most recent call last):\n",
      "  File \"<ipython-input-254-2eca1893ac94>\", line 4, in <module>\n",
      "ZeroDivisionError: float division\n"
     ]
    },
    {
     "ename": "ZeroDivisionError",
     "evalue": "float division",
     "output_type": "error",
     "traceback": [
      "\u001b[1;31m---------------------------------------------------------------------------\u001b[0m",
      "\u001b[1;31mZeroDivisionError\u001b[0m                         Traceback (most recent call last)",
      "\u001b[1;31mZeroDivisionError\u001b[0m: float division"
     ]
    },
    {
     "name": "stderr",
     "output_type": "stream",
     "text": [
      "Exception ignored in: 'MontyCarlo.tools.RITA.Interval._eval'\n",
      "Traceback (most recent call last):\n",
      "  File \"<ipython-input-254-2eca1893ac94>\", line 4, in <module>\n",
      "ZeroDivisionError: float division\n"
     ]
    },
    {
     "ename": "ZeroDivisionError",
     "evalue": "float division",
     "output_type": "error",
     "traceback": [
      "\u001b[1;31m---------------------------------------------------------------------------\u001b[0m",
      "\u001b[1;31mZeroDivisionError\u001b[0m                         Traceback (most recent call last)",
      "\u001b[1;31mZeroDivisionError\u001b[0m: float division"
     ]
    },
    {
     "name": "stderr",
     "output_type": "stream",
     "text": [
      "Exception ignored in: 'MontyCarlo.tools.RITA.Interval._eval'\n",
      "Traceback (most recent call last):\n",
      "  File \"<ipython-input-254-2eca1893ac94>\", line 4, in <module>\n",
      "ZeroDivisionError: float division\n"
     ]
    },
    {
     "ename": "ZeroDivisionError",
     "evalue": "float division",
     "output_type": "error",
     "traceback": [
      "\u001b[1;31m---------------------------------------------------------------------------\u001b[0m",
      "\u001b[1;31mZeroDivisionError\u001b[0m                         Traceback (most recent call last)",
      "\u001b[1;31mZeroDivisionError\u001b[0m: float division"
     ]
    },
    {
     "name": "stderr",
     "output_type": "stream",
     "text": [
      "Exception ignored in: 'MontyCarlo.tools.RITA.Interval._eval'\n",
      "Traceback (most recent call last):\n",
      "  File \"<ipython-input-254-2eca1893ac94>\", line 4, in <module>\n",
      "ZeroDivisionError: float division\n"
     ]
    },
    {
     "ename": "ZeroDivisionError",
     "evalue": "float division",
     "output_type": "error",
     "traceback": [
      "\u001b[1;31m---------------------------------------------------------------------------\u001b[0m",
      "\u001b[1;31mZeroDivisionError\u001b[0m                         Traceback (most recent call last)",
      "\u001b[1;31mZeroDivisionError\u001b[0m: float division"
     ]
    },
    {
     "name": "stderr",
     "output_type": "stream",
     "text": [
      "Exception ignored in: 'MontyCarlo.tools.RITA.Interval._eval'\n",
      "Traceback (most recent call last):\n",
      "  File \"<ipython-input-254-2eca1893ac94>\", line 4, in <module>\n",
      "ZeroDivisionError: float division\n"
     ]
    },
    {
     "ename": "ZeroDivisionError",
     "evalue": "float division",
     "output_type": "error",
     "traceback": [
      "\u001b[1;31m---------------------------------------------------------------------------\u001b[0m",
      "\u001b[1;31mZeroDivisionError\u001b[0m                         Traceback (most recent call last)",
      "\u001b[1;31mZeroDivisionError\u001b[0m: float division"
     ]
    },
    {
     "name": "stderr",
     "output_type": "stream",
     "text": [
      "Exception ignored in: 'MontyCarlo.tools.RITA.Interval._eval'\n",
      "Traceback (most recent call last):\n",
      "  File \"<ipython-input-254-2eca1893ac94>\", line 4, in <module>\n",
      "ZeroDivisionError: float division\n"
     ]
    },
    {
     "ename": "ZeroDivisionError",
     "evalue": "float division",
     "output_type": "error",
     "traceback": [
      "\u001b[1;31m---------------------------------------------------------------------------\u001b[0m",
      "\u001b[1;31mZeroDivisionError\u001b[0m                         Traceback (most recent call last)",
      "\u001b[1;31mZeroDivisionError\u001b[0m: float division"
     ]
    },
    {
     "name": "stderr",
     "output_type": "stream",
     "text": [
      "Exception ignored in: 'MontyCarlo.tools.RITA.Interval._eval'\n",
      "Traceback (most recent call last):\n",
      "  File \"<ipython-input-254-2eca1893ac94>\", line 4, in <module>\n",
      "ZeroDivisionError: float division\n"
     ]
    },
    {
     "ename": "ZeroDivisionError",
     "evalue": "float division",
     "output_type": "error",
     "traceback": [
      "\u001b[1;31m---------------------------------------------------------------------------\u001b[0m",
      "\u001b[1;31mZeroDivisionError\u001b[0m                         Traceback (most recent call last)",
      "\u001b[1;31mZeroDivisionError\u001b[0m: float division"
     ]
    },
    {
     "name": "stderr",
     "output_type": "stream",
     "text": [
      "Exception ignored in: 'MontyCarlo.tools.RITA.Interval._eval'\n",
      "Traceback (most recent call last):\n",
      "  File \"<ipython-input-254-2eca1893ac94>\", line 4, in <module>\n",
      "ZeroDivisionError: float division\n"
     ]
    },
    {
     "ename": "ZeroDivisionError",
     "evalue": "float division",
     "output_type": "error",
     "traceback": [
      "\u001b[1;31m---------------------------------------------------------------------------\u001b[0m",
      "\u001b[1;31mZeroDivisionError\u001b[0m                         Traceback (most recent call last)",
      "\u001b[1;31mZeroDivisionError\u001b[0m: float division"
     ]
    },
    {
     "name": "stderr",
     "output_type": "stream",
     "text": [
      "Exception ignored in: 'MontyCarlo.tools.RITA.Interval._eval'\n",
      "Traceback (most recent call last):\n",
      "  File \"<ipython-input-254-2eca1893ac94>\", line 4, in <module>\n",
      "ZeroDivisionError: float division\n"
     ]
    },
    {
     "ename": "ZeroDivisionError",
     "evalue": "float division",
     "output_type": "error",
     "traceback": [
      "\u001b[1;31m---------------------------------------------------------------------------\u001b[0m",
      "\u001b[1;31mZeroDivisionError\u001b[0m                         Traceback (most recent call last)",
      "\u001b[1;31mZeroDivisionError\u001b[0m: float division"
     ]
    },
    {
     "name": "stderr",
     "output_type": "stream",
     "text": [
      "Exception ignored in: 'MontyCarlo.tools.RITA.Interval._eval'\n",
      "Traceback (most recent call last):\n",
      "  File \"<ipython-input-254-2eca1893ac94>\", line 4, in <module>\n",
      "ZeroDivisionError: float division\n"
     ]
    },
    {
     "ename": "ZeroDivisionError",
     "evalue": "float division",
     "output_type": "error",
     "traceback": [
      "\u001b[1;31m---------------------------------------------------------------------------\u001b[0m",
      "\u001b[1;31mZeroDivisionError\u001b[0m                         Traceback (most recent call last)",
      "\u001b[1;31mZeroDivisionError\u001b[0m: float division"
     ]
    },
    {
     "name": "stderr",
     "output_type": "stream",
     "text": [
      "Exception ignored in: 'MontyCarlo.tools.RITA.Interval._eval'\n",
      "Traceback (most recent call last):\n",
      "  File \"<ipython-input-254-2eca1893ac94>\", line 4, in <module>\n",
      "ZeroDivisionError: float division\n"
     ]
    },
    {
     "ename": "ZeroDivisionError",
     "evalue": "float division",
     "output_type": "error",
     "traceback": [
      "\u001b[1;31m---------------------------------------------------------------------------\u001b[0m",
      "\u001b[1;31mZeroDivisionError\u001b[0m                         Traceback (most recent call last)",
      "\u001b[1;31mZeroDivisionError\u001b[0m: float division"
     ]
    },
    {
     "name": "stderr",
     "output_type": "stream",
     "text": [
      "Exception ignored in: 'MontyCarlo.tools.RITA.Interval._eval'\n",
      "Traceback (most recent call last):\n",
      "  File \"<ipython-input-254-2eca1893ac94>\", line 4, in <module>\n",
      "ZeroDivisionError: float division\n"
     ]
    },
    {
     "ename": "ZeroDivisionError",
     "evalue": "float division",
     "output_type": "error",
     "traceback": [
      "\u001b[1;31m---------------------------------------------------------------------------\u001b[0m",
      "\u001b[1;31mZeroDivisionError\u001b[0m                         Traceback (most recent call last)",
      "\u001b[1;31mZeroDivisionError\u001b[0m: float division"
     ]
    },
    {
     "name": "stderr",
     "output_type": "stream",
     "text": [
      "Exception ignored in: 'MontyCarlo.tools.RITA.Interval._eval'\n",
      "Traceback (most recent call last):\n",
      "  File \"<ipython-input-254-2eca1893ac94>\", line 4, in <module>\n",
      "ZeroDivisionError: float division\n"
     ]
    },
    {
     "ename": "ZeroDivisionError",
     "evalue": "float division",
     "output_type": "error",
     "traceback": [
      "\u001b[1;31m---------------------------------------------------------------------------\u001b[0m",
      "\u001b[1;31mZeroDivisionError\u001b[0m                         Traceback (most recent call last)",
      "\u001b[1;31mZeroDivisionError\u001b[0m: float division"
     ]
    },
    {
     "name": "stderr",
     "output_type": "stream",
     "text": [
      "Exception ignored in: 'MontyCarlo.tools.RITA.Interval._eval'\n",
      "Traceback (most recent call last):\n",
      "  File \"<ipython-input-254-2eca1893ac94>\", line 4, in <module>\n",
      "ZeroDivisionError: float division\n"
     ]
    },
    {
     "ename": "ZeroDivisionError",
     "evalue": "float division",
     "output_type": "error",
     "traceback": [
      "\u001b[1;31m---------------------------------------------------------------------------\u001b[0m",
      "\u001b[1;31mZeroDivisionError\u001b[0m                         Traceback (most recent call last)",
      "\u001b[1;31mZeroDivisionError\u001b[0m: float division"
     ]
    },
    {
     "name": "stderr",
     "output_type": "stream",
     "text": [
      "Exception ignored in: 'MontyCarlo.tools.RITA.Interval._eval'\n",
      "Traceback (most recent call last):\n",
      "  File \"<ipython-input-254-2eca1893ac94>\", line 4, in <module>\n",
      "ZeroDivisionError: float division\n"
     ]
    },
    {
     "ename": "ZeroDivisionError",
     "evalue": "float division",
     "output_type": "error",
     "traceback": [
      "\u001b[1;31m---------------------------------------------------------------------------\u001b[0m",
      "\u001b[1;31mZeroDivisionError\u001b[0m                         Traceback (most recent call last)",
      "\u001b[1;31mZeroDivisionError\u001b[0m: float division"
     ]
    },
    {
     "name": "stderr",
     "output_type": "stream",
     "text": [
      "Exception ignored in: 'MontyCarlo.tools.RITA.Interval._eval'\n",
      "Traceback (most recent call last):\n",
      "  File \"<ipython-input-254-2eca1893ac94>\", line 4, in <module>\n",
      "ZeroDivisionError: float division\n"
     ]
    },
    {
     "ename": "ZeroDivisionError",
     "evalue": "float division",
     "output_type": "error",
     "traceback": [
      "\u001b[1;31m---------------------------------------------------------------------------\u001b[0m",
      "\u001b[1;31mZeroDivisionError\u001b[0m                         Traceback (most recent call last)",
      "\u001b[1;31mZeroDivisionError\u001b[0m: float division"
     ]
    },
    {
     "name": "stderr",
     "output_type": "stream",
     "text": [
      "Exception ignored in: 'MontyCarlo.tools.RITA.Interval._eval'\n",
      "Traceback (most recent call last):\n",
      "  File \"<ipython-input-254-2eca1893ac94>\", line 4, in <module>\n",
      "ZeroDivisionError: float division\n"
     ]
    },
    {
     "ename": "ZeroDivisionError",
     "evalue": "float division",
     "output_type": "error",
     "traceback": [
      "\u001b[1;31m---------------------------------------------------------------------------\u001b[0m",
      "\u001b[1;31mZeroDivisionError\u001b[0m                         Traceback (most recent call last)",
      "\u001b[1;31mZeroDivisionError\u001b[0m: float division"
     ]
    },
    {
     "name": "stderr",
     "output_type": "stream",
     "text": [
      "Exception ignored in: 'MontyCarlo.tools.RITA.Interval._eval'\n",
      "Traceback (most recent call last):\n",
      "  File \"<ipython-input-254-2eca1893ac94>\", line 4, in <module>\n",
      "ZeroDivisionError: float division\n"
     ]
    },
    {
     "ename": "ZeroDivisionError",
     "evalue": "float division",
     "output_type": "error",
     "traceback": [
      "\u001b[1;31m---------------------------------------------------------------------------\u001b[0m",
      "\u001b[1;31mZeroDivisionError\u001b[0m                         Traceback (most recent call last)",
      "\u001b[1;31mZeroDivisionError\u001b[0m: float division"
     ]
    },
    {
     "name": "stderr",
     "output_type": "stream",
     "text": [
      "Exception ignored in: 'MontyCarlo.tools.RITA.Interval._eval'\n",
      "Traceback (most recent call last):\n",
      "  File \"<ipython-input-254-2eca1893ac94>\", line 4, in <module>\n",
      "ZeroDivisionError: float division\n"
     ]
    },
    {
     "ename": "ZeroDivisionError",
     "evalue": "float division",
     "output_type": "error",
     "traceback": [
      "\u001b[1;31m---------------------------------------------------------------------------\u001b[0m",
      "\u001b[1;31mZeroDivisionError\u001b[0m                         Traceback (most recent call last)",
      "\u001b[1;31mZeroDivisionError\u001b[0m: float division"
     ]
    },
    {
     "name": "stderr",
     "output_type": "stream",
     "text": [
      "Exception ignored in: 'MontyCarlo.tools.RITA.Interval._eval'\n",
      "Traceback (most recent call last):\n",
      "  File \"<ipython-input-254-2eca1893ac94>\", line 4, in <module>\n",
      "ZeroDivisionError: float division\n"
     ]
    },
    {
     "ename": "ZeroDivisionError",
     "evalue": "float division",
     "output_type": "error",
     "traceback": [
      "\u001b[1;31m---------------------------------------------------------------------------\u001b[0m",
      "\u001b[1;31mZeroDivisionError\u001b[0m                         Traceback (most recent call last)",
      "\u001b[1;31mZeroDivisionError\u001b[0m: float division"
     ]
    },
    {
     "name": "stderr",
     "output_type": "stream",
     "text": [
      "Exception ignored in: 'MontyCarlo.tools.RITA.Interval._eval'\n",
      "Traceback (most recent call last):\n",
      "  File \"<ipython-input-254-2eca1893ac94>\", line 4, in <module>\n",
      "ZeroDivisionError: float division\n"
     ]
    },
    {
     "ename": "ZeroDivisionError",
     "evalue": "float division",
     "output_type": "error",
     "traceback": [
      "\u001b[1;31m---------------------------------------------------------------------------\u001b[0m",
      "\u001b[1;31mZeroDivisionError\u001b[0m                         Traceback (most recent call last)",
      "\u001b[1;31mZeroDivisionError\u001b[0m: float division"
     ]
    },
    {
     "name": "stderr",
     "output_type": "stream",
     "text": [
      "Exception ignored in: 'MontyCarlo.tools.RITA.Interval._eval'\n",
      "Traceback (most recent call last):\n",
      "  File \"<ipython-input-254-2eca1893ac94>\", line 4, in <module>\n",
      "ZeroDivisionError: float division\n"
     ]
    },
    {
     "ename": "ZeroDivisionError",
     "evalue": "float division",
     "output_type": "error",
     "traceback": [
      "\u001b[1;31m---------------------------------------------------------------------------\u001b[0m",
      "\u001b[1;31mZeroDivisionError\u001b[0m                         Traceback (most recent call last)",
      "\u001b[1;31mZeroDivisionError\u001b[0m: float division"
     ]
    },
    {
     "name": "stderr",
     "output_type": "stream",
     "text": [
      "Exception ignored in: 'MontyCarlo.tools.RITA.Interval._eval'\n",
      "Traceback (most recent call last):\n",
      "  File \"<ipython-input-254-2eca1893ac94>\", line 4, in <module>\n",
      "ZeroDivisionError: float division\n"
     ]
    },
    {
     "ename": "ZeroDivisionError",
     "evalue": "float division",
     "output_type": "error",
     "traceback": [
      "\u001b[1;31m---------------------------------------------------------------------------\u001b[0m",
      "\u001b[1;31mZeroDivisionError\u001b[0m                         Traceback (most recent call last)",
      "\u001b[1;31mZeroDivisionError\u001b[0m: float division"
     ]
    },
    {
     "name": "stderr",
     "output_type": "stream",
     "text": [
      "Exception ignored in: 'MontyCarlo.tools.RITA.Interval._eval'\n",
      "Traceback (most recent call last):\n",
      "  File \"<ipython-input-254-2eca1893ac94>\", line 4, in <module>\n",
      "ZeroDivisionError: float division\n"
     ]
    },
    {
     "ename": "ZeroDivisionError",
     "evalue": "float division",
     "output_type": "error",
     "traceback": [
      "\u001b[1;31m---------------------------------------------------------------------------\u001b[0m",
      "\u001b[1;31mZeroDivisionError\u001b[0m                         Traceback (most recent call last)",
      "\u001b[1;31mZeroDivisionError\u001b[0m: float division"
     ]
    },
    {
     "name": "stderr",
     "output_type": "stream",
     "text": [
      "Exception ignored in: 'MontyCarlo.tools.RITA.Interval._eval'\n",
      "Traceback (most recent call last):\n",
      "  File \"<ipython-input-254-2eca1893ac94>\", line 4, in <module>\n",
      "ZeroDivisionError: float division\n"
     ]
    },
    {
     "ename": "ZeroDivisionError",
     "evalue": "float division",
     "output_type": "error",
     "traceback": [
      "\u001b[1;31m---------------------------------------------------------------------------\u001b[0m",
      "\u001b[1;31mZeroDivisionError\u001b[0m                         Traceback (most recent call last)",
      "\u001b[1;31mZeroDivisionError\u001b[0m: float division"
     ]
    },
    {
     "name": "stderr",
     "output_type": "stream",
     "text": [
      "Exception ignored in: 'MontyCarlo.tools.RITA.Interval._eval'\n",
      "Traceback (most recent call last):\n",
      "  File \"<ipython-input-254-2eca1893ac94>\", line 4, in <module>\n",
      "ZeroDivisionError: float division\n"
     ]
    },
    {
     "ename": "ZeroDivisionError",
     "evalue": "float division",
     "output_type": "error",
     "traceback": [
      "\u001b[1;31m---------------------------------------------------------------------------\u001b[0m",
      "\u001b[1;31mZeroDivisionError\u001b[0m                         Traceback (most recent call last)",
      "\u001b[1;31mZeroDivisionError\u001b[0m: float division"
     ]
    },
    {
     "name": "stderr",
     "output_type": "stream",
     "text": [
      "Exception ignored in: 'MontyCarlo.tools.RITA.Interval._eval'\n",
      "Traceback (most recent call last):\n",
      "  File \"<ipython-input-254-2eca1893ac94>\", line 4, in <module>\n",
      "ZeroDivisionError: float division\n"
     ]
    },
    {
     "ename": "ZeroDivisionError",
     "evalue": "float division",
     "output_type": "error",
     "traceback": [
      "\u001b[1;31m---------------------------------------------------------------------------\u001b[0m",
      "\u001b[1;31mZeroDivisionError\u001b[0m                         Traceback (most recent call last)",
      "\u001b[1;31mZeroDivisionError\u001b[0m: float division"
     ]
    },
    {
     "name": "stderr",
     "output_type": "stream",
     "text": [
      "Exception ignored in: 'MontyCarlo.tools.RITA.Interval._eval'\n",
      "Traceback (most recent call last):\n",
      "  File \"<ipython-input-254-2eca1893ac94>\", line 4, in <module>\n",
      "ZeroDivisionError: float division\n"
     ]
    },
    {
     "ename": "ZeroDivisionError",
     "evalue": "float division",
     "output_type": "error",
     "traceback": [
      "\u001b[1;31m---------------------------------------------------------------------------\u001b[0m",
      "\u001b[1;31mZeroDivisionError\u001b[0m                         Traceback (most recent call last)",
      "\u001b[1;31mZeroDivisionError\u001b[0m: float division"
     ]
    },
    {
     "name": "stderr",
     "output_type": "stream",
     "text": [
      "Exception ignored in: 'MontyCarlo.tools.RITA.Interval._eval'\n",
      "Traceback (most recent call last):\n",
      "  File \"<ipython-input-254-2eca1893ac94>\", line 4, in <module>\n",
      "ZeroDivisionError: float division\n"
     ]
    },
    {
     "ename": "ZeroDivisionError",
     "evalue": "float division",
     "output_type": "error",
     "traceback": [
      "\u001b[1;31m---------------------------------------------------------------------------\u001b[0m",
      "\u001b[1;31mZeroDivisionError\u001b[0m                         Traceback (most recent call last)",
      "\u001b[1;31mZeroDivisionError\u001b[0m: float division"
     ]
    },
    {
     "name": "stderr",
     "output_type": "stream",
     "text": [
      "Exception ignored in: 'MontyCarlo.tools.RITA.Interval._eval'\n",
      "Traceback (most recent call last):\n",
      "  File \"<ipython-input-254-2eca1893ac94>\", line 4, in <module>\n",
      "ZeroDivisionError: float division\n"
     ]
    },
    {
     "ename": "ZeroDivisionError",
     "evalue": "float division",
     "output_type": "error",
     "traceback": [
      "\u001b[1;31m---------------------------------------------------------------------------\u001b[0m",
      "\u001b[1;31mZeroDivisionError\u001b[0m                         Traceback (most recent call last)",
      "\u001b[1;31mZeroDivisionError\u001b[0m: float division"
     ]
    },
    {
     "name": "stderr",
     "output_type": "stream",
     "text": [
      "Exception ignored in: 'MontyCarlo.tools.RITA.Interval._eval'\n",
      "Traceback (most recent call last):\n",
      "  File \"<ipython-input-254-2eca1893ac94>\", line 4, in <module>\n",
      "ZeroDivisionError: float division\n"
     ]
    },
    {
     "ename": "ZeroDivisionError",
     "evalue": "float division",
     "output_type": "error",
     "traceback": [
      "\u001b[1;31m---------------------------------------------------------------------------\u001b[0m",
      "\u001b[1;31mZeroDivisionError\u001b[0m                         Traceback (most recent call last)",
      "\u001b[1;31mZeroDivisionError\u001b[0m: float division"
     ]
    },
    {
     "name": "stderr",
     "output_type": "stream",
     "text": [
      "Exception ignored in: 'MontyCarlo.tools.RITA.Interval._eval'\n",
      "Traceback (most recent call last):\n",
      "  File \"<ipython-input-254-2eca1893ac94>\", line 4, in <module>\n",
      "ZeroDivisionError: float division\n"
     ]
    },
    {
     "ename": "ZeroDivisionError",
     "evalue": "float division",
     "output_type": "error",
     "traceback": [
      "\u001b[1;31m---------------------------------------------------------------------------\u001b[0m",
      "\u001b[1;31mZeroDivisionError\u001b[0m                         Traceback (most recent call last)",
      "\u001b[1;31mZeroDivisionError\u001b[0m: float division"
     ]
    },
    {
     "name": "stderr",
     "output_type": "stream",
     "text": [
      "Exception ignored in: 'MontyCarlo.tools.RITA.Interval._eval'\n",
      "Traceback (most recent call last):\n",
      "  File \"<ipython-input-254-2eca1893ac94>\", line 4, in <module>\n",
      "ZeroDivisionError: float division\n"
     ]
    },
    {
     "ename": "ZeroDivisionError",
     "evalue": "float division",
     "output_type": "error",
     "traceback": [
      "\u001b[1;31m---------------------------------------------------------------------------\u001b[0m",
      "\u001b[1;31mZeroDivisionError\u001b[0m                         Traceback (most recent call last)",
      "\u001b[1;31mZeroDivisionError\u001b[0m: float division"
     ]
    },
    {
     "name": "stderr",
     "output_type": "stream",
     "text": [
      "Exception ignored in: 'MontyCarlo.tools.RITA.Interval._eval'\n",
      "Traceback (most recent call last):\n",
      "  File \"<ipython-input-254-2eca1893ac94>\", line 4, in <module>\n",
      "ZeroDivisionError: float division\n"
     ]
    },
    {
     "ename": "ZeroDivisionError",
     "evalue": "float division",
     "output_type": "error",
     "traceback": [
      "\u001b[1;31m---------------------------------------------------------------------------\u001b[0m",
      "\u001b[1;31mZeroDivisionError\u001b[0m                         Traceback (most recent call last)",
      "\u001b[1;31mZeroDivisionError\u001b[0m: float division"
     ]
    },
    {
     "name": "stderr",
     "output_type": "stream",
     "text": [
      "Exception ignored in: 'MontyCarlo.tools.RITA.Interval._eval'\n",
      "Traceback (most recent call last):\n",
      "  File \"<ipython-input-254-2eca1893ac94>\", line 4, in <module>\n",
      "ZeroDivisionError: float division\n"
     ]
    },
    {
     "ename": "ZeroDivisionError",
     "evalue": "float division",
     "output_type": "error",
     "traceback": [
      "\u001b[1;31m---------------------------------------------------------------------------\u001b[0m",
      "\u001b[1;31mZeroDivisionError\u001b[0m                         Traceback (most recent call last)",
      "\u001b[1;31mZeroDivisionError\u001b[0m: float division"
     ]
    },
    {
     "name": "stderr",
     "output_type": "stream",
     "text": [
      "Exception ignored in: 'MontyCarlo.tools.RITA.Interval._eval'\n",
      "Traceback (most recent call last):\n",
      "  File \"<ipython-input-254-2eca1893ac94>\", line 4, in <module>\n",
      "ZeroDivisionError: float division\n"
     ]
    },
    {
     "ename": "ZeroDivisionError",
     "evalue": "float division",
     "output_type": "error",
     "traceback": [
      "\u001b[1;31m---------------------------------------------------------------------------\u001b[0m",
      "\u001b[1;31mZeroDivisionError\u001b[0m                         Traceback (most recent call last)",
      "\u001b[1;31mZeroDivisionError\u001b[0m: float division"
     ]
    },
    {
     "name": "stderr",
     "output_type": "stream",
     "text": [
      "Exception ignored in: 'MontyCarlo.tools.RITA.Interval._eval'\n",
      "Traceback (most recent call last):\n",
      "  File \"<ipython-input-254-2eca1893ac94>\", line 4, in <module>\n",
      "ZeroDivisionError: float division\n"
     ]
    },
    {
     "ename": "ZeroDivisionError",
     "evalue": "float division",
     "output_type": "error",
     "traceback": [
      "\u001b[1;31m---------------------------------------------------------------------------\u001b[0m",
      "\u001b[1;31mZeroDivisionError\u001b[0m                         Traceback (most recent call last)",
      "\u001b[1;31mZeroDivisionError\u001b[0m: float division"
     ]
    },
    {
     "name": "stderr",
     "output_type": "stream",
     "text": [
      "Exception ignored in: 'MontyCarlo.tools.RITA.Interval._eval'\n",
      "Traceback (most recent call last):\n",
      "  File \"<ipython-input-254-2eca1893ac94>\", line 4, in <module>\n",
      "ZeroDivisionError: float division\n"
     ]
    },
    {
     "ename": "ZeroDivisionError",
     "evalue": "float division",
     "output_type": "error",
     "traceback": [
      "\u001b[1;31m---------------------------------------------------------------------------\u001b[0m",
      "\u001b[1;31mZeroDivisionError\u001b[0m                         Traceback (most recent call last)",
      "\u001b[1;31mZeroDivisionError\u001b[0m: float division"
     ]
    },
    {
     "name": "stderr",
     "output_type": "stream",
     "text": [
      "Exception ignored in: 'MontyCarlo.tools.RITA.Interval._eval'\n",
      "Traceback (most recent call last):\n",
      "  File \"<ipython-input-254-2eca1893ac94>\", line 4, in <module>\n",
      "ZeroDivisionError: float division\n"
     ]
    },
    {
     "ename": "ZeroDivisionError",
     "evalue": "float division",
     "output_type": "error",
     "traceback": [
      "\u001b[1;31m---------------------------------------------------------------------------\u001b[0m",
      "\u001b[1;31mZeroDivisionError\u001b[0m                         Traceback (most recent call last)",
      "\u001b[1;31mZeroDivisionError\u001b[0m: float division"
     ]
    },
    {
     "name": "stderr",
     "output_type": "stream",
     "text": [
      "Exception ignored in: 'MontyCarlo.tools.RITA.Interval._eval'\n",
      "Traceback (most recent call last):\n",
      "  File \"<ipython-input-254-2eca1893ac94>\", line 4, in <module>\n",
      "ZeroDivisionError: float division\n"
     ]
    },
    {
     "ename": "ZeroDivisionError",
     "evalue": "float division",
     "output_type": "error",
     "traceback": [
      "\u001b[1;31m---------------------------------------------------------------------------\u001b[0m",
      "\u001b[1;31mZeroDivisionError\u001b[0m                         Traceback (most recent call last)",
      "\u001b[1;31mZeroDivisionError\u001b[0m: float division"
     ]
    },
    {
     "name": "stderr",
     "output_type": "stream",
     "text": [
      "Exception ignored in: 'MontyCarlo.tools.RITA.Interval._eval'\n",
      "Traceback (most recent call last):\n",
      "  File \"<ipython-input-254-2eca1893ac94>\", line 4, in <module>\n",
      "ZeroDivisionError: float division\n"
     ]
    },
    {
     "ename": "ZeroDivisionError",
     "evalue": "float division",
     "output_type": "error",
     "traceback": [
      "\u001b[1;31m---------------------------------------------------------------------------\u001b[0m",
      "\u001b[1;31mZeroDivisionError\u001b[0m                         Traceback (most recent call last)",
      "\u001b[1;31mZeroDivisionError\u001b[0m: float division"
     ]
    },
    {
     "name": "stderr",
     "output_type": "stream",
     "text": [
      "Exception ignored in: 'MontyCarlo.tools.RITA.Interval._eval'\n",
      "Traceback (most recent call last):\n",
      "  File \"<ipython-input-254-2eca1893ac94>\", line 4, in <module>\n",
      "ZeroDivisionError: float division\n"
     ]
    },
    {
     "ename": "ZeroDivisionError",
     "evalue": "float division",
     "output_type": "error",
     "traceback": [
      "\u001b[1;31m---------------------------------------------------------------------------\u001b[0m",
      "\u001b[1;31mZeroDivisionError\u001b[0m                         Traceback (most recent call last)",
      "\u001b[1;31mZeroDivisionError\u001b[0m: float division"
     ]
    },
    {
     "name": "stderr",
     "output_type": "stream",
     "text": [
      "Exception ignored in: 'MontyCarlo.tools.RITA.Interval._eval'\n",
      "Traceback (most recent call last):\n",
      "  File \"<ipython-input-254-2eca1893ac94>\", line 4, in <module>\n",
      "ZeroDivisionError: float division\n"
     ]
    },
    {
     "ename": "ZeroDivisionError",
     "evalue": "float division",
     "output_type": "error",
     "traceback": [
      "\u001b[1;31m---------------------------------------------------------------------------\u001b[0m",
      "\u001b[1;31mZeroDivisionError\u001b[0m                         Traceback (most recent call last)",
      "\u001b[1;31mZeroDivisionError\u001b[0m: float division"
     ]
    },
    {
     "name": "stderr",
     "output_type": "stream",
     "text": [
      "Exception ignored in: 'MontyCarlo.tools.RITA.Interval._eval'\n",
      "Traceback (most recent call last):\n",
      "  File \"<ipython-input-254-2eca1893ac94>\", line 4, in <module>\n",
      "ZeroDivisionError: float division\n"
     ]
    },
    {
     "ename": "ZeroDivisionError",
     "evalue": "float division",
     "output_type": "error",
     "traceback": [
      "\u001b[1;31m---------------------------------------------------------------------------\u001b[0m",
      "\u001b[1;31mZeroDivisionError\u001b[0m                         Traceback (most recent call last)",
      "\u001b[1;31mZeroDivisionError\u001b[0m: float division"
     ]
    },
    {
     "name": "stderr",
     "output_type": "stream",
     "text": [
      "Exception ignored in: 'MontyCarlo.tools.RITA.Interval._eval'\n",
      "Traceback (most recent call last):\n",
      "  File \"<ipython-input-254-2eca1893ac94>\", line 4, in <module>\n",
      "ZeroDivisionError: float division\n"
     ]
    },
    {
     "ename": "ZeroDivisionError",
     "evalue": "float division",
     "output_type": "error",
     "traceback": [
      "\u001b[1;31m---------------------------------------------------------------------------\u001b[0m",
      "\u001b[1;31mZeroDivisionError\u001b[0m                         Traceback (most recent call last)",
      "\u001b[1;31mZeroDivisionError\u001b[0m: float division"
     ]
    },
    {
     "name": "stderr",
     "output_type": "stream",
     "text": [
      "Exception ignored in: 'MontyCarlo.tools.RITA.Interval._eval'\n",
      "Traceback (most recent call last):\n",
      "  File \"<ipython-input-254-2eca1893ac94>\", line 4, in <module>\n",
      "ZeroDivisionError: float division\n"
     ]
    },
    {
     "ename": "ZeroDivisionError",
     "evalue": "float division",
     "output_type": "error",
     "traceback": [
      "\u001b[1;31m---------------------------------------------------------------------------\u001b[0m",
      "\u001b[1;31mZeroDivisionError\u001b[0m                         Traceback (most recent call last)",
      "\u001b[1;31mZeroDivisionError\u001b[0m: float division"
     ]
    },
    {
     "name": "stderr",
     "output_type": "stream",
     "text": [
      "Exception ignored in: 'MontyCarlo.tools.RITA.Interval._eval'\n",
      "Traceback (most recent call last):\n",
      "  File \"<ipython-input-254-2eca1893ac94>\", line 4, in <module>\n",
      "ZeroDivisionError: float division\n"
     ]
    },
    {
     "ename": "ZeroDivisionError",
     "evalue": "float division",
     "output_type": "error",
     "traceback": [
      "\u001b[1;31m---------------------------------------------------------------------------\u001b[0m",
      "\u001b[1;31mZeroDivisionError\u001b[0m                         Traceback (most recent call last)",
      "\u001b[1;31mZeroDivisionError\u001b[0m: float division"
     ]
    },
    {
     "name": "stderr",
     "output_type": "stream",
     "text": [
      "Exception ignored in: 'MontyCarlo.tools.RITA.Interval._eval'\n",
      "Traceback (most recent call last):\n",
      "  File \"<ipython-input-254-2eca1893ac94>\", line 4, in <module>\n",
      "ZeroDivisionError: float division\n"
     ]
    },
    {
     "ename": "ZeroDivisionError",
     "evalue": "float division",
     "output_type": "error",
     "traceback": [
      "\u001b[1;31m---------------------------------------------------------------------------\u001b[0m",
      "\u001b[1;31mZeroDivisionError\u001b[0m                         Traceback (most recent call last)",
      "\u001b[1;31mZeroDivisionError\u001b[0m: float division"
     ]
    },
    {
     "name": "stderr",
     "output_type": "stream",
     "text": [
      "Exception ignored in: 'MontyCarlo.tools.RITA.Interval._eval'\n",
      "Traceback (most recent call last):\n",
      "  File \"<ipython-input-254-2eca1893ac94>\", line 4, in <module>\n",
      "ZeroDivisionError: float division\n"
     ]
    },
    {
     "ename": "ZeroDivisionError",
     "evalue": "float division",
     "output_type": "error",
     "traceback": [
      "\u001b[1;31m---------------------------------------------------------------------------\u001b[0m",
      "\u001b[1;31mZeroDivisionError\u001b[0m                         Traceback (most recent call last)",
      "\u001b[1;31mZeroDivisionError\u001b[0m: float division"
     ]
    },
    {
     "name": "stderr",
     "output_type": "stream",
     "text": [
      "Exception ignored in: 'MontyCarlo.tools.RITA.Interval._eval'\n",
      "Traceback (most recent call last):\n",
      "  File \"<ipython-input-254-2eca1893ac94>\", line 4, in <module>\n",
      "ZeroDivisionError: float division\n"
     ]
    },
    {
     "ename": "ZeroDivisionError",
     "evalue": "float division",
     "output_type": "error",
     "traceback": [
      "\u001b[1;31m---------------------------------------------------------------------------\u001b[0m",
      "\u001b[1;31mZeroDivisionError\u001b[0m                         Traceback (most recent call last)",
      "\u001b[1;31mZeroDivisionError\u001b[0m: float division"
     ]
    },
    {
     "name": "stderr",
     "output_type": "stream",
     "text": [
      "Exception ignored in: 'MontyCarlo.tools.RITA.Interval._eval'\n",
      "Traceback (most recent call last):\n",
      "  File \"<ipython-input-254-2eca1893ac94>\", line 4, in <module>\n",
      "ZeroDivisionError: float division\n"
     ]
    },
    {
     "ename": "ZeroDivisionError",
     "evalue": "float division",
     "output_type": "error",
     "traceback": [
      "\u001b[1;31m---------------------------------------------------------------------------\u001b[0m",
      "\u001b[1;31mZeroDivisionError\u001b[0m                         Traceback (most recent call last)",
      "\u001b[1;31mZeroDivisionError\u001b[0m: float division"
     ]
    },
    {
     "name": "stderr",
     "output_type": "stream",
     "text": [
      "Exception ignored in: 'MontyCarlo.tools.RITA.Interval._eval'\n",
      "Traceback (most recent call last):\n",
      "  File \"<ipython-input-254-2eca1893ac94>\", line 4, in <module>\n",
      "ZeroDivisionError: float division\n"
     ]
    },
    {
     "ename": "ZeroDivisionError",
     "evalue": "float division",
     "output_type": "error",
     "traceback": [
      "\u001b[1;31m---------------------------------------------------------------------------\u001b[0m",
      "\u001b[1;31mZeroDivisionError\u001b[0m                         Traceback (most recent call last)",
      "\u001b[1;31mZeroDivisionError\u001b[0m: float division"
     ]
    },
    {
     "name": "stderr",
     "output_type": "stream",
     "text": [
      "Exception ignored in: 'MontyCarlo.tools.RITA.Interval._eval'\n",
      "Traceback (most recent call last):\n",
      "  File \"<ipython-input-254-2eca1893ac94>\", line 4, in <module>\n",
      "ZeroDivisionError: float division\n"
     ]
    },
    {
     "ename": "ZeroDivisionError",
     "evalue": "float division",
     "output_type": "error",
     "traceback": [
      "\u001b[1;31m---------------------------------------------------------------------------\u001b[0m",
      "\u001b[1;31mZeroDivisionError\u001b[0m                         Traceback (most recent call last)",
      "\u001b[1;31mZeroDivisionError\u001b[0m: float division"
     ]
    },
    {
     "name": "stderr",
     "output_type": "stream",
     "text": [
      "Exception ignored in: 'MontyCarlo.tools.RITA.Interval._eval'\n",
      "Traceback (most recent call last):\n",
      "  File \"<ipython-input-254-2eca1893ac94>\", line 4, in <module>\n",
      "ZeroDivisionError: float division\n"
     ]
    },
    {
     "ename": "ZeroDivisionError",
     "evalue": "float division",
     "output_type": "error",
     "traceback": [
      "\u001b[1;31m---------------------------------------------------------------------------\u001b[0m",
      "\u001b[1;31mZeroDivisionError\u001b[0m                         Traceback (most recent call last)",
      "\u001b[1;31mZeroDivisionError\u001b[0m: float division"
     ]
    },
    {
     "name": "stderr",
     "output_type": "stream",
     "text": [
      "Exception ignored in: 'MontyCarlo.tools.RITA.Interval._eval'\n",
      "Traceback (most recent call last):\n",
      "  File \"<ipython-input-254-2eca1893ac94>\", line 4, in <module>\n",
      "ZeroDivisionError: float division\n"
     ]
    },
    {
     "name": "stdout",
     "output_type": "stream",
     "text": [
      "<generator object at 0x000001F88E6814C0>\n"
     ]
    }
   ],
   "source": [
    "def f(x):\n",
    "    return exp(-x)\n",
    "\n",
    "RI = RITA.RationalInterpolation(f, 0, 100, True)\n",
    "\n",
    "\n"
   ]
  },
  {
   "cell_type": "code",
   "execution_count": 257,
   "metadata": {},
   "outputs": [],
   "source": [
    "from numpy.random import rand\n",
    "\n",
    "sample = [RI.invCum(rand()) for _ in range(1_000_000)]"
   ]
  },
  {
   "cell_type": "code",
   "execution_count": 258,
   "metadata": {},
   "outputs": [
    {
     "data": {
      "text/plain": [
       "[<matplotlib.lines.Line2D at 0x1f88e8de820>]"
      ]
     },
     "execution_count": 258,
     "metadata": {},
     "output_type": "execute_result"
    },
    {
     "data": {
      "image/png": "[encoded data removed]",
      "text/plain": [
       "<Figure size 720x720 with 1 Axes>"
      ]
     },
     "metadata": {
      "needs_background": "light"
     },
     "output_type": "display_data"
    }
   ],
   "source": [
    "figure(figsize=(10, 10))\n",
    "\n",
    "_ = hist(sample, bins = 400, density=True)\n",
    "x = arange(0, 10, .01)\n",
    "plot(x, f(x))"
   ]
  },
  {
   "cell_type": "code",
   "execution_count": 32,
   "metadata": {},
   "outputs": [],
   "source": [
    "def f():\n",
    "    for i in range(6_000):\n",
    "        x = 2**i"
   ]
  },
  {
   "cell_type": "code",
   "execution_count": 33,
   "metadata": {},
   "outputs": [
    {
     "name": "stdout",
     "output_type": "stream",
     "text": [
      "29 ms ± 1.27 ms per loop (mean ± std. dev. of 7 runs, 10 loops each)\n"
     ]
    }
   ],
   "source": [
    "%%timeit\n",
    "f()"
   ]
  },
  {
   "cell_type": "code",
   "execution_count": 36,
   "metadata": {},
   "outputs": [
    {
     "name": "stderr",
     "output_type": "stream",
     "text": [
      "UsageError: Cell magic `%%cython` not found.\n"
     ]
    }
   ],
   "source": [
    "%%cython"
   ]
  },
  {
   "cell_type": "code",
   "execution_count": null,
   "metadata": {},
   "outputs": [],
   "source": []
  }
 ],
 "metadata": {
  "kernelspec": {
   "display_name": "Python 3",
   "language": "python",
   "name": "python3"
  },
  "language_info": {
   "codemirror_mode": {
    "name": "ipython",
    "version": 3
   },
   "file_extension": ".py",
   "mimetype": "text/x-python",
   "name": "python",
   "nbconvert_exporter": "python",
   "pygments_lexer": "ipython3",
   "version": "3.8.5"
  }
 },
 "nbformat": 4,
 "nbformat_minor": 4
}
