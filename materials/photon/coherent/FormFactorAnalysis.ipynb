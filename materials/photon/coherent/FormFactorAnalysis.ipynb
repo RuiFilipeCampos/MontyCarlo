{
 "cells": [
  {
   "cell_type": "code",
   "execution_count": 1,
   "metadata": {},
   "outputs": [],
   "source": [
    "import sys\n",
    "sys.path.insert(0, r\"C:\\Users\\Rui Campos\\Dropbox\\MontyCarlo\")"
   ]
  },
  {
   "cell_type": "markdown",
   "metadata": {},
   "source": [
    "# numpy.polynomial.polynomial.Polynomial.fit"
   ]
  },
  {
   "cell_type": "code",
   "execution_count": 2,
   "metadata": {},
   "outputs": [
    {
     "name": "stdout",
     "output_type": "stream",
     "text": [
      "____INIT_____\n",
      ">>>> SETTINGS.Py\n",
      "_________________________________________________________________\n",
      "INSTALL PATH:  C:\\Users\\Rui Campos\\Dropbox\\MontyCarlo\\MontyCarlo\n",
      "----\n",
      "SURFACE_THICKNESS: 1e-07\n",
      "---------------\n",
      "DEBUG: False\n",
      "---------------\n",
      "PHOTON CUT OFF: 5110.0 MeV\n",
      "----\n",
      "ELECTRON CUT OFF: 10000.0 MeV\n",
      "---------------------------------------------\n",
      "Wcc: 10 eV\n",
      "---------------\n",
      "\n",
      "\n",
      "/materials.__init__\n",
      "from .materials import Material\n",
      "pyRelax\n",
      "48\n",
      ">>>> importing database.py\n",
      "material init electron\n",
      ">>>> materials.photon folder\n",
      ">>>> IMPORTING material.photon.CrossSection.pyx\n",
      ">>>> IMPORTING material.photon.pyx\n",
      ">>>> IMPORTING main.pyx\n",
      ">>>> IMPORTING materials.pyx\n",
      "END\n",
      "END\n"
     ]
    },
    {
     "name": "stderr",
     "output_type": "stream",
     "text": [
      "<frozen importlib._bootstrap>:219: RuntimeWarning: MontyCarlo.materials.electron.GOSfinal.gosMolecule size changed, may indicate binary incompatibility. Expected 448 from C header, got 456 from PyObject\n",
      "<frozen importlib._bootstrap>:219: RuntimeWarning: MontyCarlo.materials.electron.GOSfinal.gosShell size changed, may indicate binary incompatibility. Expected 928 from C header, got 960 from PyObject\n"
     ]
    }
   ],
   "source": [
    "import MontyCarlo.materials.database as db"
   ]
  },
  {
   "cell_type": "code",
   "execution_count": 3,
   "metadata": {},
   "outputs": [],
   "source": [
    "# -*- coding: utf-8 -*-\n",
    "\"\"\"\n",
    "Created on Tue Dec  1 14:20:30 2020\n",
    "\n",
    "@author: Rui Campos\n",
    "\"\"\"\n",
    "\n",
    "from numpy import *\n",
    "from numba import *\n",
    "\n",
    "#dealing with paths >.<\n",
    "#from ....settings import __montecarlo__\n",
    "#__coherent__ = __montecarlo__/'materials'/'photon'/'coherent'\n",
    "#directory = str(__coherent__)\n",
    "\n",
    "#path = \"/pickles/\"\n",
    "\n",
    "def getFF(Z):\n",
    "    import dill as pickle\n",
    "    path = \"pickles/\" + str(Z)\n",
    "    with open(path, 'rb') as file:\n",
    "        param = pickle.load(file)\n",
    "\n",
    "    a1, a2, a3, a4, a5 = param\n",
    "\n",
    "\n",
    "    #depending on Z, the fit is calculated differently\n",
    "    if Z<11:\n",
    "        @njit\n",
    "        def _eval(x2):\n",
    "            x = sqrt(x2)\n",
    "            A = 1 + a1*x**2 + a2 * x**3 + a3 * x**4\n",
    "            B = 1 + a4*x**2 + a5 * x**4\n",
    "            f = Z*A/B**2\n",
    "            return f**2\n",
    "\n",
    "    else:\n",
    "\n",
    "        @njit\n",
    "        def _eval(x2):\n",
    "            x = sqrt(x2)\n",
    "            A = 1 + a1*x**2 + a2 * x**3 + a3 * x**4\n",
    "            B = 1 + a4*x**2 + a5 * x**4\n",
    "            f = Z*A/B**2\n",
    "\n",
    "            if f > 2: return f**2\n",
    "\n",
    "            alpha = 1/137.03599908421  #fine structure constant\n",
    "            a = (Z - 5/6)*alpha\n",
    "\n",
    "            Q = x/20.6074/2/a #changing variables to suit formula in paper\n",
    "\n",
    "            gamma = (1 - a**2)**.5\n",
    "\n",
    "            #calculating Fk\n",
    "            num = sin(2*gamma*arctan(Q))\n",
    "            den = gamma*Q*(1 + Q**2)**gamma\n",
    "            Fk  = num/den\n",
    "            return max(f, Fk)**2\n",
    "        \n",
    "    return _eval\n",
    "\n",
    "\n",
    "FFlist = [getFF(Z) for Z in range(1, 70)]"
   ]
  },
  {
   "cell_type": "code",
   "execution_count": 4,
   "metadata": {},
   "outputs": [],
   "source": [
    "from __future__ import print_function\n",
    "from ipywidgets import interact, interactive, fixed, interact_manual\n",
    "import ipywidgets as widgets\n",
    "from IPython.display import display\n",
    "from matplotlib.pyplot import *\n",
    "\n",
    "from MontyCarlo.tools.data import getAxis\n",
    "\n",
    "from numpy import *\n",
    "\n",
    "from numba import *\n",
    "\n",
    "\n",
    "def graph(Z, x1, x2, y1, y2):\n",
    "    FFdata = db.EPDL[Z-1][(7, 93, 0, 0, 0, 941)]\n",
    "    \n",
    "    FFx, FFy = FFdata.X, FFdata.Y\n",
    "    FFx = FFx*1e-8\n",
    "    FFy = FFy/Z\n",
    "    \n",
    "    fig = figure(figsize=(14, 14))\n",
    "    \n",
    "    #x1, x2 = map(lambda x: 10**x, (x1, x2))\n",
    "    #y1, y2 = map(lambda x: 10**x, (y1, y2))\n",
    "    \n",
    "    x = logspace(x1, x2, num=150)#, (x2 - x1)/((x1+x2)*100))\n",
    "    \n",
    "    \n",
    "    \n",
    "    f = FFlist[Z-1]\n",
    "    \n",
    "    y = [Z**-1 *  f(X**2)**.5 for X in x]\n",
    "    #print(y)\n",
    "    plot(x, y)\n",
    "    \n",
    "    \n",
    "    ax = gca()\n",
    "    \n",
    "    scatter(FFx*1e14, FFy, s = 5, color=\"red\")\n",
    "    \n",
    "    ax.set_yscale(\"log\"); ax.set_xscale(\"log\")\n",
    "    ax.set_title(\"Form Factor of Element \" + str(Z))\n",
    "    ax.set_xlabel(\"x (cm^-1)\")\n",
    "    ax.grid(which='both')\n",
    "    ax.set_ylim(10**y1, 10**y2)\n",
    "    ax.set_xlim(10**x1, 10**x2)\n",
    "    \n",
    "    Y = [Z**-1 *  f(X**2)**.5 for X in FFx*1e14]\n",
    "    Y = array(Y)\n",
    "    print(sum((FFy - Y)**2))\n",
    "    #display(f(1))\n",
    "    \n"
   ]
  },
  {
   "cell_type": "code",
   "execution_count": 5,
   "metadata": {
    "scrolled": false
   },
   "outputs": [
    {
     "data": {
      "application/vnd.jupyter.widget-view+json": {
       "model_id": "3754bec7977b4bdeac967a26e40d6fa0",
       "version_major": 2,
       "version_minor": 0
      },
      "text/plain": [
       "interactive(children=(IntSlider(value=1, continuous_update=False, description='Z', min=1), IntSlider(value=0, …"
      ]
     },
     "metadata": {},
     "output_type": "display_data"
    },
    {
     "data": {
      "text/plain": [
       "<Figure size 1008x1008 with 0 Axes>"
      ]
     },
     "metadata": {},
     "output_type": "display_data"
    }
   ],
   "source": [
    "from ipywidgets import IntSlider\n",
    "a = IntSlider(min=1, max=100, step=1, continuous_update = False)\n",
    "\n",
    "x2 = IntSlider(min=-10, max=4, step=1, continuous_update = False)\n",
    "x1 = IntSlider(min=-10, max=4, step=1, continuous_update = False)\n",
    "\n",
    "y2 = IntSlider(min=-10, max=1, step=1, continuous_update = False)\n",
    "y1 = IntSlider(min=-10, max=1, step=1, continuous_update = False)\n",
    "\n",
    "w = interact(graph, Z = a, \n",
    "             y1=y1, y2=y2, \n",
    "             x1=x1, x2=x2) \n",
    "\n"
   ]
  },
  {
   "cell_type": "code",
   "execution_count": 6,
   "metadata": {},
   "outputs": [],
   "source": [
    "def graph_error(Z):\n",
    "    f = getFF(Z)\n",
    "    \n",
    "    \n",
    "    FFdata = db.EPDL[Z-1][(7, 93, 0, 0, 0, 941)]\n",
    "    \n",
    "    FFx, FFy = FFdata.X, FFdata.Y\n",
    "    FFx = FFx*1e-8\n",
    "    FFy = FFy/Z\n",
    "    \n",
    "    Yfit = [Z**-1 * f(x**2)**.5 for x in FFx*1e14]\n",
    "    Yfit = array(Yfit)\n",
    "    fig = figure(figsize=(10, 10))\n",
    "    err = Yfit - FFy\n",
    "  \n",
    "    \n",
    "    print(f\"\"\"\n",
    "    max err = {max(err)}\n",
    "    min err = {min(err)}\n",
    "    \"\"\")\n",
    "    \n",
    "    hist(err, bins = 6000)\n",
    "    ylim(0, 8)\n",
    "    title(\"Error distribution for fit of element \" + str(Z))"
   ]
  },
  {
   "cell_type": "code",
   "execution_count": 7,
   "metadata": {
    "scrolled": false
   },
   "outputs": [
    {
     "data": {
      "application/vnd.jupyter.widget-view+json": {
       "model_id": "dd3fcb8544074d5190099309b8b23aad",
       "version_major": 2,
       "version_minor": 0
      },
      "text/plain": [
       "interactive(children=(IntSlider(value=35, description='Z', max=70, min=1), Output()), _dom_classes=('widget-in…"
      ]
     },
     "metadata": {},
     "output_type": "display_data"
    }
   ],
   "source": [
    "w = interact(graph_error, Z = (1, 70))"
   ]
  },
  {
   "cell_type": "code",
   "execution_count": 8,
   "metadata": {},
   "outputs": [
    {
     "name": "stdout",
     "output_type": "stream",
     "text": [
      "Help on function logspace in module numpy:\n",
      "\n",
      "logspace(start, stop, num=50, endpoint=True, base=10.0, dtype=None, axis=0)\n",
      "    Return numbers spaced evenly on a log scale.\n",
      "    \n",
      "    In linear space, the sequence starts at ``base ** start``\n",
      "    (`base` to the power of `start`) and ends with ``base ** stop``\n",
      "    (see `endpoint` below).\n",
      "    \n",
      "    .. versionchanged:: 1.16.0\n",
      "        Non-scalar `start` and `stop` are now supported.\n",
      "    \n",
      "    Parameters\n",
      "    ----------\n",
      "    start : array_like\n",
      "        ``base ** start`` is the starting value of the sequence.\n",
      "    stop : array_like\n",
      "        ``base ** stop`` is the final value of the sequence, unless `endpoint`\n",
      "        is False.  In that case, ``num + 1`` values are spaced over the\n",
      "        interval in log-space, of which all but the last (a sequence of\n",
      "        length `num`) are returned.\n",
      "    num : integer, optional\n",
      "        Number of samples to generate.  Default is 50.\n",
      "    endpoint : boolean, optional\n",
      "        If true, `stop` is the last sample. Otherwise, it is not included.\n",
      "        Default is True.\n",
      "    base : float, optional\n",
      "        The base of the log space. The step size between the elements in\n",
      "        ``ln(samples) / ln(base)`` (or ``log_base(samples)``) is uniform.\n",
      "        Default is 10.0.\n",
      "    dtype : dtype\n",
      "        The type of the output array.  If `dtype` is not given, infer the data\n",
      "        type from the other input arguments.\n",
      "    axis : int, optional\n",
      "        The axis in the result to store the samples.  Relevant only if start\n",
      "        or stop are array-like.  By default (0), the samples will be along a\n",
      "        new axis inserted at the beginning. Use -1 to get an axis at the end.\n",
      "    \n",
      "        .. versionadded:: 1.16.0\n",
      "    \n",
      "    \n",
      "    Returns\n",
      "    -------\n",
      "    samples : ndarray\n",
      "        `num` samples, equally spaced on a log scale.\n",
      "    \n",
      "    See Also\n",
      "    --------\n",
      "    arange : Similar to linspace, with the step size specified instead of the\n",
      "             number of samples. Note that, when used with a float endpoint, the\n",
      "             endpoint may or may not be included.\n",
      "    linspace : Similar to logspace, but with the samples uniformly distributed\n",
      "               in linear space, instead of log space.\n",
      "    geomspace : Similar to logspace, but with endpoints specified directly.\n",
      "    \n",
      "    Notes\n",
      "    -----\n",
      "    Logspace is equivalent to the code\n",
      "    \n",
      "    >>> y = np.linspace(start, stop, num=num, endpoint=endpoint)\n",
      "    ... # doctest: +SKIP\n",
      "    >>> power(base, y).astype(dtype)\n",
      "    ... # doctest: +SKIP\n",
      "    \n",
      "    Examples\n",
      "    --------\n",
      "    >>> np.logspace(2.0, 3.0, num=4)\n",
      "    array([ 100.        ,  215.443469  ,  464.15888336, 1000.        ])\n",
      "    >>> np.logspace(2.0, 3.0, num=4, endpoint=False)\n",
      "    array([100.        ,  177.827941  ,  316.22776602,  562.34132519])\n",
      "    >>> np.logspace(2.0, 3.0, num=4, base=2.0)\n",
      "    array([4.        ,  5.0396842 ,  6.34960421,  8.        ])\n",
      "    \n",
      "    Graphical illustration:\n",
      "    \n",
      "    >>> import matplotlib.pyplot as plt\n",
      "    >>> N = 10\n",
      "    >>> x1 = np.logspace(0.1, 1, N, endpoint=True)\n",
      "    >>> x2 = np.logspace(0.1, 1, N, endpoint=False)\n",
      "    >>> y = np.zeros(N)\n",
      "    >>> plt.plot(x1, y, 'o')\n",
      "    [<matplotlib.lines.Line2D object at 0x...>]\n",
      "    >>> plt.plot(x2, y + 0.5, 'o')\n",
      "    [<matplotlib.lines.Line2D object at 0x...>]\n",
      "    >>> plt.ylim([-0.5, 1])\n",
      "    (-0.5, 1)\n",
      "    >>> plt.show()\n",
      "\n"
     ]
    }
   ],
   "source": [
    "help(logspace)"
   ]
  },
  {
   "cell_type": "markdown",
   "metadata": {},
   "source": [
    "<html><head>\n",
    "\n",
    "\n",
    "<!-- Load require.js. Delete this if your page already loads require.js -->\n",
    "<script src=\"https://cdnjs.cloudflare.com/ajax/libs/require.js/2.3.4/require.min.js\" integrity=\"sha256-Ae2Vz/4ePdIu6ZyI/5ZGsYnb+m0JlOmKPjt6XZ9JJkA=\" crossorigin=\"anonymous\"></script>\n",
    "<script src=\"https://unpkg.com/@jupyter-widgets/html-manager@*/dist/embed-amd.js\" crossorigin=\"anonymous\"></script>\n",
    "<script type=\"application/vnd.jupyter.widget-state+json\">\n",
    "{\n",
    "    \"version_major\": 2,\n",
    "    \"version_minor\": 0,\n",
    "    \"state\": {\n",
    "        \"da201b6c63ef42958ce0b9699ebf5e29\": {\n",
    "            \"model_name\": \"LayoutModel\",\n",
    "            \"model_module\": \"@jupyter-widgets/base\",\n",
    "            \"model_module_version\": \"1.2.0\",\n",
    "            \"state\": {}\n",
    "        },\n",
    "        \"bcfbc21b47b44526813b1ca8d8fb8a21\": {\n",
    "            \"model_name\": \"VBoxModel\",\n",
    "            \"model_module\": \"@jupyter-widgets/controls\",\n",
    "            \"model_module_version\": \"1.5.0\",\n",
    "            \"state\": {\n",
    "                \"_dom_classes\": [\n",
    "                    \"widget-interact\"\n",
    "                ],\n",
    "                \"children\": [\n",
    "                    \"IPY_MODEL_2a113460df4f41c09e4c66550095d001\",\n",
    "                    \"IPY_MODEL_13b2c9ab21b64454b0a46d00309237d0\",\n",
    "                    \"IPY_MODEL_6cbfd16b7b3540d6a6d94095e3fc3ea7\",\n",
    "                    \"IPY_MODEL_db542944757d48eb8d83eac352011cdd\",\n",
    "                    \"IPY_MODEL_31d1bb5dde5549a2acf2a68d6a8aa2e0\",\n",
    "                    \"IPY_MODEL_ba240848279847e0b72bfd725733a471\"\n",
    "                ],\n",
    "                \"layout\": \"IPY_MODEL_da201b6c63ef42958ce0b9699ebf5e29\"\n",
    "            }\n",
    "        },\n",
    "        \"9428531de6a247b28622e0d504989964\": {\n",
    "            \"model_name\": \"LayoutModel\",\n",
    "            \"model_module\": \"@jupyter-widgets/base\",\n",
    "            \"model_module_version\": \"1.2.0\",\n",
    "            \"state\": {}\n",
    "        },\n",
    "        \"5c8cb60e603d4104a1cb928302cdbce4\": {\n",
    "            \"model_name\": \"SliderStyleModel\",\n",
    "            \"model_module\": \"@jupyter-widgets/controls\",\n",
    "            \"model_module_version\": \"1.5.0\",\n",
    "            \"state\": {\n",
    "                \"description_width\": \"\"\n",
    "            }\n",
    "        },\n",
    "        \"2a113460df4f41c09e4c66550095d001\": {\n",
    "            \"model_name\": \"IntSliderModel\",\n",
    "            \"model_module\": \"@jupyter-widgets/controls\",\n",
    "            \"model_module_version\": \"1.5.0\",\n",
    "            \"state\": {\n",
    "                \"description\": \"Z\",\n",
    "                \"layout\": \"IPY_MODEL_9428531de6a247b28622e0d504989964\",\n",
    "                \"max\": 20,\n",
    "                \"min\": 1,\n",
    "                \"style\": \"IPY_MODEL_5c8cb60e603d4104a1cb928302cdbce4\",\n",
    "                \"value\": 10\n",
    "            }\n",
    "        },\n",
    "        \"54833e8aaf6c40ed99cd6af71de3f438\": {\n",
    "            \"model_name\": \"LayoutModel\",\n",
    "            \"model_module\": \"@jupyter-widgets/base\",\n",
    "            \"model_module_version\": \"1.2.0\",\n",
    "            \"state\": {}\n",
    "        },\n",
    "        \"660047fe0ce34bd596e125f459df22ca\": {\n",
    "            \"model_name\": \"SliderStyleModel\",\n",
    "            \"model_module\": \"@jupyter-widgets/controls\",\n",
    "            \"model_module_version\": \"1.5.0\",\n",
    "            \"state\": {\n",
    "                \"description_width\": \"\"\n",
    "            }\n",
    "        },\n",
    "        \"13b2c9ab21b64454b0a46d00309237d0\": {\n",
    "            \"model_name\": \"IntSliderModel\",\n",
    "            \"model_module\": \"@jupyter-widgets/controls\",\n",
    "            \"model_module_version\": \"1.5.0\",\n",
    "            \"state\": {\n",
    "                \"description\": \"x1\",\n",
    "                \"layout\": \"IPY_MODEL_54833e8aaf6c40ed99cd6af71de3f438\",\n",
    "                \"max\": 10,\n",
    "                \"min\": -5,\n",
    "                \"style\": \"IPY_MODEL_660047fe0ce34bd596e125f459df22ca\",\n",
    "                \"value\": -1\n",
    "            }\n",
    "        },\n",
    "        \"f2112f596b304ed88becefb6e947a447\": {\n",
    "            \"model_name\": \"LayoutModel\",\n",
    "            \"model_module\": \"@jupyter-widgets/base\",\n",
    "            \"model_module_version\": \"1.2.0\",\n",
    "            \"state\": {}\n",
    "        },\n",
    "        \"d8d9c814ed434783b99115b98f34e9be\": {\n",
    "            \"model_name\": \"SliderStyleModel\",\n",
    "            \"model_module\": \"@jupyter-widgets/controls\",\n",
    "            \"model_module_version\": \"1.5.0\",\n",
    "            \"state\": {\n",
    "                \"description_width\": \"\"\n",
    "            }\n",
    "        },\n",
    "        \"6cbfd16b7b3540d6a6d94095e3fc3ea7\": {\n",
    "            \"model_name\": \"IntSliderModel\",\n",
    "            \"model_module\": \"@jupyter-widgets/controls\",\n",
    "            \"model_module_version\": \"1.5.0\",\n",
    "            \"state\": {\n",
    "                \"description\": \"x2\",\n",
    "                \"layout\": \"IPY_MODEL_f2112f596b304ed88becefb6e947a447\",\n",
    "                \"max\": 10,\n",
    "                \"min\": -5,\n",
    "                \"style\": \"IPY_MODEL_d8d9c814ed434783b99115b98f34e9be\",\n",
    "                \"value\": 2\n",
    "            }\n",
    "        },\n",
    "        \"19c1039e6d3c48509931212e36600f8b\": {\n",
    "            \"model_name\": \"LayoutModel\",\n",
    "            \"model_module\": \"@jupyter-widgets/base\",\n",
    "            \"model_module_version\": \"1.2.0\",\n",
    "            \"state\": {}\n",
    "        },\n",
    "        \"af247caf3d654fd2ad3f6c4647260bd1\": {\n",
    "            \"model_name\": \"SliderStyleModel\",\n",
    "            \"model_module\": \"@jupyter-widgets/controls\",\n",
    "            \"model_module_version\": \"1.5.0\",\n",
    "            \"state\": {\n",
    "                \"description_width\": \"\"\n",
    "            }\n",
    "        },\n",
    "        \"db542944757d48eb8d83eac352011cdd\": {\n",
    "            \"model_name\": \"IntSliderModel\",\n",
    "            \"model_module\": \"@jupyter-widgets/controls\",\n",
    "            \"model_module_version\": \"1.5.0\",\n",
    "            \"state\": {\n",
    "                \"description\": \"y1\",\n",
    "                \"layout\": \"IPY_MODEL_19c1039e6d3c48509931212e36600f8b\",\n",
    "                \"max\": 1,\n",
    "                \"min\": -15,\n",
    "                \"style\": \"IPY_MODEL_af247caf3d654fd2ad3f6c4647260bd1\",\n",
    "                \"value\": -7\n",
    "            }\n",
    "        },\n",
    "        \"b6dfda7e331842608e02f6b1f87ec7ed\": {\n",
    "            \"model_name\": \"LayoutModel\",\n",
    "            \"model_module\": \"@jupyter-widgets/base\",\n",
    "            \"model_module_version\": \"1.2.0\",\n",
    "            \"state\": {}\n",
    "        },\n",
    "        \"1be4fa4b08c24831a4169c86b11a8d32\": {\n",
    "            \"model_name\": \"SliderStyleModel\",\n",
    "            \"model_module\": \"@jupyter-widgets/controls\",\n",
    "            \"model_module_version\": \"1.5.0\",\n",
    "            \"state\": {\n",
    "                \"description_width\": \"\"\n",
    "            }\n",
    "        },\n",
    "        \"31d1bb5dde5549a2acf2a68d6a8aa2e0\": {\n",
    "            \"model_name\": \"IntSliderModel\",\n",
    "            \"model_module\": \"@jupyter-widgets/controls\",\n",
    "            \"model_module_version\": \"1.5.0\",\n",
    "            \"state\": {\n",
    "                \"description\": \"y2\",\n",
    "                \"layout\": \"IPY_MODEL_b6dfda7e331842608e02f6b1f87ec7ed\",\n",
    "                \"max\": 1,\n",
    "                \"min\": -15,\n",
    "                \"style\": \"IPY_MODEL_1be4fa4b08c24831a4169c86b11a8d32\",\n",
    "                \"value\": 1\n",
    "            }\n",
    "        },\n",
    "        \"d582b8b2b3f34cb0bc987a59f0c50293\": {\n",
    "            \"model_name\": \"LayoutModel\",\n",
    "            \"model_module\": \"@jupyter-widgets/base\",\n",
    "            \"model_module_version\": \"1.2.0\",\n",
    "            \"state\": {}\n",
    "        },\n",
    "        \"ba240848279847e0b72bfd725733a471\": {\n",
    "            \"model_name\": \"OutputModel\",\n",
    "            \"model_module\": \"@jupyter-widgets/output\",\n",
    "            \"model_module_version\": \"1.0.0\",\n",
    "            \"state\": {\n",
    "                \"layout\": \"IPY_MODEL_d582b8b2b3f34cb0bc987a59f0c50293\",\n",
    "                \"outputs\": [\n",
    "                    {\n",
    "                        \"output_type\": \"display_data\",\n",
    "                        \"data\": {\n",
    "                            \"text/plain\": \"<Figure size 720x720 with 1 Axes>\",\n",
    "                            \"image/png\": \"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\\n\"\n",
    "                        },\n",
    "                        \"metadata\": {\n",
    "                            \"needs_background\": \"light\"\n",
    "                        }\n",
    "                    }\n",
    "                ]\n",
    "            }\n",
    "        },\n",
    "        \"9a3e13a7192e45679e605e2a5bf08956\": {\n",
    "            \"model_name\": \"LayoutModel\",\n",
    "            \"model_module\": \"@jupyter-widgets/base\",\n",
    "            \"model_module_version\": \"1.2.0\",\n",
    "            \"state\": {}\n",
    "        },\n",
    "        \"d42b8961a03e4350a4952d8edc4ce871\": {\n",
    "            \"model_name\": \"VBoxModel\",\n",
    "            \"model_module\": \"@jupyter-widgets/controls\",\n",
    "            \"model_module_version\": \"1.5.0\",\n",
    "            \"state\": {\n",
    "                \"_dom_classes\": [\n",
    "                    \"widget-interact\"\n",
    "                ],\n",
    "                \"children\": [\n",
    "                    \"IPY_MODEL_7485a8a3f1a34992be867344fc0e338b\",\n",
    "                    \"IPY_MODEL_8a96c7c7d83d4198ba48a028ba02f19c\",\n",
    "                    \"IPY_MODEL_e1cb48e51db1438282a368f0b100452c\",\n",
    "                    \"IPY_MODEL_fdf31007f5a947429bad9c90a18730cb\",\n",
    "                    \"IPY_MODEL_d2f0a694cdaa42a6b4d6a2f2a37a6e73\",\n",
    "                    \"IPY_MODEL_144423b5e48d48a88014cdd9aca7c12d\"\n",
    "                ],\n",
    "                \"layout\": \"IPY_MODEL_9a3e13a7192e45679e605e2a5bf08956\"\n",
    "            }\n",
    "        },\n",
    "        \"9147430305d24664b8a2bbc2769eba69\": {\n",
    "            \"model_name\": \"LayoutModel\",\n",
    "            \"model_module\": \"@jupyter-widgets/base\",\n",
    "            \"model_module_version\": \"1.2.0\",\n",
    "            \"state\": {}\n",
    "        },\n",
    "        \"6f35348a32b0455eaf5a26078fc4f08d\": {\n",
    "            \"model_name\": \"SliderStyleModel\",\n",
    "            \"model_module\": \"@jupyter-widgets/controls\",\n",
    "            \"model_module_version\": \"1.5.0\",\n",
    "            \"state\": {\n",
    "                \"description_width\": \"\"\n",
    "            }\n",
    "        },\n",
    "        \"7485a8a3f1a34992be867344fc0e338b\": {\n",
    "            \"model_name\": \"IntSliderModel\",\n",
    "            \"model_module\": \"@jupyter-widgets/controls\",\n",
    "            \"model_module_version\": \"1.5.0\",\n",
    "            \"state\": {\n",
    "                \"description\": \"Z\",\n",
    "                \"layout\": \"IPY_MODEL_9147430305d24664b8a2bbc2769eba69\",\n",
    "                \"max\": 20,\n",
    "                \"min\": 1,\n",
    "                \"style\": \"IPY_MODEL_6f35348a32b0455eaf5a26078fc4f08d\",\n",
    "                \"value\": 10\n",
    "            }\n",
    "        },\n",
    "        \"e84eae3f45e24050a2c1123de907f160\": {\n",
    "            \"model_name\": \"LayoutModel\",\n",
    "            \"model_module\": \"@jupyter-widgets/base\",\n",
    "            \"model_module_version\": \"1.2.0\",\n",
    "            \"state\": {}\n",
    "        },\n",
    "        \"07f68a46dad84a859bc4ad3f4e1f24ed\": {\n",
    "            \"model_name\": \"SliderStyleModel\",\n",
    "            \"model_module\": \"@jupyter-widgets/controls\",\n",
    "            \"model_module_version\": \"1.5.0\",\n",
    "            \"state\": {\n",
    "                \"description_width\": \"\"\n",
    "            }\n",
    "        },\n",
    "        \"8a96c7c7d83d4198ba48a028ba02f19c\": {\n",
    "            \"model_name\": \"IntSliderModel\",\n",
    "            \"model_module\": \"@jupyter-widgets/controls\",\n",
    "            \"model_module_version\": \"1.5.0\",\n",
    "            \"state\": {\n",
    "                \"description\": \"x1\",\n",
    "                \"layout\": \"IPY_MODEL_e84eae3f45e24050a2c1123de907f160\",\n",
    "                \"max\": 10,\n",
    "                \"min\": -5,\n",
    "                \"style\": \"IPY_MODEL_07f68a46dad84a859bc4ad3f4e1f24ed\",\n",
    "                \"value\": -5\n",
    "            }\n",
    "        },\n",
    "        \"420742318e174a29a682669df27ddeac\": {\n",
    "            \"model_name\": \"LayoutModel\",\n",
    "            \"model_module\": \"@jupyter-widgets/base\",\n",
    "            \"model_module_version\": \"1.2.0\",\n",
    "            \"state\": {}\n",
    "        },\n",
    "        \"03e02078a283451381e4304673de727f\": {\n",
    "            \"model_name\": \"SliderStyleModel\",\n",
    "            \"model_module\": \"@jupyter-widgets/controls\",\n",
    "            \"model_module_version\": \"1.5.0\",\n",
    "            \"state\": {\n",
    "                \"description_width\": \"\"\n",
    "            }\n",
    "        },\n",
    "        \"e1cb48e51db1438282a368f0b100452c\": {\n",
    "            \"model_name\": \"IntSliderModel\",\n",
    "            \"model_module\": \"@jupyter-widgets/controls\",\n",
    "            \"model_module_version\": \"1.5.0\",\n",
    "            \"state\": {\n",
    "                \"description\": \"x2\",\n",
    "                \"layout\": \"IPY_MODEL_420742318e174a29a682669df27ddeac\",\n",
    "                \"max\": 10,\n",
    "                \"min\": -5,\n",
    "                \"style\": \"IPY_MODEL_03e02078a283451381e4304673de727f\",\n",
    "                \"value\": 10\n",
    "            }\n",
    "        },\n",
    "        \"47983747e3d14494b3b9ff09b85e7778\": {\n",
    "            \"model_name\": \"LayoutModel\",\n",
    "            \"model_module\": \"@jupyter-widgets/base\",\n",
    "            \"model_module_version\": \"1.2.0\",\n",
    "            \"state\": {}\n",
    "        },\n",
    "        \"4f3c62b055d74406a8631ed3a8a5c429\": {\n",
    "            \"model_name\": \"SliderStyleModel\",\n",
    "            \"model_module\": \"@jupyter-widgets/controls\",\n",
    "            \"model_module_version\": \"1.5.0\",\n",
    "            \"state\": {\n",
    "                \"description_width\": \"\"\n",
    "            }\n",
    "        },\n",
    "        \"fdf31007f5a947429bad9c90a18730cb\": {\n",
    "            \"model_name\": \"IntSliderModel\",\n",
    "            \"model_module\": \"@jupyter-widgets/controls\",\n",
    "            \"model_module_version\": \"1.5.0\",\n",
    "            \"state\": {\n",
    "                \"description\": \"y1\",\n",
    "                \"layout\": \"IPY_MODEL_47983747e3d14494b3b9ff09b85e7778\",\n",
    "                \"max\": 1,\n",
    "                \"min\": -15,\n",
    "                \"style\": \"IPY_MODEL_4f3c62b055d74406a8631ed3a8a5c429\",\n",
    "                \"value\": -15\n",
    "            }\n",
    "        },\n",
    "        \"86d4a95226ab4bf0b075233a184750ff\": {\n",
    "            \"model_name\": \"LayoutModel\",\n",
    "            \"model_module\": \"@jupyter-widgets/base\",\n",
    "            \"model_module_version\": \"1.2.0\",\n",
    "            \"state\": {}\n",
    "        },\n",
    "        \"c9373e56d80a4142a225911b90bd5d8a\": {\n",
    "            \"model_name\": \"SliderStyleModel\",\n",
    "            \"model_module\": \"@jupyter-widgets/controls\",\n",
    "            \"model_module_version\": \"1.5.0\",\n",
    "            \"state\": {\n",
    "                \"description_width\": \"\"\n",
    "            }\n",
    "        },\n",
    "        \"d2f0a694cdaa42a6b4d6a2f2a37a6e73\": {\n",
    "            \"model_name\": \"IntSliderModel\",\n",
    "            \"model_module\": \"@jupyter-widgets/controls\",\n",
    "            \"model_module_version\": \"1.5.0\",\n",
    "            \"state\": {\n",
    "                \"description\": \"y2\",\n",
    "                \"layout\": \"IPY_MODEL_86d4a95226ab4bf0b075233a184750ff\",\n",
    "                \"max\": 1,\n",
    "                \"min\": -15,\n",
    "                \"style\": \"IPY_MODEL_c9373e56d80a4142a225911b90bd5d8a\",\n",
    "                \"value\": 1\n",
    "            }\n",
    "        },\n",
    "        \"efa8484094af4822acc65464ebccde51\": {\n",
    "            \"model_name\": \"LayoutModel\",\n",
    "            \"model_module\": \"@jupyter-widgets/base\",\n",
    "            \"model_module_version\": \"1.2.0\",\n",
    "            \"state\": {}\n",
    "        },\n",
    "        \"144423b5e48d48a88014cdd9aca7c12d\": {\n",
    "            \"model_name\": \"OutputModel\",\n",
    "            \"model_module\": \"@jupyter-widgets/output\",\n",
    "            \"model_module_version\": \"1.0.0\",\n",
    "            \"state\": {\n",
    "                \"layout\": \"IPY_MODEL_efa8484094af4822acc65464ebccde51\",\n",
    "                \"outputs\": [\n",
    "                    {\n",
    "                        \"output_type\": \"stream\",\n",
    "                        \"text\": \"<ipython-input-9-67c16fe9bae3>:40: UserWarning: Attempted to set non-positive bottom ylim on a log-scaled axis.\\nInvalid limit will be ignored.\\n  ax.set_ylim(y1, y2)\\n<ipython-input-9-67c16fe9bae3>:41: UserWarning: Attempted to set non-positive left xlim on a log-scaled axis.\\nInvalid limit will be ignored.\\n  ax.set_xlim(x1, x2)\\n\",\n",
    "                        \"name\": \"stderr\"\n",
    "                    },\n",
    "                    {\n",
    "                        \"output_type\": \"display_data\",\n",
    "                        \"data\": {\n",
    "                            \"text/plain\": \"<Figure size 720x720 with 1 Axes>\",\n",
    "                            \"image/png\": \"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\\n\"\n",
    "                        },\n",
    "                        \"metadata\": {\n",
    "                            \"needs_background\": \"light\"\n",
    "                        }\n",
    "                    }\n",
    "                ]\n",
    "            }\n",
    "        },\n",
    "        \"30571da147ea417889001bf1baee1892\": {\n",
    "            \"model_name\": \"LayoutModel\",\n",
    "            \"model_module\": \"@jupyter-widgets/base\",\n",
    "            \"model_module_version\": \"1.2.0\",\n",
    "            \"state\": {}\n",
    "        },\n",
    "        \"787a6042616a4f759ddff99e75303ee1\": {\n",
    "            \"model_name\": \"VBoxModel\",\n",
    "            \"model_module\": \"@jupyter-widgets/controls\",\n",
    "            \"model_module_version\": \"1.5.0\",\n",
    "            \"state\": {\n",
    "                \"_dom_classes\": [\n",
    "                    \"widget-interact\"\n",
    "                ],\n",
    "                \"children\": [\n",
    "                    \"IPY_MODEL_86616a516ac84d4e94d57172e3988879\",\n",
    "                    \"IPY_MODEL_c7de3e1ea6dd440ab43e48ba40ec27d3\",\n",
    "                    \"IPY_MODEL_0b44e4bd5e694aff810dad71b0cb81af\",\n",
    "                    \"IPY_MODEL_11eca9aaf1734666971724d8042e57e3\",\n",
    "                    \"IPY_MODEL_54fb09366a834e94a06a7e498f9b1cb2\",\n",
    "                    \"IPY_MODEL_027b39d71b7340a6ab80912a76e0cce9\"\n",
    "                ],\n",
    "                \"layout\": \"IPY_MODEL_30571da147ea417889001bf1baee1892\"\n",
    "            }\n",
    "        },\n",
    "        \"3906d4d2813249d6a55cc0240ea82e65\": {\n",
    "            \"model_name\": \"LayoutModel\",\n",
    "            \"model_module\": \"@jupyter-widgets/base\",\n",
    "            \"model_module_version\": \"1.2.0\",\n",
    "            \"state\": {}\n",
    "        },\n",
    "        \"9b113739a2cd4f5dac1bc6775e659109\": {\n",
    "            \"model_name\": \"SliderStyleModel\",\n",
    "            \"model_module\": \"@jupyter-widgets/controls\",\n",
    "            \"model_module_version\": \"1.5.0\",\n",
    "            \"state\": {\n",
    "                \"description_width\": \"\"\n",
    "            }\n",
    "        },\n",
    "        \"86616a516ac84d4e94d57172e3988879\": {\n",
    "            \"model_name\": \"IntSliderModel\",\n",
    "            \"model_module\": \"@jupyter-widgets/controls\",\n",
    "            \"model_module_version\": \"1.5.0\",\n",
    "            \"state\": {\n",
    "                \"description\": \"Z\",\n",
    "                \"layout\": \"IPY_MODEL_3906d4d2813249d6a55cc0240ea82e65\",\n",
    "                \"max\": 20,\n",
    "                \"min\": 1,\n",
    "                \"style\": \"IPY_MODEL_9b113739a2cd4f5dac1bc6775e659109\",\n",
    "                \"value\": 10\n",
    "            }\n",
    "        },\n",
    "        \"1bc2840daa7f44078cfc501f9351c128\": {\n",
    "            \"model_name\": \"LayoutModel\",\n",
    "            \"model_module\": \"@jupyter-widgets/base\",\n",
    "            \"model_module_version\": \"1.2.0\",\n",
    "            \"state\": {}\n",
    "        },\n",
    "        \"29e7b8edbe594e8fa37ca2c2a429e2c1\": {\n",
    "            \"model_name\": \"SliderStyleModel\",\n",
    "            \"model_module\": \"@jupyter-widgets/controls\",\n",
    "            \"model_module_version\": \"1.5.0\",\n",
    "            \"state\": {\n",
    "                \"description_width\": \"\"\n",
    "            }\n",
    "        },\n",
    "        \"c7de3e1ea6dd440ab43e48ba40ec27d3\": {\n",
    "            \"model_name\": \"IntSliderModel\",\n",
    "            \"model_module\": \"@jupyter-widgets/controls\",\n",
    "            \"model_module_version\": \"1.5.0\",\n",
    "            \"state\": {\n",
    "                \"description\": \"x1\",\n",
    "                \"layout\": \"IPY_MODEL_1bc2840daa7f44078cfc501f9351c128\",\n",
    "                \"max\": 10,\n",
    "                \"min\": -5,\n",
    "                \"style\": \"IPY_MODEL_29e7b8edbe594e8fa37ca2c2a429e2c1\",\n",
    "                \"value\": -5\n",
    "            }\n",
    "        },\n",
    "        \"91b4d4af0cd74b3bbd1a0f1208d130a9\": {\n",
    "            \"model_name\": \"LayoutModel\",\n",
    "            \"model_module\": \"@jupyter-widgets/base\",\n",
    "            \"model_module_version\": \"1.2.0\",\n",
    "            \"state\": {}\n",
    "        },\n",
    "        \"8fe0cb4e51704cb1804b9d651a481987\": {\n",
    "            \"model_name\": \"SliderStyleModel\",\n",
    "            \"model_module\": \"@jupyter-widgets/controls\",\n",
    "            \"model_module_version\": \"1.5.0\",\n",
    "            \"state\": {\n",
    "                \"description_width\": \"\"\n",
    "            }\n",
    "        },\n",
    "        \"0b44e4bd5e694aff810dad71b0cb81af\": {\n",
    "            \"model_name\": \"IntSliderModel\",\n",
    "            \"model_module\": \"@jupyter-widgets/controls\",\n",
    "            \"model_module_version\": \"1.5.0\",\n",
    "            \"state\": {\n",
    "                \"description\": \"x2\",\n",
    "                \"layout\": \"IPY_MODEL_91b4d4af0cd74b3bbd1a0f1208d130a9\",\n",
    "                \"max\": 10,\n",
    "                \"min\": -5,\n",
    "                \"style\": \"IPY_MODEL_8fe0cb4e51704cb1804b9d651a481987\",\n",
    "                \"value\": 10\n",
    "            }\n",
    "        },\n",
    "        \"443e432df86a4bd4bcab24ceecae0202\": {\n",
    "            \"model_name\": \"LayoutModel\",\n",
    "            \"model_module\": \"@jupyter-widgets/base\",\n",
    "            \"model_module_version\": \"1.2.0\",\n",
    "            \"state\": {}\n",
    "        },\n",
    "        \"4f1d9197dd9f41c8b58ecfa69e5db485\": {\n",
    "            \"model_name\": \"SliderStyleModel\",\n",
    "            \"model_module\": \"@jupyter-widgets/controls\",\n",
    "            \"model_module_version\": \"1.5.0\",\n",
    "            \"state\": {\n",
    "                \"description_width\": \"\"\n",
    "            }\n",
    "        },\n",
    "        \"11eca9aaf1734666971724d8042e57e3\": {\n",
    "            \"model_name\": \"IntSliderModel\",\n",
    "            \"model_module\": \"@jupyter-widgets/controls\",\n",
    "            \"model_module_version\": \"1.5.0\",\n",
    "            \"state\": {\n",
    "                \"description\": \"y1\",\n",
    "                \"layout\": \"IPY_MODEL_443e432df86a4bd4bcab24ceecae0202\",\n",
    "                \"max\": 1,\n",
    "                \"min\": -15,\n",
    "                \"style\": \"IPY_MODEL_4f1d9197dd9f41c8b58ecfa69e5db485\",\n",
    "                \"value\": -15\n",
    "            }\n",
    "        },\n",
    "        \"ed09248f15844d138f9e5e3cb6b53c5c\": {\n",
    "            \"model_name\": \"LayoutModel\",\n",
    "            \"model_module\": \"@jupyter-widgets/base\",\n",
    "            \"model_module_version\": \"1.2.0\",\n",
    "            \"state\": {}\n",
    "        },\n",
    "        \"b9a5e67154c148f08e5bf0a06bd8cb55\": {\n",
    "            \"model_name\": \"SliderStyleModel\",\n",
    "            \"model_module\": \"@jupyter-widgets/controls\",\n",
    "            \"model_module_version\": \"1.5.0\",\n",
    "            \"state\": {\n",
    "                \"description_width\": \"\"\n",
    "            }\n",
    "        },\n",
    "        \"54fb09366a834e94a06a7e498f9b1cb2\": {\n",
    "            \"model_name\": \"IntSliderModel\",\n",
    "            \"model_module\": \"@jupyter-widgets/controls\",\n",
    "            \"model_module_version\": \"1.5.0\",\n",
    "            \"state\": {\n",
    "                \"description\": \"y2\",\n",
    "                \"layout\": \"IPY_MODEL_ed09248f15844d138f9e5e3cb6b53c5c\",\n",
    "                \"max\": 1,\n",
    "                \"min\": -15,\n",
    "                \"style\": \"IPY_MODEL_b9a5e67154c148f08e5bf0a06bd8cb55\",\n",
    "                \"value\": 1\n",
    "            }\n",
    "        },\n",
    "        \"3a37d6eee57e42b2ab501419573309fb\": {\n",
    "            \"model_name\": \"LayoutModel\",\n",
    "            \"model_module\": \"@jupyter-widgets/base\",\n",
    "            \"model_module_version\": \"1.2.0\",\n",
    "            \"state\": {}\n",
    "        },\n",
    "        \"027b39d71b7340a6ab80912a76e0cce9\": {\n",
    "            \"model_name\": \"OutputModel\",\n",
    "            \"model_module\": \"@jupyter-widgets/output\",\n",
    "            \"model_module_version\": \"1.0.0\",\n",
    "            \"state\": {\n",
    "                \"layout\": \"IPY_MODEL_3a37d6eee57e42b2ab501419573309fb\",\n",
    "                \"outputs\": [\n",
    "                    {\n",
    "                        \"output_type\": \"display_data\",\n",
    "                        \"data\": {\n",
    "                            \"text/plain\": \"<Figure size 720x720 with 1 Axes>\",\n",
    "                            \"image/png\": \"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\\n\"\n",
    "                        },\n",
    "                        \"metadata\": {\n",
    "                            \"needs_background\": \"light\"\n",
    "                        }\n",
    "                    }\n",
    "                ]\n",
    "            }\n",
    "        },\n",
    "        \"134858da6c014c1e976b9864f73df639\": {\n",
    "            \"model_name\": \"LayoutModel\",\n",
    "            \"model_module\": \"@jupyter-widgets/base\",\n",
    "            \"model_module_version\": \"1.2.0\",\n",
    "            \"state\": {}\n",
    "        },\n",
    "        \"f68cb24bbfef40e99a672d106c157a4f\": {\n",
    "            \"model_name\": \"VBoxModel\",\n",
    "            \"model_module\": \"@jupyter-widgets/controls\",\n",
    "            \"model_module_version\": \"1.5.0\",\n",
    "            \"state\": {\n",
    "                \"_dom_classes\": [\n",
    "                    \"widget-interact\"\n",
    "                ],\n",
    "                \"children\": [\n",
    "                    \"IPY_MODEL_5c946ad535f740f8b9b86e9815b01983\",\n",
    "                    \"IPY_MODEL_db1dc199c72a47d2919cbf5149376122\",\n",
    "                    \"IPY_MODEL_40486172a6eb490cb040826a50971ffb\",\n",
    "                    \"IPY_MODEL_d169ae46f7234cfa9be75122819f28d6\",\n",
    "                    \"IPY_MODEL_9486f6e58693403f8c9a70026e0068e8\",\n",
    "                    \"IPY_MODEL_a6204041645b479c899badd63be3a8c2\"\n",
    "                ],\n",
    "                \"layout\": \"IPY_MODEL_134858da6c014c1e976b9864f73df639\"\n",
    "            }\n",
    "        },\n",
    "        \"8b276c58d10a425091996a10bf9def3c\": {\n",
    "            \"model_name\": \"LayoutModel\",\n",
    "            \"model_module\": \"@jupyter-widgets/base\",\n",
    "            \"model_module_version\": \"1.2.0\",\n",
    "            \"state\": {}\n",
    "        },\n",
    "        \"a93b0268860a4933bef26f5e496e9703\": {\n",
    "            \"model_name\": \"SliderStyleModel\",\n",
    "            \"model_module\": \"@jupyter-widgets/controls\",\n",
    "            \"model_module_version\": \"1.5.0\",\n",
    "            \"state\": {\n",
    "                \"description_width\": \"\"\n",
    "            }\n",
    "        },\n",
    "        \"5c946ad535f740f8b9b86e9815b01983\": {\n",
    "            \"model_name\": \"IntSliderModel\",\n",
    "            \"model_module\": \"@jupyter-widgets/controls\",\n",
    "            \"model_module_version\": \"1.5.0\",\n",
    "            \"state\": {\n",
    "                \"description\": \"Z\",\n",
    "                \"layout\": \"IPY_MODEL_8b276c58d10a425091996a10bf9def3c\",\n",
    "                \"max\": 20,\n",
    "                \"min\": 1,\n",
    "                \"style\": \"IPY_MODEL_a93b0268860a4933bef26f5e496e9703\",\n",
    "                \"value\": 10\n",
    "            }\n",
    "        },\n",
    "        \"89fc95bbdab64c5292e8040ac411ccd4\": {\n",
    "            \"model_name\": \"LayoutModel\",\n",
    "            \"model_module\": \"@jupyter-widgets/base\",\n",
    "            \"model_module_version\": \"1.2.0\",\n",
    "            \"state\": {}\n",
    "        },\n",
    "        \"fb99dac578224192bbc011cf4c29dae1\": {\n",
    "            \"model_name\": \"SliderStyleModel\",\n",
    "            \"model_module\": \"@jupyter-widgets/controls\",\n",
    "            \"model_module_version\": \"1.5.0\",\n",
    "            \"state\": {\n",
    "                \"description_width\": \"\"\n",
    "            }\n",
    "        },\n",
    "        \"db1dc199c72a47d2919cbf5149376122\": {\n",
    "            \"model_name\": \"IntSliderModel\",\n",
    "            \"model_module\": \"@jupyter-widgets/controls\",\n",
    "            \"model_module_version\": \"1.5.0\",\n",
    "            \"state\": {\n",
    "                \"description\": \"x1\",\n",
    "                \"layout\": \"IPY_MODEL_89fc95bbdab64c5292e8040ac411ccd4\",\n",
    "                \"max\": 10,\n",
    "                \"min\": -5,\n",
    "                \"style\": \"IPY_MODEL_fb99dac578224192bbc011cf4c29dae1\",\n",
    "                \"value\": -5\n",
    "            }\n",
    "        },\n",
    "        \"bba6392f5450437f916403f6635b2e56\": {\n",
    "            \"model_name\": \"LayoutModel\",\n",
    "            \"model_module\": \"@jupyter-widgets/base\",\n",
    "            \"model_module_version\": \"1.2.0\",\n",
    "            \"state\": {}\n",
    "        },\n",
    "        \"b0faaa5ff9984bf38ece6edaa02c7eff\": {\n",
    "            \"model_name\": \"SliderStyleModel\",\n",
    "            \"model_module\": \"@jupyter-widgets/controls\",\n",
    "            \"model_module_version\": \"1.5.0\",\n",
    "            \"state\": {\n",
    "                \"description_width\": \"\"\n",
    "            }\n",
    "        },\n",
    "        \"40486172a6eb490cb040826a50971ffb\": {\n",
    "            \"model_name\": \"IntSliderModel\",\n",
    "            \"model_module\": \"@jupyter-widgets/controls\",\n",
    "            \"model_module_version\": \"1.5.0\",\n",
    "            \"state\": {\n",
    "                \"description\": \"x2\",\n",
    "                \"layout\": \"IPY_MODEL_bba6392f5450437f916403f6635b2e56\",\n",
    "                \"max\": 10,\n",
    "                \"min\": -5,\n",
    "                \"style\": \"IPY_MODEL_b0faaa5ff9984bf38ece6edaa02c7eff\",\n",
    "                \"value\": 10\n",
    "            }\n",
    "        },\n",
    "        \"117bb4c1d871440faec331d4fe52588d\": {\n",
    "            \"model_name\": \"LayoutModel\",\n",
    "            \"model_module\": \"@jupyter-widgets/base\",\n",
    "            \"model_module_version\": \"1.2.0\",\n",
    "            \"state\": {}\n",
    "        },\n",
    "        \"0f8fdc634afc417894e0178d8b49fd56\": {\n",
    "            \"model_name\": \"SliderStyleModel\",\n",
    "            \"model_module\": \"@jupyter-widgets/controls\",\n",
    "            \"model_module_version\": \"1.5.0\",\n",
    "            \"state\": {\n",
    "                \"description_width\": \"\"\n",
    "            }\n",
    "        },\n",
    "        \"d169ae46f7234cfa9be75122819f28d6\": {\n",
    "            \"model_name\": \"IntSliderModel\",\n",
    "            \"model_module\": \"@jupyter-widgets/controls\",\n",
    "            \"model_module_version\": \"1.5.0\",\n",
    "            \"state\": {\n",
    "                \"description\": \"y1\",\n",
    "                \"layout\": \"IPY_MODEL_117bb4c1d871440faec331d4fe52588d\",\n",
    "                \"max\": 1,\n",
    "                \"min\": -15,\n",
    "                \"style\": \"IPY_MODEL_0f8fdc634afc417894e0178d8b49fd56\",\n",
    "                \"value\": -15\n",
    "            }\n",
    "        },\n",
    "        \"50f252e644774d7cb6102f3699bd21ec\": {\n",
    "            \"model_name\": \"LayoutModel\",\n",
    "            \"model_module\": \"@jupyter-widgets/base\",\n",
    "            \"model_module_version\": \"1.2.0\",\n",
    "            \"state\": {}\n",
    "        },\n",
    "        \"3da40775a8684dda8e83e04e377f04a8\": {\n",
    "            \"model_name\": \"SliderStyleModel\",\n",
    "            \"model_module\": \"@jupyter-widgets/controls\",\n",
    "            \"model_module_version\": \"1.5.0\",\n",
    "            \"state\": {\n",
    "                \"description_width\": \"\"\n",
    "            }\n",
    "        },\n",
    "        \"9486f6e58693403f8c9a70026e0068e8\": {\n",
    "            \"model_name\": \"IntSliderModel\",\n",
    "            \"model_module\": \"@jupyter-widgets/controls\",\n",
    "            \"model_module_version\": \"1.5.0\",\n",
    "            \"state\": {\n",
    "                \"description\": \"y2\",\n",
    "                \"layout\": \"IPY_MODEL_50f252e644774d7cb6102f3699bd21ec\",\n",
    "                \"max\": 1,\n",
    "                \"min\": -30,\n",
    "                \"style\": \"IPY_MODEL_3da40775a8684dda8e83e04e377f04a8\",\n",
    "                \"value\": 1\n",
    "            }\n",
    "        },\n",
    "        \"8b7156b04ca8422096bed7a09532fdee\": {\n",
    "            \"model_name\": \"LayoutModel\",\n",
    "            \"model_module\": \"@jupyter-widgets/base\",\n",
    "            \"model_module_version\": \"1.2.0\",\n",
    "            \"state\": {}\n",
    "        },\n",
    "        \"a6204041645b479c899badd63be3a8c2\": {\n",
    "            \"model_name\": \"OutputModel\",\n",
    "            \"model_module\": \"@jupyter-widgets/output\",\n",
    "            \"model_module_version\": \"1.0.0\",\n",
    "            \"state\": {\n",
    "                \"layout\": \"IPY_MODEL_8b7156b04ca8422096bed7a09532fdee\",\n",
    "                \"outputs\": [\n",
    "                    {\n",
    "                        \"output_type\": \"display_data\",\n",
    "                        \"data\": {\n",
    "                            \"text/plain\": \"<Figure size 720x720 with 1 Axes>\",\n",
    "                            \"image/png\": \"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\\n\"\n",
    "                        },\n",
    "                        \"metadata\": {\n",
    "                            \"needs_background\": \"light\"\n",
    "                        }\n",
    "                    }\n",
    "                ]\n",
    "            }\n",
    "        },\n",
    "        \"2df50a7d07d144e49a4aea704322924b\": {\n",
    "            \"model_name\": \"LayoutModel\",\n",
    "            \"model_module\": \"@jupyter-widgets/base\",\n",
    "            \"model_module_version\": \"1.2.0\",\n",
    "            \"state\": {}\n",
    "        },\n",
    "        \"4f9104b5cefc49e889099b5b5705ee23\": {\n",
    "            \"model_name\": \"VBoxModel\",\n",
    "            \"model_module\": \"@jupyter-widgets/controls\",\n",
    "            \"model_module_version\": \"1.5.0\",\n",
    "            \"state\": {\n",
    "                \"_dom_classes\": [\n",
    "                    \"widget-interact\"\n",
    "                ],\n",
    "                \"children\": [\n",
    "                    \"IPY_MODEL_ed968db3ec014d3eb1756c2176d619a2\",\n",
    "                    \"IPY_MODEL_537552be67eb47c2ba882ec1e755f7fe\",\n",
    "                    \"IPY_MODEL_251040c08d1744bc9153df0e6f3309f0\",\n",
    "                    \"IPY_MODEL_a3bf5f119b8d4f9aaea523480502e3c5\",\n",
    "                    \"IPY_MODEL_eeac8705b2d0475bb6c614f05634aedd\",\n",
    "                    \"IPY_MODEL_50f0877749944077b312ff0eae3c8523\"\n",
    "                ],\n",
    "                \"layout\": \"IPY_MODEL_2df50a7d07d144e49a4aea704322924b\"\n",
    "            }\n",
    "        },\n",
    "        \"95ea01408aa7411a93a8e4114cff674c\": {\n",
    "            \"model_name\": \"LayoutModel\",\n",
    "            \"model_module\": \"@jupyter-widgets/base\",\n",
    "            \"model_module_version\": \"1.2.0\",\n",
    "            \"state\": {}\n",
    "        },\n",
    "        \"1715f063c2e9484cbecd939027abcc1b\": {\n",
    "            \"model_name\": \"SliderStyleModel\",\n",
    "            \"model_module\": \"@jupyter-widgets/controls\",\n",
    "            \"model_module_version\": \"1.5.0\",\n",
    "            \"state\": {\n",
    "                \"description_width\": \"\"\n",
    "            }\n",
    "        },\n",
    "        \"ed968db3ec014d3eb1756c2176d619a2\": {\n",
    "            \"model_name\": \"IntSliderModel\",\n",
    "            \"model_module\": \"@jupyter-widgets/controls\",\n",
    "            \"model_module_version\": \"1.5.0\",\n",
    "            \"state\": {\n",
    "                \"description\": \"Z\",\n",
    "                \"layout\": \"IPY_MODEL_95ea01408aa7411a93a8e4114cff674c\",\n",
    "                \"max\": 20,\n",
    "                \"min\": 1,\n",
    "                \"style\": \"IPY_MODEL_1715f063c2e9484cbecd939027abcc1b\",\n",
    "                \"value\": 16\n",
    "            }\n",
    "        },\n",
    "        \"86af1d68cb77482199f635f750e630c5\": {\n",
    "            \"model_name\": \"LayoutModel\",\n",
    "            \"model_module\": \"@jupyter-widgets/base\",\n",
    "            \"model_module_version\": \"1.2.0\",\n",
    "            \"state\": {}\n",
    "        },\n",
    "        \"e65a0ed6861f4396aae618c9a1d962ee\": {\n",
    "            \"model_name\": \"SliderStyleModel\",\n",
    "            \"model_module\": \"@jupyter-widgets/controls\",\n",
    "            \"model_module_version\": \"1.5.0\",\n",
    "            \"state\": {\n",
    "                \"description_width\": \"\"\n",
    "            }\n",
    "        },\n",
    "        \"537552be67eb47c2ba882ec1e755f7fe\": {\n",
    "            \"model_name\": \"IntSliderModel\",\n",
    "            \"model_module\": \"@jupyter-widgets/controls\",\n",
    "            \"model_module_version\": \"1.5.0\",\n",
    "            \"state\": {\n",
    "                \"description\": \"x1\",\n",
    "                \"layout\": \"IPY_MODEL_86af1d68cb77482199f635f750e630c5\",\n",
    "                \"max\": 10,\n",
    "                \"min\": -5,\n",
    "                \"style\": \"IPY_MODEL_e65a0ed6861f4396aae618c9a1d962ee\",\n",
    "                \"value\": -5\n",
    "            }\n",
    "        },\n",
    "        \"b4600aba9d3b4254bd01208303dc67c9\": {\n",
    "            \"model_name\": \"LayoutModel\",\n",
    "            \"model_module\": \"@jupyter-widgets/base\",\n",
    "            \"model_module_version\": \"1.2.0\",\n",
    "            \"state\": {}\n",
    "        },\n",
    "        \"12954ec1c20443b89974d141fc4cadbf\": {\n",
    "            \"model_name\": \"SliderStyleModel\",\n",
    "            \"model_module\": \"@jupyter-widgets/controls\",\n",
    "            \"model_module_version\": \"1.5.0\",\n",
    "            \"state\": {\n",
    "                \"description_width\": \"\"\n",
    "            }\n",
    "        },\n",
    "        \"251040c08d1744bc9153df0e6f3309f0\": {\n",
    "            \"model_name\": \"IntSliderModel\",\n",
    "            \"model_module\": \"@jupyter-widgets/controls\",\n",
    "            \"model_module_version\": \"1.5.0\",\n",
    "            \"state\": {\n",
    "                \"description\": \"x2\",\n",
    "                \"layout\": \"IPY_MODEL_b4600aba9d3b4254bd01208303dc67c9\",\n",
    "                \"max\": 10,\n",
    "                \"min\": -5,\n",
    "                \"style\": \"IPY_MODEL_12954ec1c20443b89974d141fc4cadbf\",\n",
    "                \"value\": 10\n",
    "            }\n",
    "        },\n",
    "        \"ba2801d230ee4170b6f11e589b7b11b3\": {\n",
    "            \"model_name\": \"LayoutModel\",\n",
    "            \"model_module\": \"@jupyter-widgets/base\",\n",
    "            \"model_module_version\": \"1.2.0\",\n",
    "            \"state\": {}\n",
    "        },\n",
    "        \"6fe223c359db4ccdac3f3ad736be05ab\": {\n",
    "            \"model_name\": \"SliderStyleModel\",\n",
    "            \"model_module\": \"@jupyter-widgets/controls\",\n",
    "            \"model_module_version\": \"1.5.0\",\n",
    "            \"state\": {\n",
    "                \"description_width\": \"\"\n",
    "            }\n",
    "        },\n",
    "        \"a3bf5f119b8d4f9aaea523480502e3c5\": {\n",
    "            \"model_name\": \"IntSliderModel\",\n",
    "            \"model_module\": \"@jupyter-widgets/controls\",\n",
    "            \"model_module_version\": \"1.5.0\",\n",
    "            \"state\": {\n",
    "                \"description\": \"y1\",\n",
    "                \"layout\": \"IPY_MODEL_ba2801d230ee4170b6f11e589b7b11b3\",\n",
    "                \"max\": 1,\n",
    "                \"min\": -30,\n",
    "                \"style\": \"IPY_MODEL_6fe223c359db4ccdac3f3ad736be05ab\",\n",
    "                \"value\": -30\n",
    "            }\n",
    "        },\n",
    "        \"47c04bbfcb304b038575c31e0957ff0c\": {\n",
    "            \"model_name\": \"LayoutModel\",\n",
    "            \"model_module\": \"@jupyter-widgets/base\",\n",
    "            \"model_module_version\": \"1.2.0\",\n",
    "            \"state\": {}\n",
    "        },\n",
    "        \"071fff74622c4f2b8063ce07d6859c6a\": {\n",
    "            \"model_name\": \"SliderStyleModel\",\n",
    "            \"model_module\": \"@jupyter-widgets/controls\",\n",
    "            \"model_module_version\": \"1.5.0\",\n",
    "            \"state\": {\n",
    "                \"description_width\": \"\"\n",
    "            }\n",
    "        },\n",
    "        \"eeac8705b2d0475bb6c614f05634aedd\": {\n",
    "            \"model_name\": \"IntSliderModel\",\n",
    "            \"model_module\": \"@jupyter-widgets/controls\",\n",
    "            \"model_module_version\": \"1.5.0\",\n",
    "            \"state\": {\n",
    "                \"description\": \"y2\",\n",
    "                \"layout\": \"IPY_MODEL_47c04bbfcb304b038575c31e0957ff0c\",\n",
    "                \"max\": 1,\n",
    "                \"min\": -30,\n",
    "                \"style\": \"IPY_MODEL_071fff74622c4f2b8063ce07d6859c6a\",\n",
    "                \"value\": 1\n",
    "            }\n",
    "        },\n",
    "        \"29dc50c88fee455bbf8eb50af75d45a3\": {\n",
    "            \"model_name\": \"LayoutModel\",\n",
    "            \"model_module\": \"@jupyter-widgets/base\",\n",
    "            \"model_module_version\": \"1.2.0\",\n",
    "            \"state\": {}\n",
    "        },\n",
    "        \"50f0877749944077b312ff0eae3c8523\": {\n",
    "            \"model_name\": \"OutputModel\",\n",
    "            \"model_module\": \"@jupyter-widgets/output\",\n",
    "            \"model_module_version\": \"1.0.0\",\n",
    "            \"state\": {\n",
    "                \"layout\": \"IPY_MODEL_29dc50c88fee455bbf8eb50af75d45a3\",\n",
    "                \"outputs\": [\n",
    "                    {\n",
    "                        \"output_type\": \"display_data\",\n",
    "                        \"data\": {\n",
    "                            \"text/plain\": \"<Figure size 720x720 with 1 Axes>\",\n",
    "                            \"image/png\": \"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\\n\"\n",
    "                        },\n",
    "                        \"metadata\": {\n",
    "                            \"needs_background\": \"light\"\n",
    "                        }\n",
    "                    }\n",
    "                ]\n",
    "            }\n",
    "        },\n",
    "        \"ddbc1ecb9546466c9d2836ad4a4a677e\": {\n",
    "            \"model_name\": \"LayoutModel\",\n",
    "            \"model_module\": \"@jupyter-widgets/base\",\n",
    "            \"model_module_version\": \"1.2.0\",\n",
    "            \"state\": {}\n",
    "        },\n",
    "        \"9885be12f96646bf95c87b898078f191\": {\n",
    "            \"model_name\": \"VBoxModel\",\n",
    "            \"model_module\": \"@jupyter-widgets/controls\",\n",
    "            \"model_module_version\": \"1.5.0\",\n",
    "            \"state\": {\n",
    "                \"_dom_classes\": [\n",
    "                    \"widget-interact\"\n",
    "                ],\n",
    "                \"children\": [\n",
    "                    \"IPY_MODEL_088fe2e4f5224a34bcd7e611dd1f6834\",\n",
    "                    \"IPY_MODEL_b7e76a3c8722429598efe1512122dc94\",\n",
    "                    \"IPY_MODEL_e289108f2b154e57b07886b20b2f32f4\",\n",
    "                    \"IPY_MODEL_1944b6e473c045c090df7edc1c2e3ffb\",\n",
    "                    \"IPY_MODEL_a10f1669d3854d30926dfe1658314f16\",\n",
    "                    \"IPY_MODEL_7c3585171d5649bdab551730b75c5ea3\"\n",
    "                ],\n",
    "                \"layout\": \"IPY_MODEL_ddbc1ecb9546466c9d2836ad4a4a677e\"\n",
    "            }\n",
    "        },\n",
    "        \"59f26ef8afdc4948a8ce9e3cf919ddef\": {\n",
    "            \"model_name\": \"LayoutModel\",\n",
    "            \"model_module\": \"@jupyter-widgets/base\",\n",
    "            \"model_module_version\": \"1.2.0\",\n",
    "            \"state\": {}\n",
    "        },\n",
    "        \"add64a57a2b8479a896b32ca11d391ce\": {\n",
    "            \"model_name\": \"SliderStyleModel\",\n",
    "            \"model_module\": \"@jupyter-widgets/controls\",\n",
    "            \"model_module_version\": \"1.5.0\",\n",
    "            \"state\": {\n",
    "                \"description_width\": \"\"\n",
    "            }\n",
    "        },\n",
    "        \"088fe2e4f5224a34bcd7e611dd1f6834\": {\n",
    "            \"model_name\": \"IntSliderModel\",\n",
    "            \"model_module\": \"@jupyter-widgets/controls\",\n",
    "            \"model_module_version\": \"1.5.0\",\n",
    "            \"state\": {\n",
    "                \"description\": \"Z\",\n",
    "                \"layout\": \"IPY_MODEL_59f26ef8afdc4948a8ce9e3cf919ddef\",\n",
    "                \"max\": 20,\n",
    "                \"min\": 1,\n",
    "                \"style\": \"IPY_MODEL_add64a57a2b8479a896b32ca11d391ce\",\n",
    "                \"value\": 10\n",
    "            }\n",
    "        },\n",
    "        \"263c1a59fee14d2994f60b23565adbe5\": {\n",
    "            \"model_name\": \"LayoutModel\",\n",
    "            \"model_module\": \"@jupyter-widgets/base\",\n",
    "            \"model_module_version\": \"1.2.0\",\n",
    "            \"state\": {}\n",
    "        },\n",
    "        \"49f264dedf0242c2bf7f8ed7dc03763f\": {\n",
    "            \"model_name\": \"SliderStyleModel\",\n",
    "            \"model_module\": \"@jupyter-widgets/controls\",\n",
    "            \"model_module_version\": \"1.5.0\",\n",
    "            \"state\": {\n",
    "                \"description_width\": \"\"\n",
    "            }\n",
    "        },\n",
    "        \"b7e76a3c8722429598efe1512122dc94\": {\n",
    "            \"model_name\": \"IntSliderModel\",\n",
    "            \"model_module\": \"@jupyter-widgets/controls\",\n",
    "            \"model_module_version\": \"1.5.0\",\n",
    "            \"state\": {\n",
    "                \"description\": \"x1\",\n",
    "                \"layout\": \"IPY_MODEL_263c1a59fee14d2994f60b23565adbe5\",\n",
    "                \"max\": 10,\n",
    "                \"min\": -5,\n",
    "                \"style\": \"IPY_MODEL_49f264dedf0242c2bf7f8ed7dc03763f\",\n",
    "                \"value\": -5\n",
    "            }\n",
    "        },\n",
    "        \"8d7ec51cdba848fe89bf9f9bc34c8b73\": {\n",
    "            \"model_name\": \"LayoutModel\",\n",
    "            \"model_module\": \"@jupyter-widgets/base\",\n",
    "            \"model_module_version\": \"1.2.0\",\n",
    "            \"state\": {}\n",
    "        },\n",
    "        \"002c238623dc4f209c45719eef1f189c\": {\n",
    "            \"model_name\": \"SliderStyleModel\",\n",
    "            \"model_module\": \"@jupyter-widgets/controls\",\n",
    "            \"model_module_version\": \"1.5.0\",\n",
    "            \"state\": {\n",
    "                \"description_width\": \"\"\n",
    "            }\n",
    "        },\n",
    "        \"e289108f2b154e57b07886b20b2f32f4\": {\n",
    "            \"model_name\": \"IntSliderModel\",\n",
    "            \"model_module\": \"@jupyter-widgets/controls\",\n",
    "            \"model_module_version\": \"1.5.0\",\n",
    "            \"state\": {\n",
    "                \"description\": \"x2\",\n",
    "                \"layout\": \"IPY_MODEL_8d7ec51cdba848fe89bf9f9bc34c8b73\",\n",
    "                \"max\": 10,\n",
    "                \"min\": -5,\n",
    "                \"style\": \"IPY_MODEL_002c238623dc4f209c45719eef1f189c\",\n",
    "                \"value\": 10\n",
    "            }\n",
    "        },\n",
    "        \"3b3d4210b5af4aca96495e4c6b383fef\": {\n",
    "            \"model_name\": \"LayoutModel\",\n",
    "            \"model_module\": \"@jupyter-widgets/base\",\n",
    "            \"model_module_version\": \"1.2.0\",\n",
    "            \"state\": {}\n",
    "        },\n",
    "        \"af569eea639b45e4810cf0ed9b3f9a79\": {\n",
    "            \"model_name\": \"SliderStyleModel\",\n",
    "            \"model_module\": \"@jupyter-widgets/controls\",\n",
    "            \"model_module_version\": \"1.5.0\",\n",
    "            \"state\": {\n",
    "                \"description_width\": \"\"\n",
    "            }\n",
    "        },\n",
    "        \"1944b6e473c045c090df7edc1c2e3ffb\": {\n",
    "            \"model_name\": \"IntSliderModel\",\n",
    "            \"model_module\": \"@jupyter-widgets/controls\",\n",
    "            \"model_module_version\": \"1.5.0\",\n",
    "            \"state\": {\n",
    "                \"description\": \"y1\",\n",
    "                \"layout\": \"IPY_MODEL_3b3d4210b5af4aca96495e4c6b383fef\",\n",
    "                \"max\": 1,\n",
    "                \"min\": -30,\n",
    "                \"style\": \"IPY_MODEL_af569eea639b45e4810cf0ed9b3f9a79\",\n",
    "                \"value\": -30\n",
    "            }\n",
    "        },\n",
    "        \"c5a78e66756d4c629023bfb4cc24cbe4\": {\n",
    "            \"model_name\": \"LayoutModel\",\n",
    "            \"model_module\": \"@jupyter-widgets/base\",\n",
    "            \"model_module_version\": \"1.2.0\",\n",
    "            \"state\": {}\n",
    "        },\n",
    "        \"62b87148e7ba42b6b739cee556591bce\": {\n",
    "            \"model_name\": \"SliderStyleModel\",\n",
    "            \"model_module\": \"@jupyter-widgets/controls\",\n",
    "            \"model_module_version\": \"1.5.0\",\n",
    "            \"state\": {\n",
    "                \"description_width\": \"\"\n",
    "            }\n",
    "        },\n",
    "        \"a10f1669d3854d30926dfe1658314f16\": {\n",
    "            \"model_name\": \"IntSliderModel\",\n",
    "            \"model_module\": \"@jupyter-widgets/controls\",\n",
    "            \"model_module_version\": \"1.5.0\",\n",
    "            \"state\": {\n",
    "                \"description\": \"y2\",\n",
    "                \"layout\": \"IPY_MODEL_c5a78e66756d4c629023bfb4cc24cbe4\",\n",
    "                \"max\": 1,\n",
    "                \"min\": -30,\n",
    "                \"style\": \"IPY_MODEL_62b87148e7ba42b6b739cee556591bce\",\n",
    "                \"value\": 1\n",
    "            }\n",
    "        },\n",
    "        \"71e55709a70448a18bf23fd0aef56c26\": {\n",
    "            \"model_name\": \"LayoutModel\",\n",
    "            \"model_module\": \"@jupyter-widgets/base\",\n",
    "            \"model_module_version\": \"1.2.0\",\n",
    "            \"state\": {}\n",
    "        },\n",
    "        \"7c3585171d5649bdab551730b75c5ea3\": {\n",
    "            \"model_name\": \"OutputModel\",\n",
    "            \"model_module\": \"@jupyter-widgets/output\",\n",
    "            \"model_module_version\": \"1.0.0\",\n",
    "            \"state\": {\n",
    "                \"layout\": \"IPY_MODEL_71e55709a70448a18bf23fd0aef56c26\",\n",
    "                \"outputs\": [\n",
    "                    {\n",
    "                        \"output_type\": \"display_data\",\n",
    "                        \"data\": {\n",
    "                            \"text/plain\": \"<Figure size 720x720 with 1 Axes>\",\n",
    "                            \"image/png\": \"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\\n\"\n",
    "                        },\n",
    "                        \"metadata\": {\n",
    "                            \"needs_background\": \"light\"\n",
    "                        }\n",
    "                    }\n",
    "                ]\n",
    "            }\n",
    "        },\n",
    "        \"4db07e8108924981b116e62258b313f7\": {\n",
    "            \"model_name\": \"LayoutModel\",\n",
    "            \"model_module\": \"@jupyter-widgets/base\",\n",
    "            \"model_module_version\": \"1.2.0\",\n",
    "            \"state\": {}\n",
    "        },\n",
    "        \"5ea5d4a8f64a445d98c0ca73b42388ca\": {\n",
    "            \"model_name\": \"VBoxModel\",\n",
    "            \"model_module\": \"@jupyter-widgets/controls\",\n",
    "            \"model_module_version\": \"1.5.0\",\n",
    "            \"state\": {\n",
    "                \"_dom_classes\": [\n",
    "                    \"widget-interact\"\n",
    "                ],\n",
    "                \"children\": [\n",
    "                    \"IPY_MODEL_bf8df68164ce47f7971c4717c8d79ac7\",\n",
    "                    \"IPY_MODEL_6b13782137134c2da969baa875320ab1\",\n",
    "                    \"IPY_MODEL_6685cd160c17433b85a5093271e3ece3\",\n",
    "                    \"IPY_MODEL_67762b284c2c403cbbc62a3a2be4f240\",\n",
    "                    \"IPY_MODEL_238a93c8fdf14a70abc84d2e9e3e7058\",\n",
    "                    \"IPY_MODEL_6c228ac9b36041ffa016ba84fabd04bb\"\n",
    "                ],\n",
    "                \"layout\": \"IPY_MODEL_4db07e8108924981b116e62258b313f7\"\n",
    "            }\n",
    "        },\n",
    "        \"13c1b4cd34df45abb0b2c5839bf566d1\": {\n",
    "            \"model_name\": \"LayoutModel\",\n",
    "            \"model_module\": \"@jupyter-widgets/base\",\n",
    "            \"model_module_version\": \"1.2.0\",\n",
    "            \"state\": {}\n",
    "        },\n",
    "        \"7a437f90b58a463db1279c5c8a800d3c\": {\n",
    "            \"model_name\": \"SliderStyleModel\",\n",
    "            \"model_module\": \"@jupyter-widgets/controls\",\n",
    "            \"model_module_version\": \"1.5.0\",\n",
    "            \"state\": {\n",
    "                \"description_width\": \"\"\n",
    "            }\n",
    "        },\n",
    "        \"bf8df68164ce47f7971c4717c8d79ac7\": {\n",
    "            \"model_name\": \"IntSliderModel\",\n",
    "            \"model_module\": \"@jupyter-widgets/controls\",\n",
    "            \"model_module_version\": \"1.5.0\",\n",
    "            \"state\": {\n",
    "                \"description\": \"Z\",\n",
    "                \"layout\": \"IPY_MODEL_13c1b4cd34df45abb0b2c5839bf566d1\",\n",
    "                \"max\": 20,\n",
    "                \"min\": 1,\n",
    "                \"style\": \"IPY_MODEL_7a437f90b58a463db1279c5c8a800d3c\",\n",
    "                \"value\": 17\n",
    "            }\n",
    "        },\n",
    "        \"ce5e331cb0c845e0b83d272f62df1986\": {\n",
    "            \"model_name\": \"LayoutModel\",\n",
    "            \"model_module\": \"@jupyter-widgets/base\",\n",
    "            \"model_module_version\": \"1.2.0\",\n",
    "            \"state\": {}\n",
    "        },\n",
    "        \"bef9b65c67f646158ff21cba3e3f9f19\": {\n",
    "            \"model_name\": \"SliderStyleModel\",\n",
    "            \"model_module\": \"@jupyter-widgets/controls\",\n",
    "            \"model_module_version\": \"1.5.0\",\n",
    "            \"state\": {\n",
    "                \"description_width\": \"\"\n",
    "            }\n",
    "        },\n",
    "        \"6b13782137134c2da969baa875320ab1\": {\n",
    "            \"model_name\": \"IntSliderModel\",\n",
    "            \"model_module\": \"@jupyter-widgets/controls\",\n",
    "            \"model_module_version\": \"1.5.0\",\n",
    "            \"state\": {\n",
    "                \"description\": \"x1\",\n",
    "                \"layout\": \"IPY_MODEL_ce5e331cb0c845e0b83d272f62df1986\",\n",
    "                \"max\": 10,\n",
    "                \"min\": -5,\n",
    "                \"style\": \"IPY_MODEL_bef9b65c67f646158ff21cba3e3f9f19\",\n",
    "                \"value\": 3\n",
    "            }\n",
    "        },\n",
    "        \"57afc0081ff74d99ab088177815070cf\": {\n",
    "            \"model_name\": \"LayoutModel\",\n",
    "            \"model_module\": \"@jupyter-widgets/base\",\n",
    "            \"model_module_version\": \"1.2.0\",\n",
    "            \"state\": {}\n",
    "        },\n",
    "        \"639150713b0049a8881e4e4678ba9d80\": {\n",
    "            \"model_name\": \"SliderStyleModel\",\n",
    "            \"model_module\": \"@jupyter-widgets/controls\",\n",
    "            \"model_module_version\": \"1.5.0\",\n",
    "            \"state\": {\n",
    "                \"description_width\": \"\"\n",
    "            }\n",
    "        },\n",
    "        \"6685cd160c17433b85a5093271e3ece3\": {\n",
    "            \"model_name\": \"IntSliderModel\",\n",
    "            \"model_module\": \"@jupyter-widgets/controls\",\n",
    "            \"model_module_version\": \"1.5.0\",\n",
    "            \"state\": {\n",
    "                \"description\": \"x2\",\n",
    "                \"layout\": \"IPY_MODEL_57afc0081ff74d99ab088177815070cf\",\n",
    "                \"max\": 10,\n",
    "                \"min\": -5,\n",
    "                \"style\": \"IPY_MODEL_639150713b0049a8881e4e4678ba9d80\",\n",
    "                \"value\": 5\n",
    "            }\n",
    "        },\n",
    "        \"6de0af5f70174fc98250c13ea83c7a15\": {\n",
    "            \"model_name\": \"LayoutModel\",\n",
    "            \"model_module\": \"@jupyter-widgets/base\",\n",
    "            \"model_module_version\": \"1.2.0\",\n",
    "            \"state\": {}\n",
    "        },\n",
    "        \"79cfa0198e734570a730f1bc89795951\": {\n",
    "            \"model_name\": \"SliderStyleModel\",\n",
    "            \"model_module\": \"@jupyter-widgets/controls\",\n",
    "            \"model_module_version\": \"1.5.0\",\n",
    "            \"state\": {\n",
    "                \"description_width\": \"\"\n",
    "            }\n",
    "        },\n",
    "        \"67762b284c2c403cbbc62a3a2be4f240\": {\n",
    "            \"model_name\": \"IntSliderModel\",\n",
    "            \"model_module\": \"@jupyter-widgets/controls\",\n",
    "            \"model_module_version\": \"1.5.0\",\n",
    "            \"state\": {\n",
    "                \"description\": \"y1\",\n",
    "                \"layout\": \"IPY_MODEL_6de0af5f70174fc98250c13ea83c7a15\",\n",
    "                \"max\": 1,\n",
    "                \"min\": -30,\n",
    "                \"style\": \"IPY_MODEL_79cfa0198e734570a730f1bc89795951\",\n",
    "                \"value\": -17\n",
    "            }\n",
    "        },\n",
    "        \"84b2865b56db4eb4a05e8a6af6bbc91a\": {\n",
    "            \"model_name\": \"LayoutModel\",\n",
    "            \"model_module\": \"@jupyter-widgets/base\",\n",
    "            \"model_module_version\": \"1.2.0\",\n",
    "            \"state\": {}\n",
    "        },\n",
    "        \"889163c884d34694bac7fa79ab6e7c91\": {\n",
    "            \"model_name\": \"SliderStyleModel\",\n",
    "            \"model_module\": \"@jupyter-widgets/controls\",\n",
    "            \"model_module_version\": \"1.5.0\",\n",
    "            \"state\": {\n",
    "                \"description_width\": \"\"\n",
    "            }\n",
    "        },\n",
    "        \"238a93c8fdf14a70abc84d2e9e3e7058\": {\n",
    "            \"model_name\": \"IntSliderModel\",\n",
    "            \"model_module\": \"@jupyter-widgets/controls\",\n",
    "            \"model_module_version\": \"1.5.0\",\n",
    "            \"state\": {\n",
    "                \"description\": \"y2\",\n",
    "                \"layout\": \"IPY_MODEL_84b2865b56db4eb4a05e8a6af6bbc91a\",\n",
    "                \"max\": 1,\n",
    "                \"min\": -30,\n",
    "                \"style\": \"IPY_MODEL_889163c884d34694bac7fa79ab6e7c91\",\n",
    "                \"value\": -11\n",
    "            }\n",
    "        },\n",
    "        \"7a26fc2e78f2447ebbad4b99c7b65bcf\": {\n",
    "            \"model_name\": \"LayoutModel\",\n",
    "            \"model_module\": \"@jupyter-widgets/base\",\n",
    "            \"model_module_version\": \"1.2.0\",\n",
    "            \"state\": {}\n",
    "        },\n",
    "        \"6c228ac9b36041ffa016ba84fabd04bb\": {\n",
    "            \"model_name\": \"OutputModel\",\n",
    "            \"model_module\": \"@jupyter-widgets/output\",\n",
    "            \"model_module_version\": \"1.0.0\",\n",
    "            \"state\": {\n",
    "                \"layout\": \"IPY_MODEL_7a26fc2e78f2447ebbad4b99c7b65bcf\",\n",
    "                \"outputs\": [\n",
    "                    {\n",
    "                        \"output_type\": \"display_data\",\n",
    "                        \"data\": {\n",
    "                            \"text/plain\": \"<Figure size 720x720 with 1 Axes>\",\n",
    "                            \"image/png\": \"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\\n\"\n",
    "                        },\n",
    "                        \"metadata\": {\n",
    "                            \"needs_background\": \"light\"\n",
    "                        }\n",
    "                    }\n",
    "                ]\n",
    "            }\n",
    "        },\n",
    "        \"1f942366822f4d55aa8fb9dfe0eae50d\": {\n",
    "            \"model_name\": \"LayoutModel\",\n",
    "            \"model_module\": \"@jupyter-widgets/base\",\n",
    "            \"model_module_version\": \"1.2.0\",\n",
    "            \"state\": {}\n",
    "        },\n",
    "        \"62b8ac902f8f432b9a34cc3ed6845c41\": {\n",
    "            \"model_name\": \"VBoxModel\",\n",
    "            \"model_module\": \"@jupyter-widgets/controls\",\n",
    "            \"model_module_version\": \"1.5.0\",\n",
    "            \"state\": {\n",
    "                \"_dom_classes\": [\n",
    "                    \"widget-interact\"\n",
    "                ],\n",
    "                \"children\": [\n",
    "                    \"IPY_MODEL_dadfc2ad1a9845b3adf9853149583b49\",\n",
    "                    \"IPY_MODEL_99cf3bdbad22446398fd963ff003f0a3\",\n",
    "                    \"IPY_MODEL_79826ae1e6644dc78e0194a8418e5e9a\",\n",
    "                    \"IPY_MODEL_39b7a2ce66e24432a339daff307dd120\",\n",
    "                    \"IPY_MODEL_fa5e63d67d174a768cec98751a6736b9\",\n",
    "                    \"IPY_MODEL_2959247b210f45f1826473bf5ea92b8c\"\n",
    "                ],\n",
    "                \"layout\": \"IPY_MODEL_1f942366822f4d55aa8fb9dfe0eae50d\"\n",
    "            }\n",
    "        },\n",
    "        \"0224ec62aa7449429f3c4db87e04639e\": {\n",
    "            \"model_name\": \"LayoutModel\",\n",
    "            \"model_module\": \"@jupyter-widgets/base\",\n",
    "            \"model_module_version\": \"1.2.0\",\n",
    "            \"state\": {}\n",
    "        },\n",
    "        \"d420be53094e4bf791626c64a15d4cbf\": {\n",
    "            \"model_name\": \"SliderStyleModel\",\n",
    "            \"model_module\": \"@jupyter-widgets/controls\",\n",
    "            \"model_module_version\": \"1.5.0\",\n",
    "            \"state\": {\n",
    "                \"description_width\": \"\"\n",
    "            }\n",
    "        },\n",
    "        \"dadfc2ad1a9845b3adf9853149583b49\": {\n",
    "            \"model_name\": \"IntSliderModel\",\n",
    "            \"model_module\": \"@jupyter-widgets/controls\",\n",
    "            \"model_module_version\": \"1.5.0\",\n",
    "            \"state\": {\n",
    "                \"description\": \"Z\",\n",
    "                \"layout\": \"IPY_MODEL_0224ec62aa7449429f3c4db87e04639e\",\n",
    "                \"max\": 20,\n",
    "                \"min\": 1,\n",
    "                \"style\": \"IPY_MODEL_d420be53094e4bf791626c64a15d4cbf\",\n",
    "                \"value\": 10\n",
    "            }\n",
    "        },\n",
    "        \"2a76c624c2424f029b8dfe9012ec0f2b\": {\n",
    "            \"model_name\": \"LayoutModel\",\n",
    "            \"model_module\": \"@jupyter-widgets/base\",\n",
    "            \"model_module_version\": \"1.2.0\",\n",
    "            \"state\": {}\n",
    "        },\n",
    "        \"69df0c75426b4602ad89b56b19c91862\": {\n",
    "            \"model_name\": \"SliderStyleModel\",\n",
    "            \"model_module\": \"@jupyter-widgets/controls\",\n",
    "            \"model_module_version\": \"1.5.0\",\n",
    "            \"state\": {\n",
    "                \"description_width\": \"\"\n",
    "            }\n",
    "        },\n",
    "        \"99cf3bdbad22446398fd963ff003f0a3\": {\n",
    "            \"model_name\": \"IntSliderModel\",\n",
    "            \"model_module\": \"@jupyter-widgets/controls\",\n",
    "            \"model_module_version\": \"1.5.0\",\n",
    "            \"state\": {\n",
    "                \"description\": \"x1\",\n",
    "                \"layout\": \"IPY_MODEL_2a76c624c2424f029b8dfe9012ec0f2b\",\n",
    "                \"max\": 10,\n",
    "                \"min\": -5,\n",
    "                \"style\": \"IPY_MODEL_69df0c75426b4602ad89b56b19c91862\",\n",
    "                \"value\": -5\n",
    "            }\n",
    "        },\n",
    "        \"0fc6171f718849b8a518443f887c8e4e\": {\n",
    "            \"model_name\": \"LayoutModel\",\n",
    "            \"model_module\": \"@jupyter-widgets/base\",\n",
    "            \"model_module_version\": \"1.2.0\",\n",
    "            \"state\": {}\n",
    "        },\n",
    "        \"95c7e1e4e5024d0281584e70d80d223a\": {\n",
    "            \"model_name\": \"SliderStyleModel\",\n",
    "            \"model_module\": \"@jupyter-widgets/controls\",\n",
    "            \"model_module_version\": \"1.5.0\",\n",
    "            \"state\": {\n",
    "                \"description_width\": \"\"\n",
    "            }\n",
    "        },\n",
    "        \"79826ae1e6644dc78e0194a8418e5e9a\": {\n",
    "            \"model_name\": \"IntSliderModel\",\n",
    "            \"model_module\": \"@jupyter-widgets/controls\",\n",
    "            \"model_module_version\": \"1.5.0\",\n",
    "            \"state\": {\n",
    "                \"description\": \"x2\",\n",
    "                \"layout\": \"IPY_MODEL_0fc6171f718849b8a518443f887c8e4e\",\n",
    "                \"max\": 10,\n",
    "                \"min\": -5,\n",
    "                \"style\": \"IPY_MODEL_95c7e1e4e5024d0281584e70d80d223a\",\n",
    "                \"value\": 10\n",
    "            }\n",
    "        },\n",
    "        \"3410c6a525a94b05a4d3189ca6349502\": {\n",
    "            \"model_name\": \"LayoutModel\",\n",
    "            \"model_module\": \"@jupyter-widgets/base\",\n",
    "            \"model_module_version\": \"1.2.0\",\n",
    "            \"state\": {}\n",
    "        },\n",
    "        \"b3cb9273efb5496892db0e22139c8937\": {\n",
    "            \"model_name\": \"SliderStyleModel\",\n",
    "            \"model_module\": \"@jupyter-widgets/controls\",\n",
    "            \"model_module_version\": \"1.5.0\",\n",
    "            \"state\": {\n",
    "                \"description_width\": \"\"\n",
    "            }\n",
    "        },\n",
    "        \"39b7a2ce66e24432a339daff307dd120\": {\n",
    "            \"model_name\": \"IntSliderModel\",\n",
    "            \"model_module\": \"@jupyter-widgets/controls\",\n",
    "            \"model_module_version\": \"1.5.0\",\n",
    "            \"state\": {\n",
    "                \"description\": \"y1\",\n",
    "                \"layout\": \"IPY_MODEL_3410c6a525a94b05a4d3189ca6349502\",\n",
    "                \"max\": 1,\n",
    "                \"min\": -30,\n",
    "                \"style\": \"IPY_MODEL_b3cb9273efb5496892db0e22139c8937\",\n",
    "                \"value\": -30\n",
    "            }\n",
    "        },\n",
    "        \"36a74701b8934aadb3c4aab3a496c108\": {\n",
    "            \"model_name\": \"LayoutModel\",\n",
    "            \"model_module\": \"@jupyter-widgets/base\",\n",
    "            \"model_module_version\": \"1.2.0\",\n",
    "            \"state\": {}\n",
    "        },\n",
    "        \"d467eaeaf4764a1dacae4a1d1c103589\": {\n",
    "            \"model_name\": \"SliderStyleModel\",\n",
    "            \"model_module\": \"@jupyter-widgets/controls\",\n",
    "            \"model_module_version\": \"1.5.0\",\n",
    "            \"state\": {\n",
    "                \"description_width\": \"\"\n",
    "            }\n",
    "        },\n",
    "        \"fa5e63d67d174a768cec98751a6736b9\": {\n",
    "            \"model_name\": \"IntSliderModel\",\n",
    "            \"model_module\": \"@jupyter-widgets/controls\",\n",
    "            \"model_module_version\": \"1.5.0\",\n",
    "            \"state\": {\n",
    "                \"description\": \"y2\",\n",
    "                \"layout\": \"IPY_MODEL_36a74701b8934aadb3c4aab3a496c108\",\n",
    "                \"max\": 1,\n",
    "                \"min\": -30,\n",
    "                \"style\": \"IPY_MODEL_d467eaeaf4764a1dacae4a1d1c103589\"\n",
    "            }\n",
    "        },\n",
    "        \"6bb0d7d664b0482cac3ba946103a6aed\": {\n",
    "            \"model_name\": \"LayoutModel\",\n",
    "            \"model_module\": \"@jupyter-widgets/base\",\n",
    "            \"model_module_version\": \"1.2.0\",\n",
    "            \"state\": {}\n",
    "        },\n",
    "        \"2959247b210f45f1826473bf5ea92b8c\": {\n",
    "            \"model_name\": \"OutputModel\",\n",
    "            \"model_module\": \"@jupyter-widgets/output\",\n",
    "            \"model_module_version\": \"1.0.0\",\n",
    "            \"state\": {\n",
    "                \"layout\": \"IPY_MODEL_6bb0d7d664b0482cac3ba946103a6aed\",\n",
    "                \"outputs\": [\n",
    "                    {\n",
    "                        \"output_type\": \"display_data\",\n",
    "                        \"data\": {\n",
    "                            \"text/plain\": \"<Figure size 720x720 with 1 Axes>\",\n",
    "                            \"image/png\": \"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\\n\"\n",
    "                        },\n",
    "                        \"metadata\": {\n",
    "                            \"needs_background\": \"light\"\n",
    "                        }\n",
    "                    }\n",
    "                ]\n",
    "            }\n",
    "        },\n",
    "        \"382370055405442293508080e51c5718\": {\n",
    "            \"model_name\": \"LayoutModel\",\n",
    "            \"model_module\": \"@jupyter-widgets/base\",\n",
    "            \"model_module_version\": \"1.2.0\",\n",
    "            \"state\": {}\n",
    "        },\n",
    "        \"3c174e62b51f4e10bd886ef10b4268a3\": {\n",
    "            \"model_name\": \"VBoxModel\",\n",
    "            \"model_module\": \"@jupyter-widgets/controls\",\n",
    "            \"model_module_version\": \"1.5.0\",\n",
    "            \"state\": {\n",
    "                \"_dom_classes\": [\n",
    "                    \"widget-interact\"\n",
    "                ],\n",
    "                \"layout\": \"IPY_MODEL_382370055405442293508080e51c5718\"\n",
    "            }\n",
    "        },\n",
    "        \"c44940eeb7ad471a8f1bbce6a7ddba7d\": {\n",
    "            \"model_name\": \"LayoutModel\",\n",
    "            \"model_module\": \"@jupyter-widgets/base\",\n",
    "            \"model_module_version\": \"1.2.0\",\n",
    "            \"state\": {}\n",
    "        },\n",
    "        \"57ef4069aa2b4702a85ee35ccebc2c61\": {\n",
    "            \"model_name\": \"VBoxModel\",\n",
    "            \"model_module\": \"@jupyter-widgets/controls\",\n",
    "            \"model_module_version\": \"1.5.0\",\n",
    "            \"state\": {\n",
    "                \"_dom_classes\": [\n",
    "                    \"widget-interact\"\n",
    "                ],\n",
    "                \"children\": [\n",
    "                    \"IPY_MODEL_4566bbf4476c49b693b4024914661ecf\",\n",
    "                    \"IPY_MODEL_ec3f219f40ab42cfa7648afdb4cad4d5\"\n",
    "                ],\n",
    "                \"layout\": \"IPY_MODEL_c44940eeb7ad471a8f1bbce6a7ddba7d\"\n",
    "            }\n",
    "        },\n",
    "        \"a7669429372941108735c53cb588f67c\": {\n",
    "            \"model_name\": \"LayoutModel\",\n",
    "            \"model_module\": \"@jupyter-widgets/base\",\n",
    "            \"model_module_version\": \"1.2.0\",\n",
    "            \"state\": {}\n",
    "        },\n",
    "        \"a6ee831c563641aba10284f257974a9c\": {\n",
    "            \"model_name\": \"SliderStyleModel\",\n",
    "            \"model_module\": \"@jupyter-widgets/controls\",\n",
    "            \"model_module_version\": \"1.5.0\",\n",
    "            \"state\": {\n",
    "                \"description_width\": \"\"\n",
    "            }\n",
    "        },\n",
    "        \"4566bbf4476c49b693b4024914661ecf\": {\n",
    "            \"model_name\": \"IntSliderModel\",\n",
    "            \"model_module\": \"@jupyter-widgets/controls\",\n",
    "            \"model_module_version\": \"1.5.0\",\n",
    "            \"state\": {\n",
    "                \"description\": \"Z\",\n",
    "                \"layout\": \"IPY_MODEL_a7669429372941108735c53cb588f67c\",\n",
    "                \"max\": 20,\n",
    "                \"min\": 1,\n",
    "                \"style\": \"IPY_MODEL_a6ee831c563641aba10284f257974a9c\",\n",
    "                \"value\": 18\n",
    "            }\n",
    "        },\n",
    "        \"87f51edc2dc7450dbbf7739d4db93daa\": {\n",
    "            \"model_name\": \"LayoutModel\",\n",
    "            \"model_module\": \"@jupyter-widgets/base\",\n",
    "            \"model_module_version\": \"1.2.0\",\n",
    "            \"state\": {}\n",
    "        },\n",
    "        \"ec3f219f40ab42cfa7648afdb4cad4d5\": {\n",
    "            \"model_name\": \"OutputModel\",\n",
    "            \"model_module\": \"@jupyter-widgets/output\",\n",
    "            \"model_module_version\": \"1.0.0\",\n",
    "            \"state\": {\n",
    "                \"layout\": \"IPY_MODEL_87f51edc2dc7450dbbf7739d4db93daa\",\n",
    "                \"outputs\": [\n",
    "                    {\n",
    "                        \"output_type\": \"display_data\",\n",
    "                        \"data\": {\n",
    "                            \"text/plain\": \"<Figure size 432x288 with 1 Axes>\",\n",
    "                            \"image/png\": \"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\\n\"\n",
    "                        },\n",
    "                        \"metadata\": {\n",
    "                            \"needs_background\": \"light\"\n",
    "                        }\n",
    "                    }\n",
    "                ]\n",
    "            }\n",
    "        },\n",
    "        \"cfd0981381764a57b4a31cc8d67c7fee\": {\n",
    "            \"model_name\": \"LayoutModel\",\n",
    "            \"model_module\": \"@jupyter-widgets/base\",\n",
    "            \"model_module_version\": \"1.2.0\",\n",
    "            \"state\": {}\n",
    "        },\n",
    "        \"dc9a361aaf8e46ec8027828444339d2e\": {\n",
    "            \"model_name\": \"VBoxModel\",\n",
    "            \"model_module\": \"@jupyter-widgets/controls\",\n",
    "            \"model_module_version\": \"1.5.0\",\n",
    "            \"state\": {\n",
    "                \"_dom_classes\": [\n",
    "                    \"widget-interact\"\n",
    "                ],\n",
    "                \"children\": [\n",
    "                    \"IPY_MODEL_464eb563de5540c3843687a5a38d052f\",\n",
    "                    \"IPY_MODEL_13443bd67f304faab4293bf4c99595b3\"\n",
    "                ],\n",
    "                \"layout\": \"IPY_MODEL_cfd0981381764a57b4a31cc8d67c7fee\"\n",
    "            }\n",
    "        },\n",
    "        \"f50a7f98f46f4d439cfdbcbe8a61afb8\": {\n",
    "            \"model_name\": \"LayoutModel\",\n",
    "            \"model_module\": \"@jupyter-widgets/base\",\n",
    "            \"model_module_version\": \"1.2.0\",\n",
    "            \"state\": {}\n",
    "        },\n",
    "        \"5631e5cc9bc749cab79662c05ab70881\": {\n",
    "            \"model_name\": \"SliderStyleModel\",\n",
    "            \"model_module\": \"@jupyter-widgets/controls\",\n",
    "            \"model_module_version\": \"1.5.0\",\n",
    "            \"state\": {\n",
    "                \"description_width\": \"\"\n",
    "            }\n",
    "        },\n",
    "        \"464eb563de5540c3843687a5a38d052f\": {\n",
    "            \"model_name\": \"IntSliderModel\",\n",
    "            \"model_module\": \"@jupyter-widgets/controls\",\n",
    "            \"model_module_version\": \"1.5.0\",\n",
    "            \"state\": {\n",
    "                \"description\": \"Z\",\n",
    "                \"layout\": \"IPY_MODEL_f50a7f98f46f4d439cfdbcbe8a61afb8\",\n",
    "                \"max\": 20,\n",
    "                \"min\": 1,\n",
    "                \"style\": \"IPY_MODEL_5631e5cc9bc749cab79662c05ab70881\",\n",
    "                \"value\": 10\n",
    "            }\n",
    "        },\n",
    "        \"927c0b4548cc4358a56b3c41281af4ad\": {\n",
    "            \"model_name\": \"LayoutModel\",\n",
    "            \"model_module\": \"@jupyter-widgets/base\",\n",
    "            \"model_module_version\": \"1.2.0\",\n",
    "            \"state\": {}\n",
    "        },\n",
    "        \"13443bd67f304faab4293bf4c99595b3\": {\n",
    "            \"model_name\": \"OutputModel\",\n",
    "            \"model_module\": \"@jupyter-widgets/output\",\n",
    "            \"model_module_version\": \"1.0.0\",\n",
    "            \"state\": {\n",
    "                \"layout\": \"IPY_MODEL_927c0b4548cc4358a56b3c41281af4ad\",\n",
    "                \"outputs\": [\n",
    "                    {\n",
    "                        \"output_type\": \"display_data\",\n",
    "                        \"data\": {\n",
    "                            \"text/plain\": \"<Figure size 432x288 with 1 Axes>\",\n",
    "                            \"image/png\": \"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\\n\"\n",
    "                        },\n",
    "                        \"metadata\": {\n",
    "                            \"needs_background\": \"light\"\n",
    "                        }\n",
    "                    }\n",
    "                ]\n",
    "            }\n",
    "        },\n",
    "        \"c592c58d5c1d43d3adfda01696fc5479\": {\n",
    "            \"model_name\": \"LayoutModel\",\n",
    "            \"model_module\": \"@jupyter-widgets/base\",\n",
    "            \"model_module_version\": \"1.2.0\",\n",
    "            \"state\": {}\n",
    "        },\n",
    "        \"3750c368c8a64d76902f07d8844faab0\": {\n",
    "            \"model_name\": \"VBoxModel\",\n",
    "            \"model_module\": \"@jupyter-widgets/controls\",\n",
    "            \"model_module_version\": \"1.5.0\",\n",
    "            \"state\": {\n",
    "                \"_dom_classes\": [\n",
    "                    \"widget-interact\"\n",
    "                ],\n",
    "                \"children\": [\n",
    "                    \"IPY_MODEL_b2bc6c02ecc148b2b70b23d853f623d5\",\n",
    "                    \"IPY_MODEL_5802c4bca6f4467c930c0dcdbfef4c80\"\n",
    "                ],\n",
    "                \"layout\": \"IPY_MODEL_c592c58d5c1d43d3adfda01696fc5479\"\n",
    "            }\n",
    "        },\n",
    "        \"2ff4d6aa31ae41b09f07752d37bc1802\": {\n",
    "            \"model_name\": \"LayoutModel\",\n",
    "            \"model_module\": \"@jupyter-widgets/base\",\n",
    "            \"model_module_version\": \"1.2.0\",\n",
    "            \"state\": {}\n",
    "        },\n",
    "        \"898d230b6a8c4b6e9cf25c00fa3154cb\": {\n",
    "            \"model_name\": \"SliderStyleModel\",\n",
    "            \"model_module\": \"@jupyter-widgets/controls\",\n",
    "            \"model_module_version\": \"1.5.0\",\n",
    "            \"state\": {\n",
    "                \"description_width\": \"\"\n",
    "            }\n",
    "        },\n",
    "        \"b2bc6c02ecc148b2b70b23d853f623d5\": {\n",
    "            \"model_name\": \"IntSliderModel\",\n",
    "            \"model_module\": \"@jupyter-widgets/controls\",\n",
    "            \"model_module_version\": \"1.5.0\",\n",
    "            \"state\": {\n",
    "                \"description\": \"Z\",\n",
    "                \"layout\": \"IPY_MODEL_2ff4d6aa31ae41b09f07752d37bc1802\",\n",
    "                \"max\": 20,\n",
    "                \"min\": 1,\n",
    "                \"style\": \"IPY_MODEL_898d230b6a8c4b6e9cf25c00fa3154cb\",\n",
    "                \"value\": 10\n",
    "            }\n",
    "        },\n",
    "        \"8beadccd881645fdbd863b0f2481dd61\": {\n",
    "            \"model_name\": \"LayoutModel\",\n",
    "            \"model_module\": \"@jupyter-widgets/base\",\n",
    "            \"model_module_version\": \"1.2.0\",\n",
    "            \"state\": {}\n",
    "        },\n",
    "        \"5802c4bca6f4467c930c0dcdbfef4c80\": {\n",
    "            \"model_name\": \"OutputModel\",\n",
    "            \"model_module\": \"@jupyter-widgets/output\",\n",
    "            \"model_module_version\": \"1.0.0\",\n",
    "            \"state\": {\n",
    "                \"layout\": \"IPY_MODEL_8beadccd881645fdbd863b0f2481dd61\",\n",
    "                \"outputs\": [\n",
    "                    {\n",
    "                        \"output_type\": \"error\",\n",
    "                        \"ename\": \"AttributeError\",\n",
    "                        \"evalue\": \"'Rectangle' object has no property 'normed'\",\n",
    "                        \"traceback\": [\n",
    "                            \"\\u001b[1;31m---------------------------------------------------------------------------\\u001b[0m\",\n",
    "                            \"\\u001b[1;31mAttributeError\\u001b[0m                            Traceback (most recent call last)\",\n",
    "                            \"\\u001b[1;32mC:\\\\ProgramData\\\\Anaconda3\\\\lib\\\\site-packages\\\\ipywidgets\\\\widgets\\\\interaction.py\\u001b[0m in \\u001b[0;36mupdate\\u001b[1;34m(self, *args)\\u001b[0m\\n\\u001b[0;32m    254\\u001b[0m                     \\u001b[0mvalue\\u001b[0m \\u001b[1;33m=\\u001b[0m \\u001b[0mwidget\\u001b[0m\\u001b[1;33m.\\u001b[0m\\u001b[0mget_interact_value\\u001b[0m\\u001b[1;33m(\\u001b[0m\\u001b[1;33m)\\u001b[0m\\u001b[1;33m\\u001b[0m\\u001b[1;33m\\u001b[0m\\u001b[0m\\n\\u001b[0;32m    255\\u001b[0m                     \\u001b[0mself\\u001b[0m\\u001b[1;33m.\\u001b[0m\\u001b[0mkwargs\\u001b[0m\\u001b[1;33m[\\u001b[0m\\u001b[0mwidget\\u001b[0m\\u001b[1;33m.\\u001b[0m\\u001b[0m_kwarg\\u001b[0m\\u001b[1;33m]\\u001b[0m \\u001b[1;33m=\\u001b[0m \\u001b[0mvalue\\u001b[0m\\u001b[1;33m\\u001b[0m\\u001b[1;33m\\u001b[0m\\u001b[0m\\n\\u001b[1;32m--> 256\\u001b[1;33m                 \\u001b[0mself\\u001b[0m\\u001b[1;33m.\\u001b[0m\\u001b[0mresult\\u001b[0m \\u001b[1;33m=\\u001b[0m \\u001b[0mself\\u001b[0m\\u001b[1;33m.\\u001b[0m\\u001b[0mf\\u001b[0m\\u001b[1;33m(\\u001b[0m\\u001b[1;33m**\\u001b[0m\\u001b[0mself\\u001b[0m\\u001b[1;33m.\\u001b[0m\\u001b[0mkwargs\\u001b[0m\\u001b[1;33m)\\u001b[0m\\u001b[1;33m\\u001b[0m\\u001b[1;33m\\u001b[0m\\u001b[0m\\n\\u001b[0m\\u001b[0;32m    257\\u001b[0m                 \\u001b[0mshow_inline_matplotlib_plots\\u001b[0m\\u001b[1;33m(\\u001b[0m\\u001b[1;33m)\\u001b[0m\\u001b[1;33m\\u001b[0m\\u001b[1;33m\\u001b[0m\\u001b[0m\\n\\u001b[0;32m    258\\u001b[0m                 \\u001b[1;32mif\\u001b[0m \\u001b[0mself\\u001b[0m\\u001b[1;33m.\\u001b[0m\\u001b[0mauto_display\\u001b[0m \\u001b[1;32mand\\u001b[0m \\u001b[0mself\\u001b[0m\\u001b[1;33m.\\u001b[0m\\u001b[0mresult\\u001b[0m \\u001b[1;32mis\\u001b[0m \\u001b[1;32mnot\\u001b[0m \\u001b[1;32mNone\\u001b[0m\\u001b[1;33m:\\u001b[0m\\u001b[1;33m\\u001b[0m\\u001b[1;33m\\u001b[0m\\u001b[0m\\n\",\n",
    "                            \"\\u001b[1;32m<ipython-input-44-67bbd1a2b4b9>\\u001b[0m in \\u001b[0;36mgraph_error\\u001b[1;34m(Z)\\u001b[0m\\n\\u001b[0;32m     12\\u001b[0m     \\u001b[0mYfit\\u001b[0m \\u001b[1;33m=\\u001b[0m \\u001b[0marray\\u001b[0m\\u001b[1;33m(\\u001b[0m\\u001b[0mYfit\\u001b[0m\\u001b[1;33m)\\u001b[0m\\u001b[1;33m\\u001b[0m\\u001b[1;33m\\u001b[0m\\u001b[0m\\n\\u001b[0;32m     13\\u001b[0m \\u001b[1;33m\\u001b[0m\\u001b[0m\\n\\u001b[1;32m---> 14\\u001b[1;33m     \\u001b[0mhist\\u001b[0m\\u001b[1;33m(\\u001b[0m\\u001b[0mYfit\\u001b[0m \\u001b[1;33m-\\u001b[0m \\u001b[0mFFy\\u001b[0m\\u001b[1;33m,\\u001b[0m \\u001b[0mbins\\u001b[0m \\u001b[1;33m=\\u001b[0m \\u001b[1;36m100\\u001b[0m\\u001b[1;33m,\\u001b[0m \\u001b[0mnormed\\u001b[0m\\u001b[1;33m=\\u001b[0m\\u001b[1;32mTrue\\u001b[0m\\u001b[1;33m)\\u001b[0m\\u001b[1;33m\\u001b[0m\\u001b[1;33m\\u001b[0m\\u001b[0m\\n\\u001b[0m\",\n",
    "                            \"\\u001b[1;32mC:\\\\ProgramData\\\\Anaconda3\\\\lib\\\\site-packages\\\\matplotlib\\\\pyplot.py\\u001b[0m in \\u001b[0;36mhist\\u001b[1;34m(x, bins, range, density, weights, cumulative, bottom, histtype, align, orientation, rwidth, log, color, label, stacked, data, **kwargs)\\u001b[0m\\n\\u001b[0;32m   2683\\u001b[0m         \\u001b[0morientation\\u001b[0m\\u001b[1;33m=\\u001b[0m\\u001b[1;34m'vertical'\\u001b[0m\\u001b[1;33m,\\u001b[0m \\u001b[0mrwidth\\u001b[0m\\u001b[1;33m=\\u001b[0m\\u001b[1;32mNone\\u001b[0m\\u001b[1;33m,\\u001b[0m \\u001b[0mlog\\u001b[0m\\u001b[1;33m=\\u001b[0m\\u001b[1;32mFalse\\u001b[0m\\u001b[1;33m,\\u001b[0m \\u001b[0mcolor\\u001b[0m\\u001b[1;33m=\\u001b[0m\\u001b[1;32mNone\\u001b[0m\\u001b[1;33m,\\u001b[0m\\u001b[1;33m\\u001b[0m\\u001b[1;33m\\u001b[0m\\u001b[0m\\n\\u001b[0;32m   2684\\u001b[0m         label=None, stacked=False, *, data=None, **kwargs):\\n\\u001b[1;32m-> 2685\\u001b[1;33m     return gca().hist(\\n\\u001b[0m\\u001b[0;32m   2686\\u001b[0m         \\u001b[0mx\\u001b[0m\\u001b[1;33m,\\u001b[0m \\u001b[0mbins\\u001b[0m\\u001b[1;33m=\\u001b[0m\\u001b[0mbins\\u001b[0m\\u001b[1;33m,\\u001b[0m \\u001b[0mrange\\u001b[0m\\u001b[1;33m=\\u001b[0m\\u001b[0mrange\\u001b[0m\\u001b[1;33m,\\u001b[0m \\u001b[0mdensity\\u001b[0m\\u001b[1;33m=\\u001b[0m\\u001b[0mdensity\\u001b[0m\\u001b[1;33m,\\u001b[0m \\u001b[0mweights\\u001b[0m\\u001b[1;33m=\\u001b[0m\\u001b[0mweights\\u001b[0m\\u001b[1;33m,\\u001b[0m\\u001b[1;33m\\u001b[0m\\u001b[1;33m\\u001b[0m\\u001b[0m\\n\\u001b[0;32m   2687\\u001b[0m         \\u001b[0mcumulative\\u001b[0m\\u001b[1;33m=\\u001b[0m\\u001b[0mcumulative\\u001b[0m\\u001b[1;33m,\\u001b[0m \\u001b[0mbottom\\u001b[0m\\u001b[1;33m=\\u001b[0m\\u001b[0mbottom\\u001b[0m\\u001b[1;33m,\\u001b[0m \\u001b[0mhisttype\\u001b[0m\\u001b[1;33m=\\u001b[0m\\u001b[0mhisttype\\u001b[0m\\u001b[1;33m,\\u001b[0m\\u001b[1;33m\\u001b[0m\\u001b[1;33m\\u001b[0m\\u001b[0m\\n\",\n",
    "                            \"\\u001b[1;32mC:\\\\ProgramData\\\\Anaconda3\\\\lib\\\\site-packages\\\\matplotlib\\\\__init__.py\\u001b[0m in \\u001b[0;36minner\\u001b[1;34m(ax, data, *args, **kwargs)\\u001b[0m\\n\\u001b[0;32m   1436\\u001b[0m     \\u001b[1;32mdef\\u001b[0m \\u001b[0minner\\u001b[0m\\u001b[1;33m(\\u001b[0m\\u001b[0max\\u001b[0m\\u001b[1;33m,\\u001b[0m \\u001b[1;33m*\\u001b[0m\\u001b[0margs\\u001b[0m\\u001b[1;33m,\\u001b[0m \\u001b[0mdata\\u001b[0m\\u001b[1;33m=\\u001b[0m\\u001b[1;32mNone\\u001b[0m\\u001b[1;33m,\\u001b[0m \\u001b[1;33m**\\u001b[0m\\u001b[0mkwargs\\u001b[0m\\u001b[1;33m)\\u001b[0m\\u001b[1;33m:\\u001b[0m\\u001b[1;33m\\u001b[0m\\u001b[1;33m\\u001b[0m\\u001b[0m\\n\\u001b[0;32m   1437\\u001b[0m         \\u001b[1;32mif\\u001b[0m \\u001b[0mdata\\u001b[0m \\u001b[1;32mis\\u001b[0m \\u001b[1;32mNone\\u001b[0m\\u001b[1;33m:\\u001b[0m\\u001b[1;33m\\u001b[0m\\u001b[1;33m\\u001b[0m\\u001b[0m\\n\\u001b[1;32m-> 1438\\u001b[1;33m             \\u001b[1;32mreturn\\u001b[0m \\u001b[0mfunc\\u001b[0m\\u001b[1;33m(\\u001b[0m\\u001b[0max\\u001b[0m\\u001b[1;33m,\\u001b[0m \\u001b[1;33m*\\u001b[0m\\u001b[0mmap\\u001b[0m\\u001b[1;33m(\\u001b[0m\\u001b[0msanitize_sequence\\u001b[0m\\u001b[1;33m,\\u001b[0m \\u001b[0margs\\u001b[0m\\u001b[1;33m)\\u001b[0m\\u001b[1;33m,\\u001b[0m \\u001b[1;33m**\\u001b[0m\\u001b[0mkwargs\\u001b[0m\\u001b[1;33m)\\u001b[0m\\u001b[1;33m\\u001b[0m\\u001b[1;33m\\u001b[0m\\u001b[0m\\n\\u001b[0m\\u001b[0;32m   1439\\u001b[0m \\u001b[1;33m\\u001b[0m\\u001b[0m\\n\\u001b[0;32m   1440\\u001b[0m         \\u001b[0mbound\\u001b[0m \\u001b[1;33m=\\u001b[0m \\u001b[0mnew_sig\\u001b[0m\\u001b[1;33m.\\u001b[0m\\u001b[0mbind\\u001b[0m\\u001b[1;33m(\\u001b[0m\\u001b[0max\\u001b[0m\\u001b[1;33m,\\u001b[0m \\u001b[1;33m*\\u001b[0m\\u001b[0margs\\u001b[0m\\u001b[1;33m,\\u001b[0m \\u001b[1;33m**\\u001b[0m\\u001b[0mkwargs\\u001b[0m\\u001b[1;33m)\\u001b[0m\\u001b[1;33m\\u001b[0m\\u001b[1;33m\\u001b[0m\\u001b[0m\\n\",\n",
    "                            \"\\u001b[1;32mC:\\\\ProgramData\\\\Anaconda3\\\\lib\\\\site-packages\\\\matplotlib\\\\axes\\\\_axes.py\\u001b[0m in \\u001b[0;36mhist\\u001b[1;34m(self, x, bins, range, density, weights, cumulative, bottom, histtype, align, orientation, rwidth, log, color, label, stacked, **kwargs)\\u001b[0m\\n\\u001b[0;32m   6818\\u001b[0m             \\u001b[1;32mif\\u001b[0m \\u001b[0mpatch\\u001b[0m\\u001b[1;33m:\\u001b[0m\\u001b[1;33m\\u001b[0m\\u001b[1;33m\\u001b[0m\\u001b[0m\\n\\u001b[0;32m   6819\\u001b[0m                 \\u001b[0mp\\u001b[0m \\u001b[1;33m=\\u001b[0m \\u001b[0mpatch\\u001b[0m\\u001b[1;33m[\\u001b[0m\\u001b[1;36m0\\u001b[0m\\u001b[1;33m]\\u001b[0m\\u001b[1;33m\\u001b[0m\\u001b[1;33m\\u001b[0m\\u001b[0m\\n\\u001b[1;32m-> 6820\\u001b[1;33m                 \\u001b[0mp\\u001b[0m\\u001b[1;33m.\\u001b[0m\\u001b[0mupdate\\u001b[0m\\u001b[1;33m(\\u001b[0m\\u001b[0mkwargs\\u001b[0m\\u001b[1;33m)\\u001b[0m\\u001b[1;33m\\u001b[0m\\u001b[1;33m\\u001b[0m\\u001b[0m\\n\\u001b[0m\\u001b[0;32m   6821\\u001b[0m                 \\u001b[1;32mif\\u001b[0m \\u001b[0mlbl\\u001b[0m \\u001b[1;32mis\\u001b[0m \\u001b[1;32mnot\\u001b[0m \\u001b[1;32mNone\\u001b[0m\\u001b[1;33m:\\u001b[0m\\u001b[1;33m\\u001b[0m\\u001b[1;33m\\u001b[0m\\u001b[0m\\n\\u001b[0;32m   6822\\u001b[0m                     \\u001b[0mp\\u001b[0m\\u001b[1;33m.\\u001b[0m\\u001b[0mset_label\\u001b[0m\\u001b[1;33m(\\u001b[0m\\u001b[0mlbl\\u001b[0m\\u001b[1;33m)\\u001b[0m\\u001b[1;33m\\u001b[0m\\u001b[1;33m\\u001b[0m\\u001b[0m\\n\",\n",
    "                            \"\\u001b[1;32mC:\\\\ProgramData\\\\Anaconda3\\\\lib\\\\site-packages\\\\matplotlib\\\\artist.py\\u001b[0m in \\u001b[0;36mupdate\\u001b[1;34m(self, props)\\u001b[0m\\n\\u001b[0;32m    994\\u001b[0m                     \\u001b[0mfunc\\u001b[0m \\u001b[1;33m=\\u001b[0m \\u001b[0mgetattr\\u001b[0m\\u001b[1;33m(\\u001b[0m\\u001b[0mself\\u001b[0m\\u001b[1;33m,\\u001b[0m \\u001b[1;34mf\\\"set_{k}\\\"\\u001b[0m\\u001b[1;33m,\\u001b[0m \\u001b[1;32mNone\\u001b[0m\\u001b[1;33m)\\u001b[0m\\u001b[1;33m\\u001b[0m\\u001b[1;33m\\u001b[0m\\u001b[0m\\n\\u001b[0;32m    995\\u001b[0m                     \\u001b[1;32mif\\u001b[0m \\u001b[1;32mnot\\u001b[0m \\u001b[0mcallable\\u001b[0m\\u001b[1;33m(\\u001b[0m\\u001b[0mfunc\\u001b[0m\\u001b[1;33m)\\u001b[0m\\u001b[1;33m:\\u001b[0m\\u001b[1;33m\\u001b[0m\\u001b[1;33m\\u001b[0m\\u001b[0m\\n\\u001b[1;32m--> 996\\u001b[1;33m                         raise AttributeError(f\\\"{type(self).__name__!r} object \\\"\\n\\u001b[0m\\u001b[0;32m    997\\u001b[0m                                              f\\\"has no property {k!r}\\\")\\n\\u001b[0;32m    998\\u001b[0m                     \\u001b[0mret\\u001b[0m\\u001b[1;33m.\\u001b[0m\\u001b[0mappend\\u001b[0m\\u001b[1;33m(\\u001b[0m\\u001b[0mfunc\\u001b[0m\\u001b[1;33m(\\u001b[0m\\u001b[0mv\\u001b[0m\\u001b[1;33m)\\u001b[0m\\u001b[1;33m)\\u001b[0m\\u001b[1;33m\\u001b[0m\\u001b[1;33m\\u001b[0m\\u001b[0m\\n\",\n",
    "                            \"\\u001b[1;31mAttributeError\\u001b[0m: 'Rectangle' object has no property 'normed'\"\n",
    "                        ]\n",
    "                    }\n",
    "                ]\n",
    "            }\n",
    "        },\n",
    "        \"38f9d4b7192d48248d7ba5ba91e2b829\": {\n",
    "            \"model_name\": \"LayoutModel\",\n",
    "            \"model_module\": \"@jupyter-widgets/base\",\n",
    "            \"model_module_version\": \"1.2.0\",\n",
    "            \"state\": {}\n",
    "        },\n",
    "        \"380af0ca8d8a41879e45619cc02aecad\": {\n",
    "            \"model_name\": \"VBoxModel\",\n",
    "            \"model_module\": \"@jupyter-widgets/controls\",\n",
    "            \"model_module_version\": \"1.5.0\",\n",
    "            \"state\": {\n",
    "                \"_dom_classes\": [\n",
    "                    \"widget-interact\"\n",
    "                ],\n",
    "                \"children\": [\n",
    "                    \"IPY_MODEL_63fecfdf60a649ffbca224d33e7cac30\",\n",
    "                    \"IPY_MODEL_f60957bfeaf24f7e800c60497c1889b8\"\n",
    "                ],\n",
    "                \"layout\": \"IPY_MODEL_38f9d4b7192d48248d7ba5ba91e2b829\"\n",
    "            }\n",
    "        },\n",
    "        \"77766548058642fbadd9a82ec167c31b\": {\n",
    "            \"model_name\": \"LayoutModel\",\n",
    "            \"model_module\": \"@jupyter-widgets/base\",\n",
    "            \"model_module_version\": \"1.2.0\",\n",
    "            \"state\": {}\n",
    "        },\n",
    "        \"4925e162c1a94b66b613ede121c142ef\": {\n",
    "            \"model_name\": \"SliderStyleModel\",\n",
    "            \"model_module\": \"@jupyter-widgets/controls\",\n",
    "            \"model_module_version\": \"1.5.0\",\n",
    "            \"state\": {\n",
    "                \"description_width\": \"\"\n",
    "            }\n",
    "        },\n",
    "        \"63fecfdf60a649ffbca224d33e7cac30\": {\n",
    "            \"model_name\": \"IntSliderModel\",\n",
    "            \"model_module\": \"@jupyter-widgets/controls\",\n",
    "            \"model_module_version\": \"1.5.0\",\n",
    "            \"state\": {\n",
    "                \"description\": \"Z\",\n",
    "                \"layout\": \"IPY_MODEL_77766548058642fbadd9a82ec167c31b\",\n",
    "                \"max\": 20,\n",
    "                \"min\": 1,\n",
    "                \"style\": \"IPY_MODEL_4925e162c1a94b66b613ede121c142ef\",\n",
    "                \"value\": 1\n",
    "            }\n",
    "        },\n",
    "        \"09e6778196f741db8932d3de2cd9bc03\": {\n",
    "            \"model_name\": \"LayoutModel\",\n",
    "            \"model_module\": \"@jupyter-widgets/base\",\n",
    "            \"model_module_version\": \"1.2.0\",\n",
    "            \"state\": {}\n",
    "        },\n",
    "        \"f60957bfeaf24f7e800c60497c1889b8\": {\n",
    "            \"model_name\": \"OutputModel\",\n",
    "            \"model_module\": \"@jupyter-widgets/output\",\n",
    "            \"model_module_version\": \"1.0.0\",\n",
    "            \"state\": {\n",
    "                \"layout\": \"IPY_MODEL_09e6778196f741db8932d3de2cd9bc03\",\n",
    "                \"outputs\": [\n",
    "                    {\n",
    "                        \"output_type\": \"display_data\",\n",
    "                        \"data\": {\n",
    "                            \"text/plain\": \"<Figure size 432x288 with 1 Axes>\",\n",
    "                            \"image/png\": \"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\\n\"\n",
    "                        },\n",
    "                        \"metadata\": {\n",
    "                            \"needs_background\": \"light\"\n",
    "                        }\n",
    "                    }\n",
    "                ]\n",
    "            }\n",
    "        },\n",
    "        \"170574d3fbb2442a9ae4fc8a49f50fd0\": {\n",
    "            \"model_name\": \"LayoutModel\",\n",
    "            \"model_module\": \"@jupyter-widgets/base\",\n",
    "            \"model_module_version\": \"1.2.0\",\n",
    "            \"state\": {}\n",
    "        },\n",
    "        \"f77128d9f6844f0e99c4440cf5623510\": {\n",
    "            \"model_name\": \"VBoxModel\",\n",
    "            \"model_module\": \"@jupyter-widgets/controls\",\n",
    "            \"model_module_version\": \"1.5.0\",\n",
    "            \"state\": {\n",
    "                \"_dom_classes\": [\n",
    "                    \"widget-interact\"\n",
    "                ],\n",
    "                \"children\": [\n",
    "                    \"IPY_MODEL_401f28e9ede240acaf80a9b6e0a73f61\",\n",
    "                    \"IPY_MODEL_3879386bbc87497b9799d66b6f918718\"\n",
    "                ],\n",
    "                \"layout\": \"IPY_MODEL_170574d3fbb2442a9ae4fc8a49f50fd0\"\n",
    "            }\n",
    "        },\n",
    "        \"f77f51e52e3842f180c9cfe5e76e3d48\": {\n",
    "            \"model_name\": \"LayoutModel\",\n",
    "            \"model_module\": \"@jupyter-widgets/base\",\n",
    "            \"model_module_version\": \"1.2.0\",\n",
    "            \"state\": {}\n",
    "        },\n",
    "        \"cb22064224fb402fb1b7886f66f89485\": {\n",
    "            \"model_name\": \"SliderStyleModel\",\n",
    "            \"model_module\": \"@jupyter-widgets/controls\",\n",
    "            \"model_module_version\": \"1.5.0\",\n",
    "            \"state\": {\n",
    "                \"description_width\": \"\"\n",
    "            }\n",
    "        },\n",
    "        \"401f28e9ede240acaf80a9b6e0a73f61\": {\n",
    "            \"model_name\": \"IntSliderModel\",\n",
    "            \"model_module\": \"@jupyter-widgets/controls\",\n",
    "            \"model_module_version\": \"1.5.0\",\n",
    "            \"state\": {\n",
    "                \"description\": \"Z\",\n",
    "                \"layout\": \"IPY_MODEL_f77f51e52e3842f180c9cfe5e76e3d48\",\n",
    "                \"max\": 20,\n",
    "                \"min\": 1,\n",
    "                \"style\": \"IPY_MODEL_cb22064224fb402fb1b7886f66f89485\",\n",
    "                \"value\": 10\n",
    "            }\n",
    "        },\n",
    "        \"5332b5910163406c82995db7a06c4c07\": {\n",
    "            \"model_name\": \"LayoutModel\",\n",
    "            \"model_module\": \"@jupyter-widgets/base\",\n",
    "            \"model_module_version\": \"1.2.0\",\n",
    "            \"state\": {}\n",
    "        },\n",
    "        \"3879386bbc87497b9799d66b6f918718\": {\n",
    "            \"model_name\": \"OutputModel\",\n",
    "            \"model_module\": \"@jupyter-widgets/output\",\n",
    "            \"model_module_version\": \"1.0.0\",\n",
    "            \"state\": {\n",
    "                \"layout\": \"IPY_MODEL_5332b5910163406c82995db7a06c4c07\",\n",
    "                \"outputs\": [\n",
    "                    {\n",
    "                        \"output_type\": \"display_data\",\n",
    "                        \"data\": {\n",
    "                            \"text/plain\": \"<Figure size 432x288 with 1 Axes>\",\n",
    "                            \"image/png\": \"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\\n\"\n",
    "                        },\n",
    "                        \"metadata\": {\n",
    "                            \"needs_background\": \"light\"\n",
    "                        }\n",
    "                    }\n",
    "                ]\n",
    "            }\n",
    "        },\n",
    "        \"802ceeed63bb4eaab472c11c0e4fda43\": {\n",
    "            \"model_name\": \"LayoutModel\",\n",
    "            \"model_module\": \"@jupyter-widgets/base\",\n",
    "            \"model_module_version\": \"1.2.0\",\n",
    "            \"state\": {}\n",
    "        },\n",
    "        \"3a60080935434b739a9cdf37d5de5a18\": {\n",
    "            \"model_name\": \"VBoxModel\",\n",
    "            \"model_module\": \"@jupyter-widgets/controls\",\n",
    "            \"model_module_version\": \"1.5.0\",\n",
    "            \"state\": {\n",
    "                \"_dom_classes\": [\n",
    "                    \"widget-interact\"\n",
    "                ],\n",
    "                \"children\": [\n",
    "                    \"IPY_MODEL_b4636f73598a446cbd9969fe82a52ed2\",\n",
    "                    \"IPY_MODEL_bee172c217a3419f997ce85807fba041\"\n",
    "                ],\n",
    "                \"layout\": \"IPY_MODEL_802ceeed63bb4eaab472c11c0e4fda43\"\n",
    "            }\n",
    "        },\n",
    "        \"f5128cb047004e3d83beaa2e25ea0902\": {\n",
    "            \"model_name\": \"LayoutModel\",\n",
    "            \"model_module\": \"@jupyter-widgets/base\",\n",
    "            \"model_module_version\": \"1.2.0\",\n",
    "            \"state\": {}\n",
    "        },\n",
    "        \"a394629571eb48a7bb0690f3d65c9e36\": {\n",
    "            \"model_name\": \"SliderStyleModel\",\n",
    "            \"model_module\": \"@jupyter-widgets/controls\",\n",
    "            \"model_module_version\": \"1.5.0\",\n",
    "            \"state\": {\n",
    "                \"description_width\": \"\"\n",
    "            }\n",
    "        },\n",
    "        \"b4636f73598a446cbd9969fe82a52ed2\": {\n",
    "            \"model_name\": \"IntSliderModel\",\n",
    "            \"model_module\": \"@jupyter-widgets/controls\",\n",
    "            \"model_module_version\": \"1.5.0\",\n",
    "            \"state\": {\n",
    "                \"description\": \"Z\",\n",
    "                \"layout\": \"IPY_MODEL_f5128cb047004e3d83beaa2e25ea0902\",\n",
    "                \"max\": 20,\n",
    "                \"min\": 1,\n",
    "                \"style\": \"IPY_MODEL_a394629571eb48a7bb0690f3d65c9e36\",\n",
    "                \"value\": 20\n",
    "            }\n",
    "        },\n",
    "        \"55a7bc25ca2e41afa1aea4517fd93f9b\": {\n",
    "            \"model_name\": \"LayoutModel\",\n",
    "            \"model_module\": \"@jupyter-widgets/base\",\n",
    "            \"model_module_version\": \"1.2.0\",\n",
    "            \"state\": {}\n",
    "        },\n",
    "        \"bee172c217a3419f997ce85807fba041\": {\n",
    "            \"model_name\": \"OutputModel\",\n",
    "            \"model_module\": \"@jupyter-widgets/output\",\n",
    "            \"model_module_version\": \"1.0.0\",\n",
    "            \"state\": {\n",
    "                \"layout\": \"IPY_MODEL_55a7bc25ca2e41afa1aea4517fd93f9b\",\n",
    "                \"outputs\": [\n",
    "                    {\n",
    "                        \"output_type\": \"display_data\",\n",
    "                        \"data\": {\n",
    "                            \"text/plain\": \"<Figure size 720x720 with 1 Axes>\",\n",
    "                            \"image/png\": \"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\\n\"\n",
    "                        },\n",
    "                        \"metadata\": {\n",
    "                            \"needs_background\": \"light\"\n",
    "                        }\n",
    "                    }\n",
    "                ]\n",
    "            }\n",
    "        },\n",
    "        \"02dd6f7a5c90404abc73175482804ee4\": {\n",
    "            \"model_name\": \"LayoutModel\",\n",
    "            \"model_module\": \"@jupyter-widgets/base\",\n",
    "            \"model_module_version\": \"1.2.0\",\n",
    "            \"state\": {}\n",
    "        },\n",
    "        \"f503eeb083af4e128ecb13dde2c6b10b\": {\n",
    "            \"model_name\": \"VBoxModel\",\n",
    "            \"model_module\": \"@jupyter-widgets/controls\",\n",
    "            \"model_module_version\": \"1.5.0\",\n",
    "            \"state\": {\n",
    "                \"_dom_classes\": [\n",
    "                    \"widget-interact\"\n",
    "                ],\n",
    "                \"children\": [\n",
    "                    \"IPY_MODEL_c3cbf9900b67418fa19fcb6b3678cdca\",\n",
    "                    \"IPY_MODEL_16d25586a2494073a5b0165545e44e35\"\n",
    "                ],\n",
    "                \"layout\": \"IPY_MODEL_02dd6f7a5c90404abc73175482804ee4\"\n",
    "            }\n",
    "        },\n",
    "        \"1165a88f2e194b6ebd520406913c2e9b\": {\n",
    "            \"model_name\": \"LayoutModel\",\n",
    "            \"model_module\": \"@jupyter-widgets/base\",\n",
    "            \"model_module_version\": \"1.2.0\",\n",
    "            \"state\": {}\n",
    "        },\n",
    "        \"aea3531058454f5aa8b7e9a8a9a1ef67\": {\n",
    "            \"model_name\": \"SliderStyleModel\",\n",
    "            \"model_module\": \"@jupyter-widgets/controls\",\n",
    "            \"model_module_version\": \"1.5.0\",\n",
    "            \"state\": {\n",
    "                \"description_width\": \"\"\n",
    "            }\n",
    "        },\n",
    "        \"c3cbf9900b67418fa19fcb6b3678cdca\": {\n",
    "            \"model_name\": \"IntSliderModel\",\n",
    "            \"model_module\": \"@jupyter-widgets/controls\",\n",
    "            \"model_module_version\": \"1.5.0\",\n",
    "            \"state\": {\n",
    "                \"description\": \"Z\",\n",
    "                \"layout\": \"IPY_MODEL_1165a88f2e194b6ebd520406913c2e9b\",\n",
    "                \"max\": 50,\n",
    "                \"min\": 1,\n",
    "                \"style\": \"IPY_MODEL_aea3531058454f5aa8b7e9a8a9a1ef67\",\n",
    "                \"value\": 25\n",
    "            }\n",
    "        },\n",
    "        \"7309d937050e4e72aff18fa18b6d8209\": {\n",
    "            \"model_name\": \"LayoutModel\",\n",
    "            \"model_module\": \"@jupyter-widgets/base\",\n",
    "            \"model_module_version\": \"1.2.0\",\n",
    "            \"state\": {}\n",
    "        },\n",
    "        \"16d25586a2494073a5b0165545e44e35\": {\n",
    "            \"model_name\": \"OutputModel\",\n",
    "            \"model_module\": \"@jupyter-widgets/output\",\n",
    "            \"model_module_version\": \"1.0.0\",\n",
    "            \"state\": {\n",
    "                \"layout\": \"IPY_MODEL_7309d937050e4e72aff18fa18b6d8209\",\n",
    "                \"outputs\": [\n",
    "                    {\n",
    "                        \"output_type\": \"error\",\n",
    "                        \"ename\": \"FileNotFoundError\",\n",
    "                        \"evalue\": \"[Errno 2] No such file or directory: 'pickles/25'\",\n",
    "                        \"traceback\": [\n",
    "                            \"\\u001b[1;31m---------------------------------------------------------------------------\\u001b[0m\",\n",
    "                            \"\\u001b[1;31mFileNotFoundError\\u001b[0m                         Traceback (most recent call last)\",\n",
    "                            \"\\u001b[1;32mC:\\\\ProgramData\\\\Anaconda3\\\\lib\\\\site-packages\\\\ipywidgets\\\\widgets\\\\interaction.py\\u001b[0m in \\u001b[0;36mupdate\\u001b[1;34m(self, *args)\\u001b[0m\\n\\u001b[0;32m    254\\u001b[0m                     \\u001b[0mvalue\\u001b[0m \\u001b[1;33m=\\u001b[0m \\u001b[0mwidget\\u001b[0m\\u001b[1;33m.\\u001b[0m\\u001b[0mget_interact_value\\u001b[0m\\u001b[1;33m(\\u001b[0m\\u001b[1;33m)\\u001b[0m\\u001b[1;33m\\u001b[0m\\u001b[1;33m\\u001b[0m\\u001b[0m\\n\\u001b[0;32m    255\\u001b[0m                     \\u001b[0mself\\u001b[0m\\u001b[1;33m.\\u001b[0m\\u001b[0mkwargs\\u001b[0m\\u001b[1;33m[\\u001b[0m\\u001b[0mwidget\\u001b[0m\\u001b[1;33m.\\u001b[0m\\u001b[0m_kwarg\\u001b[0m\\u001b[1;33m]\\u001b[0m \\u001b[1;33m=\\u001b[0m \\u001b[0mvalue\\u001b[0m\\u001b[1;33m\\u001b[0m\\u001b[1;33m\\u001b[0m\\u001b[0m\\n\\u001b[1;32m--> 256\\u001b[1;33m                 \\u001b[0mself\\u001b[0m\\u001b[1;33m.\\u001b[0m\\u001b[0mresult\\u001b[0m \\u001b[1;33m=\\u001b[0m \\u001b[0mself\\u001b[0m\\u001b[1;33m.\\u001b[0m\\u001b[0mf\\u001b[0m\\u001b[1;33m(\\u001b[0m\\u001b[1;33m**\\u001b[0m\\u001b[0mself\\u001b[0m\\u001b[1;33m.\\u001b[0m\\u001b[0mkwargs\\u001b[0m\\u001b[1;33m)\\u001b[0m\\u001b[1;33m\\u001b[0m\\u001b[1;33m\\u001b[0m\\u001b[0m\\n\\u001b[0m\\u001b[0;32m    257\\u001b[0m                 \\u001b[0mshow_inline_matplotlib_plots\\u001b[0m\\u001b[1;33m(\\u001b[0m\\u001b[1;33m)\\u001b[0m\\u001b[1;33m\\u001b[0m\\u001b[1;33m\\u001b[0m\\u001b[0m\\n\\u001b[0;32m    258\\u001b[0m                 \\u001b[1;32mif\\u001b[0m \\u001b[0mself\\u001b[0m\\u001b[1;33m.\\u001b[0m\\u001b[0mauto_display\\u001b[0m \\u001b[1;32mand\\u001b[0m \\u001b[0mself\\u001b[0m\\u001b[1;33m.\\u001b[0m\\u001b[0mresult\\u001b[0m \\u001b[1;32mis\\u001b[0m \\u001b[1;32mnot\\u001b[0m \\u001b[1;32mNone\\u001b[0m\\u001b[1;33m:\\u001b[0m\\u001b[1;33m\\u001b[0m\\u001b[1;33m\\u001b[0m\\u001b[0m\\n\",\n",
    "                            \"\\u001b[1;32m<ipython-input-50-217a6eb13b79>\\u001b[0m in \\u001b[0;36mgraph_error\\u001b[1;34m(Z)\\u001b[0m\\n\\u001b[0;32m      1\\u001b[0m \\u001b[1;32mdef\\u001b[0m \\u001b[0mgraph_error\\u001b[0m\\u001b[1;33m(\\u001b[0m\\u001b[0mZ\\u001b[0m\\u001b[1;33m)\\u001b[0m\\u001b[1;33m:\\u001b[0m\\u001b[1;33m\\u001b[0m\\u001b[1;33m\\u001b[0m\\u001b[0m\\n\\u001b[1;32m----> 2\\u001b[1;33m     \\u001b[0mf\\u001b[0m \\u001b[1;33m=\\u001b[0m \\u001b[0mgetFF\\u001b[0m\\u001b[1;33m(\\u001b[0m\\u001b[0mZ\\u001b[0m\\u001b[1;33m)\\u001b[0m\\u001b[1;33m\\u001b[0m\\u001b[1;33m\\u001b[0m\\u001b[0m\\n\\u001b[0m\\u001b[0;32m      3\\u001b[0m \\u001b[1;33m\\u001b[0m\\u001b[0m\\n\\u001b[0;32m      4\\u001b[0m \\u001b[1;33m\\u001b[0m\\u001b[0m\\n\\u001b[0;32m      5\\u001b[0m     \\u001b[0mFFdata\\u001b[0m \\u001b[1;33m=\\u001b[0m \\u001b[0mdb\\u001b[0m\\u001b[1;33m.\\u001b[0m\\u001b[0mEPDL\\u001b[0m\\u001b[1;33m[\\u001b[0m\\u001b[0mZ\\u001b[0m\\u001b[1;33m-\\u001b[0m\\u001b[1;36m1\\u001b[0m\\u001b[1;33m]\\u001b[0m\\u001b[1;33m[\\u001b[0m\\u001b[1;33m(\\u001b[0m\\u001b[1;36m7\\u001b[0m\\u001b[1;33m,\\u001b[0m \\u001b[1;36m93\\u001b[0m\\u001b[1;33m,\\u001b[0m \\u001b[1;36m0\\u001b[0m\\u001b[1;33m,\\u001b[0m \\u001b[1;36m0\\u001b[0m\\u001b[1;33m,\\u001b[0m \\u001b[1;36m0\\u001b[0m\\u001b[1;33m,\\u001b[0m \\u001b[1;36m941\\u001b[0m\\u001b[1;33m)\\u001b[0m\\u001b[1;33m]\\u001b[0m\\u001b[1;33m[\\u001b[0m\\u001b[1;36m1\\u001b[0m\\u001b[1;33m]\\u001b[0m\\u001b[1;33m\\u001b[0m\\u001b[1;33m\\u001b[0m\\u001b[0m\\n\",\n",
    "                            \"\\u001b[1;32m<ipython-input-21-7a5ea8fd40bb>\\u001b[0m in \\u001b[0;36mgetFF\\u001b[1;34m(Z)\\u001b[0m\\n\\u001b[0;32m     19\\u001b[0m     \\u001b[1;32mimport\\u001b[0m \\u001b[0mdill\\u001b[0m \\u001b[1;32mas\\u001b[0m \\u001b[0mpickle\\u001b[0m\\u001b[1;33m\\u001b[0m\\u001b[1;33m\\u001b[0m\\u001b[0m\\n\\u001b[0;32m     20\\u001b[0m     \\u001b[0mpath\\u001b[0m \\u001b[1;33m=\\u001b[0m \\u001b[1;34m\\\"pickles/\\\"\\u001b[0m \\u001b[1;33m+\\u001b[0m \\u001b[0mstr\\u001b[0m\\u001b[1;33m(\\u001b[0m\\u001b[0mZ\\u001b[0m\\u001b[1;33m)\\u001b[0m\\u001b[1;33m\\u001b[0m\\u001b[1;33m\\u001b[0m\\u001b[0m\\n\\u001b[1;32m---> 21\\u001b[1;33m     \\u001b[1;32mwith\\u001b[0m \\u001b[0mopen\\u001b[0m\\u001b[1;33m(\\u001b[0m\\u001b[0mpath\\u001b[0m\\u001b[1;33m,\\u001b[0m \\u001b[1;34m'rb'\\u001b[0m\\u001b[1;33m)\\u001b[0m \\u001b[1;32mas\\u001b[0m \\u001b[0mfile\\u001b[0m\\u001b[1;33m:\\u001b[0m\\u001b[1;33m\\u001b[0m\\u001b[1;33m\\u001b[0m\\u001b[0m\\n\\u001b[0m\\u001b[0;32m     22\\u001b[0m         \\u001b[0mparam\\u001b[0m \\u001b[1;33m=\\u001b[0m \\u001b[0mpickle\\u001b[0m\\u001b[1;33m.\\u001b[0m\\u001b[0mload\\u001b[0m\\u001b[1;33m(\\u001b[0m\\u001b[0mfile\\u001b[0m\\u001b[1;33m)\\u001b[0m\\u001b[1;33m\\u001b[0m\\u001b[1;33m\\u001b[0m\\u001b[0m\\n\\u001b[0;32m     23\\u001b[0m \\u001b[1;33m\\u001b[0m\\u001b[0m\\n\",\n",
    "                            \"\\u001b[1;31mFileNotFoundError\\u001b[0m: [Errno 2] No such file or directory: 'pickles/25'\"\n",
    "                        ]\n",
    "                    }\n",
    "                ]\n",
    "            }\n",
    "        },\n",
    "        \"8fc25f25640349b2a3f9938eb01c5192\": {\n",
    "            \"model_name\": \"LayoutModel\",\n",
    "            \"model_module\": \"@jupyter-widgets/base\",\n",
    "            \"model_module_version\": \"1.2.0\",\n",
    "            \"state\": {}\n",
    "        },\n",
    "        \"54f1ef4a0f10405ea1bed25832aa9ed9\": {\n",
    "            \"model_name\": \"VBoxModel\",\n",
    "            \"model_module\": \"@jupyter-widgets/controls\",\n",
    "            \"model_module_version\": \"1.5.0\",\n",
    "            \"state\": {\n",
    "                \"_dom_classes\": [\n",
    "                    \"widget-interact\"\n",
    "                ],\n",
    "                \"children\": [\n",
    "                    \"IPY_MODEL_c6f08875243c4129ae5e56a8c5890bb3\",\n",
    "                    \"IPY_MODEL_e9513e8104e849d295b8972b4b307b13\"\n",
    "                ],\n",
    "                \"layout\": \"IPY_MODEL_8fc25f25640349b2a3f9938eb01c5192\"\n",
    "            }\n",
    "        },\n",
    "        \"5e6b7be8607d456cbf82a6e1e2250af7\": {\n",
    "            \"model_name\": \"LayoutModel\",\n",
    "            \"model_module\": \"@jupyter-widgets/base\",\n",
    "            \"model_module_version\": \"1.2.0\",\n",
    "            \"state\": {}\n",
    "        },\n",
    "        \"ddd2420598cb4b748664e892ba4085b1\": {\n",
    "            \"model_name\": \"SliderStyleModel\",\n",
    "            \"model_module\": \"@jupyter-widgets/controls\",\n",
    "            \"model_module_version\": \"1.5.0\",\n",
    "            \"state\": {\n",
    "                \"description_width\": \"\"\n",
    "            }\n",
    "        },\n",
    "        \"c6f08875243c4129ae5e56a8c5890bb3\": {\n",
    "            \"model_name\": \"IntSliderModel\",\n",
    "            \"model_module\": \"@jupyter-widgets/controls\",\n",
    "            \"model_module_version\": \"1.5.0\",\n",
    "            \"state\": {\n",
    "                \"description\": \"Z\",\n",
    "                \"layout\": \"IPY_MODEL_5e6b7be8607d456cbf82a6e1e2250af7\",\n",
    "                \"max\": 26,\n",
    "                \"min\": 1,\n",
    "                \"style\": \"IPY_MODEL_ddd2420598cb4b748664e892ba4085b1\",\n",
    "                \"value\": 21\n",
    "            }\n",
    "        },\n",
    "        \"941fbd0a533b48378cb33190a5a5ee37\": {\n",
    "            \"model_name\": \"LayoutModel\",\n",
    "            \"model_module\": \"@jupyter-widgets/base\",\n",
    "            \"model_module_version\": \"1.2.0\",\n",
    "            \"state\": {}\n",
    "        },\n",
    "        \"e9513e8104e849d295b8972b4b307b13\": {\n",
    "            \"model_name\": \"OutputModel\",\n",
    "            \"model_module\": \"@jupyter-widgets/output\",\n",
    "            \"model_module_version\": \"1.0.0\",\n",
    "            \"state\": {\n",
    "                \"layout\": \"IPY_MODEL_941fbd0a533b48378cb33190a5a5ee37\",\n",
    "                \"outputs\": [\n",
    "                    {\n",
    "                        \"output_type\": \"display_data\",\n",
    "                        \"data\": {\n",
    "                            \"text/plain\": \"<Figure size 720x720 with 1 Axes>\",\n",
    "                            \"image/png\": \"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\\n\"\n",
    "                        },\n",
    "                        \"metadata\": {\n",
    "                            \"needs_background\": \"light\"\n",
    "                        }\n",
    "                    }\n",
    "                ]\n",
    "            }\n",
    "        },\n",
    "        \"3d0a1fc2a81545819a98d2dfd4bd3923\": {\n",
    "            \"model_name\": \"LayoutModel\",\n",
    "            \"model_module\": \"@jupyter-widgets/base\",\n",
    "            \"model_module_version\": \"1.2.0\",\n",
    "            \"state\": {}\n",
    "        },\n",
    "        \"0800bcbb34114edaa132030aa4ccda41\": {\n",
    "            \"model_name\": \"VBoxModel\",\n",
    "            \"model_module\": \"@jupyter-widgets/controls\",\n",
    "            \"model_module_version\": \"1.5.0\",\n",
    "            \"state\": {\n",
    "                \"_dom_classes\": [\n",
    "                    \"widget-interact\"\n",
    "                ],\n",
    "                \"children\": [\n",
    "                    \"IPY_MODEL_e08600bfe250430da4a3c41c49b70477\",\n",
    "                    \"IPY_MODEL_f73f2f930b7e44b0ab92e0c840b5d534\"\n",
    "                ],\n",
    "                \"layout\": \"IPY_MODEL_3d0a1fc2a81545819a98d2dfd4bd3923\"\n",
    "            }\n",
    "        },\n",
    "        \"db3ce652925f489c820c72ce9ea8e61b\": {\n",
    "            \"model_name\": \"LayoutModel\",\n",
    "            \"model_module\": \"@jupyter-widgets/base\",\n",
    "            \"model_module_version\": \"1.2.0\",\n",
    "            \"state\": {}\n",
    "        },\n",
    "        \"33a26bb9c9db4916827f20cd2c1aab17\": {\n",
    "            \"model_name\": \"SliderStyleModel\",\n",
    "            \"model_module\": \"@jupyter-widgets/controls\",\n",
    "            \"model_module_version\": \"1.5.0\",\n",
    "            \"state\": {\n",
    "                \"description_width\": \"\"\n",
    "            }\n",
    "        },\n",
    "        \"e08600bfe250430da4a3c41c49b70477\": {\n",
    "            \"model_name\": \"IntSliderModel\",\n",
    "            \"model_module\": \"@jupyter-widgets/controls\",\n",
    "            \"model_module_version\": \"1.5.0\",\n",
    "            \"state\": {\n",
    "                \"description\": \"Z\",\n",
    "                \"layout\": \"IPY_MODEL_db3ce652925f489c820c72ce9ea8e61b\",\n",
    "                \"max\": 21,\n",
    "                \"min\": 1,\n",
    "                \"style\": \"IPY_MODEL_33a26bb9c9db4916827f20cd2c1aab17\",\n",
    "                \"value\": 21\n",
    "            }\n",
    "        },\n",
    "        \"293db04304914d47a733769cf8506d08\": {\n",
    "            \"model_name\": \"LayoutModel\",\n",
    "            \"model_module\": \"@jupyter-widgets/base\",\n",
    "            \"model_module_version\": \"1.2.0\",\n",
    "            \"state\": {}\n",
    "        },\n",
    "        \"f73f2f930b7e44b0ab92e0c840b5d534\": {\n",
    "            \"model_name\": \"OutputModel\",\n",
    "            \"model_module\": \"@jupyter-widgets/output\",\n",
    "            \"model_module_version\": \"1.0.0\",\n",
    "            \"state\": {\n",
    "                \"layout\": \"IPY_MODEL_293db04304914d47a733769cf8506d08\",\n",
    "                \"outputs\": [\n",
    "                    {\n",
    "                        \"output_type\": \"display_data\",\n",
    "                        \"data\": {\n",
    "                            \"text/plain\": \"<Figure size 720x720 with 1 Axes>\",\n",
    "                            \"image/png\": \"iVBORw0KGgoAAAANSUhEUgAAAlwAAAI/CAYAAACifAdEAAAAOXRFWHRTb2Z0d2FyZQBNYXRwbG90bGliIHZlcnNpb24zLjMuMiwgaHR0cHM6Ly9tYXRwbG90bGliLm9yZy8vihELAAAACXBIWXMAAAsTAAALEwEAmpwYAAAYqElEQVR4nO3dbYyl9Xnf8d9V1nZjO6mhLJQAKrhCbiFSandFnbi1rJIWYkeGVqIiapJVS4VS4dSuWrXQSHHeIJE+RE2q2BW1nWxay4Q6TkGJ3RrRRFGl2s7axg+ACZtAYAOBTaLabiuRQK6+mJt2NJ5hNzN7zePnI43OOffDuf9/7jk7X845c6a6OwAAzPkTOz0AAID9TnABAAwTXAAAwwQXAMAwwQUAMExwAQAMO7TTAzid888/vy+77LKdHgYAwGl99rOf/d3uPrx2+a4PrssuuyzHjx/f6WEAAJxWVf3Wesu9pAgAMExwAQAME1wAAMMEFwDAMMEFADBMcAEADBNcAADDBBcAwDDBBQAwTHABAAwTXAAAwwQXAMAwwQUAMExwAQAME1wAAMMEFwDAMMEFADBMcAEADBNcAADDBBcAwDDBBQAwTHABAAwTXAAAwwQXAMCwQzs9gN3gstt+6RuWPXHnO3ZgJADAfuQZLgCAYYILAGCY4AIAGCa4AACGCS4AgGGCCwBgmOACABgmuAAAhgkuAIBhggsAYJjgAgAYJrgAAIYJLgCAYYILAGCY4AIAGCa4AACGCS4AgGGCCwBgmOACABh22uCqqg9V1XNV9eVVy86rqvur6rHl8txV626vqhNV9WhVXbtq+V+qqi8t636yqursTwcAYPc5k2e4fibJdWuW3Zbkge6+IskDy+1U1ZVJbkpy1bLP+6rqnGWf9ye5JckVy9fa+wQA2JdOG1zd/atJfn/N4uuTHFuuH0tyw6rld3f38939eJITSa6uqouSfEt3/4/u7iQ/u2ofAIB9bbPv4bqwu59JkuXygmX5xUmeWrXdyWXZxcv1tcsBAPa9s/2m+fXel9Uvs3z9O6m6paqOV9XxU6dOnbXBAQDshM0G17PLy4RZLp9blp9Mcumq7S5J8vSy/JJ1lq+ru+/q7iPdfeTw4cObHCIAwO6w2eC6L8nR5frRJPeuWn5TVb2qqi7PypvjP7O87Pj1qnrz8tuJP7BqHwCAfe3Q6Taoqo8keVuS86vqZJL3JrkzyT1VdXOSJ5PcmCTd/VBV3ZPk4SQvJLm1u19c7uofZOU3Hr8pySeWLwCAfe+0wdXd37vBqms22P6OJHess/x4km/7Y40OAGAf8EnzAADDBBcAwDDBBQAwTHABAAwTXAAAwwQXAMAwwQUAMExwAQAME1wAAMMEFwDAMMEFADBMcAEADBNcAADDBBcAwDDBBQAwTHABAAwTXAAAwwQXAMAwwQUAMExwAQAME1wAAMMEFwDAMMEFADBMcAEADBNcAADDBBcAwDDBBQAwTHABAAwTXAAAwwQXAMAwwQUAMExwAQAME1wAAMMEFwDAMMEFADBMcAEADBNcAADDBBcAwDDBBQAwTHABAAwTXAAAwwQXAMAwwQUAMExwAQAME1wAAMMEFwDAMMEFADBMcAEADBNcAADDBBcAwDDBBQAwTHABAAwTXAAAwwQXAMAwwQUAMExwAQAME1wAAMMEFwDAMMEFADBMcAEADBNcAADDBBcAwDDBBQAwTHABAAwTXAAAwwQXAMAwwQUAMExwAQAME1wAAMMEFwDAMMEFADBMcAEADBNcAADDBBcAwDDBBQAwTHABAAwTXAAAwwQXAMAwwQUAMExwAQAME1wAAMMEFwDAMMEFADBMcAEADBNcAADDBBcAwDDBBQAwTHABAAwTXAAAwwQXAMCwLQVXVf2jqnqoqr5cVR+pqj9ZVedV1f1V9dhyee6q7W+vqhNV9WhVXbv14QMA7H6bDq6qujjJP0xypLu/Lck5SW5KcluSB7r7iiQPLLdTVVcu669Kcl2S91XVOVsbPgDA7rfVlxQPJfmmqjqU5NVJnk5yfZJjy/pjSW5Yrl+f5O7ufr67H09yIsnVWzw+AMCut+ng6u7fTvKvkjyZ5JkkX+3uTya5sLufWbZ5JskFyy4XJ3lq1V2cXJYBAOxrW3lJ8dysPGt1eZJvTfKaqvq+l9tlnWW9wX3fUlXHq+r4qVOnNjtEAIBdYSsvKX5Xkse7+1R3/2GSjyX5ziTPVtVFSbJcPrdsfzLJpav2vyQrL0F+g+6+q7uPdPeRw4cPb2GIAAA7byvB9WSSN1fVq6uqklyT5JEk9yU5umxzNMm9y/X7ktxUVa+qqsuTXJHkM1s4PgDAnnBoszt296er6qNJPpfkhSSfT3JXktcmuaeqbs5KlN24bP9QVd2T5OFl+1u7+8Utjh8AYNfbdHAlSXe/N8l71yx+PivPdq23/R1J7tjKMQEA9hqfNA8AMExwAQAME1wAAMMEFwDAMMEFADBMcAEADBNcAADDBBcAwDDBBQAwTHABAAwTXAAAwwQXAMAwwQUAMExwAQAME1wAAMMEFwDAMMEFADBMcAEADBNcAADDBBcAwDDBBQAwTHABAAwTXAAAwwQXAMAwwQUAMExwAQAME1wAAMMEFwDAMMEFADBMcAEADBNcAADDBBcAwDDBBQAwTHABAAwTXAAAwwQXAMAwwQUAMExwAQAME1wAAMMEFwDAMMEFADBMcAEADBNcAADDBBcAwDDBBQAwTHABAAwTXAAAwwQXAMAwwQUAMExwAQAME1wAAMMEFwDAMMEFADBMcAEADBNcAADDBBcAwDDBBQAwTHABAAwTXAAAwwQXAMAwwQUAMExwAQAME1wAAMMEFwDAMMEFADBMcAEADBNcAADDBBcAwDDBBQAwTHABAAwTXAAAwwQXAMAwwQUAMExwAQAME1wAAMMEFwDAMMEFADBMcAEADBNcAADDBBcAwDDBBQAwTHABAAwTXAAAwwQXAMAwwQUAMExwAQAME1wAAMMEFwDAMMEFADBsS8FVVa+rqo9W1Veq6pGq+o6qOq+q7q+qx5bLc1dtf3tVnaiqR6vq2q0PHwBg99vqM1w/keS/dPefT/LtSR5JcluSB7r7iiQPLLdTVVcmuSnJVUmuS/K+qjpni8cHANj1Nh1cVfUtSd6a5INJ0t1/0N3/M8n1SY4tmx1LcsNy/fokd3f38939eJITSa7e7PEBAPaKrTzD9fokp5L8dFV9vqo+UFWvSXJhdz+TJMvlBcv2Fyd5atX+J5dlAAD72laC61CSNyV5f3e/Mcn/zvLy4QZqnWW97oZVt1TV8ao6furUqS0MEQBg520luE4mOdndn15ufzQrAfZsVV2UJMvlc6u2v3TV/pckeXq9O+7uu7r7SHcfOXz48BaGCACw8zYdXN39O0meqqo3LIuuSfJwkvuSHF2WHU1y73L9viQ3VdWrquryJFck+cxmjw8AsFcc2uL+P5Tkw1X1yiS/meTvZiXi7qmqm5M8meTGJOnuh6rqnqxE2QtJbu3uF7d4fACAXW9LwdXdDyY5ss6qazbY/o4kd2zlmAAAe41PmgcAGCa4AACGCS4AgGGCCwBgmOACABgmuAAAhgkuAIBhggsAYJjgAgAYJrgAAIYJLgCAYYILAGCY4AIAGCa4AACGCS4AgGGCCwBgmOACABgmuAAAhgkuAIBhggsAYJjgAgAYJrgAAIYJLgCAYYILAGCY4AIAGCa4AACGCS4AgGGCCwBgmOACABgmuAAAhgkuAIBhggsAYJjgAgAYJrgAAIYJLgCAYYILAGCY4AIAGCa4AACGCS4AgGGCCwBgmOACABgmuAAAhgkuAIBhggsAYJjgAgAYJrgAAIYJLgCAYYILAGCY4AIAGCa4AACGCS4AgGGCCwBgmOACABgmuAAAhgkuAIBhggsAYJjgAgAYJrgAAIYJLgCAYYILAGCY4AIAGCa4AACGCS4AgGGCCwBgmOACABgmuAAAhgkuAIBhggsAYJjgAgAYJrgAAIYJLgCAYYILAGCY4AIAGCa4AACGCS4AgGGCCwBgmOACABgmuAAAhgkuAIBhggsAYJjgAgAYJrgAAIYJLgCAYYILAGCY4AIAGCa4AACGCS4AgGGCCwBgmOACABgmuAAAhm05uKrqnKr6fFX94nL7vKq6v6oeWy7PXbXt7VV1oqoeraprt3psAIC94Gw8w/XuJI+sun1bkge6+4okDyy3U1VXJrkpyVVJrkvyvqo65ywcHwBgV9tScFXVJUnekeQDqxZfn+TYcv1YkhtWLb+7u5/v7seTnEhy9VaODwCwF2z1Ga5/k+SfJvmjVcsu7O5nkmS5vGBZfnGSp1Ztd3JZBgCwr206uKrqe5I8192fPdNd1lnWG9z3LVV1vKqOnzp1arNDBADYFbbyDNdbkryzqp5IcneSv1ZV/zHJs1V1UZIsl88t259Mcumq/S9J8vR6d9zdd3X3ke4+cvjw4S0MEQBg5206uLr79u6+pLsvy8qb4f9bd39fkvuSHF02O5rk3uX6fUluqqpXVdXlSa5I8plNjxwAYI84NHCfdya5p6puTvJkkhuTpLsfqqp7kjyc5IUkt3b3iwPHBwDYVc5KcHX3ryT5leX67yW5ZoPt7khyx9k4JgDAXuGT5gEAhgkuAIBhggsAYJjgAgAYJrgAAIYJLgCAYYILAGCY4AIAGCa4AACGCS4AgGGCCwBgmOACABgmuAAAhgkuAIBhggsAYJjgAgAYJrgAAIYJLgCAYYILAGCY4AIAGCa4AACGCS4AgGGCCwBgmOACABgmuAAAhgkuAIBhggsAYJjgAgAYJrgAAIYJLgCAYYILAGCY4AIAGCa4AACGCS4AgGGCCwBgmOACABgmuAAAhgkuAIBhggsAYJjgAgAYJrgAAIYJLgCAYYILAGCY4AIAGCa4AACGCS4AgGGCCwBgmOACABgmuAAAhgkuAIBhggsAYJjgAgAYJrgAAIYJLgCAYYILAGCY4AIAGCa4AACGCS4AgGGCCwBgmOACABgmuAAAhgkuAIBhggsAYJjgAgAYJrgAAIYJLgCAYYILAGCY4AIAGCa4AACGCS4AgGGCCwBgmOACABgmuAAAhgkuAIBhggsAYJjgAgAYJrgAAIYJLgCAYYILAGCY4AIAGCa4AACGCS4AgGGCCwBgmOACABgmuAAAhgkuAIBhggsAYJjgAgAYJrgAAIYJLgCAYZsOrqq6tKp+uaoeqaqHqurdy/Lzqur+qnpsuTx31T63V9WJqnq0qq49GxMAANjttvIM1wtJ/nF3/4Ukb05ya1VdmeS2JA909xVJHlhuZ1l3U5KrklyX5H1Vdc5WBg8AsBdsOri6+5nu/txy/etJHklycZLrkxxbNjuW5Ibl+vVJ7u7u57v78SQnkly92eMDAOwVZ+U9XFV1WZI3Jvl0kgu7+5lkJcqSXLBsdnGSp1btdnJZBgCwr205uKrqtUl+Psl7uvtrL7fpOst6g/u8paqOV9XxU6dObXWIAAA7akvBVVWvyEpsfbi7P7YsfraqLlrWX5TkuWX5ySSXrtr9kiRPr3e/3X1Xdx/p7iOHDx/eyhABAHbcVn5LsZJ8MMkj3f3jq1bdl+Tocv1okntXLb+pql5VVZcnuSLJZzZ7fACAveLQFvZ9S5LvT/KlqnpwWfbPk9yZ5J6qujnJk0luTJLufqiq7knycFZ+w/HW7n5xC8cHANgTNh1c3f3fs/77spLkmg32uSPJHZs9JgDAXuST5gEAhgkuAIBhggsAYJjgAgAYJrgAAIYJLgCAYYILAGCY4AIAGCa4AACGCS4AgGGCCwBgmOACABgmuAAAhgkuAIBhggsAYJjgAgAYJrgAAIYJLgCAYYILAGCY4AIAGCa4AACGCS4AgGGCCwBgmOACABgmuAAAhgkuAIBhggsAYJjgAgAYJrgAAIYJLgCAYYILAGCY4AIAGCa4AACGCS4AgGGCCwBgmOACABgmuAAAhgkuAIBhggsAYJjgAgAYJrgAAIYJLgCAYYILAGCY4AIAGCa4AACGCS4AgGGCCwBgmOACABgmuAAAhgkuAIBhggsAYJjgAgAYJrgAAIYJLgCAYYILAGCY4AIAGCa4AACGCS4AgGGCCwBgmOACABgmuAAAhgkuAIBhggsAYJjgAgAYJrgAAIYJLgCAYYILAGCY4AIAGCa4AACGCS4AgGGCCwBgmOACABgmuAAAhgkuAIBhggsAYJjgAgAYJrgAAIYJLgCAYYILAGCY4AIAGCa4AACGCS4AgGGCCwBgmOACABgmuAAAhgkuAIBhggsAYNihnR7AbnXZbb/0DcueuPMdOzASAGCv8wwXAMAwz3ABAPvKbnyVatuDq6quS/ITSc5J8oHuvnO7x7BZu/EEAgC737YGV1Wdk+Snkvz1JCeT/FpV3dfdD2/nOM4mEQYAO2e9n8O70XY/w3V1khPd/ZtJUlV3J7k+yZ4NrvVMnHwRB8BBt1fiaj3bHVwXJ3lq1e2TSf7yNo9hT9rL32Sns1FMnu05r3ecnfrvOjGWs32fu+n+/jj7btdxNrvvmf7P08T3w5keZytz2e3b7YUx7qbHLWdPdff2HazqxiTXdvffX25/f5Kru/uH1mx3S5JblptvSPLo8NDOT/K7w8fYrQ7y3JODPf+DPPfkYM//IM89OdjzN/d5f7a7D69duN3PcJ1Mcumq25ckeXrtRt19V5K7tmtQVXW8u49s1/F2k4M89+Rgz/8gzz052PM/yHNPDvb8zX3n5r7dn8P1a0muqKrLq+qVSW5Kct82jwEAYFtt6zNc3f1CVb0ryX/NysdCfKi7H9rOMQAAbLdt/xyu7v54ko9v93FPY9tevtyFDvLck4M9/4M89+Rgz/8gzz052PM39x2yrW+aBwA4iPwtRQCAYQcquKrquqp6tKpOVNVt66yvqvrJZf0Xq+pNOzHOs62qLq2qX66qR6rqoap69zrbvK2qvlpVDy5fP7ITY51SVU9U1ZeWuR1fZ/1+PfdvWHVOH6yqr1XVe9Zss6/OfVV9qKqeq6ovr1p2XlXdX1WPLZfnbrDvy/4bsdttMPd/WVVfWb6vf6GqXrfBvi/7GNntNpj7j1bVb6/63n77Bvvu6fOebDj/n1s19yeq6sEN9t3r537dn3G77nHf3QfiKytv0v+NJK9P8sokX0hy5Zpt3p7kE0kqyZuTfHqnx32W5n5Rkjct1785ya+vM/e3JfnFnR7r4H+DJ5Kc/zLr9+W5XzPHc5L8TlY+I2bfnvskb03ypiRfXrXsXyS5bbl+W5If2+C/z8v+G7HbvzaY+99Icmi5/mPrzX1Z97KPkd3+tcHcfzTJPznNfnv+vG80/zXr/3WSH9mn537dn3G77XF/kJ7h+n9/Vqi7/yDJS39WaLXrk/xsr/hUktdV1UXbPdCzrbuf6e7PLde/nuSRrHzqP//fvjz3a1yT5De6+7d2eiCTuvtXk/z+msXXJzm2XD+W5IZ1dj2TfyN2tfXm3t2f7O4XlpufysrnH+47G5z3M7Hnz3vy8vOvqkryt5N8ZFsHtU1e5mfcrnrcH6TgWu/PCq2NjjPZZk+rqsuSvDHJp9dZ/R1V9YWq+kRVXbW9IxvXST5ZVZ+tlb9ksNa+P/dZ+dy7jf7B3c/nPkku7O5nkpV/nJNcsM42B+F74O9l5Znc9ZzuMbJXvWt5OfVDG7ykdBDO+19N8mx3P7bB+n1z7tf8jNtVj/uDFFy1zrK1v6J5JtvsWVX12iQ/n+Q93f21Nas/l5WXmr49yb9N8p+3eXjT3tLdb0ry3Uluraq3rlm/38/9K5O8M8l/Wmf1fj/3Z2q/fw/8cJIXknx4g01O9xjZi96f5M8l+YtJnsnKy2pr7evzvvjevPyzW/vi3J/mZ9yGu62zbOT8H6TgOpM/K3RGf3poL6qqV2TlG/HD3f2xteu7+2vd/b+W6x9P8oqqOn+bhzmmu59eLp9L8gtZeRp5tX177hffneRz3f3s2hX7/dwvnn3pJeLl8rl1ttm33wNVdTTJ9yT5O728cWWtM3iM7Dnd/Wx3v9jdf5Tk32f9Oe3b854kVXUoyd9K8nMbbbMfzv0GP+N21eP+IAXXmfxZofuS/MDyG2tvTvLVl56O3MuW1+8/mOSR7v7xDbb5M8t2qaqrs/K98XvbN8o5VfWaqvrml65n5U3EX16z2b4896ts+H+4+/ncr3JfkqPL9aNJ7l1nm335p8eq6rok/yzJO7v7/2ywzZk8RvacNe/D/JtZf0778ryv8l1JvtLdJ9dbuR/O/cv8jNtdj/ud+q2CnfjKym+i/XpWfiPhh5dlP5jkB5frleSnlvVfSnJkp8d8lub9V7LyFOkXkzy4fL19zdzfleShrPyGxqeSfOdOj/sszv/1y7y+sMzxwJz7ZW6vzkpA/alVy/btuc9KWD6T5A+z8n+vNyf500keSPLYcnnesu23Jvn4qn2/4d+IvfS1wdxPZOU9Ki899v/d2rlv9BjZS18bzP0/LI/nL2blh+hF+/G8bzT/ZfnPvPRYX7Xtfjv3G/2M21WPe580DwAw7CC9pAgAsCMEFwDAMMEFADBMcAEADBNcAADDBBcAwDDBBQAwTHABAAz7v5tB+AnIfYf5AAAAAElFTkSuQmCC\\n\"\n",
    "                        },\n",
    "                        \"metadata\": {\n",
    "                            \"needs_background\": \"light\"\n",
    "                        }\n",
    "                    }\n",
    "                ]\n",
    "            }\n",
    "        },\n",
    "        \"2e27c37c8a744e2bba3e14658af0e972\": {\n",
    "            \"model_name\": \"LayoutModel\",\n",
    "            \"model_module\": \"@jupyter-widgets/base\",\n",
    "            \"model_module_version\": \"1.2.0\",\n",
    "            \"state\": {}\n",
    "        },\n",
    "        \"ffd59b46be7d4359b01758aacdefc036\": {\n",
    "            \"model_name\": \"VBoxModel\",\n",
    "            \"model_module\": \"@jupyter-widgets/controls\",\n",
    "            \"model_module_version\": \"1.5.0\",\n",
    "            \"state\": {\n",
    "                \"_dom_classes\": [\n",
    "                    \"widget-interact\"\n",
    "                ],\n",
    "                \"children\": [\n",
    "                    \"IPY_MODEL_d186dfd24688413a9e6fdd5e271d2416\",\n",
    "                    \"IPY_MODEL_caf9b8e2e24a4bc38abe20ca79e2e649\"\n",
    "                ],\n",
    "                \"layout\": \"IPY_MODEL_2e27c37c8a744e2bba3e14658af0e972\"\n",
    "            }\n",
    "        },\n",
    "        \"0113daf86fcc4c0fb6819a553f2a7a3b\": {\n",
    "            \"model_name\": \"LayoutModel\",\n",
    "            \"model_module\": \"@jupyter-widgets/base\",\n",
    "            \"model_module_version\": \"1.2.0\",\n",
    "            \"state\": {}\n",
    "        },\n",
    "        \"b50b923ae869429b99133275afc659f1\": {\n",
    "            \"model_name\": \"SliderStyleModel\",\n",
    "            \"model_module\": \"@jupyter-widgets/controls\",\n",
    "            \"model_module_version\": \"1.5.0\",\n",
    "            \"state\": {\n",
    "                \"description_width\": \"\"\n",
    "            }\n",
    "        },\n",
    "        \"d186dfd24688413a9e6fdd5e271d2416\": {\n",
    "            \"model_name\": \"IntSliderModel\",\n",
    "            \"model_module\": \"@jupyter-widgets/controls\",\n",
    "            \"model_module_version\": \"1.5.0\",\n",
    "            \"state\": {\n",
    "                \"description\": \"Z\",\n",
    "                \"layout\": \"IPY_MODEL_0113daf86fcc4c0fb6819a553f2a7a3b\",\n",
    "                \"max\": 21,\n",
    "                \"min\": 1,\n",
    "                \"style\": \"IPY_MODEL_b50b923ae869429b99133275afc659f1\",\n",
    "                \"value\": 11\n",
    "            }\n",
    "        },\n",
    "        \"67c0cfd092f049789fffb2bbbb2eeaec\": {\n",
    "            \"model_name\": \"LayoutModel\",\n",
    "            \"model_module\": \"@jupyter-widgets/base\",\n",
    "            \"model_module_version\": \"1.2.0\",\n",
    "            \"state\": {}\n",
    "        },\n",
    "        \"caf9b8e2e24a4bc38abe20ca79e2e649\": {\n",
    "            \"model_name\": \"OutputModel\",\n",
    "            \"model_module\": \"@jupyter-widgets/output\",\n",
    "            \"model_module_version\": \"1.0.0\",\n",
    "            \"state\": {\n",
    "                \"layout\": \"IPY_MODEL_67c0cfd092f049789fffb2bbbb2eeaec\",\n",
    "                \"outputs\": [\n",
    "                    {\n",
    "                        \"output_type\": \"display_data\",\n",
    "                        \"data\": {\n",
    "                            \"text/plain\": \"<Figure size 720x720 with 1 Axes>\",\n",
    "                            \"image/png\": \"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\\n\"\n",
    "                        },\n",
    "                        \"metadata\": {\n",
    "                            \"needs_background\": \"light\"\n",
    "                        }\n",
    "                    }\n",
    "                ]\n",
    "            }\n",
    "        },\n",
    "        \"a9c2144e84e64c0cb1037d323eaa3a08\": {\n",
    "            \"model_name\": \"LayoutModel\",\n",
    "            \"model_module\": \"@jupyter-widgets/base\",\n",
    "            \"model_module_version\": \"1.2.0\",\n",
    "            \"state\": {}\n",
    "        },\n",
    "        \"b1eebb3ff7aa434b99a326ca82376515\": {\n",
    "            \"model_name\": \"VBoxModel\",\n",
    "            \"model_module\": \"@jupyter-widgets/controls\",\n",
    "            \"model_module_version\": \"1.5.0\",\n",
    "            \"state\": {\n",
    "                \"_dom_classes\": [\n",
    "                    \"widget-interact\"\n",
    "                ],\n",
    "                \"children\": [\n",
    "                    \"IPY_MODEL_b510b9b7211f402eb4fd9abd05f2b6a3\",\n",
    "                    \"IPY_MODEL_6adab2995e97453686116fa77236f409\"\n",
    "                ],\n",
    "                \"layout\": \"IPY_MODEL_a9c2144e84e64c0cb1037d323eaa3a08\"\n",
    "            }\n",
    "        },\n",
    "        \"8b849e4d38ec4d319fdb7c4127cb2816\": {\n",
    "            \"model_name\": \"LayoutModel\",\n",
    "            \"model_module\": \"@jupyter-widgets/base\",\n",
    "            \"model_module_version\": \"1.2.0\",\n",
    "            \"state\": {}\n",
    "        },\n",
    "        \"73458e57d7634c92884892545ce99439\": {\n",
    "            \"model_name\": \"SliderStyleModel\",\n",
    "            \"model_module\": \"@jupyter-widgets/controls\",\n",
    "            \"model_module_version\": \"1.5.0\",\n",
    "            \"state\": {\n",
    "                \"description_width\": \"\"\n",
    "            }\n",
    "        },\n",
    "        \"b510b9b7211f402eb4fd9abd05f2b6a3\": {\n",
    "            \"model_name\": \"IntSliderModel\",\n",
    "            \"model_module\": \"@jupyter-widgets/controls\",\n",
    "            \"model_module_version\": \"1.5.0\",\n",
    "            \"state\": {\n",
    "                \"description\": \"Z\",\n",
    "                \"layout\": \"IPY_MODEL_8b849e4d38ec4d319fdb7c4127cb2816\",\n",
    "                \"max\": 21,\n",
    "                \"min\": 1,\n",
    "                \"style\": \"IPY_MODEL_73458e57d7634c92884892545ce99439\",\n",
    "                \"value\": 1\n",
    "            }\n",
    "        },\n",
    "        \"a2d350b9dc0c42a2a7e3584324a4c12a\": {\n",
    "            \"model_name\": \"LayoutModel\",\n",
    "            \"model_module\": \"@jupyter-widgets/base\",\n",
    "            \"model_module_version\": \"1.2.0\",\n",
    "            \"state\": {}\n",
    "        },\n",
    "        \"6adab2995e97453686116fa77236f409\": {\n",
    "            \"model_name\": \"OutputModel\",\n",
    "            \"model_module\": \"@jupyter-widgets/output\",\n",
    "            \"model_module_version\": \"1.0.0\",\n",
    "            \"state\": {\n",
    "                \"layout\": \"IPY_MODEL_a2d350b9dc0c42a2a7e3584324a4c12a\",\n",
    "                \"outputs\": [\n",
    "                    {\n",
    "                        \"output_type\": \"display_data\",\n",
    "                        \"data\": {\n",
    "                            \"text/plain\": \"<Figure size 720x720 with 1 Axes>\",\n",
    "                            \"image/png\": \"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\\n\"\n",
    "                        },\n",
    "                        \"metadata\": {\n",
    "                            \"needs_background\": \"light\"\n",
    "                        }\n",
    "                    }\n",
    "                ]\n",
    "            }\n",
    "        },\n",
    "        \"ee832eeb377b46ecb13a6e3789f57947\": {\n",
    "            \"model_name\": \"LayoutModel\",\n",
    "            \"model_module\": \"@jupyter-widgets/base\",\n",
    "            \"model_module_version\": \"1.2.0\",\n",
    "            \"state\": {}\n",
    "        },\n",
    "        \"af62e297abf445f79ee2f1855a949b44\": {\n",
    "            \"model_name\": \"VBoxModel\",\n",
    "            \"model_module\": \"@jupyter-widgets/controls\",\n",
    "            \"model_module_version\": \"1.5.0\",\n",
    "            \"state\": {\n",
    "                \"_dom_classes\": [\n",
    "                    \"widget-interact\"\n",
    "                ],\n",
    "                \"children\": [\n",
    "                    \"IPY_MODEL_96b0f88d03c8431ba9c3af675ac0aa39\",\n",
    "                    \"IPY_MODEL_17bc630276b844a0a35965c0abdfd260\"\n",
    "                ],\n",
    "                \"layout\": \"IPY_MODEL_ee832eeb377b46ecb13a6e3789f57947\"\n",
    "            }\n",
    "        },\n",
    "        \"1789105642a0449cadcbe069319c24f1\": {\n",
    "            \"model_name\": \"LayoutModel\",\n",
    "            \"model_module\": \"@jupyter-widgets/base\",\n",
    "            \"model_module_version\": \"1.2.0\",\n",
    "            \"state\": {}\n",
    "        },\n",
    "        \"596e45b61604496c9b91aef5691f19f8\": {\n",
    "            \"model_name\": \"SliderStyleModel\",\n",
    "            \"model_module\": \"@jupyter-widgets/controls\",\n",
    "            \"model_module_version\": \"1.5.0\",\n",
    "            \"state\": {\n",
    "                \"description_width\": \"\"\n",
    "            }\n",
    "        },\n",
    "        \"96b0f88d03c8431ba9c3af675ac0aa39\": {\n",
    "            \"model_name\": \"IntSliderModel\",\n",
    "            \"model_module\": \"@jupyter-widgets/controls\",\n",
    "            \"model_module_version\": \"1.5.0\",\n",
    "            \"state\": {\n",
    "                \"description\": \"Z\",\n",
    "                \"layout\": \"IPY_MODEL_1789105642a0449cadcbe069319c24f1\",\n",
    "                \"max\": 21,\n",
    "                \"min\": 1,\n",
    "                \"style\": \"IPY_MODEL_596e45b61604496c9b91aef5691f19f8\",\n",
    "                \"value\": 6\n",
    "            }\n",
    "        },\n",
    "        \"056cf1323b694303b3bb9a3adda5a148\": {\n",
    "            \"model_name\": \"LayoutModel\",\n",
    "            \"model_module\": \"@jupyter-widgets/base\",\n",
    "            \"model_module_version\": \"1.2.0\",\n",
    "            \"state\": {}\n",
    "        },\n",
    "        \"17bc630276b844a0a35965c0abdfd260\": {\n",
    "            \"model_name\": \"OutputModel\",\n",
    "            \"model_module\": \"@jupyter-widgets/output\",\n",
    "            \"model_module_version\": \"1.0.0\",\n",
    "            \"state\": {\n",
    "                \"layout\": \"IPY_MODEL_056cf1323b694303b3bb9a3adda5a148\",\n",
    "                \"outputs\": [\n",
    "                    {\n",
    "                        \"output_type\": \"display_data\",\n",
    "                        \"data\": {\n",
    "                            \"text/plain\": \"<Figure size 720x720 with 1 Axes>\",\n",
    "                            \"image/png\": \"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\\n\"\n",
    "                        },\n",
    "                        \"metadata\": {\n",
    "                            \"needs_background\": \"light\"\n",
    "                        }\n",
    "                    }\n",
    "                ]\n",
    "            }\n",
    "        }\n",
    "    }\n",
    "}\n",
    "</script>\n",
    "</head>\n",
    "<body>\n",
    "\n",
    "<script type=\"application/vnd.jupyter.widget-view+json\">\n",
    "{\n",
    "    \"version_major\": 2,\n",
    "    \"version_minor\": 0,\n",
    "    \"model_id\": \"62b8ac902f8f432b9a34cc3ed6845c41\"\n",
    "}\n",
    "</script>\n",
    "\n",
    "<script type=\"application/vnd.jupyter.widget-view+json\">\n",
    "{\n",
    "    \"version_major\": 2,\n",
    "    \"version_minor\": 0,\n",
    "    \"model_id\": \"af62e297abf445f79ee2f1855a949b44\"\n",
    "}\n",
    "</script>\n",
    "\n",
    "</body>\n",
    "</html>\n"
   ]
  },
  {
   "cell_type": "code",
   "execution_count": null,
   "metadata": {},
   "outputs": [],
   "source": []
  },
  {
   "cell_type": "code",
   "execution_count": null,
   "metadata": {},
   "outputs": [],
   "source": []
  },
  {
   "cell_type": "code",
   "execution_count": null,
   "metadata": {},
   "outputs": [],
   "source": []
  }
 ],
 "metadata": {
  "kernelspec": {
   "display_name": "Python 3",
   "language": "python",
   "name": "python3"
  },
  "language_info": {
   "codemirror_mode": {
    "name": "ipython",
    "version": 3
   },
   "file_extension": ".py",
   "mimetype": "text/x-python",
   "name": "python",
   "nbconvert_exporter": "python",
   "pygments_lexer": "ipython3",
   "version": "3.8.5"
  },
  "widgets": {
   "application/vnd.jupyter.widget-state+json": {
    "state": {
     "002c238623dc4f209c45719eef1f189c": {
      "model_module": "@jupyter-widgets/controls",
      "model_module_version": "1.5.0",
      "model_name": "SliderStyleModel",
      "state": {
       "description_width": ""
      }
     },
     "0113daf86fcc4c0fb6819a553f2a7a3b": {
      "model_module": "@jupyter-widgets/base",
      "model_module_version": "1.2.0",
      "model_name": "LayoutModel",
      "state": {}
     },
     "0224ec62aa7449429f3c4db87e04639e": {
      "model_module": "@jupyter-widgets/base",
      "model_module_version": "1.2.0",
      "model_name": "LayoutModel",
      "state": {}
     },
     "027b39d71b7340a6ab80912a76e0cce9": {
      "model_module": "@jupyter-widgets/output",
      "model_module_version": "1.0.0",
      "model_name": "OutputModel",
      "state": {
       "layout": "IPY_MODEL_3a37d6eee57e42b2ab501419573309fb",
       "outputs": [
        {
         "data": {
          "image/png": "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\n",
          "text/plain": "<Figure size 720x720 with 1 Axes>"
         },
         "metadata": {
          "needs_background": "light"
         },
         "output_type": "display_data"
        }
       ]
      }
     },
     "02dd6f7a5c90404abc73175482804ee4": {
      "model_module": "@jupyter-widgets/base",
      "model_module_version": "1.2.0",
      "model_name": "LayoutModel",
      "state": {}
     },
     "03e02078a283451381e4304673de727f": {
      "model_module": "@jupyter-widgets/controls",
      "model_module_version": "1.5.0",
      "model_name": "SliderStyleModel",
      "state": {
       "description_width": ""
      }
     },
     "056cf1323b694303b3bb9a3adda5a148": {
      "model_module": "@jupyter-widgets/base",
      "model_module_version": "1.2.0",
      "model_name": "LayoutModel",
      "state": {}
     },
     "071fff74622c4f2b8063ce07d6859c6a": {
      "model_module": "@jupyter-widgets/controls",
      "model_module_version": "1.5.0",
      "model_name": "SliderStyleModel",
      "state": {
       "description_width": ""
      }
     },
     "07f68a46dad84a859bc4ad3f4e1f24ed": {
      "model_module": "@jupyter-widgets/controls",
      "model_module_version": "1.5.0",
      "model_name": "SliderStyleModel",
      "state": {
       "description_width": ""
      }
     },
     "0800bcbb34114edaa132030aa4ccda41": {
      "model_module": "@jupyter-widgets/controls",
      "model_module_version": "1.5.0",
      "model_name": "VBoxModel",
      "state": {
       "_dom_classes": [
        "widget-interact"
       ],
       "children": [
        "IPY_MODEL_e08600bfe250430da4a3c41c49b70477",
        "IPY_MODEL_f73f2f930b7e44b0ab92e0c840b5d534"
       ],
       "layout": "IPY_MODEL_3d0a1fc2a81545819a98d2dfd4bd3923"
      }
     },
     "088fe2e4f5224a34bcd7e611dd1f6834": {
      "model_module": "@jupyter-widgets/controls",
      "model_module_version": "1.5.0",
      "model_name": "IntSliderModel",
      "state": {
       "description": "Z",
       "layout": "IPY_MODEL_59f26ef8afdc4948a8ce9e3cf919ddef",
       "max": 20,
       "min": 1,
       "style": "IPY_MODEL_add64a57a2b8479a896b32ca11d391ce",
       "value": 10
      }
     },
     "09e6778196f741db8932d3de2cd9bc03": {
      "model_module": "@jupyter-widgets/base",
      "model_module_version": "1.2.0",
      "model_name": "LayoutModel",
      "state": {}
     },
     "0b44e4bd5e694aff810dad71b0cb81af": {
      "model_module": "@jupyter-widgets/controls",
      "model_module_version": "1.5.0",
      "model_name": "IntSliderModel",
      "state": {
       "description": "x2",
       "layout": "IPY_MODEL_91b4d4af0cd74b3bbd1a0f1208d130a9",
       "max": 10,
       "min": -5,
       "style": "IPY_MODEL_8fe0cb4e51704cb1804b9d651a481987",
       "value": 10
      }
     },
     "0f8fdc634afc417894e0178d8b49fd56": {
      "model_module": "@jupyter-widgets/controls",
      "model_module_version": "1.5.0",
      "model_name": "SliderStyleModel",
      "state": {
       "description_width": ""
      }
     },
     "0fc6171f718849b8a518443f887c8e4e": {
      "model_module": "@jupyter-widgets/base",
      "model_module_version": "1.2.0",
      "model_name": "LayoutModel",
      "state": {}
     },
     "1165a88f2e194b6ebd520406913c2e9b": {
      "model_module": "@jupyter-widgets/base",
      "model_module_version": "1.2.0",
      "model_name": "LayoutModel",
      "state": {}
     },
     "117bb4c1d871440faec331d4fe52588d": {
      "model_module": "@jupyter-widgets/base",
      "model_module_version": "1.2.0",
      "model_name": "LayoutModel",
      "state": {}
     },
     "11eca9aaf1734666971724d8042e57e3": {
      "model_module": "@jupyter-widgets/controls",
      "model_module_version": "1.5.0",
      "model_name": "IntSliderModel",
      "state": {
       "description": "y1",
       "layout": "IPY_MODEL_443e432df86a4bd4bcab24ceecae0202",
       "max": 1,
       "min": -15,
       "style": "IPY_MODEL_4f1d9197dd9f41c8b58ecfa69e5db485",
       "value": -15
      }
     },
     "12954ec1c20443b89974d141fc4cadbf": {
      "model_module": "@jupyter-widgets/controls",
      "model_module_version": "1.5.0",
      "model_name": "SliderStyleModel",
      "state": {
       "description_width": ""
      }
     },
     "13443bd67f304faab4293bf4c99595b3": {
      "model_module": "@jupyter-widgets/output",
      "model_module_version": "1.0.0",
      "model_name": "OutputModel",
      "state": {
       "layout": "IPY_MODEL_927c0b4548cc4358a56b3c41281af4ad",
       "outputs": [
        {
         "data": {
          "image/png": "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\n",
          "text/plain": "<Figure size 432x288 with 1 Axes>"
         },
         "metadata": {
          "needs_background": "light"
         },
         "output_type": "display_data"
        }
       ]
      }
     },
     "134858da6c014c1e976b9864f73df639": {
      "model_module": "@jupyter-widgets/base",
      "model_module_version": "1.2.0",
      "model_name": "LayoutModel",
      "state": {}
     },
     "13b2c9ab21b64454b0a46d00309237d0": {
      "model_module": "@jupyter-widgets/controls",
      "model_module_version": "1.5.0",
      "model_name": "IntSliderModel",
      "state": {
       "description": "x1",
       "layout": "IPY_MODEL_54833e8aaf6c40ed99cd6af71de3f438",
       "max": 10,
       "min": -5,
       "style": "IPY_MODEL_660047fe0ce34bd596e125f459df22ca",
       "value": -1
      }
     },
     "13c1b4cd34df45abb0b2c5839bf566d1": {
      "model_module": "@jupyter-widgets/base",
      "model_module_version": "1.2.0",
      "model_name": "LayoutModel",
      "state": {}
     },
     "144423b5e48d48a88014cdd9aca7c12d": {
      "model_module": "@jupyter-widgets/output",
      "model_module_version": "1.0.0",
      "model_name": "OutputModel",
      "state": {
       "layout": "IPY_MODEL_efa8484094af4822acc65464ebccde51",
       "outputs": [
        {
         "name": "stderr",
         "output_type": "stream",
         "text": "<ipython-input-9-67c16fe9bae3>:40: UserWarning: Attempted to set non-positive bottom ylim on a log-scaled axis.\nInvalid limit will be ignored.\n  ax.set_ylim(y1, y2)\n<ipython-input-9-67c16fe9bae3>:41: UserWarning: Attempted to set non-positive left xlim on a log-scaled axis.\nInvalid limit will be ignored.\n  ax.set_xlim(x1, x2)\n"
        },
        {
         "data": {
          "image/png": "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\n",
          "text/plain": "<Figure size 720x720 with 1 Axes>"
         },
         "metadata": {
          "needs_background": "light"
         },
         "output_type": "display_data"
        }
       ]
      }
     },
     "16d25586a2494073a5b0165545e44e35": {
      "model_module": "@jupyter-widgets/output",
      "model_module_version": "1.0.0",
      "model_name": "OutputModel",
      "state": {
       "layout": "IPY_MODEL_7309d937050e4e72aff18fa18b6d8209",
       "outputs": [
        {
         "ename": "FileNotFoundError",
         "evalue": "[Errno 2] No such file or directory: 'pickles/25'",
         "output_type": "error",
         "traceback": [
          "\u001b[1;31m---------------------------------------------------------------------------\u001b[0m",
          "\u001b[1;31mFileNotFoundError\u001b[0m                         Traceback (most recent call last)",
          "\u001b[1;32mC:\\ProgramData\\Anaconda3\\lib\\site-packages\\ipywidgets\\widgets\\interaction.py\u001b[0m in \u001b[0;36mupdate\u001b[1;34m(self, *args)\u001b[0m\n\u001b[0;32m    254\u001b[0m                     \u001b[0mvalue\u001b[0m \u001b[1;33m=\u001b[0m \u001b[0mwidget\u001b[0m\u001b[1;33m.\u001b[0m\u001b[0mget_interact_value\u001b[0m\u001b[1;33m(\u001b[0m\u001b[1;33m)\u001b[0m\u001b[1;33m\u001b[0m\u001b[1;33m\u001b[0m\u001b[0m\n\u001b[0;32m    255\u001b[0m                     \u001b[0mself\u001b[0m\u001b[1;33m.\u001b[0m\u001b[0mkwargs\u001b[0m\u001b[1;33m[\u001b[0m\u001b[0mwidget\u001b[0m\u001b[1;33m.\u001b[0m\u001b[0m_kwarg\u001b[0m\u001b[1;33m]\u001b[0m \u001b[1;33m=\u001b[0m \u001b[0mvalue\u001b[0m\u001b[1;33m\u001b[0m\u001b[1;33m\u001b[0m\u001b[0m\n\u001b[1;32m--> 256\u001b[1;33m                 \u001b[0mself\u001b[0m\u001b[1;33m.\u001b[0m\u001b[0mresult\u001b[0m \u001b[1;33m=\u001b[0m \u001b[0mself\u001b[0m\u001b[1;33m.\u001b[0m\u001b[0mf\u001b[0m\u001b[1;33m(\u001b[0m\u001b[1;33m**\u001b[0m\u001b[0mself\u001b[0m\u001b[1;33m.\u001b[0m\u001b[0mkwargs\u001b[0m\u001b[1;33m)\u001b[0m\u001b[1;33m\u001b[0m\u001b[1;33m\u001b[0m\u001b[0m\n\u001b[0m\u001b[0;32m    257\u001b[0m                 \u001b[0mshow_inline_matplotlib_plots\u001b[0m\u001b[1;33m(\u001b[0m\u001b[1;33m)\u001b[0m\u001b[1;33m\u001b[0m\u001b[1;33m\u001b[0m\u001b[0m\n\u001b[0;32m    258\u001b[0m                 \u001b[1;32mif\u001b[0m \u001b[0mself\u001b[0m\u001b[1;33m.\u001b[0m\u001b[0mauto_display\u001b[0m \u001b[1;32mand\u001b[0m \u001b[0mself\u001b[0m\u001b[1;33m.\u001b[0m\u001b[0mresult\u001b[0m \u001b[1;32mis\u001b[0m \u001b[1;32mnot\u001b[0m \u001b[1;32mNone\u001b[0m\u001b[1;33m:\u001b[0m\u001b[1;33m\u001b[0m\u001b[1;33m\u001b[0m\u001b[0m\n",
          "\u001b[1;32m<ipython-input-50-217a6eb13b79>\u001b[0m in \u001b[0;36mgraph_error\u001b[1;34m(Z)\u001b[0m\n\u001b[0;32m      1\u001b[0m \u001b[1;32mdef\u001b[0m \u001b[0mgraph_error\u001b[0m\u001b[1;33m(\u001b[0m\u001b[0mZ\u001b[0m\u001b[1;33m)\u001b[0m\u001b[1;33m:\u001b[0m\u001b[1;33m\u001b[0m\u001b[1;33m\u001b[0m\u001b[0m\n\u001b[1;32m----> 2\u001b[1;33m     \u001b[0mf\u001b[0m \u001b[1;33m=\u001b[0m \u001b[0mgetFF\u001b[0m\u001b[1;33m(\u001b[0m\u001b[0mZ\u001b[0m\u001b[1;33m)\u001b[0m\u001b[1;33m\u001b[0m\u001b[1;33m\u001b[0m\u001b[0m\n\u001b[0m\u001b[0;32m      3\u001b[0m \u001b[1;33m\u001b[0m\u001b[0m\n\u001b[0;32m      4\u001b[0m \u001b[1;33m\u001b[0m\u001b[0m\n\u001b[0;32m      5\u001b[0m     \u001b[0mFFdata\u001b[0m \u001b[1;33m=\u001b[0m \u001b[0mdb\u001b[0m\u001b[1;33m.\u001b[0m\u001b[0mEPDL\u001b[0m\u001b[1;33m[\u001b[0m\u001b[0mZ\u001b[0m\u001b[1;33m-\u001b[0m\u001b[1;36m1\u001b[0m\u001b[1;33m]\u001b[0m\u001b[1;33m[\u001b[0m\u001b[1;33m(\u001b[0m\u001b[1;36m7\u001b[0m\u001b[1;33m,\u001b[0m \u001b[1;36m93\u001b[0m\u001b[1;33m,\u001b[0m \u001b[1;36m0\u001b[0m\u001b[1;33m,\u001b[0m \u001b[1;36m0\u001b[0m\u001b[1;33m,\u001b[0m \u001b[1;36m0\u001b[0m\u001b[1;33m,\u001b[0m \u001b[1;36m941\u001b[0m\u001b[1;33m)\u001b[0m\u001b[1;33m]\u001b[0m\u001b[1;33m[\u001b[0m\u001b[1;36m1\u001b[0m\u001b[1;33m]\u001b[0m\u001b[1;33m\u001b[0m\u001b[1;33m\u001b[0m\u001b[0m\n",
          "\u001b[1;32m<ipython-input-21-7a5ea8fd40bb>\u001b[0m in \u001b[0;36mgetFF\u001b[1;34m(Z)\u001b[0m\n\u001b[0;32m     19\u001b[0m     \u001b[1;32mimport\u001b[0m \u001b[0mdill\u001b[0m \u001b[1;32mas\u001b[0m \u001b[0mpickle\u001b[0m\u001b[1;33m\u001b[0m\u001b[1;33m\u001b[0m\u001b[0m\n\u001b[0;32m     20\u001b[0m     \u001b[0mpath\u001b[0m \u001b[1;33m=\u001b[0m \u001b[1;34m\"pickles/\"\u001b[0m \u001b[1;33m+\u001b[0m \u001b[0mstr\u001b[0m\u001b[1;33m(\u001b[0m\u001b[0mZ\u001b[0m\u001b[1;33m)\u001b[0m\u001b[1;33m\u001b[0m\u001b[1;33m\u001b[0m\u001b[0m\n\u001b[1;32m---> 21\u001b[1;33m     \u001b[1;32mwith\u001b[0m \u001b[0mopen\u001b[0m\u001b[1;33m(\u001b[0m\u001b[0mpath\u001b[0m\u001b[1;33m,\u001b[0m \u001b[1;34m'rb'\u001b[0m\u001b[1;33m)\u001b[0m \u001b[1;32mas\u001b[0m \u001b[0mfile\u001b[0m\u001b[1;33m:\u001b[0m\u001b[1;33m\u001b[0m\u001b[1;33m\u001b[0m\u001b[0m\n\u001b[0m\u001b[0;32m     22\u001b[0m         \u001b[0mparam\u001b[0m \u001b[1;33m=\u001b[0m \u001b[0mpickle\u001b[0m\u001b[1;33m.\u001b[0m\u001b[0mload\u001b[0m\u001b[1;33m(\u001b[0m\u001b[0mfile\u001b[0m\u001b[1;33m)\u001b[0m\u001b[1;33m\u001b[0m\u001b[1;33m\u001b[0m\u001b[0m\n\u001b[0;32m     23\u001b[0m \u001b[1;33m\u001b[0m\u001b[0m\n",
          "\u001b[1;31mFileNotFoundError\u001b[0m: [Errno 2] No such file or directory: 'pickles/25'"
         ]
        }
       ]
      }
     },
     "170574d3fbb2442a9ae4fc8a49f50fd0": {
      "model_module": "@jupyter-widgets/base",
      "model_module_version": "1.2.0",
      "model_name": "LayoutModel",
      "state": {}
     },
     "1715f063c2e9484cbecd939027abcc1b": {
      "model_module": "@jupyter-widgets/controls",
      "model_module_version": "1.5.0",
      "model_name": "SliderStyleModel",
      "state": {
       "description_width": ""
      }
     },
     "1789105642a0449cadcbe069319c24f1": {
      "model_module": "@jupyter-widgets/base",
      "model_module_version": "1.2.0",
      "model_name": "LayoutModel",
      "state": {}
     },
     "17bc630276b844a0a35965c0abdfd260": {
      "model_module": "@jupyter-widgets/output",
      "model_module_version": "1.0.0",
      "model_name": "OutputModel",
      "state": {
       "layout": "IPY_MODEL_056cf1323b694303b3bb9a3adda5a148",
       "outputs": [
        {
         "data": {
          "image/png": "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\n",
          "text/plain": "<Figure size 720x720 with 1 Axes>"
         },
         "metadata": {
          "needs_background": "light"
         },
         "output_type": "display_data"
        }
       ]
      }
     },
     "1944b6e473c045c090df7edc1c2e3ffb": {
      "model_module": "@jupyter-widgets/controls",
      "model_module_version": "1.5.0",
      "model_name": "IntSliderModel",
      "state": {
       "description": "y1",
       "layout": "IPY_MODEL_3b3d4210b5af4aca96495e4c6b383fef",
       "max": 1,
       "min": -30,
       "style": "IPY_MODEL_af569eea639b45e4810cf0ed9b3f9a79",
       "value": -30
      }
     },
     "19c1039e6d3c48509931212e36600f8b": {
      "model_module": "@jupyter-widgets/base",
      "model_module_version": "1.2.0",
      "model_name": "LayoutModel",
      "state": {}
     },
     "1bc2840daa7f44078cfc501f9351c128": {
      "model_module": "@jupyter-widgets/base",
      "model_module_version": "1.2.0",
      "model_name": "LayoutModel",
      "state": {}
     },
     "1be4fa4b08c24831a4169c86b11a8d32": {
      "model_module": "@jupyter-widgets/controls",
      "model_module_version": "1.5.0",
      "model_name": "SliderStyleModel",
      "state": {
       "description_width": ""
      }
     },
     "1f942366822f4d55aa8fb9dfe0eae50d": {
      "model_module": "@jupyter-widgets/base",
      "model_module_version": "1.2.0",
      "model_name": "LayoutModel",
      "state": {}
     },
     "238a93c8fdf14a70abc84d2e9e3e7058": {
      "model_module": "@jupyter-widgets/controls",
      "model_module_version": "1.5.0",
      "model_name": "IntSliderModel",
      "state": {
       "description": "y2",
       "layout": "IPY_MODEL_84b2865b56db4eb4a05e8a6af6bbc91a",
       "max": 1,
       "min": -30,
       "style": "IPY_MODEL_889163c884d34694bac7fa79ab6e7c91",
       "value": -11
      }
     },
     "251040c08d1744bc9153df0e6f3309f0": {
      "model_module": "@jupyter-widgets/controls",
      "model_module_version": "1.5.0",
      "model_name": "IntSliderModel",
      "state": {
       "description": "x2",
       "layout": "IPY_MODEL_b4600aba9d3b4254bd01208303dc67c9",
       "max": 10,
       "min": -5,
       "style": "IPY_MODEL_12954ec1c20443b89974d141fc4cadbf",
       "value": 10
      }
     },
     "263c1a59fee14d2994f60b23565adbe5": {
      "model_module": "@jupyter-widgets/base",
      "model_module_version": "1.2.0",
      "model_name": "LayoutModel",
      "state": {}
     },
     "293db04304914d47a733769cf8506d08": {
      "model_module": "@jupyter-widgets/base",
      "model_module_version": "1.2.0",
      "model_name": "LayoutModel",
      "state": {}
     },
     "2959247b210f45f1826473bf5ea92b8c": {
      "model_module": "@jupyter-widgets/output",
      "model_module_version": "1.0.0",
      "model_name": "OutputModel",
      "state": {
       "layout": "IPY_MODEL_6bb0d7d664b0482cac3ba946103a6aed",
       "outputs": [
        {
         "data": {
          "image/png": "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\n",
          "text/plain": "<Figure size 720x720 with 1 Axes>"
         },
         "metadata": {
          "needs_background": "light"
         },
         "output_type": "display_data"
        }
       ]
      }
     },
     "29dc50c88fee455bbf8eb50af75d45a3": {
      "model_module": "@jupyter-widgets/base",
      "model_module_version": "1.2.0",
      "model_name": "LayoutModel",
      "state": {}
     },
     "29e7b8edbe594e8fa37ca2c2a429e2c1": {
      "model_module": "@jupyter-widgets/controls",
      "model_module_version": "1.5.0",
      "model_name": "SliderStyleModel",
      "state": {
       "description_width": ""
      }
     },
     "2a113460df4f41c09e4c66550095d001": {
      "model_module": "@jupyter-widgets/controls",
      "model_module_version": "1.5.0",
      "model_name": "IntSliderModel",
      "state": {
       "description": "Z",
       "layout": "IPY_MODEL_9428531de6a247b28622e0d504989964",
       "max": 20,
       "min": 1,
       "style": "IPY_MODEL_5c8cb60e603d4104a1cb928302cdbce4",
       "value": 10
      }
     },
     "2a76c624c2424f029b8dfe9012ec0f2b": {
      "model_module": "@jupyter-widgets/base",
      "model_module_version": "1.2.0",
      "model_name": "LayoutModel",
      "state": {}
     },
     "2df50a7d07d144e49a4aea704322924b": {
      "model_module": "@jupyter-widgets/base",
      "model_module_version": "1.2.0",
      "model_name": "LayoutModel",
      "state": {}
     },
     "2e27c37c8a744e2bba3e14658af0e972": {
      "model_module": "@jupyter-widgets/base",
      "model_module_version": "1.2.0",
      "model_name": "LayoutModel",
      "state": {}
     },
     "2ff4d6aa31ae41b09f07752d37bc1802": {
      "model_module": "@jupyter-widgets/base",
      "model_module_version": "1.2.0",
      "model_name": "LayoutModel",
      "state": {}
     },
     "30571da147ea417889001bf1baee1892": {
      "model_module": "@jupyter-widgets/base",
      "model_module_version": "1.2.0",
      "model_name": "LayoutModel",
      "state": {}
     },
     "31d1bb5dde5549a2acf2a68d6a8aa2e0": {
      "model_module": "@jupyter-widgets/controls",
      "model_module_version": "1.5.0",
      "model_name": "IntSliderModel",
      "state": {
       "description": "y2",
       "layout": "IPY_MODEL_b6dfda7e331842608e02f6b1f87ec7ed",
       "max": 1,
       "min": -15,
       "style": "IPY_MODEL_1be4fa4b08c24831a4169c86b11a8d32",
       "value": 1
      }
     },
     "33a26bb9c9db4916827f20cd2c1aab17": {
      "model_module": "@jupyter-widgets/controls",
      "model_module_version": "1.5.0",
      "model_name": "SliderStyleModel",
      "state": {
       "description_width": ""
      }
     },
     "3410c6a525a94b05a4d3189ca6349502": {
      "model_module": "@jupyter-widgets/base",
      "model_module_version": "1.2.0",
      "model_name": "LayoutModel",
      "state": {}
     },
     "36a74701b8934aadb3c4aab3a496c108": {
      "model_module": "@jupyter-widgets/base",
      "model_module_version": "1.2.0",
      "model_name": "LayoutModel",
      "state": {}
     },
     "3750c368c8a64d76902f07d8844faab0": {
      "model_module": "@jupyter-widgets/controls",
      "model_module_version": "1.5.0",
      "model_name": "VBoxModel",
      "state": {
       "_dom_classes": [
        "widget-interact"
       ],
       "children": [
        "IPY_MODEL_b2bc6c02ecc148b2b70b23d853f623d5",
        "IPY_MODEL_5802c4bca6f4467c930c0dcdbfef4c80"
       ],
       "layout": "IPY_MODEL_c592c58d5c1d43d3adfda01696fc5479"
      }
     },
     "380af0ca8d8a41879e45619cc02aecad": {
      "model_module": "@jupyter-widgets/controls",
      "model_module_version": "1.5.0",
      "model_name": "VBoxModel",
      "state": {
       "_dom_classes": [
        "widget-interact"
       ],
       "children": [
        "IPY_MODEL_63fecfdf60a649ffbca224d33e7cac30",
        "IPY_MODEL_f60957bfeaf24f7e800c60497c1889b8"
       ],
       "layout": "IPY_MODEL_38f9d4b7192d48248d7ba5ba91e2b829"
      }
     },
     "382370055405442293508080e51c5718": {
      "model_module": "@jupyter-widgets/base",
      "model_module_version": "1.2.0",
      "model_name": "LayoutModel",
      "state": {}
     },
     "3879386bbc87497b9799d66b6f918718": {
      "model_module": "@jupyter-widgets/output",
      "model_module_version": "1.0.0",
      "model_name": "OutputModel",
      "state": {
       "layout": "IPY_MODEL_5332b5910163406c82995db7a06c4c07",
       "outputs": [
        {
         "data": {
          "image/png": "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\n",
          "text/plain": "<Figure size 432x288 with 1 Axes>"
         },
         "metadata": {
          "needs_background": "light"
         },
         "output_type": "display_data"
        }
       ]
      }
     },
     "38f9d4b7192d48248d7ba5ba91e2b829": {
      "model_module": "@jupyter-widgets/base",
      "model_module_version": "1.2.0",
      "model_name": "LayoutModel",
      "state": {}
     },
     "3906d4d2813249d6a55cc0240ea82e65": {
      "model_module": "@jupyter-widgets/base",
      "model_module_version": "1.2.0",
      "model_name": "LayoutModel",
      "state": {}
     },
     "39b7a2ce66e24432a339daff307dd120": {
      "model_module": "@jupyter-widgets/controls",
      "model_module_version": "1.5.0",
      "model_name": "IntSliderModel",
      "state": {
       "description": "y1",
       "layout": "IPY_MODEL_3410c6a525a94b05a4d3189ca6349502",
       "max": 1,
       "min": -30,
       "style": "IPY_MODEL_b3cb9273efb5496892db0e22139c8937",
       "value": -30
      }
     },
     "3a37d6eee57e42b2ab501419573309fb": {
      "model_module": "@jupyter-widgets/base",
      "model_module_version": "1.2.0",
      "model_name": "LayoutModel",
      "state": {}
     },
     "3a60080935434b739a9cdf37d5de5a18": {
      "model_module": "@jupyter-widgets/controls",
      "model_module_version": "1.5.0",
      "model_name": "VBoxModel",
      "state": {
       "_dom_classes": [
        "widget-interact"
       ],
       "children": [
        "IPY_MODEL_b4636f73598a446cbd9969fe82a52ed2",
        "IPY_MODEL_bee172c217a3419f997ce85807fba041"
       ],
       "layout": "IPY_MODEL_802ceeed63bb4eaab472c11c0e4fda43"
      }
     },
     "3b3d4210b5af4aca96495e4c6b383fef": {
      "model_module": "@jupyter-widgets/base",
      "model_module_version": "1.2.0",
      "model_name": "LayoutModel",
      "state": {}
     },
     "3c174e62b51f4e10bd886ef10b4268a3": {
      "model_module": "@jupyter-widgets/controls",
      "model_module_version": "1.5.0",
      "model_name": "VBoxModel",
      "state": {
       "_dom_classes": [
        "widget-interact"
       ],
       "layout": "IPY_MODEL_382370055405442293508080e51c5718"
      }
     },
     "3d0a1fc2a81545819a98d2dfd4bd3923": {
      "model_module": "@jupyter-widgets/base",
      "model_module_version": "1.2.0",
      "model_name": "LayoutModel",
      "state": {}
     },
     "3da40775a8684dda8e83e04e377f04a8": {
      "model_module": "@jupyter-widgets/controls",
      "model_module_version": "1.5.0",
      "model_name": "SliderStyleModel",
      "state": {
       "description_width": ""
      }
     },
     "401f28e9ede240acaf80a9b6e0a73f61": {
      "model_module": "@jupyter-widgets/controls",
      "model_module_version": "1.5.0",
      "model_name": "IntSliderModel",
      "state": {
       "description": "Z",
       "layout": "IPY_MODEL_f77f51e52e3842f180c9cfe5e76e3d48",
       "max": 20,
       "min": 1,
       "style": "IPY_MODEL_cb22064224fb402fb1b7886f66f89485",
       "value": 10
      }
     },
     "40486172a6eb490cb040826a50971ffb": {
      "model_module": "@jupyter-widgets/controls",
      "model_module_version": "1.5.0",
      "model_name": "IntSliderModel",
      "state": {
       "description": "x2",
       "layout": "IPY_MODEL_bba6392f5450437f916403f6635b2e56",
       "max": 10,
       "min": -5,
       "style": "IPY_MODEL_b0faaa5ff9984bf38ece6edaa02c7eff",
       "value": 10
      }
     },
     "420742318e174a29a682669df27ddeac": {
      "model_module": "@jupyter-widgets/base",
      "model_module_version": "1.2.0",
      "model_name": "LayoutModel",
      "state": {}
     },
     "443e432df86a4bd4bcab24ceecae0202": {
      "model_module": "@jupyter-widgets/base",
      "model_module_version": "1.2.0",
      "model_name": "LayoutModel",
      "state": {}
     },
     "4566bbf4476c49b693b4024914661ecf": {
      "model_module": "@jupyter-widgets/controls",
      "model_module_version": "1.5.0",
      "model_name": "IntSliderModel",
      "state": {
       "description": "Z",
       "layout": "IPY_MODEL_a7669429372941108735c53cb588f67c",
       "max": 20,
       "min": 1,
       "style": "IPY_MODEL_a6ee831c563641aba10284f257974a9c",
       "value": 18
      }
     },
     "464eb563de5540c3843687a5a38d052f": {
      "model_module": "@jupyter-widgets/controls",
      "model_module_version": "1.5.0",
      "model_name": "IntSliderModel",
      "state": {
       "description": "Z",
       "layout": "IPY_MODEL_f50a7f98f46f4d439cfdbcbe8a61afb8",
       "max": 20,
       "min": 1,
       "style": "IPY_MODEL_5631e5cc9bc749cab79662c05ab70881",
       "value": 10
      }
     },
     "47983747e3d14494b3b9ff09b85e7778": {
      "model_module": "@jupyter-widgets/base",
      "model_module_version": "1.2.0",
      "model_name": "LayoutModel",
      "state": {}
     },
     "47c04bbfcb304b038575c31e0957ff0c": {
      "model_module": "@jupyter-widgets/base",
      "model_module_version": "1.2.0",
      "model_name": "LayoutModel",
      "state": {}
     },
     "4925e162c1a94b66b613ede121c142ef": {
      "model_module": "@jupyter-widgets/controls",
      "model_module_version": "1.5.0",
      "model_name": "SliderStyleModel",
      "state": {
       "description_width": ""
      }
     },
     "49f264dedf0242c2bf7f8ed7dc03763f": {
      "model_module": "@jupyter-widgets/controls",
      "model_module_version": "1.5.0",
      "model_name": "SliderStyleModel",
      "state": {
       "description_width": ""
      }
     },
     "4db07e8108924981b116e62258b313f7": {
      "model_module": "@jupyter-widgets/base",
      "model_module_version": "1.2.0",
      "model_name": "LayoutModel",
      "state": {}
     },
     "4f1d9197dd9f41c8b58ecfa69e5db485": {
      "model_module": "@jupyter-widgets/controls",
      "model_module_version": "1.5.0",
      "model_name": "SliderStyleModel",
      "state": {
       "description_width": ""
      }
     },
     "4f3c62b055d74406a8631ed3a8a5c429": {
      "model_module": "@jupyter-widgets/controls",
      "model_module_version": "1.5.0",
      "model_name": "SliderStyleModel",
      "state": {
       "description_width": ""
      }
     },
     "4f9104b5cefc49e889099b5b5705ee23": {
      "model_module": "@jupyter-widgets/controls",
      "model_module_version": "1.5.0",
      "model_name": "VBoxModel",
      "state": {
       "_dom_classes": [
        "widget-interact"
       ],
       "children": [
        "IPY_MODEL_ed968db3ec014d3eb1756c2176d619a2",
        "IPY_MODEL_537552be67eb47c2ba882ec1e755f7fe",
        "IPY_MODEL_251040c08d1744bc9153df0e6f3309f0",
        "IPY_MODEL_a3bf5f119b8d4f9aaea523480502e3c5",
        "IPY_MODEL_eeac8705b2d0475bb6c614f05634aedd",
        "IPY_MODEL_50f0877749944077b312ff0eae3c8523"
       ],
       "layout": "IPY_MODEL_2df50a7d07d144e49a4aea704322924b"
      }
     },
     "50f0877749944077b312ff0eae3c8523": {
      "model_module": "@jupyter-widgets/output",
      "model_module_version": "1.0.0",
      "model_name": "OutputModel",
      "state": {
       "layout": "IPY_MODEL_29dc50c88fee455bbf8eb50af75d45a3",
       "outputs": [
        {
         "data": {
          "image/png": "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\n",
          "text/plain": "<Figure size 720x720 with 1 Axes>"
         },
         "metadata": {
          "needs_background": "light"
         },
         "output_type": "display_data"
        }
       ]
      }
     },
     "50f252e644774d7cb6102f3699bd21ec": {
      "model_module": "@jupyter-widgets/base",
      "model_module_version": "1.2.0",
      "model_name": "LayoutModel",
      "state": {}
     },
     "5332b5910163406c82995db7a06c4c07": {
      "model_module": "@jupyter-widgets/base",
      "model_module_version": "1.2.0",
      "model_name": "LayoutModel",
      "state": {}
     },
     "537552be67eb47c2ba882ec1e755f7fe": {
      "model_module": "@jupyter-widgets/controls",
      "model_module_version": "1.5.0",
      "model_name": "IntSliderModel",
      "state": {
       "description": "x1",
       "layout": "IPY_MODEL_86af1d68cb77482199f635f750e630c5",
       "max": 10,
       "min": -5,
       "style": "IPY_MODEL_e65a0ed6861f4396aae618c9a1d962ee",
       "value": -5
      }
     },
     "54833e8aaf6c40ed99cd6af71de3f438": {
      "model_module": "@jupyter-widgets/base",
      "model_module_version": "1.2.0",
      "model_name": "LayoutModel",
      "state": {}
     },
     "54f1ef4a0f10405ea1bed25832aa9ed9": {
      "model_module": "@jupyter-widgets/controls",
      "model_module_version": "1.5.0",
      "model_name": "VBoxModel",
      "state": {
       "_dom_classes": [
        "widget-interact"
       ],
       "children": [
        "IPY_MODEL_c6f08875243c4129ae5e56a8c5890bb3",
        "IPY_MODEL_e9513e8104e849d295b8972b4b307b13"
       ],
       "layout": "IPY_MODEL_8fc25f25640349b2a3f9938eb01c5192"
      }
     },
     "54fb09366a834e94a06a7e498f9b1cb2": {
      "model_module": "@jupyter-widgets/controls",
      "model_module_version": "1.5.0",
      "model_name": "IntSliderModel",
      "state": {
       "description": "y2",
       "layout": "IPY_MODEL_ed09248f15844d138f9e5e3cb6b53c5c",
       "max": 1,
       "min": -15,
       "style": "IPY_MODEL_b9a5e67154c148f08e5bf0a06bd8cb55",
       "value": 1
      }
     },
     "55a7bc25ca2e41afa1aea4517fd93f9b": {
      "model_module": "@jupyter-widgets/base",
      "model_module_version": "1.2.0",
      "model_name": "LayoutModel",
      "state": {}
     },
     "5631e5cc9bc749cab79662c05ab70881": {
      "model_module": "@jupyter-widgets/controls",
      "model_module_version": "1.5.0",
      "model_name": "SliderStyleModel",
      "state": {
       "description_width": ""
      }
     },
     "57afc0081ff74d99ab088177815070cf": {
      "model_module": "@jupyter-widgets/base",
      "model_module_version": "1.2.0",
      "model_name": "LayoutModel",
      "state": {}
     },
     "57ef4069aa2b4702a85ee35ccebc2c61": {
      "model_module": "@jupyter-widgets/controls",
      "model_module_version": "1.5.0",
      "model_name": "VBoxModel",
      "state": {
       "_dom_classes": [
        "widget-interact"
       ],
       "children": [
        "IPY_MODEL_4566bbf4476c49b693b4024914661ecf",
        "IPY_MODEL_ec3f219f40ab42cfa7648afdb4cad4d5"
       ],
       "layout": "IPY_MODEL_c44940eeb7ad471a8f1bbce6a7ddba7d"
      }
     },
     "5802c4bca6f4467c930c0dcdbfef4c80": {
      "model_module": "@jupyter-widgets/output",
      "model_module_version": "1.0.0",
      "model_name": "OutputModel",
      "state": {
       "layout": "IPY_MODEL_8beadccd881645fdbd863b0f2481dd61",
       "outputs": [
        {
         "ename": "AttributeError",
         "evalue": "'Rectangle' object has no property 'normed'",
         "output_type": "error",
         "traceback": [
          "\u001b[1;31m---------------------------------------------------------------------------\u001b[0m",
          "\u001b[1;31mAttributeError\u001b[0m                            Traceback (most recent call last)",
          "\u001b[1;32mC:\\ProgramData\\Anaconda3\\lib\\site-packages\\ipywidgets\\widgets\\interaction.py\u001b[0m in \u001b[0;36mupdate\u001b[1;34m(self, *args)\u001b[0m\n\u001b[0;32m    254\u001b[0m                     \u001b[0mvalue\u001b[0m \u001b[1;33m=\u001b[0m \u001b[0mwidget\u001b[0m\u001b[1;33m.\u001b[0m\u001b[0mget_interact_value\u001b[0m\u001b[1;33m(\u001b[0m\u001b[1;33m)\u001b[0m\u001b[1;33m\u001b[0m\u001b[1;33m\u001b[0m\u001b[0m\n\u001b[0;32m    255\u001b[0m                     \u001b[0mself\u001b[0m\u001b[1;33m.\u001b[0m\u001b[0mkwargs\u001b[0m\u001b[1;33m[\u001b[0m\u001b[0mwidget\u001b[0m\u001b[1;33m.\u001b[0m\u001b[0m_kwarg\u001b[0m\u001b[1;33m]\u001b[0m \u001b[1;33m=\u001b[0m \u001b[0mvalue\u001b[0m\u001b[1;33m\u001b[0m\u001b[1;33m\u001b[0m\u001b[0m\n\u001b[1;32m--> 256\u001b[1;33m                 \u001b[0mself\u001b[0m\u001b[1;33m.\u001b[0m\u001b[0mresult\u001b[0m \u001b[1;33m=\u001b[0m \u001b[0mself\u001b[0m\u001b[1;33m.\u001b[0m\u001b[0mf\u001b[0m\u001b[1;33m(\u001b[0m\u001b[1;33m**\u001b[0m\u001b[0mself\u001b[0m\u001b[1;33m.\u001b[0m\u001b[0mkwargs\u001b[0m\u001b[1;33m)\u001b[0m\u001b[1;33m\u001b[0m\u001b[1;33m\u001b[0m\u001b[0m\n\u001b[0m\u001b[0;32m    257\u001b[0m                 \u001b[0mshow_inline_matplotlib_plots\u001b[0m\u001b[1;33m(\u001b[0m\u001b[1;33m)\u001b[0m\u001b[1;33m\u001b[0m\u001b[1;33m\u001b[0m\u001b[0m\n\u001b[0;32m    258\u001b[0m                 \u001b[1;32mif\u001b[0m \u001b[0mself\u001b[0m\u001b[1;33m.\u001b[0m\u001b[0mauto_display\u001b[0m \u001b[1;32mand\u001b[0m \u001b[0mself\u001b[0m\u001b[1;33m.\u001b[0m\u001b[0mresult\u001b[0m \u001b[1;32mis\u001b[0m \u001b[1;32mnot\u001b[0m \u001b[1;32mNone\u001b[0m\u001b[1;33m:\u001b[0m\u001b[1;33m\u001b[0m\u001b[1;33m\u001b[0m\u001b[0m\n",
          "\u001b[1;32m<ipython-input-44-67bbd1a2b4b9>\u001b[0m in \u001b[0;36mgraph_error\u001b[1;34m(Z)\u001b[0m\n\u001b[0;32m     12\u001b[0m     \u001b[0mYfit\u001b[0m \u001b[1;33m=\u001b[0m \u001b[0marray\u001b[0m\u001b[1;33m(\u001b[0m\u001b[0mYfit\u001b[0m\u001b[1;33m)\u001b[0m\u001b[1;33m\u001b[0m\u001b[1;33m\u001b[0m\u001b[0m\n\u001b[0;32m     13\u001b[0m \u001b[1;33m\u001b[0m\u001b[0m\n\u001b[1;32m---> 14\u001b[1;33m     \u001b[0mhist\u001b[0m\u001b[1;33m(\u001b[0m\u001b[0mYfit\u001b[0m \u001b[1;33m-\u001b[0m \u001b[0mFFy\u001b[0m\u001b[1;33m,\u001b[0m \u001b[0mbins\u001b[0m \u001b[1;33m=\u001b[0m \u001b[1;36m100\u001b[0m\u001b[1;33m,\u001b[0m \u001b[0mnormed\u001b[0m\u001b[1;33m=\u001b[0m\u001b[1;32mTrue\u001b[0m\u001b[1;33m)\u001b[0m\u001b[1;33m\u001b[0m\u001b[1;33m\u001b[0m\u001b[0m\n\u001b[0m",
          "\u001b[1;32mC:\\ProgramData\\Anaconda3\\lib\\site-packages\\matplotlib\\pyplot.py\u001b[0m in \u001b[0;36mhist\u001b[1;34m(x, bins, range, density, weights, cumulative, bottom, histtype, align, orientation, rwidth, log, color, label, stacked, data, **kwargs)\u001b[0m\n\u001b[0;32m   2683\u001b[0m         \u001b[0morientation\u001b[0m\u001b[1;33m=\u001b[0m\u001b[1;34m'vertical'\u001b[0m\u001b[1;33m,\u001b[0m \u001b[0mrwidth\u001b[0m\u001b[1;33m=\u001b[0m\u001b[1;32mNone\u001b[0m\u001b[1;33m,\u001b[0m \u001b[0mlog\u001b[0m\u001b[1;33m=\u001b[0m\u001b[1;32mFalse\u001b[0m\u001b[1;33m,\u001b[0m \u001b[0mcolor\u001b[0m\u001b[1;33m=\u001b[0m\u001b[1;32mNone\u001b[0m\u001b[1;33m,\u001b[0m\u001b[1;33m\u001b[0m\u001b[1;33m\u001b[0m\u001b[0m\n\u001b[0;32m   2684\u001b[0m         label=None, stacked=False, *, data=None, **kwargs):\n\u001b[1;32m-> 2685\u001b[1;33m     return gca().hist(\n\u001b[0m\u001b[0;32m   2686\u001b[0m         \u001b[0mx\u001b[0m\u001b[1;33m,\u001b[0m \u001b[0mbins\u001b[0m\u001b[1;33m=\u001b[0m\u001b[0mbins\u001b[0m\u001b[1;33m,\u001b[0m \u001b[0mrange\u001b[0m\u001b[1;33m=\u001b[0m\u001b[0mrange\u001b[0m\u001b[1;33m,\u001b[0m \u001b[0mdensity\u001b[0m\u001b[1;33m=\u001b[0m\u001b[0mdensity\u001b[0m\u001b[1;33m,\u001b[0m \u001b[0mweights\u001b[0m\u001b[1;33m=\u001b[0m\u001b[0mweights\u001b[0m\u001b[1;33m,\u001b[0m\u001b[1;33m\u001b[0m\u001b[1;33m\u001b[0m\u001b[0m\n\u001b[0;32m   2687\u001b[0m         \u001b[0mcumulative\u001b[0m\u001b[1;33m=\u001b[0m\u001b[0mcumulative\u001b[0m\u001b[1;33m,\u001b[0m \u001b[0mbottom\u001b[0m\u001b[1;33m=\u001b[0m\u001b[0mbottom\u001b[0m\u001b[1;33m,\u001b[0m \u001b[0mhisttype\u001b[0m\u001b[1;33m=\u001b[0m\u001b[0mhisttype\u001b[0m\u001b[1;33m,\u001b[0m\u001b[1;33m\u001b[0m\u001b[1;33m\u001b[0m\u001b[0m\n",
          "\u001b[1;32mC:\\ProgramData\\Anaconda3\\lib\\site-packages\\matplotlib\\__init__.py\u001b[0m in \u001b[0;36minner\u001b[1;34m(ax, data, *args, **kwargs)\u001b[0m\n\u001b[0;32m   1436\u001b[0m     \u001b[1;32mdef\u001b[0m \u001b[0minner\u001b[0m\u001b[1;33m(\u001b[0m\u001b[0max\u001b[0m\u001b[1;33m,\u001b[0m \u001b[1;33m*\u001b[0m\u001b[0margs\u001b[0m\u001b[1;33m,\u001b[0m \u001b[0mdata\u001b[0m\u001b[1;33m=\u001b[0m\u001b[1;32mNone\u001b[0m\u001b[1;33m,\u001b[0m \u001b[1;33m**\u001b[0m\u001b[0mkwargs\u001b[0m\u001b[1;33m)\u001b[0m\u001b[1;33m:\u001b[0m\u001b[1;33m\u001b[0m\u001b[1;33m\u001b[0m\u001b[0m\n\u001b[0;32m   1437\u001b[0m         \u001b[1;32mif\u001b[0m \u001b[0mdata\u001b[0m \u001b[1;32mis\u001b[0m \u001b[1;32mNone\u001b[0m\u001b[1;33m:\u001b[0m\u001b[1;33m\u001b[0m\u001b[1;33m\u001b[0m\u001b[0m\n\u001b[1;32m-> 1438\u001b[1;33m             \u001b[1;32mreturn\u001b[0m \u001b[0mfunc\u001b[0m\u001b[1;33m(\u001b[0m\u001b[0max\u001b[0m\u001b[1;33m,\u001b[0m \u001b[1;33m*\u001b[0m\u001b[0mmap\u001b[0m\u001b[1;33m(\u001b[0m\u001b[0msanitize_sequence\u001b[0m\u001b[1;33m,\u001b[0m \u001b[0margs\u001b[0m\u001b[1;33m)\u001b[0m\u001b[1;33m,\u001b[0m \u001b[1;33m**\u001b[0m\u001b[0mkwargs\u001b[0m\u001b[1;33m)\u001b[0m\u001b[1;33m\u001b[0m\u001b[1;33m\u001b[0m\u001b[0m\n\u001b[0m\u001b[0;32m   1439\u001b[0m \u001b[1;33m\u001b[0m\u001b[0m\n\u001b[0;32m   1440\u001b[0m         \u001b[0mbound\u001b[0m \u001b[1;33m=\u001b[0m \u001b[0mnew_sig\u001b[0m\u001b[1;33m.\u001b[0m\u001b[0mbind\u001b[0m\u001b[1;33m(\u001b[0m\u001b[0max\u001b[0m\u001b[1;33m,\u001b[0m \u001b[1;33m*\u001b[0m\u001b[0margs\u001b[0m\u001b[1;33m,\u001b[0m \u001b[1;33m**\u001b[0m\u001b[0mkwargs\u001b[0m\u001b[1;33m)\u001b[0m\u001b[1;33m\u001b[0m\u001b[1;33m\u001b[0m\u001b[0m\n",
          "\u001b[1;32mC:\\ProgramData\\Anaconda3\\lib\\site-packages\\matplotlib\\axes\\_axes.py\u001b[0m in \u001b[0;36mhist\u001b[1;34m(self, x, bins, range, density, weights, cumulative, bottom, histtype, align, orientation, rwidth, log, color, label, stacked, **kwargs)\u001b[0m\n\u001b[0;32m   6818\u001b[0m             \u001b[1;32mif\u001b[0m \u001b[0mpatch\u001b[0m\u001b[1;33m:\u001b[0m\u001b[1;33m\u001b[0m\u001b[1;33m\u001b[0m\u001b[0m\n\u001b[0;32m   6819\u001b[0m                 \u001b[0mp\u001b[0m \u001b[1;33m=\u001b[0m \u001b[0mpatch\u001b[0m\u001b[1;33m[\u001b[0m\u001b[1;36m0\u001b[0m\u001b[1;33m]\u001b[0m\u001b[1;33m\u001b[0m\u001b[1;33m\u001b[0m\u001b[0m\n\u001b[1;32m-> 6820\u001b[1;33m                 \u001b[0mp\u001b[0m\u001b[1;33m.\u001b[0m\u001b[0mupdate\u001b[0m\u001b[1;33m(\u001b[0m\u001b[0mkwargs\u001b[0m\u001b[1;33m)\u001b[0m\u001b[1;33m\u001b[0m\u001b[1;33m\u001b[0m\u001b[0m\n\u001b[0m\u001b[0;32m   6821\u001b[0m                 \u001b[1;32mif\u001b[0m \u001b[0mlbl\u001b[0m \u001b[1;32mis\u001b[0m \u001b[1;32mnot\u001b[0m \u001b[1;32mNone\u001b[0m\u001b[1;33m:\u001b[0m\u001b[1;33m\u001b[0m\u001b[1;33m\u001b[0m\u001b[0m\n\u001b[0;32m   6822\u001b[0m                     \u001b[0mp\u001b[0m\u001b[1;33m.\u001b[0m\u001b[0mset_label\u001b[0m\u001b[1;33m(\u001b[0m\u001b[0mlbl\u001b[0m\u001b[1;33m)\u001b[0m\u001b[1;33m\u001b[0m\u001b[1;33m\u001b[0m\u001b[0m\n",
          "\u001b[1;32mC:\\ProgramData\\Anaconda3\\lib\\site-packages\\matplotlib\\artist.py\u001b[0m in \u001b[0;36mupdate\u001b[1;34m(self, props)\u001b[0m\n\u001b[0;32m    994\u001b[0m                     \u001b[0mfunc\u001b[0m \u001b[1;33m=\u001b[0m \u001b[0mgetattr\u001b[0m\u001b[1;33m(\u001b[0m\u001b[0mself\u001b[0m\u001b[1;33m,\u001b[0m \u001b[1;34mf\"set_{k}\"\u001b[0m\u001b[1;33m,\u001b[0m \u001b[1;32mNone\u001b[0m\u001b[1;33m)\u001b[0m\u001b[1;33m\u001b[0m\u001b[1;33m\u001b[0m\u001b[0m\n\u001b[0;32m    995\u001b[0m                     \u001b[1;32mif\u001b[0m \u001b[1;32mnot\u001b[0m \u001b[0mcallable\u001b[0m\u001b[1;33m(\u001b[0m\u001b[0mfunc\u001b[0m\u001b[1;33m)\u001b[0m\u001b[1;33m:\u001b[0m\u001b[1;33m\u001b[0m\u001b[1;33m\u001b[0m\u001b[0m\n\u001b[1;32m--> 996\u001b[1;33m                         raise AttributeError(f\"{type(self).__name__!r} object \"\n\u001b[0m\u001b[0;32m    997\u001b[0m                                              f\"has no property {k!r}\")\n\u001b[0;32m    998\u001b[0m                     \u001b[0mret\u001b[0m\u001b[1;33m.\u001b[0m\u001b[0mappend\u001b[0m\u001b[1;33m(\u001b[0m\u001b[0mfunc\u001b[0m\u001b[1;33m(\u001b[0m\u001b[0mv\u001b[0m\u001b[1;33m)\u001b[0m\u001b[1;33m)\u001b[0m\u001b[1;33m\u001b[0m\u001b[1;33m\u001b[0m\u001b[0m\n",
          "\u001b[1;31mAttributeError\u001b[0m: 'Rectangle' object has no property 'normed'"
         ]
        }
       ]
      }
     },
     "596e45b61604496c9b91aef5691f19f8": {
      "model_module": "@jupyter-widgets/controls",
      "model_module_version": "1.5.0",
      "model_name": "SliderStyleModel",
      "state": {
       "description_width": ""
      }
     },
     "59f26ef8afdc4948a8ce9e3cf919ddef": {
      "model_module": "@jupyter-widgets/base",
      "model_module_version": "1.2.0",
      "model_name": "LayoutModel",
      "state": {}
     },
     "5c8cb60e603d4104a1cb928302cdbce4": {
      "model_module": "@jupyter-widgets/controls",
      "model_module_version": "1.5.0",
      "model_name": "SliderStyleModel",
      "state": {
       "description_width": ""
      }
     },
     "5c946ad535f740f8b9b86e9815b01983": {
      "model_module": "@jupyter-widgets/controls",
      "model_module_version": "1.5.0",
      "model_name": "IntSliderModel",
      "state": {
       "description": "Z",
       "layout": "IPY_MODEL_8b276c58d10a425091996a10bf9def3c",
       "max": 20,
       "min": 1,
       "style": "IPY_MODEL_a93b0268860a4933bef26f5e496e9703",
       "value": 10
      }
     },
     "5e6b7be8607d456cbf82a6e1e2250af7": {
      "model_module": "@jupyter-widgets/base",
      "model_module_version": "1.2.0",
      "model_name": "LayoutModel",
      "state": {}
     },
     "5ea5d4a8f64a445d98c0ca73b42388ca": {
      "model_module": "@jupyter-widgets/controls",
      "model_module_version": "1.5.0",
      "model_name": "VBoxModel",
      "state": {
       "_dom_classes": [
        "widget-interact"
       ],
       "children": [
        "IPY_MODEL_bf8df68164ce47f7971c4717c8d79ac7",
        "IPY_MODEL_6b13782137134c2da969baa875320ab1",
        "IPY_MODEL_6685cd160c17433b85a5093271e3ece3",
        "IPY_MODEL_67762b284c2c403cbbc62a3a2be4f240",
        "IPY_MODEL_238a93c8fdf14a70abc84d2e9e3e7058",
        "IPY_MODEL_6c228ac9b36041ffa016ba84fabd04bb"
       ],
       "layout": "IPY_MODEL_4db07e8108924981b116e62258b313f7"
      }
     },
     "62b87148e7ba42b6b739cee556591bce": {
      "model_module": "@jupyter-widgets/controls",
      "model_module_version": "1.5.0",
      "model_name": "SliderStyleModel",
      "state": {
       "description_width": ""
      }
     },
     "62b8ac902f8f432b9a34cc3ed6845c41": {
      "model_module": "@jupyter-widgets/controls",
      "model_module_version": "1.5.0",
      "model_name": "VBoxModel",
      "state": {
       "_dom_classes": [
        "widget-interact"
       ],
       "children": [
        "IPY_MODEL_dadfc2ad1a9845b3adf9853149583b49",
        "IPY_MODEL_99cf3bdbad22446398fd963ff003f0a3",
        "IPY_MODEL_79826ae1e6644dc78e0194a8418e5e9a",
        "IPY_MODEL_39b7a2ce66e24432a339daff307dd120",
        "IPY_MODEL_fa5e63d67d174a768cec98751a6736b9",
        "IPY_MODEL_2959247b210f45f1826473bf5ea92b8c"
       ],
       "layout": "IPY_MODEL_1f942366822f4d55aa8fb9dfe0eae50d"
      }
     },
     "639150713b0049a8881e4e4678ba9d80": {
      "model_module": "@jupyter-widgets/controls",
      "model_module_version": "1.5.0",
      "model_name": "SliderStyleModel",
      "state": {
       "description_width": ""
      }
     },
     "63fecfdf60a649ffbca224d33e7cac30": {
      "model_module": "@jupyter-widgets/controls",
      "model_module_version": "1.5.0",
      "model_name": "IntSliderModel",
      "state": {
       "description": "Z",
       "layout": "IPY_MODEL_77766548058642fbadd9a82ec167c31b",
       "max": 20,
       "min": 1,
       "style": "IPY_MODEL_4925e162c1a94b66b613ede121c142ef",
       "value": 1
      }
     },
     "660047fe0ce34bd596e125f459df22ca": {
      "model_module": "@jupyter-widgets/controls",
      "model_module_version": "1.5.0",
      "model_name": "SliderStyleModel",
      "state": {
       "description_width": ""
      }
     },
     "6685cd160c17433b85a5093271e3ece3": {
      "model_module": "@jupyter-widgets/controls",
      "model_module_version": "1.5.0",
      "model_name": "IntSliderModel",
      "state": {
       "description": "x2",
       "layout": "IPY_MODEL_57afc0081ff74d99ab088177815070cf",
       "max": 10,
       "min": -5,
       "style": "IPY_MODEL_639150713b0049a8881e4e4678ba9d80",
       "value": 5
      }
     },
     "67762b284c2c403cbbc62a3a2be4f240": {
      "model_module": "@jupyter-widgets/controls",
      "model_module_version": "1.5.0",
      "model_name": "IntSliderModel",
      "state": {
       "description": "y1",
       "layout": "IPY_MODEL_6de0af5f70174fc98250c13ea83c7a15",
       "max": 1,
       "min": -30,
       "style": "IPY_MODEL_79cfa0198e734570a730f1bc89795951",
       "value": -17
      }
     },
     "67c0cfd092f049789fffb2bbbb2eeaec": {
      "model_module": "@jupyter-widgets/base",
      "model_module_version": "1.2.0",
      "model_name": "LayoutModel",
      "state": {}
     },
     "69df0c75426b4602ad89b56b19c91862": {
      "model_module": "@jupyter-widgets/controls",
      "model_module_version": "1.5.0",
      "model_name": "SliderStyleModel",
      "state": {
       "description_width": ""
      }
     },
     "6adab2995e97453686116fa77236f409": {
      "model_module": "@jupyter-widgets/output",
      "model_module_version": "1.0.0",
      "model_name": "OutputModel",
      "state": {
       "layout": "IPY_MODEL_a2d350b9dc0c42a2a7e3584324a4c12a",
       "outputs": [
        {
         "data": {
          "image/png": "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\n",
          "text/plain": "<Figure size 720x720 with 1 Axes>"
         },
         "metadata": {
          "needs_background": "light"
         },
         "output_type": "display_data"
        }
       ]
      }
     },
     "6b13782137134c2da969baa875320ab1": {
      "model_module": "@jupyter-widgets/controls",
      "model_module_version": "1.5.0",
      "model_name": "IntSliderModel",
      "state": {
       "description": "x1",
       "layout": "IPY_MODEL_ce5e331cb0c845e0b83d272f62df1986",
       "max": 10,
       "min": -5,
       "style": "IPY_MODEL_bef9b65c67f646158ff21cba3e3f9f19",
       "value": 3
      }
     },
     "6bb0d7d664b0482cac3ba946103a6aed": {
      "model_module": "@jupyter-widgets/base",
      "model_module_version": "1.2.0",
      "model_name": "LayoutModel",
      "state": {}
     },
     "6c228ac9b36041ffa016ba84fabd04bb": {
      "model_module": "@jupyter-widgets/output",
      "model_module_version": "1.0.0",
      "model_name": "OutputModel",
      "state": {
       "layout": "IPY_MODEL_7a26fc2e78f2447ebbad4b99c7b65bcf",
       "outputs": [
        {
         "data": {
          "image/png": "iVBORw0KGgoAAAANSUhEUgAAAmkAAAJgCAYAAADRfvQaAAAAOXRFWHRTb2Z0d2FyZQBNYXRwbG90bGliIHZlcnNpb24zLjMuMiwgaHR0cHM6Ly9tYXRwbG90bGliLm9yZy8vihELAAAACXBIWXMAAAsTAAALEwEAmpwYAABZhklEQVR4nO3deXxU1d3H8e9vJhskrElEMCwugCIKyhb0aZVa69Ki1VpZFCUi4FPtYltE2z6lWjfiUlvRuiG4lK3WqkWstZXWtioCLhUVLeBCXNhRwx5ynj8m1JiyJDM3M+fe+bxfr3nB3Jl77jm3w+nPc8/vHHPOCQAAAH6JZboCAAAA+G8EaQAAAB4iSAMAAPAQQRoAAICHCNIAAAA8RJAGAADgIYI0AGjAzM4ws5VmVm1mRzXx3J+Z2YPNVTcA2YMgDYgQM3vHzLbUBRe7Xp3CXA8zO97MqoKu4z7cKOkS51yRc+6l3dTJmdmmBu27LM11bJK6Oh+yl887mtljZvZB3Xe7Nfj8tQbtrTGzPzR7xYEslpPpCgAI3FDn3J+TPdnMcpxzNZmuR1CSbE9XSa/t4zt9nHPLkqyWj2ol/VHSdZKebfihc+7wXX83M5O0XNJv01Y7IAsxkgZkATPLN7Nb6kZJPqj7e37dZ8ebWZWZTTSzjyRNq3tk91sze9DMPjWzV82sh5ldYWar6x4FfqWJdWhnZnPNbI2Zbaj7e1m9z9ub2bS6+m0ws0fMrFDSE5I61R+Ra2p7dlOXmJn9xMzerWvP/WbWpq7caklxSa+Y2fLk7/p/rlVuZs+a2UYze8XMjq/32V/N7Oq6z6vN7A9mVmxmvzGzT8xsYf0RLTM71MyeMrP1ZvammZ1d77PpZnabmT1e97/ZAjM7uO6zZ+q+9krddYY1rKdzbpVz7nZJCxvRrC9K2k/S75K5JwAahyANyA4/llQuqa+kPpIGSvpJvc/3l9ReiRGkcXXHhkp6QFI7SS9JelKJPuMASVdJurOJdYgpETB1ldRF0hZJU+p9/oCklpIOVyIA+IVzbpOkUyR9UPfoscg590GS7alvdN1riKSDJBVJmuKc2+acK6r7Th/n3MFNbOPnmNkBkh6XdHVdfX4o6XdmVlrva8MljVLivh4s6Tkl7lN7SW9ImlRXVqGkpyTNUOL+jJB0u5kdXq+sEZKuVOJ/s2WSrpEk59wX67WpyDk3O5V2STpf0kN1//sAaCYEaUD0PFI3arPRzB6pO3aOpKucc6udc2uU+D/yUfXOqZU0qS5I2VJ37O/OuSfrHhX+VlKppOudczskzZLUzczaNrYezrl1zrnfOec2O+c+VSKAOE5KzIdSIhi7yDm3wTm3wzn3t72UnUx7Gp5/s3NuhXOuWtIVkoabWVOmgLxYr30bzeyk3XznXEnznHPznHO1zrmnJC2SdGq970xzzi13zn2sxKjhcufcn+vd912JC1+T9I5zbppzrsY596ISI1ln1SvrYefcC3Xn/kaJIDZQZtay7prTgy4bwOcxJw2Inq/vZi5YJ0nv1nv/bt2xXdY457Y2OGdVvb9vkbTWObez3nspMQK1sTH1qPs/919IOlmJkR5JamVmcUmdJa13zm3YY6s+L5n27Ov8HEkdJL3fyDoc3Yg5aV0lfdPMhtY7litpfr33De9zw/e7Rva6ShpkZhvrfZ6jxAjkLh/V+/vmeucG6UxJ6yXtLYgGEACCNCA7fKDPT4bvUndsF5eGOvxAUk9Jg5xzH5lZXyUeo5qklZLam1lb59zGBuftrm6ptmfX+bt0kVSjzwdIQVgp6QHn3NiAyvqbc+7EAMpKxfmS7nfOpeM3A2Q1HncC2WGmpJ+YWamZlUj6qaR0r+XVSomRoY1m1l51c60kyTn3oRKP+m6vSzDINbNd86hWSSo2szb1ykq1PTMlXWpmB5pZkaRrJc0OKKu1vgclDTWzk8wsbmYFdYkNZfs887/NldTDzEbV3Z9cMxtgZoc18vxVSsy/2yMzK5CUX/c2v+59/c/LlJjHd18T6w4gCQRpQHa4Wom5UP+S9KqkF+uOpdMtklpIWivpeSWWe6hvlKQdkpZKWi3pe5LknFuqRFC1om7uVyel3p57lXhM+IyktyVtlfTtJrZnV6bkrtctDb/gnFsp6XRJP5K0RonRsAlKou+tm8f3FSUSDT5Q4tHmZH0WVO3LzyTdV3cPz97Dd7ZIqq77+1J99lh7l1GSnnPOpZz1CmDfjBFrAAAA/zCSBgAA4KG0BWlmdpCZTTWzh/Z2DAAAAI0M0szs3rpVuZc0OH5y3arXy8zs8r2VUbce0Zh9HQMAAEDjl+CYrsTK4PfvOlC3ttFtkk6UVCVpoZk9psR2Ktc1OP8C59zqlGsLAACQJRoVpDnnnqm/f1ydgZKWOedWSJKZzZJ0unPuOiVWxg6EmY1T3bYuBQUF/bp06RJU0VmvtrZWsVjmpyWu3eJUvcOpXb6pTb599kFNjbR9u5SXJ+Xs/qfqSxuk9Nalua4VZLmplpXK+U0916ffURRE4X761Ab6lmDLSmff8tZbb611zpXu+5t74Jxr1EtSN0lL6r0/S9I99d6PUmLvuz2dXyzpDknLJV2xp2N7e/Xo0cMhOPPnz890FZxzztXsrHXfnvGi6zpxrrv7meWffbBmjXOVlYk/6/+9Hl/a4Fx669Jc1wqy3FTLSuX8pp7r0+8oCqJwP31qA31LsGWls2+RtMg1Ms7a3SuVHQdsN8f2uJ6Hc26dpIv2dQzZJx4z3Xx2H+2sdbr68TcUj5kqjj1QKimRJkxIfOmGG6TLLkv8fdcxAAAiLJUgrUqJ/fZ2KdPnt2UBGi0nHtMtw/uqprZWV/7hdeXEYxpVXm/XnoqKz/8JAEDEpfKAeKGk7nXbquQpsQr2Y8FUC9koNx7TrSOO1pcP20//98gSzXzhvc8+bDiqtnZtZioJAECaNGrHATObKel4SSVK7P82yTk31cxOVWKrl7ike51z1zRLJc2GShrasWPHsTNmzGiOS2Sl6upqFRUVZboa/2VHrdOtL23Tv9bsVEXvPB1XlvvZh6tWSVVVUlmZ1KGDV21IZ12a61pBlptqWamc39RzffodRUEU7qdPbaBvCbasdPYtQ4YMWeyc65/UxaTGJw748CJxIFg+TYxtaMv2Gnfe1AWu2+Vz3eyF7332wa4EgqVLnausdPOfeipzlWyAyb3BlkXiQHhF4X761Ab6lmDLClPigB/5xUADBblx3Tmqn/7nkBJN/N2/9NDiqsQHux57PvZYIpFg3brMVhQAgGZCkAZvFeTGdfd5/XXswSWa8NArevjFqs8+rKiQKiultm2ZowYAiKRGzUnLNOakNQ+f5lzszbadTrcs3qql62s19sh8HdPps6Tk6g0bVLRixX/mqGUS80aCLYs5aeEVhfvpUxvoW4ItizlpzEkLBZ/mXOzL5m01bvidz7kDL5/rHnmp6j/H5z/11OfmqDVc7DadmDcSbFnMSQuvKNxPn9pA3xJsWcxJAwLWIi+uqaP7a0C39rp09sv6wyt1S/Ll5Hx+jtq0aZmtKAAAAUllMVsgrVrm5WhaxQCNvnehvjf7ZcXMVLjrw12L3J52WmKOWkVFIskAAICQYiQNobIrUDu6S1t9Z9ZLWvhRTeKDhlmfjKgBAEKOxIEs5tPE2KbaUuN006KtWvHxTl3ct0D9OtQNCtfUJJblaNtW2rhRKi5OPBJNAyb3BlsWiQPhFYX76VMb6FuCLYvEARIHQsGnibHJ+GTLdnfCdfPcwVc87p5c8uHnP6ysdE5y7tRT05ZMwOTeYMsicSC8onA/fWoDfUuwZZE4AKRBq4Jcfb9fgXof0EYXz3hRT72+6rMPKyqkU0+V5s3j0ScAIJQI0hBqLXNN948ZqF6d2uhbv1msv7xRF6iVlEj33ZdY8HZXMgEL3gIAQoQgDaHXuiBX918wUId1bK3/ffBFzV+6OvEByQQAgBAjSEMktGmRqwcuGKQe+xdp/AOL9dc3V3/24a4tpHYt0wEAQAiQ3ZnFfMpeSlbDNlRvd7ph0Va9X12r7x6VryNKG2R27sr+bIasTzKwgi2L7M7wisL99KkN9C3BlkV2J9mdoeBT9lKydteGDZu2uVNuecb1+PE898xbqz//4a6sz8rKtNSluZCBFey5Ufi34JMo3E+f2kDfEmxZZHcCGdS2ZZ5+c+EgHVhSqAvvW6R/LquXMLDr0SfJBAAAzxGkIZLaFeZpxthyHVhSqDH3LdSzuwI1kgkAACFBkIbIal+YGFHr2r5QF9y3UM8tX/fZhyQTAAA8R5CGSCsuytdvxg5S53YtdcH0hVqwoi5Q2zWiJvHYEwDgJYI0RF5JUb5mjC3XAe1aqGL6Qr3w9vrPPpw2jceeAAAvEaQhK5S2yteMsYPUsU2BKqa9oEXv1AVqJBIAADzFOmlZzKd1gJLV1DZs3Fqr61/Yqo3bnH7Qv0Dd28UTH6xaJVVVSZ06SbFYUuuosZZRsGWxTlp4ReF++tQG+pZgy2KdNNZJCwWf1gFKVjJt+OjjLe74G+a7w3/6R7f43fWJg2vWJNZOmzQp6XXUWMso2LJYJy28onA/fWoDfUuwZbFOGuCxDq0LNHNsuUqK8nT+1Bf08sqNnyUSXHIJWZ8AAC8QpCEr7d+mQDPHlatdYZ5GTV2gV1ZuTHxA1icAwBMEachaHdu00Mxx5WrbMlfnTl2gf1Vt/OxDsj4BABlGkIasdkDbFpo5tlxtWuTq3HsWaMn7Hyc+qL/Y7dq1jKoBANKOIA1Zr6xdS80cW65WBbk6Z1egtuuxZ0kJo2oAgIwgSAMkdW7fUrPGlaswL65zpy7Q6x988tmHFRXSpEnSpk2MpgEA0oZ10rKYT+sAJSvoNqzenFhHbftOp4kDW6hzq7r/jtm1jlpZmdShQ1rqsjesZRTsuVH4t+CTKNxPn9pA3xJsWayTxjppoeDTOkDJao42vLO22g265s/uqKv+5JZ++Eni4K511NasSWtd0n2tbF3LKAr/FnwShfvpUxvoW4Iti3XSgBDrWlyomePKlRs3jbz7eb216tPPz1EjkQAAkAYEacBuHFhSqJljyxWPmUbcVReo7UIiAQAgDQjSgD04qLRIs8btJlBjU3YAQBoQpAF7sdtAbdejz8ceY0QNANBsCNKAfdjniBr7fAIAmgFBGtAIex1R25VMsGoVjz4BAIEhSAMaaY8jalLikWdVFY8+AQCBIUgDmmCvjz7LykgmAAAEhiANaKI9Pvrs0IFkAgBAYAjSgCSwPAcAoLmxd2cW82lvumRlug0fbUrs9bnTOX3ncKfuHerq0oi9PlPB/nrBnpvp31HUROF++tQG9u4Mtiz27mTvzlDwaW+6ZPnQhuWrP3UDrn7K9f6/ue7Njxrs9bl06T73/EwG++sFe64Pv6MoicL99KkN7N0ZbFns3Qlkkf88+jQWvAUABIcgDQjAQaVFunxgAXPUAACBIUgDArJ/YYwtpAAAgSFIAwK016zPSZOkTZsYTQMANApBGhCwPa6jVlgoXXmlNGUKjz4BAPtEkAY0g90Garvmp0k8+gQA7BNBGtBM/itQ25mfmJ92ySUkEwAA9okgDWhGe3z0STIBAGAfCNKAZrbPLaQqKjJbQQCAlwjSgDTY64haSUnikSePPgEA9RCkAWmyxxE1KfHIk0efAIB6CNKANOLRJwCgsQjSgDTb66NPiceeAABJBGlARuxxRI3HngCAOuacy3Qd9snMhkoa2rFjx7EzZszIdHUio7q6WkVFRZmuRkp8akMydfloU62uf2Grdjqnywe00AEtaqV166S2baWNG6XiYiknJ5BrNUaQ5aZaVirnN/Vcn35HURCF++lTG9JZF/qWYM8dMmTIYudc/6QuJknOudC8evTo4RCc+fPnZ7oKKfOpDcnWZfnqT92Aq59yR1/1J/fmR58kDlZWOicl/gzwWvsSZLmplpXK+U0916ffURRE4X761IZ01oW+JdhzJS1yKcQ9PO4EMmyvW0ixKwEAZC2CNMADe9xCil0JACBrEaQBnmBEDQBQH0Ea4BFG1AAAuxCkAZ7Z64gai90CQNYgSAM8tMcRtV37fK5axaNPAIg4gjTAU3td8LaqikefABBxBGmAx/b46LOsjGQCAIg4gjTAc7t99NmhA8kEABBxBGlACDQM1N7/tJblOQAg4gjSgJCoH6hdv3CL3qxheQ4AiDKCNCBE/hOomWnk3c9r6UefMKIGABFFkAaEzEGlRbp8YIFy4zGNvHuB3tiRx4gaAEQQQRoQQvsXxjRrXLnyc2Iaeffzev2DT1jwFgAihiANCKluJYWaNa5cLXLjGnnP83pte+7nF7zl0ScAhBpBGhBiXYsLNWvcYBXm5Wjk3Qu05P2PEx9Mm8ajTwAIOYI0IOS6FLfUrHHlKsrP0Tn3LNCrVR+TTAAAEUCQBkRA5/b1A7Xn9a+tOZ9PJpgyhWANAEKGIA2IiM7tW2r2+HK1bpGrc+5ZoFdWbvxsRE3i8ScAhAxBGhAhZe1aavb4wWrbMlfn3rNAL22OJ0bULrlEmjRJ2rSJ0TQACAmCNCBiDmjbQrPHDVa7wjydN/UFvfjehkTGZ2GhdOWVjKYBQEgQpAER1KltC80eX672RYlAbfG7G0gmAICQSWuQZmYHmdlUM3uo3rGvm9ndZvaomX0lnfUBoqxjm8SIWmmrfJ03dYEWVcfYmQAAQqTRQZqZ3Wtmq81sSYPjJ5vZm2a2zMwu31sZzrkVzrkxDY494pwbK2m0pGFNqDuAfdi/TYFmji1Xh9YFOv/eF7TwnfWMqAFASDRlJG26pJPrHzCzuKTbJJ0iqZekEWbWy8yOMLO5DV777aP8n9SVBSBA+7cp0Mxx5erQJhGovfApI2oAEAbmnGv8l826SZrrnOtd936wpJ85506qe3+FJDnnrttHOQ85586q+7tJul7SU865P+/mu+MkjZOk0tLSfnPmzGl0fbF31dXVKioqynQ1UuJTG9JZl2SutXFrrSYv3Kr1W50u7VegQ1s7ad06qW1baeNGqbhY1Vu3BtaGVO9HKuc39VyffkdREIX76VMbfO9b0l1umPqWIUOGLHbO9U/qYpLknGv0S1I3SUvqvT9L0j313o+SNGUv5xdLukPScklX1B37jqTFdccv2tv1e/To4RCc+fPnZ7oKKfOpDemsS7LXWvXJFnfCTX91h/7kCffssrWJg5WVzknOnXqqm//UUxmvYxDnN/Vcn35HURCF++lTG8LQt6Sz3DD1LZIWuSbEWQ1fqSYO2O7ivr0EhOuccxc55w52daNtzrlfOef61R2/I8X6ANiL/Vol5qiVtWuhiukv6NllaxNz1E49VZo3LzGyBgDwQqpBWpWkzvXel0n6IMUyATSj0lb5mjmuXF3at1TF9IX6xwZJ992XSCZo25ZkAgDwRKpz0nIkvSXpBEnvS1ooaaRz7rVAK2k2VNLQjh07jp0xY0aQRWc1n+ZcJMunNoRt3sgn250qX9iiVZudvnt0gXqXxFW9YYOKVqyQysqkDh0yWkfmpIVXFO6nT20IW9/S3OWGqW9J25w0STMlfShphxIjaGPqjp+qRKC2XNKPU3n2uq8Xc9KC5dOci2T51IYwzhtZ++lWd9Iv/ua6/3ie++ubqxNz0iornVuzJuWywzRvxKffURRE4X761IYw9i3NWW6Y+hala06ac26Ec66jcy7XOVfmnJtad3yec66HS8wzuybpaBFA2hUX5WvG2HIdXFqksfcv0r82KLE8R0lJ4pEnjz4BIGPYFgrIcu0L8zTjwkE6pLRIv3pxm+YvXZ34YNo01lEDgAwiSAOgdoV5mjF2kA5oFdP4Bxbr6aWrPtuZoKIi09UDgKzUpMSBTCFxoHn4NDE2WT61IQqTe1dtqNav34hr5ae1uuSofB21X07ig5qaxPIcxcVSTk5a6kjiQHhF4X761IYo9C0kDiQplQlt6X6ROBAsnybGJsunNkRlcu/GTdvd0Fv/7g750ePuT699lPhg14K3lZVpqyOJA+EVhfvpUxui0rf4UlYkEwcAZIc2LXP1wJhB6tWxtb71m8V68rWP2JQdADKAIA3Af2nTIlcPXDhIh3dqo4t/86L++FENm7IDQJoRpAHYrdYFubp/zEAdUdZGl8x4UU+8+iHJBACQRiQOZDGfJsYmy6c2RHVy75Yap5sWbdWKj2t1UZ98Ddy/cckEYZrc69PvKAqicD99akNU+5ZMlUXiAIkDoeDTxNhk+dSGKE/u/XTrDveN2//pDrricfeHV95PHNxHMkGYJvf69DuKgijcT5/aEOW+JRNlkTgAIFKK8nM0/YKBOrpLW3131st67JUPSCYAgGZGkAagUYryczS9YqD6dWmn7816SY9WbSOZAACaEUEagEYrzM/RtIoBGtCtvS6d/bIeeel9RtQAoJkQpAFokl2B2sAD2+v7c17Ww+9tZUQNAJoB2Z1ZzKfspWT51IZsy8DattPplsVbtXR9rcYckaf/6WCfy/YMUwaWT7+jKIjC/fSpDdnWtzR3WWR3kt0ZCj5lLyXLpzZkYwbW5m01buTdz7lul891cxa+lzi4Zo1zlZVu/lNPpbUuqZzr0+8oCqJwP31qQzb2Lc1ZFtmdALJCi7y4pp4/QP9zSIku+92/NGfhysTjzssuk9asYY4aAKSAIA1ASgpy47r7vP7/CdRm9ftqIpFAYo4aAKSAIA1AynYFasf1KNXlf3pbM744TCotJesTAFJAkAYgEAW5cd05qp+G9CzVj37/quZ/4Mj6BIAUEKQBCExBblx3jOqnLx26n+57fbseeO4d1lEDgCSxBEcW8ynFPFk+tYE0+c/sqHX65aJNWrLedM5heTqxa660apVUVSWVlUkdOjRrXViCI7OicD99agN9S7BlsQQHS3CEgk8p5snyqQ2kyX/eU3952o29b6HrOnGuu/uZ5YmlOSZNSrzWrGnWurAER2ZF4X761Ab6lmDLYgkOAFkvJ2a67ZyjdUrv/XX142/ortc/lgoLpSuvZH4aADQCQRqAZpMbj+lXI47SV4/sqGvnLdXtvU5KzE+rqMh01QDAewRpAJpVbjymXw7rq9P6dFLl31dqSr+vSyUliQQCEgkAYI9yMl0BANGXE4/pF8P6KidmuvFPb6mm1ul7Lz2aWJpDSizVAQD4HEbSAKRFPGa64Zt9dFa/Mt3y53/r5u4nyk2ue/TJqBoA/BdG0gCkTTxmqvzGkYqb6VfPr1TN8UM1obhYduONjKoBQAMEaQDSKhYzXXfmEYrFTLf/dbl2OqfLR4+WSSQUAEA9LGabxXxarDFZPrWBBSebVlatc3rwje16+r0andQtR8N75sl27pTWrZOKi1W9dSuL2YZUFO6nT22gbwm2LBazZTHbUPBpscZk+dQGFpxselm1tbVu0qNLXNeJc92kR5e42smVzknOVVaymG2IReF++tQG+pZgywrTYrY87gSQMWamSUN7KR4zTf3H26rtO0RXTq6UnXaa9PLLiUSCkpJMVxMAMoIgDUBGmZl+8tXDFI+Z7npmhXYOOlk/f/QxKR6TpkxJ7FJQUUGwBiDrEKQByDgz0xWnHKp4zPTrvy7XziOO01fib0tL3yDrE0DWIkgD4AUz02Un9VROzHTr08v0/gFtddy3LlZckjZt4tEngKzDYrYAvGFm+v6JPfTdE7rr7+/XaMJf39fOlmzKDiA7MZIGwCtmpktP7KH33n1HD7/4vnYe9gXdNLlSOayhBiDLMJIGwEunH5KnCSf11KNvrNP3yk5QTbv2bB8FIKswkgbAWxcPOUQ5MdN1TyxVrXP65ftPK3ciiQQAsgMjaQC8Nv64g/WTrx6mea9+pEuKj9X2yZXSaacxogYg8tgWKov5tO1JsnxqA1u3BFtWw/OfemeHfrN0u47aL65vdfxYuR9USWVlUocOKV/bp99RFEThfvrUBvqWYMtiWyi2hQoFn7Y9SZZPbWDrlmDL2t359z37tus6ca6ruPMfbsvkG5xbsyaQa/v0O4qCKNxPn9pA3xJsWWHaForHnQBC47zB3XTNGb319IqNGl/yRW1t045kAgCRReIAgFA5Z1BXxc10xe9f1dj7F+nudX9XAckEACKIkTQAoTN8YBdN/saR+seytRpTNEhbJt+Q2N8TACKEIA1AKJ3dv7Nu+mYfPbfyE1W0PVabW7f97NFnTU2mqwcAKSNIAxBaZx5dpl8M66sX3l6v0dMWatO90xMbsq9Zwzw1AKFHkAYg1E7ve4B+OfwoLX53g85vMUDVk29MfHDZZez3CSDUCNIAhN7QPp1064ij9PKHm3ReUbk2tyuRJk2SNm1iNA1AaJHdCSASTj2io2JmumTGi7rxY9OxLVqpzeU/THxYWJhILCgpyWwlAaAJGEkDEBkn995ft59ztN79pFaj8vrp4+t59AkgvBhJAxApXzl8f337qHzd/soWjewwUA+OPETtdo2kAUCIMJIGIHL67pejO8/rp3+vrtbIh5dp/be+y6NOAKFDkAYgkob03E/3nNdfK9ZUa+Tdz2td9Ta2kAIQKgRpACLriz1KNfX8AXpn3SaNuPt5rZl6P/PTAIQGQRqASPuf7iW6d/QArVy/RcOtj1Zff3NifhqjagA8Z865TNdhn8xsqKShHTt2HDtjxoxMVycyqqurVVRUlOlqpMSnNqSzLs11rSDLTbWsVM7f3blvrt+pmxdvVbt808SBBWr38RqpqkoqK1N1YaE3v6Mo8OnfZbJ8agN9S7BlBd237M2QIUMWO+f6J3UxSXLOhebVo0cPh+DMnz8/01VImU9tSGddmutaQZabalmpnL+ncxe+vc71+r8n3HGVT7sPVlQ5V1np3Jo1Xv2OoiAK99OnNtC3BFtWc/QteyJpkUsh7uFxJ4Cs0b9be90/ZpDWVm/XsN++pffHXpLI+qyp4dEnAO8QpAHIKv26ttMDYwZqw+btGnbnc1q5frO0bh0JBQC8Q5AGIOsc1aWdfnPhIH2yZYeG3/W81rRsL1VWsuAtAK8QpAHISkeWtdWMseWq3laj6xbv0LsXfCvxAY89AXiCIA1A1up9QBvNGDtI23c6Dbvzeb19z2947AnAGwRpALLa4Z3aaOLAFtqxs1bDdhym5dfdwjpqALxAkAYg63VuFdPMceWqNdOwmsO1rDY/MZrGqBqADCJIAwBJPTq00qxx5TKTht/1vN4aOiyRTHDaaYyoAcgIgjQAqHPIfolALWam4b99U2+cO1567DFG1ABkBEEaANRzcGmRZo8frLx4TCPvfl6vffVsRtQAZARBGgA0cGBJoWaPL1fLvByN/O2benXEOEbUAKQdQRoA7EbX4kLNGleuVgU5GnnP83rp5G8yogYgrQjSAGAPOrdvqdnjB6t9YZ5GPfSmFn1zDCNqANKGIA0A9uKAti00e9xglbbK13n3vqAFX/4GI2oA0oIgDQD2Yf82BZo9rlwd2xRo9MNv6dkzKhhRA9DsCNIAoBH2a12gWeMGq0v7lqqYvlB/H3KmNGmStGkTo2kAmgVBGgA0UmmrfM0YO0gHlhRqzCNvaX5uB+nKK6UpU3j0CSBwBGkA0ATFRfmaObZc3fcr0vjNXfXnq29PfMCjTwABI0gDgCZqV5inGReW67COrXXRpq7640kjE8kEFRWZrhqACCFIA4AktGmZqwcuHKQjy9ro4j8s0+MnnSuVlCQeefLoE0AACNIAIEmtC3J1/5hBOrpLW31n1kt69OX3E488efQJIAAEaQCQgqL8HE2vGKgB3drp0tkv63cDv8ajTwCBSFuQZmYHmdlUM3uo3rHDzOwOM3vIzP43XXUBgCAV5udo2uiBGnxwsX74xxWac/xwHn0CSFmjgjQzu9fMVpvZkgbHTzazN81smZldvrcynHMrnHNjGhx7wzl3kaSzJfVvauUBwBct8uKaev4AfaF7qS773b/0mwXv8ugTQEoaO5I2XdLJ9Q+YWVzSbZJOkdRL0ggz62VmR5jZ3Aav/fZUsJmdJukfkv6SVAsAwBMFuXHdNaqfvnTofvrx75fo/r6nsIUUgKQ1Kkhzzj0jaX2DwwMlLasbIdsuaZak051zrzrnvtbgtXovZT/mnDtG0jnJNgIAfFGQG9cd5/bTib066Kd/eVf3lH+DLaQAJMWcc437olk3SXOdc73r3p8l6WTn3IV170dJGuScu2QP5xdLukbSiZLucc5dZ2bHSzpTUr6kfznnbtvNeeMkjZOk0tLSfnPmzGlK+7AX1dXVKioqynQ1UuJTG9JZl+a6VpDlplpWKuc39dzmuJ81tU53vLJNi1bt1NmHxHVqq4+ltm2ljRul4mIpJyfQ6/nEp3+XyfKpDfQtwZaVzr5lyJAhi51zyU/ncs416iWpm6Ql9d5/U4lga9f7UZJubWx5ybx69OjhEJz58+dnugop86kN6axLc10ryHJTLSuV85t6bnPdz+01O93Fv1nsuk6c6279y1vOVVY6JyX+jDCf/l0my6c20LcEW1Y6+xZJi1wKcU8q2Z1VkjrXe18m6YMUygOASMmNx3TLsL76et9OuvFPb+mWnifKTWaOGoDGSWW8faGk7mZ2oKT3JQ2XNDKQWgFAROTEY7rp7L7Kicd0y7NVqhlymn7w6GOyiZclvjBhQmYrCMBbjZqTZmYzJR0vqUTSKkmTnHNTzexUSbdIiku61zl3TbNU0myopKEdO3YcO2PGjOa4RFbyac5FsnxqA/NGgi0r7HPSGqp1TtNf265nqmp0ate4vtlmg8wklZZGbn6aT/8uk+VTG+hbgi0rknPSfHgxJy1YPs25SJZPbWDeSLBlRWFOWkM7d9a6H//+X67rxLnuykn3udqIzk/z6d9lsnxqA31LsGWFaU5atP7zDQA8FouZfn56b+XEYrr3WWnnpPv1s9Eny9auTSzPUVGR2KkAAJTanDQAQBOZmSYN7aXcuOnuv0s7/vGRrv73HxVjjhqABhq9TlomMSetefg05yJZPrWBeSPBlhW1OWkNOef00Fs79PjbO/TFTjGN3u8Txdq1jcQ6aj79u0yWT22gbwm2LOakMSctFHyac5Esn9rAvJFgy4rinLSGamtr3U1PLnVdJ851l85+ydVMjsY6aj79u0yWT22gbwm2LOakAQD2ycz0/a/0VE48ppufeks1h35BN0+uVE5FRaarBsADqSxmCwAIwHdO6K7LTu6px5au03cPOEE72rVPLHTLgrdAVmMkDQA88K3jD1FuLKZr5r2hmtpa3frhfOWRTABkNYI0APDE2C8epHjMdNXc1/Wtg4/RbZNvUH7F6ExXC0CGkN2ZxXzKXkqWT20gAyvYsqKe3bk3f3lvhx54fbuOLInrkqPyled2SuvWhSbr07f7mQyf2kDfEmxZZHeS3RkKPmUvJcunNpCBFWxZ2ZDduTczFrzrul0+1517z/Nu8+QbQpX16eP9bCqf2kDfEmxZYcruJHEAADw0YmAXVX7jSP1j2VpdUDhImyffkNiRAEDWIEgDAE99s39n3Xx2Hy2o+kSj2xyr6lZtyfoEsoj/kxsAIIudcVSZ4rGYLp39ss6/9wVN/+Q5tbqcrE8gGzCSBgCeO61PJ9064ii9snKjzs3vp4+vv1E67TRG1ICII7szi/mUvZQsn9pABlawZWVzdueevLiqRre9vE2dW8X0w66fqOijKqmsTOrQIdNV+5yw3M+98akN9C3BlkV2J9mdoeBT9lKyfGoDGVjBlpXt2Z178ufXP3LdfzTPnXLT027d9Tc5t2ZNpqv0X8J0P/fEpzbQtwRbFtmdAIBmccJhHXTXef20bP1Wjczvr7UFrUgmACKKIA0AQub4nvvp3vMH6J11mzTirue1eur90mWXSdOmZbpqAAJEkAYAIfQ/3Us0bfRAvb9xi4ZbH626/maSCYCIIUgDgJAafHCx7rtgoFZV79CwWF998Pt5jKgBEUKQBgAhNqBbe90/ZpDWVW/XMHeEqq77BSNqQESwBEcW8ynFPFk+tYE0+WDLYgmOplmxcaduXLRVLXJMEw+q1n5rVmZseY4o3E+f2kDfEmxZLMHBEhyh4FOKebJ8agNp8sGWxRIcTfdq1UZ35M+edOVX/8m9fd0vnFu6NLEpe5qX6YjC/fSpDfQtwZbFEhwAgLTrfUAbzRxbrm210tk7e2v57//IHDUgxAjSACBCenVqrZljy1XrnIZtP0z/vvYW5qgBIUWQBgAR03P/Vpo1rlwWj2l4TS8tffhJRtSAECJIA4AIOmS/RKCWEzeN2N5Tr137S0bUgJAhSAOAiDq4tEizxw1Wi7wcjdx+qF59+E+MqAEhQpAGABHWraRQs8cPVlF+jkZu7a6XrrmVETUgJAjSACDiOrdvqdnjy9WuMF+jtnXX4t89xYgaEAIsZpvFfFqsMVk+tYEFJ4Mti8Vsg7d+a60mv7BVH29zuvSgzepZ1lrauFEqLpZycgK7ThTup09toG8JtiwWs2Ux21DwabHGZPnUBhacDLYsFrNtHh99vMV96cb57tCfPOH+ec0U56TEgrcBisL99KkN9C3BlsVitgAAL3VoXaBZ4warrF0LVWw+UH+/+jbmqAGeIkgDgCxT2ipfs8aV68CSIo3ZcqDmP/Q0c9QADxGkAUAWKi7K18yx5eq+X5HGb+6qP199OyNqgGcI0gAgS7UrzNOMC8t1aMfW+t/NXfXH385PjKhNmUKwBniAIA0Asliblrl6YMwgHd6pjS7e1Flzf35H4gMefwIZF1zONQAglNq0yNUDYwbqgukL9Z13pZpTjtPXJWnTpsRoWklJhmsIZCeCNACAWhXkanrFQI25b6EufWK5drTspG/+dHziw8JCqaKCYA1IMx53AgAkSYX5OZo2eqCOPbhEEzYdoBlX3ZX4gEefQEYQpAEA/qNFXlz3nN9fx/cs1Y82ddL9x54lVVaS+QlkANtCZTGftj1Jlk9tYOuWYMtiW6jM2lHrdPvL2/TS6p0acWieTmqxXqqqksrKpA4d9npuFO6nT22gbwm2LLaFYluoUPBp25Nk+dQGtm4Jtiy2hcq8bTt2uoseWOS6Tpzrbp/7SmL7qDVr9nleFO6nT22gbwm2LLaFAgCEXl5OTLeOOEqn9emkyX9fqV8d/fVE8sDatTz6BNKA7E4AwB7lxGP6xbC+yomZbn7qLe3YWavvv/yYbOJliS9MmJDZCgIRRpAGANireMx0wzf7KDce061PL9P2ASfo8smVsoqKTFcNiDQedwIA9ikeM1135hE6t7yL7lz4oa467FQ553jsCTQjRtIAAI0Si5l+fnpv5cZjmvbPd7Rj0Yu66qqJif/a57EnEDiCNABAo5mZfvq1XsqLx3TnM1LNT+/XtaNPUmzt2sSCtzwCBQJDkAYAaBIz0+WnHKrceExT5i/T9vnv64Z3nlJ8VzLBgAGZrSAQEQRpAIAmMzP98KSeysuJ6ean3lLNoV/QzZMrlVNRIS1ZkunqAZFA4gAAIGnfOaG7Lju5px5buk7fOeBL2tGuvVRTQ0IBEABG0gAAKfnW8YcoLx7T1Y+/oR07X9TZuesSm7JLJBQAKWAkDQCQsgu/cJCuPO1wPfX6Kt1a1VpbJ9/ApuxAigjSAACBOP+Ybrr2jCP0r3W1Glv8BW159A+JEbVp0zJdNSCUCNIAAIEZOaiLxvTO0z+WrVVF4UBtYkQNSBpBGgAgUF8oy9Uvzu6rF6o+1ejWx6j60bmMqAFJMOdcpuuwT2Y2VNLQjh07jp0xY0amqxMZ1dXVKioqynQ1UuJTG9JZl+a6VpDlplpWKuc39VyffkdRsOt+vvBhje741zYd2Nr0/S6fqrCkrbRxo1RcLOX4nbfm02+CviXYstLZtwwZMmSxc65/UheTJOdcaF49evRwCM78+fMzXYWU+dSGdNalua4VZLmplpXK+U0916ffURTUv59PvPqhO+RHj7uht/7dbbj+Ruck5yorM1e5RvLpN0HfEmxZ6exbJC1yKcQ9PO4EADSbk3vvrzvO7aelH36qkblHa/31NzFHDWgkgjQAQLM64bAOuvv8/lq+fqtG5PXXmkceZ44a0AgEaQCAZndcj1LdO3qA3l2/ScOtj1ZffzMjasA+EKQBANLi2ENKdF/FQH1YvUPD4kfpw9/PY0QN2AuCNABA2gw6qFgPjBmotZ9u09nuCK287heMqAF7QJAGAEirfl3b64ELB+njbTs1XEfqvd8/kRhRO/98AjWgHoI0AEDa9e3cVjPGlmvT9hqdXdNLK74+Qpo3j0efQD0EaQCAjOh9QBvNHFuuHc407OjRWnbtLVJFRaarBXiDIA0AkDGHdWytWePK5SymYTW9tLQmL/HIkzlqAEEaACCzundopdnjy5UTN42463ktuXsmWZ+ACNIAAB44uLRIs8cNVovcuEZu7a5Xrv0Vjz6R9QjSAABe6FZSqNnjB6t1yzydu7WHFm+K8+gTWY0gDQDgjc7tW2rO+MEqLsrTeVMX6IW7ZvPoE1mLIA0A4JVObVto9vjB6tCmQOdvPkjPXjOFBW+RlQjSAADe6dC6QLPHDVbn4paq2HyQnnnoL4yoIesQpAEAvFTaKl8zx5broNIiXbi5m56++nZG1JBVCNIAAN4qLsrXzLGD1HP/1hq/uav+9NDTjKghaxCkAQC81rZlnh68cJAO79RG39rUVY///NeMqCErEKQBALzXpkWuHhgzUH07t9W3N3XWo7/9KyNqiDyCNABAKLQqyNV9FwzUgG7tdemmMj101Z0seItII0gDAIRGYX6OplcM1DEHl2jC5gM0a8VmFrxFZBGkAQBCpUVeXPec31/H9SjV5Q+/qgd+/QiPPhFJaQvSzOwgM5tqZg81OF5oZovN7GvpqgsAINwKcuO6c1Q/ffmw/fR/mzpq6pX3kEyAyGlUkGZm95rZajNb0uD4yWb2ppktM7PL91aGc26Fc27Mbj6aKGlO46sMAICUnxPX7ef00ym999fPN++vO2b/kxE1REpjR9KmSzq5/gEzi0u6TdIpknpJGmFmvczsCDOb2+C13+4KNbMvS3pd0qqkWwAAyFp5OTHdOuIoDe3TSddv7qBbf3YvI2qIDHPONe6LZt0kzXXO9a57P1jSz5xzJ9W9v0KSnHPX7aOch5xzZ9X9/RpJhUoEeVskneGcq23w/XGSxklSaWlpvzlzGHQLSnV1tYqKijJdjZT41IZ01qW5rhVkuamWlcr5TT3Xp99RFGTifu6sdZq6ZLue/aBGp+2/XWfUrJB1LpM6dEiqPJ9+E/QtwZaVzr5lyJAhi51z/ZO6mCQ55xr1ktRN0pJ678+SdE+996MkTdnL+cWS7pC0XNIVDT4bLelr+6pDjx49HIIzf/78TFchZT61IZ11aa5rBVluqmWlcn5Tz/XpdxQFmbqfNTtr3YTfvuy6Tpzrrps03dWuXu3cmjXOVVYm/mwCn34T9C3BlpXOvkXSItfIOGt3r5ykozvJdhfz7SUYXCfpoj18Nj2FegAAoHjMdP2ZRyo3HtMdC6QdC9boJ68/Lpt4WeILEyZktoJAE6USpFVJ6lzvfZmkD1KrDgAAyYvFTFd/vbdy4zFN/cfb2tF3iH42uVIxFr1FCKUyJy1H0luSTpD0vqSFkkY6514LvJJmQyUN7dix49gZM2YEXXzW8mnORbJ8agPzRoItizlp4eXD/XTOafabO/THd3bouLIcnd8zptj69VJxsZSz7/EJH9qwC31LsGVFbk6apJmSPpS0Q4kRtDF1x09VIlBbLunHqTx3bcyLOWnB8mnORbJ8agPzRoItizlp4eXL/aytrXWVf3zDdZ041/3gpw+6Gosl5qc1gi9tcI6+JeiyIjcnzTk3Yg/H50mal3SECABAMzEz/fArPZUXj+sXf35LO37ygG46/0TlrF2bWEutokIqKcl0NYE9SmVOGgAAXjMzfffL3ZUTN93w5JuqeWqlbnn/L8olmQAhQJAGAIi8i4ccorx4TNfMe0M7DjlWt06+QfkVozNdLWCvGp04kEkkDjQPnybGJsunNjC5N9iySBwIL5/v51Pv7tBv3tiuPqVxXdw3X3lup7Ru3X8lFPjUBvqWYMuKXOKALy8SB4Ll08TYZPnUBib3BlsWiQPh5fv9fPD5d1zXiXPdufc877ZMvsE56b8SCnxqA31LsGWFKXGgsXt3AgAQCecM6qrKs47UP5atVUXhIG2efAP7fcJLBGkAgKxzdv/OuvnsPlpQ9YlGtz5W1Y/OlS67LJH1CXiCIA0AkJXOOKpMvxx+lBa/t0HnFfTXJ9ffmFiWA/AEiQNZzKeJscnyqQ1M7g22LBIHwits93PRRzX69Svb1KV1TD/sm6PCT9arumVLFbVqlemqSaJvCbosEgdIHAgFnybGJsunNjC5N9iySBwIrzDez6de+8h1/9E8d8qPfuvWtWjt5s+alekq/Qd9S7BlkTgAAECIfLlXB911Xj8tU0uNvPRefdKqfSKJgGQCZBBBGgAAko7vuZ+mVQzUO7GWun7xDq2e+gDJBMgogjQAAOoce0iJplcM1LqtTsN0pD687maW50DGEKQBAFBP+UHF+mH/Aq3ZXKNhsb6q+v0TjKghI8juzGJhy8DaHZ/aQAZWsGWR3RleUbif1dXVWl3TQjcs2qqWOdLEgzZpvw5tpI0b/2sLqXTUhb4luLLI7iS7MxTCmIHVkE9tIAMr2LLI7gyvKNzPXW14tWqj63Plk6782j+7FdfdststpNJVlzBfK1v7FpHdCQBA8+h9QBvNuLBc22pqNWzHYVp27S3MUUPaEKQBALAXvTq11qxx5aq1mIbv7KU3H36SOWpIC4I0AAD2oUeHVpo9vlzxmGn49p567dpfMqKGZkeQBgBAIxxcWqTZ4warRV6ORm4/VP96+E+MqKFZEaQBANBI3UoKNXv8YLUqyNE5W7pr8TW3MqKGZsMSHFksKmnyvrSBNPlgy2IJjvCKwv3cVxvWbalV5cKt+nib06UHbVbPje9JZWVShw5pr0sYrpWtfQtLcCBpUUqT9wFp8sGWxRIc4RWF+9mYNnz08Rb3pRvnu0N/PM/945rbnFu6NLE8x5o1aa+L79fK1r5FLMEBAED6dWhdoFnjBqtLcaEu2Hyg/vrQX5ijhkARpAEAkKTSVvmaOa5cB5cWadzmbvrz1bczRw2BIUgDACAF7QvzNHNsuQ7r2FoXbeqqJ347PzGiNmUKwRpSQpAGAECK2rTM1QMXDlKfzm11yabOevTndyQ+4PEnUpC+HWIBAIiw1gW5uv+Cgbpg+kJd+o6046Qv6ixJ2rQpMZpWUpLhGiJsGEkDACAghfk5ml4xUMccXKIJT67QzPgB0pVXMpqGpBCkAQAQoBZ5cd1zfn8d16NUV2zqpPuvuptkAiSFxWyzWDYsOJlOLDgZbFksZhteUbifQbRhR63T7S9v00urd2r4Adt08va3pU6dpFhMKi6Wcho344i+JdiyWMyWxWxDIVsWnEwXFpwMtiwWsw2vKNzPoNqwvWan+9aDi13XiXPdlCunOjdpknNSYtHbNNclk9fK1r5FKS5mS+IAAADNJDce0y+H91Vu3HTDy9KOY47Wd38qGckEaASCNAAAmlFOPKabzu6rnHhMtzxbpe0tDtSEn42WFRZKEyZkunrwGEEaAADNLB4zVX7jSOXlxHT7AmnbpPv0k9GnyDJdMXiN7E4AANIgFjNd8/XeGn1MN03dWqxJz65S7Zo1ZH1ijxhJAwAgTcxMk4b2Ul5OTHc9s0LbX3xZ1141MTFiwqNPNMBIGgAAaWRmuuKUQ/XtLx2iWdvaacJPH9DO80cnRtMYVUM9jKQBAJBmZqYffKWncuMx3fzUW9r+lyrdvPLPyp14WeILjKpBBGkAAGTMd07orrycmK5/Yql2dD9Wv5pcqbyKikxXC57gcScAABl00XEH66df66U//nuDvtXheG1r245Hn5DESBoAABl3wf8cqLycmH7yyBKNvX+x7lr7jAp2PfocMCCzlUPGsHdnFmN/vWCxv16wZbF3Z3hF4X5mqg3PVO3QtCXbdWg70/c6f6r8/YpVvWWLijZvbtJ+n8mibwn2XPbuRNLYXy9Y7K8XbFns3RleUbifmWzDwy+udAdePtd989fPuk+37nDzZ81q8n6fyaJvCfZcpbh3J3PSAADwyBlHlemXw4/S4vc2aNTUBdrUur1UWSmRUJB1CNIAAPDM0D6ddNvIo7Xk/Y91w0s12njxdxMfkEyQVQjSAADw0Mm999edo/qpqrpWI+5eoHVT75cuu0yaNi3TVUOaEKQBAOCpLx3aQd87Ol8r1lRrRKyvVl9/k3TaaYyoZQmCNAAAPNa7JEfTKgZo5SfbNTznaH30+3mMqGUJgjQAADx3zMElun/MQK3+ZJuG6Qi9f93NjKhlAYI0AABCYEC39npgzECt37pTZ6uP3vv9E4yoRRxBGgAAIXFUl3aaObZcm7bXaNjOw/X2dbcwohZhBGkAAIRI7wPaaObYcm2vlc7eebj+/fAfEyNqU6YQrEUMQRoAACFzWMfWmjWuXJI0fPuheuPaXyY+4PFnpBCkAQAQQt07tNLsceXKzc3RiB2Hask3KxI7E/D4MzII0gAACKmDSos0Z/xgFeblaORvl+rl4WOlxx5jRC0iCNIAAAixLsUtNXt8udq2zNO59yzQoq+cJU2aJG3axGhayBGkAQAQcmXtWmrO+MHar1W+zvvdm3our1S68kpG00LOnHOZrsM+mdlQSUM7duw4dsaMGZmuTmRUV1erqKgo09VIiU9tSGddmutaQZabalmpnN/Uc336HUVBFO6nT21oSl02bqtV5cKtWrvZ6TsHblHvA9tKOTnNcq2myNa+ZciQIYudc/2TupgkOedC8+rRo4dDcObPn5/pKqTMpzaksy7Nda0gy021rFTOb+q5Pv2OoiAK99OnNjS1Lms/3epOvuUZ1/3H89zTb6xybs0a5yorE38GfK3Gyta+RdIil0Lcw+NOAAAipLgoXzPHDlLPDq007oFFevLOh0gkCCmCNAAAIqZtyzw9eOEg9T6gjS7e1EWP//zXUkVFIpGA5TlCgyANAIAIatMiVw+MGaSjurTVtzd11u9Xbk2MpjGqFhoEaQAARFRRfo7uu2CgBh1YrO/PeUVz+n+VBW9DhCANAIAIa5mXo2kVA/SF7qW67Mm39eAXzmbB25AgSAMAIOIKcuO6a1Q/nXDofvrJI0s0rc8pjKiFAEEaAABZoCA3rl+f208nH76/rnz6Xd058ExG1DxHkAYAQJbIy4np1pFHaWifTrruiaW69dCvfH5EraYm01VEPQRpAABkkdx4TLcM66szjz5AN/2zSjf1OU3u0boRtXXrMl091NP4vSIAAEAkxGOmG8/qo7x4TLc+vUzbB5ygyydXSsXFma4a6iFIAwAgC8VipmvPOEK58ZjufP5dbT/2VH0xvjqRRDBtWmLx25KSTFczqxGkAQCQpWIx01WnH668nJim/uNtvdM5R8ctnKbYxMsSX5gwIbMVzHLMSQMAIIuZmX7y1cP0v8cfrPkra3R5p+O0czLLc/iAIA0AgCxnZrrspJ46/eBczVmyRj/o8mXVPMryHJlGkAYAAGRmOqN7niac1FOPvPyBvlvyP9rBiFpGMScNAAD8x8VDDlF+TkxXP/6GdvQaolsf/YPymaOWEYykAQCAz7nwCwfpytMO159eX6WL2gzW1sk3JLI9165lVC2NCNIAAMB/Of+Ybrr2jCP013c2amzxF7SldbvE/DTmqaUNjzsBAMBujRzURXk5MV320CuqmP6Cpp5zngqlxKgamh0jaQAAYI/O6lemXwzrq4XvbND5jy7Xp9/+XuIDHns2O0bSAADAXp3e9wDlxWP69syXdO7UF3R/9fNqcznJBM2NkTQAALBPpxzRUb8+t5/e+OATjcw9Whuuv4nHns0sbUGamR1kZlPN7KF6x443s7+b2R1mdny66gIAAJruxF4ddNd5/fTv9Vs1Ir+/1ha0IuOzGTUqSDOze81stZktaXD8ZDN708yWmdnleyvDObfCOTem4WFJ1ZIKJFU1peIAACD9ju+5n6aNHqB31m3S8Lue1+qpD5Dx2UwaO5I2XdLJ9Q+YWVzSbZJOkdRL0ggz62VmR5jZ3Aav/fZQ7t+dc6dImijpyuSaAAAA0unYQ0p0X8VAfbhxi4bpSH143c2so9YMzDnXuC+adZM01znXu+79YEk/c86dVPf+Cklyzl23j3Iecs6d1eBYnqQZDY/XfTZO0jhJKi0t7TdnzpxG1Rf7Vl1draKiokxXIyU+tSGddWmuawVZbqplpXJ+U8/16XcUBVG4nz61wee+ZdmGnbpp8VYV5ZouG1Cg0k/XSFVVUlmZ1KFD0uUGWccgz2/quUOGDFnsnOuf1MUkyTnXqJekbpKW1Ht/lqR76r0fJWnKXs4vlnSHpOWSrqg7dqakOyXNlnT8vurQo0cPh+DMnz8/01VImU9tSGddmutaQZabalmpnN/Uc336HUVBFO6nT23wvW95+b0N7ohJf3THXPcX986/VzpXWencmjUpl7snYepbJC1yjYyzdvdKJXHAdhfz7SUYXOecu8g5d7CrG21zzj3snBvvnBvmnPtrCnUBAAAZ0KdzW80cV67N22t09pylWj76f6WSEh59BiCVIK1KUud678skfZBadQAAQNgc3qmNZo0brJ210rA7n9ebH33KFlIBSGVOWo6ktySdIOl9SQsljXTOvRZ4Jc2GShrasWPHsTNmzAi6+Kzl05yLZPnUBp/njWSi3DDNG/HpdxQFUbifPrUhTH3LB9W1qly4VTtrnSYcnasu2zdIbduqevNmFbVqJeWkvoZ+mPqWtMxJkzRT0oeSdigxgjam7vipSgRqyyX9OJXnro15MSctWD7NuUiWT23wfd5IussN07wRn35HURCF++lTG8LWt7y9ptoNvvbP7sifPeleWbnBucpKN//GGxNz1QIQpr5F6ZiT5pwb4Zzr6JzLdc6VOeem1h2f55zr4RLzzK5JOlIEAACR0K2kULPHD1arghydc/cCvXjSWYlsz9NOY45aE7EtFAAACFTn9i01Z/xgFRfladRDb+rN3BLpsccSc9TOP59ArZEI0gAAQOA6tW2hOeMHa/82Bbpp8Vb980tnSqeeKs2bRzJBIzU6cSCTSBxoHj5NjE2WT20I0+TedJQbpsm9Pv2OoiAK99OnNoS9b/l4m9P1CzZp7VbTd/rk6ghtkIqLk04iCFPfkrbFbH14kTgQLJ8mxibLpzaEbXJvc5cbpsm9Pv2OoiAK99OnNkShb3nsyafdKbc847r/aJ576rWPEgfXrNntwrf7Eqa+RRlczBYAAGCfWuWZZo4t12EdW+miBxfriVc/ZB21RiBIAwAAza5Ny1w9cOEg9encVpfMfEmPlg+VKivJ+tyL1FeVAwAAaITWBbm6/4KBumD6Ql06b7l2nDVCZz02MzGitmmTVFgoVVQktpUCiQPZzKeJscnyqQ1hn9wbdLlhmtzr0+8oCqJwP31qQxT7lm07nX714la9vq5Wow/L0XEFG6XaWumDDxJrqnXo0Gx1JHGAxIFQ8GlibLJ8akMUJveSOIAgROF++tSGqPYtW7bXuPPvXeC6Tpzr7nv27UYnEoSpbxGJAwAAIGwKcuO6c1Q/ndirg3766Gu6541PpAkTEh8yR00Sc9IAAECG5OfEdfs5R+t7s17W1Y+/oW01tbp40e8Tc9Skz4K2LMVIGgAAyJjceEy/HN5XX+/bSTc8+aZu6Xmi3GSyPiVG0gAAQIblxGO66ey+yonHdMuzVdp+/FBNePQx2cTsHlEjuzOL+ZS9lCyf2hDFDKxMlkV2Z3hF4X761IZs6ltqndP9r2/XX1fW6KQucQ1v/7GspDjx4bp1UnGxqrduDU3fQnYnkuZT9lKyfGpDVDOwMlUW2Z3hFYX76VMbsq1vqa2tdZMeXeK6Tpzr/u+RV93OnbWJrE/JucrKUPUtSjG7k8edAADAG2amSUN7KT8npjufWaHtNbW6dvToxCT6igppyZJMVzFtCNIAAIBXzEyXn3Ko8nJiuvXpZdqx06nyBz9UPGZSTU0ioSALdiYgSAMAAN4xM/3gKz2VG4/p5qfe0o6dtbr57D6JuWlZskQHQRoAAPDWd07orrycmK5/Yql27KzVN/Zr//mN2SM8okaQBgAAvHbRcQcrLx7TVXNf14elcX3h0u8r/xc3R35EjSU4sphPKebJ8qkN2ZQmn46yWIIjvKJwP31qA33LZ55+b4fuf327epfE9Z0j4srbuF5q21bauFEqLpZy9j32xBIcLMERCj6lmCfLpzZkW5p8c5fFEhzhFYX76VMb6Fs+78oH/uS6XT7XjbjrObdp247PLc/R3HVhCQ4AAIA9+GJZro44/DD9YM4rGn3vQt17znkqkhJz0yKGvTsBAEConHFUmX414igtfm+DzntkmT759vcSyQNr10Zqv0+CNAAAEDpfO7KTbj/naL36/sc6954F2rh5uzRtWiKZYNq0TFcvEARpAAAglE46fH/dOaqfln70qUbcvUDrhp37+eU5Qj6iRpAGAABC60uHdtA95/XXijXVGvG7t7T6om9Ljz0WiRE1gjQAABBqX+xRqmkVA7Ry/RYNv+t5fXTWOZEYUSNIAwAAoXfMwSW6f8xArf5km4Y99KbeH3tJ6EfUWMw2i/m0WGOyfGoDC04GWxaL2YZXFO6nT22gb2laWcs37tSNi7aqMNc08ehclW7+/IK31Vu3sphtc7xYzDZYPi3WmCyf2sCCk8GWxWK24RWF++lTG+hbml7Wq1UbXZ8rn3Tl1/7ZrVhT/bkFb8O0mC2POwEAQKT0PqCNZo4t1/aaWp1953Nadtrwz+aorVoVmjlqBGkAACByDuvYWrPGlUuShs1ZqqWjxifmqFVVhWaOGkEaAACIpO4dWmn2uHLlxmMaftfzWnLq2VJZWWiyPgnSAABAZB1UWqQ54werMC9HI3+7VMvzSz7L+pwyxetgjSANAABEWpfilpo9vlztCvN0w8KtWnjiWYk5apLXS3QQpAEAgMgra9dSs8cNVtsC0/kPv6lnz6yQLrnE60VvCdIAAEBW2L9Nga4Y2EJl7VqoYtpC/W29kyZM8HbRW4I0AACQNdrkm2aNG6yDS4s09r5F+ssbq6SKCi9H1AjSAABAVmlfmKcZYwfp0I6tdNGDi/XHj3Z4OaLGtlBZzKdtT5LlUxvYuiXYstgWKryicD99agN9S7Bl1T9/8w6nmxdv1YqPazXuyHyVl0pasybxxdJSKScnpWuzLRSS5tO2J8nyqQ1s3RJsWWwLFV5RuJ8+tYG+JdiyGp7/6dYd7pt3POsOvHyue2jRys+2kJo0KfH3NWuSvrbYFgoAACA5Rfk5uq9ioI45uEQ/fOgVzez3VW+W58jZ91cAAACiq0VeXPec318XPbhYV/zpbe04/Zs6r3uRVFj4WTJBRUXa68VIGgAAyHoFuXHdOaqfTuzVQT999DXd88YnGU8mYCQNAABAUn5OXLefc7S+N+tlXf34G9pWU6uLd42gVVRIS5aktT4EaQAAAHVy4zH9cnhf5eXEdMOTb2pbTXdd+sMfysykmprPHn2WlDR7XQjSAAAA6smJx3TjN/soN2761V/+re01tZp4ck9p3brEo08p8Si0uevR7FcAAAAImXjMdP2ZRyovJ6Y7/rZc22p26ovt2ycyPysqErsSTJvWrKNqBGkAAAC7EYuZfn56b+XGY5r2z3f0buccHfeDHyoWs8Rjz2YeVSNIAwAA2AMz00+/1kv5OXHd8bfluvzhf+m6M49UvH5CQTNhCQ4AAIC9MDNNPLmnTj84V3MWVekHc15WTbv2iRG0kpLEo89m2JidIA0AAGAfzExndM/ThJN66pGXP9B3Z72sHTtrEx9Om9Ysa6nxuBMAAKCRLh5yiPLiMV0z7w1t31mrKSOPUn4zPfpkJA0AAKAJxn7xIF11+uF66vVVGv/AYm1t0+6z5IEAH3sSpAEAADTReYO76bozj9Df3lqjC+9bpM3bawJ/7GnOuUAKak5mNlTS0I4dO46dMWNGpqsTGdXV1SoqKsp0NVLiUxvSWZfmulaQ5aZaVirnN/Vcn35HURCF++lTG+hbgi0r6L7lH+/v0NRXt6tHu5i+1ydHLT5eLxUXS5LOOfHEqved65x0ZZ1zoXn16NHDITjz58/PdBVS5lMb0lmX5rpWkOWmWlYq5zf1XJ9+R1EQhfvpUxvoW4Itqzn6lkdfft8ddMXj7ozb/uE+3rI9cbCy0vWTnEsh7uFxJwAAQApO69NJt408Sq++/7HOvWeBNm7eLlVU6EOpKpVyCdIAAABSdHLvjrrj3H5a+uGnGnn3Aq0raKUPpFWplEmQBgAAEIATDuugu8/vr+VrqjXi7udTLo8gDQAAICDH9SjVtNEDtHL9lpTLIkgDAAAI0DGHlOj+MQNTLocgDQAAIGADurVPuQyCNAAAAA8RpAEAAHiIIA0AAMBDBGkAAAAeIkgDAADwEEEaAACAhwjSAAAAPESQBgAA4CGCNAAAAA8RpAEAAHiIIA0AAMBDBGkAAAAeIkgDAADwEEEaAACAhwjSAAAAPESQBgAA4KGcdF3IzA6S9GNJbZxzZ9Udi0n6uaTWkhY55+5LV30AAAB81qiRNDO718xWm9mSBsdPNrM3zWyZmV2+tzKccyucc2MaHD5d0gGSdkiqakrFAQAAoqyxjzunSzq5/gEzi0u6TdIpknpJGmFmvczsCDOb2+C13x7K7SnpOefc9yX9b3JNAAAAiB5zzjXui2bdJM11zvWuez9Y0s+ccyfVvb9Ckpxz1+2jnIfqPe48V9J259wcM5vtnBu2m++PkzROkkpLS/vNmTOnsW3DPlRXV6uoqCjT1UiJT21IZ12a61pBlptqWamc39RzffodRUEU7qdPbaBvCbasdPYtQ4YMWeyc65/UxSTJOdeol6RukpbUe3+WpHvqvR8lacpezi+WdIek5ZKuqDvWUtJUSbdKunhfdejRo4dDcObPn5/pKqTMpzaksy7Nda0gy021rFTOb+q5Pv2OoiAK99OnNtC3BFtWOvsWJebbNzrWavhKJXHAdhfz7SUYXCfpogbHNktqOE8NAAAg66WyBEeVpM713pdJ+iC16gAAAEBKLUhbKKm7mR1oZnmShkt6LJhqAQAAZLdGJQ6Y2UxJx0sqkbRK0iTn3FQzO1XSLZLiku51zl3TLJU0GyppaMeOHcfOmDGjOS6RlXyaGJssn9rA5N5gyyJxILyicD99agN9S7BlRTJxwIcXiQPB8mlibLJ8agOTe4Mti8SB8IrC/fSpDfQtwZYVpsQBtoUCAADwEEEaAACAhxq9mG0mMSetefg05yJZPrWBeSPBlsWctPCKwv30qQ30LcGWxZw05qSFgk9zLpLlUxuYNxJsWcxJC68o3E+f2kDfEmxZzEkDAABASgjSAAAAPESQBgAA4CESB7KYTxNjk+VTG5jcG2xZJA6EVxTup09toG8JtiwSB0gcCAWfJsYmy6c2MLk32LJIHAivKNxPn9pA3xJsWSQOAAAAICUEaQAAAB4iSAMAAPAQQRoAAICHyO7MYj5lLyXLpzaQgRVsWWR3hlcU7qdPbaBvCbYssjvJ7gwFn7KXkuVTG8jACrYssjvDKwr306c20LcEWxbZnQAAAEgJQRoAAICHCNIAAAA8RJAGAADgIYI0AAAADxGkAQAAeIh10rKYT+sAJcunNrCWUbBlsU5aeEXhfvrUBvqWYMtinTTWSQsFn9YBSpZPbWAto2DLYp208IrC/fSpDfQtwZbFOmkAAABICUEaAACAhwjSAAAAPESQBgAA4CGCNAAAAA8RpAEAAHiIddKymE/rACXLpzawllGwZbFOWnhF4X761Ab6lmDLYp001kkLBZ/WAUqWT21gLaNgy2KdtPCKwv30qQ30LcGWxTppAAAASAlBGgAAgIcI0gAAADxEkAYAAOAhgjQAAAAPEaQBAAB4iCANAADAQwRpAAAAHiJIAwAA8BBBGgAAgIfYuzOL+bQ3XbJ8agP76wVbFnt3hlcU7qdPbaBvCbYs9u5k785Q8GlvumT51Ab21wu2LPbuDK8o3E+f2kDfEmxZ7N0JAACAlBCkAQAAeIggDQAAwEMEaQAAAB4iSAMAAPAQQRoAAICHCNIAAAA8RJAGAADgIYI0AAAADxGkAQAAeIggDQAAwEMEaQAAAB4iSAMAAPAQQRoAAICHzDmX6Trsk5kNlTS0Y8eOY2fMmJHp6kRGdXW1ioqKMl2NlPjUhnTWpbmuFWS5qZaVyvlNPden31EUROF++tQG+pZgy0pn3zJkyJDFzrn+SV1MkpxzoXn16NHDITjz58/PdBVS5lMb0lmX5rpWkOWmWlYq5zf1XJ9+R1EQhfvpUxvoW4ItK519i6RFLoW4h8edAAAAHiJIAwAA8BBBGgAAgIcI0gAAADxEkAYAAOAhgjQAAAAPEaQBAAB4iCANAADAQwRpAAAAHiJIAwAA8BBBGgAAgIcI0gAAADxEkAYAAOAhgjQAAAAPEaQBAAB4iCANAADAQwRpAAAAHiJIAwAA8BBBGgAAgIcI0gAAADxEkAYAAOAhgjQAAAAP5aTrQmZ2kKQfS2rjnDur7tgXJJ1TV49ezrlj0lUfAAAAnzVqJM3M7jWz1Wa2pMHxk83sTTNbZmaX760M59wK59yYBsf+7py7SNJcSfc1tfIAAABR1diRtOmSpki6f9cBM4tLuk3SiZKqJC00s8ckxSVd1+D8C5xzq/dS/khJFzayLgAAAJHXqCDNOfeMmXVrcHigpGXOuRWSZGazJJ3unLtO0tcaWwEz6yLpY+fcJ3v4fJykcXVvtzUczUNK2kj6ONOVSJFPbUhnXZrrWkGWm2pZqZzf1HNLJK1N8lr4bz79u0yWT22gbwm2rHT2LT2TvE6Cc65RL0ndJC2p9/4sSffUez9K0pS9nF8s6Q5JyyVdUe/4lZKOaWQdFjW2vrwadT/vynQdotSGdNalua4VZLmplpXK+U09l74l2JdP/y6j0Ab6lmDLClPfkkrigO3mmNvTl51z6yRdtJvjk1KoA1Lzh0xXIAA+tSGddWmuawVZbqplpXK+T7+LbBSF++9TG+hbgi0rNH2L1UV6+/5i4nHnXOdc77r3gyX9zDl3Ut37KyTJJR53NgszW+Sc699c5QPITvQtAJpDqn1LKuukLZTU3cwONLM8ScMlPZZCeY1xVzOXDyA70bcAaA4p9S2NGkkzs5mSjldicu0qSZOcc1PN7FRJtyiR0Xmvc+6aVCoDAACAhEY/7gQAAED6sC0UAACAhwjSAAAAPESQBgAA4KFQB2lmdpiZ3WFmD5nZ/2a6PgCiw8wKzWyxmTV6BxUA2BszO97M/l4Xuxy/r+97F6Q1ZTN359wbLrFB+9mSWOMIwB41pW+pM1HSnPTWEkDYNLFvcZKqJRUose/5XnkXpCmxmfvJ9Q/U28z9FEm9JI0ws151n50m6R+S/pLeagIImelqZN9iZl+W9LoSSw4BwN5MV+Pjlr87505R4j8Cr9xXwd4Fac65ZyStb3D4P5u5O+e2S5ol6fS67z/mnDtG0jnprSmAMGli3zJEUrmkkZLGmpl3fSUAPzSlb3HO1dZ9vkFS/r7KTmXvznQ6QNLKeu+rJA2qe557phINnZf+agEIud32Lc65SyTJzEZLWluvYwWAxthT3HKmpJMktZU0ZV+FhCVI2+1m7s65v0r6a3qrAiBCdtu3/Ocvzk1PX1UARMie4paHJT3c2ELCMoRfJalzvfdlkj7IUF0ARAd9C4DmEEjfEpYgLRObuQOIPvoWAM0hkL7FuyCtbjP35yT1NLMqMxvjnKuRdImkJyW9IWmOc+61TNYTQLjQtwBoDs3Zt7DBOgAAgIe8G0kDAAAAQRoAAICXCNIAAAA8RJAGAADgIYI0AAAADxGkAQAAeIggDUAkmFkLM/ubmcUDKi/HzB43s7Vm1nsf373XzFab2ZIGx280sy8FUR8A2YcgDUBUXCDpYefczoDK+7WkNyWdLmm2mZXt5bvTJZ28m+O3Sro8oPoAyDIEaQC8ZmYDzOxfZlZgZoVm9toeRrbOkfRovfMuM7NXzewVM7u+7thfzewXZvaMmb1RV/bDZvZvM7u63rmTJH3snPu+c+6fki6UNNPM2uyujs65ZySt383xdyUVm9n+Kd0EAFkpJ9MVAIC9cc4tNLPHJF0tqYWkB51zDR8r5kk6yDn3Tt37UyR9XdIg59xmM2tf7+vbnXNfNLPvKhHU9VMiwFpuZr9wzq1zzl3ZoA7PSfpCkk14UdKxkn6X5PkAshRBGoAwuEqJDYu3SvrObj4vkbSx3vsvS5rmnNssSc65+qNcuzY5flXSa865DyXJzFZI6ixpXaA1l1ZL6hRwmQCyAI87AYRBe0lFklpJKtjN51saHDdJe9qYeFvdn7X1/r7r/T7/w9XMOpvZy3Wvi/b1/bp6bWnE9wDgcwjSAITBXZL+T9JvJE1u+KFzboOkuJntCtT+JOkCM2spSQ0ed6bEObfSOde37nVHI07pIWnJPr8FAA0QpAHwmpmdJ6nGOTdD0vWSBuxhWYs/SfofSXLO/VGJx5qLzOxlST9s5jrOlPScpJ5mVmVmY+qO50o6RNKi5rw+gGgy5/b0RAAAwsPMjpL0fefcqEzXZRczO0PS0c65/8t0XQCEDyNpACLBOfeSpPlBLWYbkBxJN2W6EgDCiZE0AAAADzGSBgAA4CGCNAAAAA8RpAEAAHiIIA0AAMBDBGkAAAAe+n8Qx7fc+lspIAAAAABJRU5ErkJggg==\n",
          "text/plain": "<Figure size 720x720 with 1 Axes>"
         },
         "metadata": {
          "needs_background": "light"
         },
         "output_type": "display_data"
        }
       ]
      }
     },
     "6cbfd16b7b3540d6a6d94095e3fc3ea7": {
      "model_module": "@jupyter-widgets/controls",
      "model_module_version": "1.5.0",
      "model_name": "IntSliderModel",
      "state": {
       "description": "x2",
       "layout": "IPY_MODEL_f2112f596b304ed88becefb6e947a447",
       "max": 10,
       "min": -5,
       "style": "IPY_MODEL_d8d9c814ed434783b99115b98f34e9be",
       "value": 2
      }
     },
     "6de0af5f70174fc98250c13ea83c7a15": {
      "model_module": "@jupyter-widgets/base",
      "model_module_version": "1.2.0",
      "model_name": "LayoutModel",
      "state": {}
     },
     "6f35348a32b0455eaf5a26078fc4f08d": {
      "model_module": "@jupyter-widgets/controls",
      "model_module_version": "1.5.0",
      "model_name": "SliderStyleModel",
      "state": {
       "description_width": ""
      }
     },
     "6fe223c359db4ccdac3f3ad736be05ab": {
      "model_module": "@jupyter-widgets/controls",
      "model_module_version": "1.5.0",
      "model_name": "SliderStyleModel",
      "state": {
       "description_width": ""
      }
     },
     "71e55709a70448a18bf23fd0aef56c26": {
      "model_module": "@jupyter-widgets/base",
      "model_module_version": "1.2.0",
      "model_name": "LayoutModel",
      "state": {}
     },
     "7309d937050e4e72aff18fa18b6d8209": {
      "model_module": "@jupyter-widgets/base",
      "model_module_version": "1.2.0",
      "model_name": "LayoutModel",
      "state": {}
     },
     "73458e57d7634c92884892545ce99439": {
      "model_module": "@jupyter-widgets/controls",
      "model_module_version": "1.5.0",
      "model_name": "SliderStyleModel",
      "state": {
       "description_width": ""
      }
     },
     "7485a8a3f1a34992be867344fc0e338b": {
      "model_module": "@jupyter-widgets/controls",
      "model_module_version": "1.5.0",
      "model_name": "IntSliderModel",
      "state": {
       "description": "Z",
       "layout": "IPY_MODEL_9147430305d24664b8a2bbc2769eba69",
       "max": 20,
       "min": 1,
       "style": "IPY_MODEL_6f35348a32b0455eaf5a26078fc4f08d",
       "value": 10
      }
     },
     "77766548058642fbadd9a82ec167c31b": {
      "model_module": "@jupyter-widgets/base",
      "model_module_version": "1.2.0",
      "model_name": "LayoutModel",
      "state": {}
     },
     "787a6042616a4f759ddff99e75303ee1": {
      "model_module": "@jupyter-widgets/controls",
      "model_module_version": "1.5.0",
      "model_name": "VBoxModel",
      "state": {
       "_dom_classes": [
        "widget-interact"
       ],
       "children": [
        "IPY_MODEL_86616a516ac84d4e94d57172e3988879",
        "IPY_MODEL_c7de3e1ea6dd440ab43e48ba40ec27d3",
        "IPY_MODEL_0b44e4bd5e694aff810dad71b0cb81af",
        "IPY_MODEL_11eca9aaf1734666971724d8042e57e3",
        "IPY_MODEL_54fb09366a834e94a06a7e498f9b1cb2",
        "IPY_MODEL_027b39d71b7340a6ab80912a76e0cce9"
       ],
       "layout": "IPY_MODEL_30571da147ea417889001bf1baee1892"
      }
     },
     "79826ae1e6644dc78e0194a8418e5e9a": {
      "model_module": "@jupyter-widgets/controls",
      "model_module_version": "1.5.0",
      "model_name": "IntSliderModel",
      "state": {
       "description": "x2",
       "layout": "IPY_MODEL_0fc6171f718849b8a518443f887c8e4e",
       "max": 10,
       "min": -5,
       "style": "IPY_MODEL_95c7e1e4e5024d0281584e70d80d223a",
       "value": 10
      }
     },
     "79cfa0198e734570a730f1bc89795951": {
      "model_module": "@jupyter-widgets/controls",
      "model_module_version": "1.5.0",
      "model_name": "SliderStyleModel",
      "state": {
       "description_width": ""
      }
     },
     "7a26fc2e78f2447ebbad4b99c7b65bcf": {
      "model_module": "@jupyter-widgets/base",
      "model_module_version": "1.2.0",
      "model_name": "LayoutModel",
      "state": {}
     },
     "7a437f90b58a463db1279c5c8a800d3c": {
      "model_module": "@jupyter-widgets/controls",
      "model_module_version": "1.5.0",
      "model_name": "SliderStyleModel",
      "state": {
       "description_width": ""
      }
     },
     "7c3585171d5649bdab551730b75c5ea3": {
      "model_module": "@jupyter-widgets/output",
      "model_module_version": "1.0.0",
      "model_name": "OutputModel",
      "state": {
       "layout": "IPY_MODEL_71e55709a70448a18bf23fd0aef56c26",
       "outputs": [
        {
         "data": {
          "image/png": "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\n",
          "text/plain": "<Figure size 720x720 with 1 Axes>"
         },
         "metadata": {
          "needs_background": "light"
         },
         "output_type": "display_data"
        }
       ]
      }
     },
     "802ceeed63bb4eaab472c11c0e4fda43": {
      "model_module": "@jupyter-widgets/base",
      "model_module_version": "1.2.0",
      "model_name": "LayoutModel",
      "state": {}
     },
     "84b2865b56db4eb4a05e8a6af6bbc91a": {
      "model_module": "@jupyter-widgets/base",
      "model_module_version": "1.2.0",
      "model_name": "LayoutModel",
      "state": {}
     },
     "86616a516ac84d4e94d57172e3988879": {
      "model_module": "@jupyter-widgets/controls",
      "model_module_version": "1.5.0",
      "model_name": "IntSliderModel",
      "state": {
       "description": "Z",
       "layout": "IPY_MODEL_3906d4d2813249d6a55cc0240ea82e65",
       "max": 20,
       "min": 1,
       "style": "IPY_MODEL_9b113739a2cd4f5dac1bc6775e659109",
       "value": 10
      }
     },
     "86af1d68cb77482199f635f750e630c5": {
      "model_module": "@jupyter-widgets/base",
      "model_module_version": "1.2.0",
      "model_name": "LayoutModel",
      "state": {}
     },
     "86d4a95226ab4bf0b075233a184750ff": {
      "model_module": "@jupyter-widgets/base",
      "model_module_version": "1.2.0",
      "model_name": "LayoutModel",
      "state": {}
     },
     "87f51edc2dc7450dbbf7739d4db93daa": {
      "model_module": "@jupyter-widgets/base",
      "model_module_version": "1.2.0",
      "model_name": "LayoutModel",
      "state": {}
     },
     "889163c884d34694bac7fa79ab6e7c91": {
      "model_module": "@jupyter-widgets/controls",
      "model_module_version": "1.5.0",
      "model_name": "SliderStyleModel",
      "state": {
       "description_width": ""
      }
     },
     "898d230b6a8c4b6e9cf25c00fa3154cb": {
      "model_module": "@jupyter-widgets/controls",
      "model_module_version": "1.5.0",
      "model_name": "SliderStyleModel",
      "state": {
       "description_width": ""
      }
     },
     "89fc95bbdab64c5292e8040ac411ccd4": {
      "model_module": "@jupyter-widgets/base",
      "model_module_version": "1.2.0",
      "model_name": "LayoutModel",
      "state": {}
     },
     "8a96c7c7d83d4198ba48a028ba02f19c": {
      "model_module": "@jupyter-widgets/controls",
      "model_module_version": "1.5.0",
      "model_name": "IntSliderModel",
      "state": {
       "description": "x1",
       "layout": "IPY_MODEL_e84eae3f45e24050a2c1123de907f160",
       "max": 10,
       "min": -5,
       "style": "IPY_MODEL_07f68a46dad84a859bc4ad3f4e1f24ed",
       "value": -5
      }
     },
     "8b276c58d10a425091996a10bf9def3c": {
      "model_module": "@jupyter-widgets/base",
      "model_module_version": "1.2.0",
      "model_name": "LayoutModel",
      "state": {}
     },
     "8b7156b04ca8422096bed7a09532fdee": {
      "model_module": "@jupyter-widgets/base",
      "model_module_version": "1.2.0",
      "model_name": "LayoutModel",
      "state": {}
     },
     "8b849e4d38ec4d319fdb7c4127cb2816": {
      "model_module": "@jupyter-widgets/base",
      "model_module_version": "1.2.0",
      "model_name": "LayoutModel",
      "state": {}
     },
     "8beadccd881645fdbd863b0f2481dd61": {
      "model_module": "@jupyter-widgets/base",
      "model_module_version": "1.2.0",
      "model_name": "LayoutModel",
      "state": {}
     },
     "8d7ec51cdba848fe89bf9f9bc34c8b73": {
      "model_module": "@jupyter-widgets/base",
      "model_module_version": "1.2.0",
      "model_name": "LayoutModel",
      "state": {}
     },
     "8fc25f25640349b2a3f9938eb01c5192": {
      "model_module": "@jupyter-widgets/base",
      "model_module_version": "1.2.0",
      "model_name": "LayoutModel",
      "state": {}
     },
     "8fe0cb4e51704cb1804b9d651a481987": {
      "model_module": "@jupyter-widgets/controls",
      "model_module_version": "1.5.0",
      "model_name": "SliderStyleModel",
      "state": {
       "description_width": ""
      }
     },
     "9147430305d24664b8a2bbc2769eba69": {
      "model_module": "@jupyter-widgets/base",
      "model_module_version": "1.2.0",
      "model_name": "LayoutModel",
      "state": {}
     },
     "91b4d4af0cd74b3bbd1a0f1208d130a9": {
      "model_module": "@jupyter-widgets/base",
      "model_module_version": "1.2.0",
      "model_name": "LayoutModel",
      "state": {}
     },
     "927c0b4548cc4358a56b3c41281af4ad": {
      "model_module": "@jupyter-widgets/base",
      "model_module_version": "1.2.0",
      "model_name": "LayoutModel",
      "state": {}
     },
     "941fbd0a533b48378cb33190a5a5ee37": {
      "model_module": "@jupyter-widgets/base",
      "model_module_version": "1.2.0",
      "model_name": "LayoutModel",
      "state": {}
     },
     "9428531de6a247b28622e0d504989964": {
      "model_module": "@jupyter-widgets/base",
      "model_module_version": "1.2.0",
      "model_name": "LayoutModel",
      "state": {}
     },
     "9486f6e58693403f8c9a70026e0068e8": {
      "model_module": "@jupyter-widgets/controls",
      "model_module_version": "1.5.0",
      "model_name": "IntSliderModel",
      "state": {
       "description": "y2",
       "layout": "IPY_MODEL_50f252e644774d7cb6102f3699bd21ec",
       "max": 1,
       "min": -30,
       "style": "IPY_MODEL_3da40775a8684dda8e83e04e377f04a8",
       "value": 1
      }
     },
     "95c7e1e4e5024d0281584e70d80d223a": {
      "model_module": "@jupyter-widgets/controls",
      "model_module_version": "1.5.0",
      "model_name": "SliderStyleModel",
      "state": {
       "description_width": ""
      }
     },
     "95ea01408aa7411a93a8e4114cff674c": {
      "model_module": "@jupyter-widgets/base",
      "model_module_version": "1.2.0",
      "model_name": "LayoutModel",
      "state": {}
     },
     "96b0f88d03c8431ba9c3af675ac0aa39": {
      "model_module": "@jupyter-widgets/controls",
      "model_module_version": "1.5.0",
      "model_name": "IntSliderModel",
      "state": {
       "description": "Z",
       "layout": "IPY_MODEL_1789105642a0449cadcbe069319c24f1",
       "max": 21,
       "min": 1,
       "style": "IPY_MODEL_596e45b61604496c9b91aef5691f19f8",
       "value": 6
      }
     },
     "9885be12f96646bf95c87b898078f191": {
      "model_module": "@jupyter-widgets/controls",
      "model_module_version": "1.5.0",
      "model_name": "VBoxModel",
      "state": {
       "_dom_classes": [
        "widget-interact"
       ],
       "children": [
        "IPY_MODEL_088fe2e4f5224a34bcd7e611dd1f6834",
        "IPY_MODEL_b7e76a3c8722429598efe1512122dc94",
        "IPY_MODEL_e289108f2b154e57b07886b20b2f32f4",
        "IPY_MODEL_1944b6e473c045c090df7edc1c2e3ffb",
        "IPY_MODEL_a10f1669d3854d30926dfe1658314f16",
        "IPY_MODEL_7c3585171d5649bdab551730b75c5ea3"
       ],
       "layout": "IPY_MODEL_ddbc1ecb9546466c9d2836ad4a4a677e"
      }
     },
     "99cf3bdbad22446398fd963ff003f0a3": {
      "model_module": "@jupyter-widgets/controls",
      "model_module_version": "1.5.0",
      "model_name": "IntSliderModel",
      "state": {
       "description": "x1",
       "layout": "IPY_MODEL_2a76c624c2424f029b8dfe9012ec0f2b",
       "max": 10,
       "min": -5,
       "style": "IPY_MODEL_69df0c75426b4602ad89b56b19c91862",
       "value": -5
      }
     },
     "9a3e13a7192e45679e605e2a5bf08956": {
      "model_module": "@jupyter-widgets/base",
      "model_module_version": "1.2.0",
      "model_name": "LayoutModel",
      "state": {}
     },
     "9b113739a2cd4f5dac1bc6775e659109": {
      "model_module": "@jupyter-widgets/controls",
      "model_module_version": "1.5.0",
      "model_name": "SliderStyleModel",
      "state": {
       "description_width": ""
      }
     },
     "a10f1669d3854d30926dfe1658314f16": {
      "model_module": "@jupyter-widgets/controls",
      "model_module_version": "1.5.0",
      "model_name": "IntSliderModel",
      "state": {
       "description": "y2",
       "layout": "IPY_MODEL_c5a78e66756d4c629023bfb4cc24cbe4",
       "max": 1,
       "min": -30,
       "style": "IPY_MODEL_62b87148e7ba42b6b739cee556591bce",
       "value": 1
      }
     },
     "a2d350b9dc0c42a2a7e3584324a4c12a": {
      "model_module": "@jupyter-widgets/base",
      "model_module_version": "1.2.0",
      "model_name": "LayoutModel",
      "state": {}
     },
     "a394629571eb48a7bb0690f3d65c9e36": {
      "model_module": "@jupyter-widgets/controls",
      "model_module_version": "1.5.0",
      "model_name": "SliderStyleModel",
      "state": {
       "description_width": ""
      }
     },
     "a3bf5f119b8d4f9aaea523480502e3c5": {
      "model_module": "@jupyter-widgets/controls",
      "model_module_version": "1.5.0",
      "model_name": "IntSliderModel",
      "state": {
       "description": "y1",
       "layout": "IPY_MODEL_ba2801d230ee4170b6f11e589b7b11b3",
       "max": 1,
       "min": -30,
       "style": "IPY_MODEL_6fe223c359db4ccdac3f3ad736be05ab",
       "value": -30
      }
     },
     "a6204041645b479c899badd63be3a8c2": {
      "model_module": "@jupyter-widgets/output",
      "model_module_version": "1.0.0",
      "model_name": "OutputModel",
      "state": {
       "layout": "IPY_MODEL_8b7156b04ca8422096bed7a09532fdee",
       "outputs": [
        {
         "data": {
          "image/png": "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\n",
          "text/plain": "<Figure size 720x720 with 1 Axes>"
         },
         "metadata": {
          "needs_background": "light"
         },
         "output_type": "display_data"
        }
       ]
      }
     },
     "a6ee831c563641aba10284f257974a9c": {
      "model_module": "@jupyter-widgets/controls",
      "model_module_version": "1.5.0",
      "model_name": "SliderStyleModel",
      "state": {
       "description_width": ""
      }
     },
     "a7669429372941108735c53cb588f67c": {
      "model_module": "@jupyter-widgets/base",
      "model_module_version": "1.2.0",
      "model_name": "LayoutModel",
      "state": {}
     },
     "a93b0268860a4933bef26f5e496e9703": {
      "model_module": "@jupyter-widgets/controls",
      "model_module_version": "1.5.0",
      "model_name": "SliderStyleModel",
      "state": {
       "description_width": ""
      }
     },
     "a9c2144e84e64c0cb1037d323eaa3a08": {
      "model_module": "@jupyter-widgets/base",
      "model_module_version": "1.2.0",
      "model_name": "LayoutModel",
      "state": {}
     },
     "add64a57a2b8479a896b32ca11d391ce": {
      "model_module": "@jupyter-widgets/controls",
      "model_module_version": "1.5.0",
      "model_name": "SliderStyleModel",
      "state": {
       "description_width": ""
      }
     },
     "aea3531058454f5aa8b7e9a8a9a1ef67": {
      "model_module": "@jupyter-widgets/controls",
      "model_module_version": "1.5.0",
      "model_name": "SliderStyleModel",
      "state": {
       "description_width": ""
      }
     },
     "af247caf3d654fd2ad3f6c4647260bd1": {
      "model_module": "@jupyter-widgets/controls",
      "model_module_version": "1.5.0",
      "model_name": "SliderStyleModel",
      "state": {
       "description_width": ""
      }
     },
     "af569eea639b45e4810cf0ed9b3f9a79": {
      "model_module": "@jupyter-widgets/controls",
      "model_module_version": "1.5.0",
      "model_name": "SliderStyleModel",
      "state": {
       "description_width": ""
      }
     },
     "af62e297abf445f79ee2f1855a949b44": {
      "model_module": "@jupyter-widgets/controls",
      "model_module_version": "1.5.0",
      "model_name": "VBoxModel",
      "state": {
       "_dom_classes": [
        "widget-interact"
       ],
       "children": [
        "IPY_MODEL_96b0f88d03c8431ba9c3af675ac0aa39",
        "IPY_MODEL_17bc630276b844a0a35965c0abdfd260"
       ],
       "layout": "IPY_MODEL_ee832eeb377b46ecb13a6e3789f57947"
      }
     },
     "b0faaa5ff9984bf38ece6edaa02c7eff": {
      "model_module": "@jupyter-widgets/controls",
      "model_module_version": "1.5.0",
      "model_name": "SliderStyleModel",
      "state": {
       "description_width": ""
      }
     },
     "b1eebb3ff7aa434b99a326ca82376515": {
      "model_module": "@jupyter-widgets/controls",
      "model_module_version": "1.5.0",
      "model_name": "VBoxModel",
      "state": {
       "_dom_classes": [
        "widget-interact"
       ],
       "children": [
        "IPY_MODEL_b510b9b7211f402eb4fd9abd05f2b6a3",
        "IPY_MODEL_6adab2995e97453686116fa77236f409"
       ],
       "layout": "IPY_MODEL_a9c2144e84e64c0cb1037d323eaa3a08"
      }
     },
     "b2bc6c02ecc148b2b70b23d853f623d5": {
      "model_module": "@jupyter-widgets/controls",
      "model_module_version": "1.5.0",
      "model_name": "IntSliderModel",
      "state": {
       "description": "Z",
       "layout": "IPY_MODEL_2ff4d6aa31ae41b09f07752d37bc1802",
       "max": 20,
       "min": 1,
       "style": "IPY_MODEL_898d230b6a8c4b6e9cf25c00fa3154cb",
       "value": 10
      }
     },
     "b3cb9273efb5496892db0e22139c8937": {
      "model_module": "@jupyter-widgets/controls",
      "model_module_version": "1.5.0",
      "model_name": "SliderStyleModel",
      "state": {
       "description_width": ""
      }
     },
     "b4600aba9d3b4254bd01208303dc67c9": {
      "model_module": "@jupyter-widgets/base",
      "model_module_version": "1.2.0",
      "model_name": "LayoutModel",
      "state": {}
     },
     "b4636f73598a446cbd9969fe82a52ed2": {
      "model_module": "@jupyter-widgets/controls",
      "model_module_version": "1.5.0",
      "model_name": "IntSliderModel",
      "state": {
       "description": "Z",
       "layout": "IPY_MODEL_f5128cb047004e3d83beaa2e25ea0902",
       "max": 20,
       "min": 1,
       "style": "IPY_MODEL_a394629571eb48a7bb0690f3d65c9e36",
       "value": 20
      }
     },
     "b50b923ae869429b99133275afc659f1": {
      "model_module": "@jupyter-widgets/controls",
      "model_module_version": "1.5.0",
      "model_name": "SliderStyleModel",
      "state": {
       "description_width": ""
      }
     },
     "b510b9b7211f402eb4fd9abd05f2b6a3": {
      "model_module": "@jupyter-widgets/controls",
      "model_module_version": "1.5.0",
      "model_name": "IntSliderModel",
      "state": {
       "description": "Z",
       "layout": "IPY_MODEL_8b849e4d38ec4d319fdb7c4127cb2816",
       "max": 21,
       "min": 1,
       "style": "IPY_MODEL_73458e57d7634c92884892545ce99439",
       "value": 1
      }
     },
     "b6dfda7e331842608e02f6b1f87ec7ed": {
      "model_module": "@jupyter-widgets/base",
      "model_module_version": "1.2.0",
      "model_name": "LayoutModel",
      "state": {}
     },
     "b7e76a3c8722429598efe1512122dc94": {
      "model_module": "@jupyter-widgets/controls",
      "model_module_version": "1.5.0",
      "model_name": "IntSliderModel",
      "state": {
       "description": "x1",
       "layout": "IPY_MODEL_263c1a59fee14d2994f60b23565adbe5",
       "max": 10,
       "min": -5,
       "style": "IPY_MODEL_49f264dedf0242c2bf7f8ed7dc03763f",
       "value": -5
      }
     },
     "b9a5e67154c148f08e5bf0a06bd8cb55": {
      "model_module": "@jupyter-widgets/controls",
      "model_module_version": "1.5.0",
      "model_name": "SliderStyleModel",
      "state": {
       "description_width": ""
      }
     },
     "ba240848279847e0b72bfd725733a471": {
      "model_module": "@jupyter-widgets/output",
      "model_module_version": "1.0.0",
      "model_name": "OutputModel",
      "state": {
       "layout": "IPY_MODEL_d582b8b2b3f34cb0bc987a59f0c50293",
       "outputs": [
        {
         "data": {
          "image/png": "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\n",
          "text/plain": "<Figure size 720x720 with 1 Axes>"
         },
         "metadata": {
          "needs_background": "light"
         },
         "output_type": "display_data"
        }
       ]
      }
     },
     "ba2801d230ee4170b6f11e589b7b11b3": {
      "model_module": "@jupyter-widgets/base",
      "model_module_version": "1.2.0",
      "model_name": "LayoutModel",
      "state": {}
     },
     "bba6392f5450437f916403f6635b2e56": {
      "model_module": "@jupyter-widgets/base",
      "model_module_version": "1.2.0",
      "model_name": "LayoutModel",
      "state": {}
     },
     "bcfbc21b47b44526813b1ca8d8fb8a21": {
      "model_module": "@jupyter-widgets/controls",
      "model_module_version": "1.5.0",
      "model_name": "VBoxModel",
      "state": {
       "_dom_classes": [
        "widget-interact"
       ],
       "children": [
        "IPY_MODEL_2a113460df4f41c09e4c66550095d001",
        "IPY_MODEL_13b2c9ab21b64454b0a46d00309237d0",
        "IPY_MODEL_6cbfd16b7b3540d6a6d94095e3fc3ea7",
        "IPY_MODEL_db542944757d48eb8d83eac352011cdd",
        "IPY_MODEL_31d1bb5dde5549a2acf2a68d6a8aa2e0",
        "IPY_MODEL_ba240848279847e0b72bfd725733a471"
       ],
       "layout": "IPY_MODEL_da201b6c63ef42958ce0b9699ebf5e29"
      }
     },
     "bee172c217a3419f997ce85807fba041": {
      "model_module": "@jupyter-widgets/output",
      "model_module_version": "1.0.0",
      "model_name": "OutputModel",
      "state": {
       "layout": "IPY_MODEL_55a7bc25ca2e41afa1aea4517fd93f9b",
       "outputs": [
        {
         "data": {
          "image/png": "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\n",
          "text/plain": "<Figure size 720x720 with 1 Axes>"
         },
         "metadata": {
          "needs_background": "light"
         },
         "output_type": "display_data"
        }
       ]
      }
     },
     "bef9b65c67f646158ff21cba3e3f9f19": {
      "model_module": "@jupyter-widgets/controls",
      "model_module_version": "1.5.0",
      "model_name": "SliderStyleModel",
      "state": {
       "description_width": ""
      }
     },
     "bf8df68164ce47f7971c4717c8d79ac7": {
      "model_module": "@jupyter-widgets/controls",
      "model_module_version": "1.5.0",
      "model_name": "IntSliderModel",
      "state": {
       "description": "Z",
       "layout": "IPY_MODEL_13c1b4cd34df45abb0b2c5839bf566d1",
       "max": 20,
       "min": 1,
       "style": "IPY_MODEL_7a437f90b58a463db1279c5c8a800d3c",
       "value": 17
      }
     },
     "c3cbf9900b67418fa19fcb6b3678cdca": {
      "model_module": "@jupyter-widgets/controls",
      "model_module_version": "1.5.0",
      "model_name": "IntSliderModel",
      "state": {
       "description": "Z",
       "layout": "IPY_MODEL_1165a88f2e194b6ebd520406913c2e9b",
       "max": 50,
       "min": 1,
       "style": "IPY_MODEL_aea3531058454f5aa8b7e9a8a9a1ef67",
       "value": 25
      }
     },
     "c44940eeb7ad471a8f1bbce6a7ddba7d": {
      "model_module": "@jupyter-widgets/base",
      "model_module_version": "1.2.0",
      "model_name": "LayoutModel",
      "state": {}
     },
     "c592c58d5c1d43d3adfda01696fc5479": {
      "model_module": "@jupyter-widgets/base",
      "model_module_version": "1.2.0",
      "model_name": "LayoutModel",
      "state": {}
     },
     "c5a78e66756d4c629023bfb4cc24cbe4": {
      "model_module": "@jupyter-widgets/base",
      "model_module_version": "1.2.0",
      "model_name": "LayoutModel",
      "state": {}
     },
     "c6f08875243c4129ae5e56a8c5890bb3": {
      "model_module": "@jupyter-widgets/controls",
      "model_module_version": "1.5.0",
      "model_name": "IntSliderModel",
      "state": {
       "description": "Z",
       "layout": "IPY_MODEL_5e6b7be8607d456cbf82a6e1e2250af7",
       "max": 26,
       "min": 1,
       "style": "IPY_MODEL_ddd2420598cb4b748664e892ba4085b1",
       "value": 21
      }
     },
     "c7de3e1ea6dd440ab43e48ba40ec27d3": {
      "model_module": "@jupyter-widgets/controls",
      "model_module_version": "1.5.0",
      "model_name": "IntSliderModel",
      "state": {
       "description": "x1",
       "layout": "IPY_MODEL_1bc2840daa7f44078cfc501f9351c128",
       "max": 10,
       "min": -5,
       "style": "IPY_MODEL_29e7b8edbe594e8fa37ca2c2a429e2c1",
       "value": -5
      }
     },
     "c9373e56d80a4142a225911b90bd5d8a": {
      "model_module": "@jupyter-widgets/controls",
      "model_module_version": "1.5.0",
      "model_name": "SliderStyleModel",
      "state": {
       "description_width": ""
      }
     },
     "caf9b8e2e24a4bc38abe20ca79e2e649": {
      "model_module": "@jupyter-widgets/output",
      "model_module_version": "1.0.0",
      "model_name": "OutputModel",
      "state": {
       "layout": "IPY_MODEL_67c0cfd092f049789fffb2bbbb2eeaec",
       "outputs": [
        {
         "data": {
          "image/png": "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\n",
          "text/plain": "<Figure size 720x720 with 1 Axes>"
         },
         "metadata": {
          "needs_background": "light"
         },
         "output_type": "display_data"
        }
       ]
      }
     },
     "cb22064224fb402fb1b7886f66f89485": {
      "model_module": "@jupyter-widgets/controls",
      "model_module_version": "1.5.0",
      "model_name": "SliderStyleModel",
      "state": {
       "description_width": ""
      }
     },
     "ce5e331cb0c845e0b83d272f62df1986": {
      "model_module": "@jupyter-widgets/base",
      "model_module_version": "1.2.0",
      "model_name": "LayoutModel",
      "state": {}
     },
     "cfd0981381764a57b4a31cc8d67c7fee": {
      "model_module": "@jupyter-widgets/base",
      "model_module_version": "1.2.0",
      "model_name": "LayoutModel",
      "state": {}
     },
     "d169ae46f7234cfa9be75122819f28d6": {
      "model_module": "@jupyter-widgets/controls",
      "model_module_version": "1.5.0",
      "model_name": "IntSliderModel",
      "state": {
       "description": "y1",
       "layout": "IPY_MODEL_117bb4c1d871440faec331d4fe52588d",
       "max": 1,
       "min": -15,
       "style": "IPY_MODEL_0f8fdc634afc417894e0178d8b49fd56",
       "value": -15
      }
     },
     "d186dfd24688413a9e6fdd5e271d2416": {
      "model_module": "@jupyter-widgets/controls",
      "model_module_version": "1.5.0",
      "model_name": "IntSliderModel",
      "state": {
       "description": "Z",
       "layout": "IPY_MODEL_0113daf86fcc4c0fb6819a553f2a7a3b",
       "max": 21,
       "min": 1,
       "style": "IPY_MODEL_b50b923ae869429b99133275afc659f1",
       "value": 11
      }
     },
     "d2f0a694cdaa42a6b4d6a2f2a37a6e73": {
      "model_module": "@jupyter-widgets/controls",
      "model_module_version": "1.5.0",
      "model_name": "IntSliderModel",
      "state": {
       "description": "y2",
       "layout": "IPY_MODEL_86d4a95226ab4bf0b075233a184750ff",
       "max": 1,
       "min": -15,
       "style": "IPY_MODEL_c9373e56d80a4142a225911b90bd5d8a",
       "value": 1
      }
     },
     "d420be53094e4bf791626c64a15d4cbf": {
      "model_module": "@jupyter-widgets/controls",
      "model_module_version": "1.5.0",
      "model_name": "SliderStyleModel",
      "state": {
       "description_width": ""
      }
     },
     "d42b8961a03e4350a4952d8edc4ce871": {
      "model_module": "@jupyter-widgets/controls",
      "model_module_version": "1.5.0",
      "model_name": "VBoxModel",
      "state": {
       "_dom_classes": [
        "widget-interact"
       ],
       "children": [
        "IPY_MODEL_7485a8a3f1a34992be867344fc0e338b",
        "IPY_MODEL_8a96c7c7d83d4198ba48a028ba02f19c",
        "IPY_MODEL_e1cb48e51db1438282a368f0b100452c",
        "IPY_MODEL_fdf31007f5a947429bad9c90a18730cb",
        "IPY_MODEL_d2f0a694cdaa42a6b4d6a2f2a37a6e73",
        "IPY_MODEL_144423b5e48d48a88014cdd9aca7c12d"
       ],
       "layout": "IPY_MODEL_9a3e13a7192e45679e605e2a5bf08956"
      }
     },
     "d467eaeaf4764a1dacae4a1d1c103589": {
      "model_module": "@jupyter-widgets/controls",
      "model_module_version": "1.5.0",
      "model_name": "SliderStyleModel",
      "state": {
       "description_width": ""
      }
     },
     "d582b8b2b3f34cb0bc987a59f0c50293": {
      "model_module": "@jupyter-widgets/base",
      "model_module_version": "1.2.0",
      "model_name": "LayoutModel",
      "state": {}
     },
     "d8d9c814ed434783b99115b98f34e9be": {
      "model_module": "@jupyter-widgets/controls",
      "model_module_version": "1.5.0",
      "model_name": "SliderStyleModel",
      "state": {
       "description_width": ""
      }
     },
     "da201b6c63ef42958ce0b9699ebf5e29": {
      "model_module": "@jupyter-widgets/base",
      "model_module_version": "1.2.0",
      "model_name": "LayoutModel",
      "state": {}
     },
     "dadfc2ad1a9845b3adf9853149583b49": {
      "model_module": "@jupyter-widgets/controls",
      "model_module_version": "1.5.0",
      "model_name": "IntSliderModel",
      "state": {
       "description": "Z",
       "layout": "IPY_MODEL_0224ec62aa7449429f3c4db87e04639e",
       "max": 20,
       "min": 1,
       "style": "IPY_MODEL_d420be53094e4bf791626c64a15d4cbf",
       "value": 10
      }
     },
     "db1dc199c72a47d2919cbf5149376122": {
      "model_module": "@jupyter-widgets/controls",
      "model_module_version": "1.5.0",
      "model_name": "IntSliderModel",
      "state": {
       "description": "x1",
       "layout": "IPY_MODEL_89fc95bbdab64c5292e8040ac411ccd4",
       "max": 10,
       "min": -5,
       "style": "IPY_MODEL_fb99dac578224192bbc011cf4c29dae1",
       "value": -5
      }
     },
     "db3ce652925f489c820c72ce9ea8e61b": {
      "model_module": "@jupyter-widgets/base",
      "model_module_version": "1.2.0",
      "model_name": "LayoutModel",
      "state": {}
     },
     "db542944757d48eb8d83eac352011cdd": {
      "model_module": "@jupyter-widgets/controls",
      "model_module_version": "1.5.0",
      "model_name": "IntSliderModel",
      "state": {
       "description": "y1",
       "layout": "IPY_MODEL_19c1039e6d3c48509931212e36600f8b",
       "max": 1,
       "min": -15,
       "style": "IPY_MODEL_af247caf3d654fd2ad3f6c4647260bd1",
       "value": -7
      }
     },
     "dc9a361aaf8e46ec8027828444339d2e": {
      "model_module": "@jupyter-widgets/controls",
      "model_module_version": "1.5.0",
      "model_name": "VBoxModel",
      "state": {
       "_dom_classes": [
        "widget-interact"
       ],
       "children": [
        "IPY_MODEL_464eb563de5540c3843687a5a38d052f",
        "IPY_MODEL_13443bd67f304faab4293bf4c99595b3"
       ],
       "layout": "IPY_MODEL_cfd0981381764a57b4a31cc8d67c7fee"
      }
     },
     "ddbc1ecb9546466c9d2836ad4a4a677e": {
      "model_module": "@jupyter-widgets/base",
      "model_module_version": "1.2.0",
      "model_name": "LayoutModel",
      "state": {}
     },
     "ddd2420598cb4b748664e892ba4085b1": {
      "model_module": "@jupyter-widgets/controls",
      "model_module_version": "1.5.0",
      "model_name": "SliderStyleModel",
      "state": {
       "description_width": ""
      }
     },
     "e08600bfe250430da4a3c41c49b70477": {
      "model_module": "@jupyter-widgets/controls",
      "model_module_version": "1.5.0",
      "model_name": "IntSliderModel",
      "state": {
       "description": "Z",
       "layout": "IPY_MODEL_db3ce652925f489c820c72ce9ea8e61b",
       "max": 21,
       "min": 1,
       "style": "IPY_MODEL_33a26bb9c9db4916827f20cd2c1aab17",
       "value": 21
      }
     },
     "e1cb48e51db1438282a368f0b100452c": {
      "model_module": "@jupyter-widgets/controls",
      "model_module_version": "1.5.0",
      "model_name": "IntSliderModel",
      "state": {
       "description": "x2",
       "layout": "IPY_MODEL_420742318e174a29a682669df27ddeac",
       "max": 10,
       "min": -5,
       "style": "IPY_MODEL_03e02078a283451381e4304673de727f",
       "value": 10
      }
     },
     "e289108f2b154e57b07886b20b2f32f4": {
      "model_module": "@jupyter-widgets/controls",
      "model_module_version": "1.5.0",
      "model_name": "IntSliderModel",
      "state": {
       "description": "x2",
       "layout": "IPY_MODEL_8d7ec51cdba848fe89bf9f9bc34c8b73",
       "max": 10,
       "min": -5,
       "style": "IPY_MODEL_002c238623dc4f209c45719eef1f189c",
       "value": 10
      }
     },
     "e65a0ed6861f4396aae618c9a1d962ee": {
      "model_module": "@jupyter-widgets/controls",
      "model_module_version": "1.5.0",
      "model_name": "SliderStyleModel",
      "state": {
       "description_width": ""
      }
     },
     "e84eae3f45e24050a2c1123de907f160": {
      "model_module": "@jupyter-widgets/base",
      "model_module_version": "1.2.0",
      "model_name": "LayoutModel",
      "state": {}
     },
     "e9513e8104e849d295b8972b4b307b13": {
      "model_module": "@jupyter-widgets/output",
      "model_module_version": "1.0.0",
      "model_name": "OutputModel",
      "state": {
       "layout": "IPY_MODEL_941fbd0a533b48378cb33190a5a5ee37",
       "outputs": [
        {
         "data": {
          "image/png": "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\n",
          "text/plain": "<Figure size 720x720 with 1 Axes>"
         },
         "metadata": {
          "needs_background": "light"
         },
         "output_type": "display_data"
        }
       ]
      }
     },
     "ec3f219f40ab42cfa7648afdb4cad4d5": {
      "model_module": "@jupyter-widgets/output",
      "model_module_version": "1.0.0",
      "model_name": "OutputModel",
      "state": {
       "layout": "IPY_MODEL_87f51edc2dc7450dbbf7739d4db93daa",
       "outputs": [
        {
         "data": {
          "image/png": "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\n",
          "text/plain": "<Figure size 432x288 with 1 Axes>"
         },
         "metadata": {
          "needs_background": "light"
         },
         "output_type": "display_data"
        }
       ]
      }
     },
     "ed09248f15844d138f9e5e3cb6b53c5c": {
      "model_module": "@jupyter-widgets/base",
      "model_module_version": "1.2.0",
      "model_name": "LayoutModel",
      "state": {}
     },
     "ed968db3ec014d3eb1756c2176d619a2": {
      "model_module": "@jupyter-widgets/controls",
      "model_module_version": "1.5.0",
      "model_name": "IntSliderModel",
      "state": {
       "description": "Z",
       "layout": "IPY_MODEL_95ea01408aa7411a93a8e4114cff674c",
       "max": 20,
       "min": 1,
       "style": "IPY_MODEL_1715f063c2e9484cbecd939027abcc1b",
       "value": 16
      }
     },
     "ee832eeb377b46ecb13a6e3789f57947": {
      "model_module": "@jupyter-widgets/base",
      "model_module_version": "1.2.0",
      "model_name": "LayoutModel",
      "state": {}
     },
     "eeac8705b2d0475bb6c614f05634aedd": {
      "model_module": "@jupyter-widgets/controls",
      "model_module_version": "1.5.0",
      "model_name": "IntSliderModel",
      "state": {
       "description": "y2",
       "layout": "IPY_MODEL_47c04bbfcb304b038575c31e0957ff0c",
       "max": 1,
       "min": -30,
       "style": "IPY_MODEL_071fff74622c4f2b8063ce07d6859c6a",
       "value": 1
      }
     },
     "efa8484094af4822acc65464ebccde51": {
      "model_module": "@jupyter-widgets/base",
      "model_module_version": "1.2.0",
      "model_name": "LayoutModel",
      "state": {}
     },
     "f2112f596b304ed88becefb6e947a447": {
      "model_module": "@jupyter-widgets/base",
      "model_module_version": "1.2.0",
      "model_name": "LayoutModel",
      "state": {}
     },
     "f503eeb083af4e128ecb13dde2c6b10b": {
      "model_module": "@jupyter-widgets/controls",
      "model_module_version": "1.5.0",
      "model_name": "VBoxModel",
      "state": {
       "_dom_classes": [
        "widget-interact"
       ],
       "children": [
        "IPY_MODEL_c3cbf9900b67418fa19fcb6b3678cdca",
        "IPY_MODEL_16d25586a2494073a5b0165545e44e35"
       ],
       "layout": "IPY_MODEL_02dd6f7a5c90404abc73175482804ee4"
      }
     },
     "f50a7f98f46f4d439cfdbcbe8a61afb8": {
      "model_module": "@jupyter-widgets/base",
      "model_module_version": "1.2.0",
      "model_name": "LayoutModel",
      "state": {}
     },
     "f5128cb047004e3d83beaa2e25ea0902": {
      "model_module": "@jupyter-widgets/base",
      "model_module_version": "1.2.0",
      "model_name": "LayoutModel",
      "state": {}
     },
     "f60957bfeaf24f7e800c60497c1889b8": {
      "model_module": "@jupyter-widgets/output",
      "model_module_version": "1.0.0",
      "model_name": "OutputModel",
      "state": {
       "layout": "IPY_MODEL_09e6778196f741db8932d3de2cd9bc03",
       "outputs": [
        {
         "data": {
          "image/png": "iVBORw0KGgoAAAANSUhEUgAAAYoAAAD4CAYAAADy46FuAAAAOXRFWHRTb2Z0d2FyZQBNYXRwbG90bGliIHZlcnNpb24zLjMuMiwgaHR0cHM6Ly9tYXRwbG90bGliLm9yZy8vihELAAAACXBIWXMAAAsTAAALEwEAmpwYAAAWa0lEQVR4nO3df4xd5X3n8fdn8YbS7EIMOFnXJjUJdFVAu85iGaRuqmxpwE2qQlrYGq2Cq0VyQETaqlupsFkJSoQUUmWRUDZURFgY1PCjsBFIhU3dUDWqRIAhoeFHQhl+tDhY4MaIQlJYmXz3j/sMvTPceWY8P+5g835JR/fc73me4+fRGH/mnOfcS6oKSZJm8y9WegCSpHc2g0KS1GVQSJK6DApJUpdBIUnqWrXSA1hqxx57bG3YsGGlhyFJB5WHH374H6pqzahjh1xQbNiwgYmJiZUehiQdVJL83WzHvPUkSeoyKCRJXQaFJKnLoJAkdRkUkqQug0KS1GVQSJK65gyKJDuSvJTksaHabUkeadtzSR5p9Q1J/mno2B8P9Tk1yaNJJpNcmyStfng732SSB5JsGOqzLclTbdu2lBOXJM3PfD5wdyPwZeCmqUJV/fbUfpIvAa8MtX+6qjaOOM91wHbg28A9wBbgXuBC4OWqOiHJVuBq4LeTHA1cDmwCCng4yd1V9fK8ZydJWrQ5g6KqvjX8W/6wdlXwn4Ff6Z0jyVrgyKq6v72/CTiHQVCcDVzRmt4BfLmd9yxgV1Xta312MQiXW+Ya87vNhkv/7K39577wyRUciaRD0WLXKD4KvFhVTw3Vjk/y3SR/leSjrbYO2D3UZnerTR17HqCq9jO4OjlmuD6izzRJtieZSDKxd+/eRU5JkjRssUFxPtN/w98DfLCqPgL8HvC1JEcCGdF36v/BOtuxXp/pxarrq2pTVW1as2bkd1pJkhZowUGRZBXwm8BtU7WqeqOqftT2HwaeBn6BwdXA+qHu64EX2v5u4Lihcx4F7Buuj+gjSRqTxVxR/Crwg6p665ZSkjVJDmv7HwJOBJ6pqj3Aq0lOb+sPFwB3tW53A1NPNJ0L3FdVBXwDODPJ6iSrgTNbTZI0RnMuZie5BfgYcGyS3cDlVXUDsJW3Lyz/MnBlkv3Am8BFU4vRwMUMnqA6gsEi9r2tfgNwc5JJBlcSWwGqal+SzwMPtXZXDp1LkjQm83nq6fxZ6r8zonYncOcs7SeAU0bUXwfOm6XPDmDHXGOUJC0fP5ktSeoyKCRJXQaFJKnLoJAkdRkUkqQug0KS1GVQSJK6DApJUpdBIUnqMigkSV0GhSSpy6CQJHUZFJKkLoNCktRlUEiSugwKSVKXQSFJ6jIoJEldBoUkqcugkCR1zRkUSXYkeSnJY0O1K5L8MMkjbfvE0LHLkkwmeTLJWUP1U5M82o5dmyStfniS21r9gSQbhvpsS/JU27Yt2awlSfM2nyuKG4EtI+rXVNXGtt0DkOQkYCtwcuvzlSSHtfbXAduBE9s2dc4LgZer6gTgGuDqdq6jgcuB04DNwOVJVh/wDCVJizJnUFTVt4B98zzf2cCtVfVGVT0LTAKbk6wFjqyq+6uqgJuAc4b67Gz7dwBntKuNs4BdVbWvql4GdjE6sCRJy2gxaxSfTfK9dmtq6jf9dcDzQ212t9q6tj+zPq1PVe0HXgGO6ZzrbZJsTzKRZGLv3r2LmJIkaaaFBsV1wIeBjcAe4EutnhFtq1NfaJ/pxarrq2pTVW1as2ZNZ9iSpAO1oKCoqher6s2q+inwVQZrCDD4rf+4oabrgRdaff2I+rQ+SVYBRzG41TXbuSRJY7SgoGhrDlM+BUw9EXU3sLU9yXQ8g0XrB6tqD/BqktPb+sMFwF1DfaaeaDoXuK+tY3wDODPJ6nZr68xWkySN0aq5GiS5BfgYcGyS3QyeRPpYko0MbgU9B3wGoKoeT3I78ASwH7ikqt5sp7qYwRNURwD3tg3gBuDmJJMMriS2tnPtS/J54KHW7sqqmu+iuiRpicwZFFV1/ojyDZ32VwFXjahPAKeMqL8OnDfLuXYAO+YaoyRp+fjJbElSl0EhSeoyKCRJXQaFJKnLoJAkdRkUkqQug0KS1GVQSJK6DApJUpdBIUnqMigkSV0GhSSpy6CQJHUZFJKkLoNCktRlUEiSugwKSVKXQSFJ6jIoJEldBoUkqcugkCR1zRkUSXYkeSnJY0O1P0rygyTfS/L1JO9r9Q1J/inJI23746E+pyZ5NMlkkmuTpNUPT3Jbqz+QZMNQn21JnmrbtqWcuCRpfuZzRXEjsGVGbRdwSlX9O+BvgcuGjj1dVRvbdtFQ/TpgO3Bi26bOeSHwclWdAFwDXA2Q5GjgcuA0YDNweZLVBzA3SdISmDMoqupbwL4ZtT+vqv3t7beB9b1zJFkLHFlV91dVATcB57TDZwM72/4dwBntauMsYFdV7auqlxmE08zAkiQts6VYo/ivwL1D749P8t0kf5Xko622Dtg91GZ3q00dex6ghc8rwDHD9RF9pkmyPclEkom9e/cudj6SpCGLCooknwP2A3/SSnuAD1bVR4DfA76W5EggI7rX1GlmOdbrM71YdX1VbaqqTWvWrDmQKUiS5rDgoGiLy78O/Jd2O4mqeqOqftT2HwaeBn6BwdXA8O2p9cALbX83cFw75yrgKAa3ut6qj+gjSRqTBQVFki3AHwC/UVU/GaqvSXJY2/8Qg0XrZ6pqD/BqktPb+sMFwF2t293A1BNN5wL3teD5BnBmktVtEfvMVpMkjdGquRokuQX4GHBskt0MnkS6DDgc2NWecv12e8Lpl4Erk+wH3gQuqqqphfCLGTxBdQSDNY2pdY0bgJuTTDK4ktgKUFX7knweeKi1u3LoXJKkMZkzKKrq/BHlG2Zpeydw5yzHJoBTRtRfB86bpc8OYMdcY5QkLR8/mS1J6jIoJEldBoUkqcugkCR1GRSSpC6DQpLUZVBIkroMCklSl0EhSeoyKCRJXQaFJKnLoJAkdRkUkqQug0KS1GVQSJK6DApJUpdBIUnqMigkSV0GhSSpy6CQJHXNGRRJdiR5KcljQ7Wjk+xK8lR7XT107LIkk0meTHLWUP3UJI+2Y9cmSasfnuS2Vn8gyYahPtvan/FUkm1LNmtJ0rzN54riRmDLjNqlwDer6kTgm+09SU4CtgIntz5fSXJY63MdsB04sW1T57wQeLmqTgCuAa5u5zoauBw4DdgMXD4cSJKk8ZgzKKrqW8C+GeWzgZ1tfydwzlD91qp6o6qeBSaBzUnWAkdW1f1VVcBNM/pMnesO4Ix2tXEWsKuq9lXVy8Au3h5YkqRlttA1ig9U1R6A9vr+Vl8HPD/UbnerrWv7M+vT+lTVfuAV4JjOud4myfYkE0km9u7du8ApSZJGWerF7IyoVae+0D7Ti1XXV9Wmqtq0Zs2aeQ1UkjQ/Cw2KF9vtJNrrS62+GzhuqN164IVWXz+iPq1PklXAUQxudc12LknSGC00KO4Gpp5C2gbcNVTf2p5kOp7BovWD7fbUq0lOb+sPF8zoM3Wuc4H72jrGN4Azk6xui9hntpokaYxWzdUgyS3Ax4Bjk+xm8CTSF4Dbk1wI/D1wHkBVPZ7kduAJYD9wSVW92U51MYMnqI4A7m0bwA3AzUkmGVxJbG3n2pfk88BDrd2VVTVzUV2StMzmDIqqOn+WQ2fM0v4q4KoR9QnglBH112lBM+LYDmDHXGOUJC0fP5ktSeoyKCRJXQaFJKnLoJAkdRkUkqQug0KS1GVQSJK6DApJUpdBIUnqMigkSV0GhSSpy6CQJHUZFJKkLoNCktRlUEiSugwKSVKXQSFJ6jIoJEldBoUkqcugkCR1LTgokvzbJI8Mbf+Y5HeTXJHkh0P1Twz1uSzJZJInk5w1VD81yaPt2LVJ0uqHJ7mt1R9IsmFRs5UkHbAFB0VVPVlVG6tqI3Aq8BPg6+3wNVPHquoegCQnAVuBk4EtwFeSHNbaXwdsB05s25ZWvxB4uapOAK4Brl7oeCVJC7NUt57OAJ6uqr/rtDkbuLWq3qiqZ4FJYHOStcCRVXV/VRVwE3DOUJ+dbf8O4Iypqw1J0ngsVVBsBW4Zev/ZJN9LsiPJ6lZbBzw/1GZ3q61r+zPr0/pU1X7gFeCYJRqzJGkeFh0USd4D/Abwp610HfBhYCOwB/jSVNMR3atT7/WZOYbtSSaSTOzdu3f+g5ckzWkprih+DfhOVb0IUFUvVtWbVfVT4KvA5tZuN3DcUL/1wAutvn5EfVqfJKuAo4B9MwdQVddX1aaq2rRmzZolmJIkacpSBMX5DN12amsOUz4FPNb27wa2tieZjmewaP1gVe0BXk1yelt/uAC4a6jPtrZ/LnBfW8eQJI3JqsV0TvKzwMeBzwyVv5hkI4NbRM9NHauqx5PcDjwB7Acuqao3W5+LgRuBI4B72wZwA3BzkkkGVxJbFzNeSdKBW1RQVNVPmLG4XFWf7rS/CrhqRH0COGVE/XXgvMWMUZK0OH4yW5LUZVBIkroMCklSl0EhSeoyKCRJXQaFJKnLoJAkdRkUkqQug0KS1GVQSJK6DApJUpdBIUnqMigkSV0GhSSpy6CQJHUZFJKkLoNCktRlUEiSugwKSVKXQSFJ6jIoJEldiwqKJM8leTTJI0kmWu3oJLuSPNVeVw+1vyzJZJInk5w1VD+1nWcyybVJ0uqHJ7mt1R9IsmEx45UkHbiluKL4T1W1sao2tfeXAt+sqhOBb7b3JDkJ2AqcDGwBvpLksNbnOmA7cGLbtrT6hcDLVXUCcA1w9RKMV5J0AJbj1tPZwM62vxM4Z6h+a1W9UVXPApPA5iRrgSOr6v6qKuCmGX2mznUHcMbU1YYkaTwWGxQF/HmSh5Nsb7UPVNUegPb6/lZfBzw/1Hd3q61r+zPr0/pU1X7gFeCYmYNIsj3JRJKJvXv3LnJKkqRhqxbZ/5eq6oUk7wd2JflBp+2oK4Hq1Ht9pheqrgeuB9i0adPbjkuSFm5RVxRV9UJ7fQn4OrAZeLHdTqK9vtSa7waOG+q+Hnih1dePqE/rk2QVcBSwbzFjliQdmAUHRZL3JvnXU/vAmcBjwN3AttZsG3BX278b2NqeZDqewaL1g+321KtJTm/rDxfM6DN1rnOB+9o6hiRpTBZz6+kDwNfb2vIq4GtV9X+TPATcnuRC4O+B8wCq6vEktwNPAPuBS6rqzXaui4EbgSOAe9sGcANwc5JJBlcSWxcxXknSAiw4KKrqGeDfj6j/CDhjlj5XAVeNqE8Ap4yov04LGknSyvCT2ZKkLoNCktRlUEiSugwKSVKXQSFJ6jIoJEldBoUkqcugkCR1GRSSpC6DQpLUZVBIkroMCklSl0EhSeoyKCRJXQaFJKnLoJAkdRkUkqQug0KS1GVQSJK6DApJUteCgyLJcUn+Msn3kzye5L+1+hVJfpjkkbZ9YqjPZUkmkzyZ5Kyh+qlJHm3Hrk2SVj88yW2t/kCSDYuYqyRpARZzRbEf+O9V9YvA6cAlSU5qx66pqo1tuwegHdsKnAxsAb6S5LDW/jpgO3Bi27a0+oXAy1V1AnANcPUixitJWoAFB0VV7amq77T9V4HvA+s6Xc4Gbq2qN6rqWWAS2JxkLXBkVd1fVQXcBJwz1Gdn278DOGPqakOSNB5LskbRbgl9BHiglT6b5HtJdiRZ3WrrgOeHuu1utXVtf2Z9Wp+q2g+8Ahwz4s/fnmQiycTevXuXYkqSpGbRQZHkXwF3Ar9bVf/I4DbSh4GNwB7gS1NNR3SvTr3XZ3qh6vqq2lRVm9asWXNgE5AkdS0qKJL8SwYh8SdV9X8AqurFqnqzqn4KfBXY3JrvBo4b6r4eeKHV14+oT+uTZBVwFLBvMWOWJB2YxTz1FOAG4PtV9b+G6muHmn0KeKzt3w1sbU8yHc9g0frBqtoDvJrk9HbOC4C7hvpsa/vnAve1dQxJ0pisWkTfXwI+DTya5JFW+x/A+Uk2MrhF9BzwGYCqejzJ7cATDJ6YuqSq3mz9LgZuBI4A7m0bDILo5iSTDK4kti5ivJKkBVhwUFTVXzN6DeGeTp+rgKtG1CeAU0bUXwfOW+gYJUmL5yezJUldBoUkqcugkCR1GRSSpC6DQpLUZVBIkroMCklSl0EhSeoyKCRJXQaFJKnLoJAkdRkUkqQug0KS1GVQSJK6DApJUpdBIUnqMigkSV0GhSSpy6CQJHUZFJKkLoNCktR1UARFki1JnkwymeTSlR6PJL2brFrpAcwlyWHA/wY+DuwGHkpyd1U9sbIjm78Nl/7ZW/vPfeGTh8yfJend4R0fFMBmYLKqngFIcitwNrAsQTH8D+18DP9jPJ++B3r+xZjvn2WgSOo5GIJiHfD80PvdwGnDDZJsB7a3t68leXLGOY4F/mE5Bperl+OsC7ageb7D5jAfy/bzfIdxnoeWd/o8f362AwdDUGREraa9qboeuH7WEyQTVbVpqQf2TuM8Dy3O89ByMM/zYFjM3g0cN/R+PfDCCo1Fkt51DoageAg4McnxSd4DbAXuXuExSdK7xjv+1lNV7U/yWeAbwGHAjqp6/ABPM+ttqUOM8zy0OM9Dy0E7z1TV3K0kSe9aB8OtJ0nSCjIoJEldB1VQJDk6ya4kT7XX1bO0G/mVH73+SS5r7Z9MctZQ/aokzyd5bXlnN/dXlWTg2nb8e0n+w1x9FzLn5TbOeSY5JslfJnktyZfHM8P+WIeOL+U8P57k4SSPttdfGc8sxz7PzUkeadvfJPnUeGY5/v8+2/EPtr+7v7+8s5tDVR00G/BF4NK2fylw9Yg2hwFPAx8C3gP8DXBSrz9wUmt3OHB8639YO3Y6sBZ4bZnnNuu4h9p8AriXwWdLTgceWI45H2LzfC/wH4GLgC+P8e/quOf5EeDn2v4pwA8P0Xn+LLCq7a8FXpp6fyjNc+icdwJ/Cvz+uP7ujtoOqisKBl/dsbPt7wTOGdHmra/8qKr/B0x95Uev/9nArVX1RlU9C0y281BV366qPUs8j1F6455yNnBTDXwbeF+StXP0PeA5L7OxzrOqflxVfw28vpyTGmHc8/xuVU19vuhx4GeSHL5Mcxs27nn+pKr2t/rPMOPDt8to3P99kuQc4BkGP88VdbAFxQem/tFur+8f0WbUV36sm6N/r8+4zGcMs7U5mOY87nmulJWc528B362qNxY8+vkb+zyTnJbkceBR4KKh4FhOY51nkvcCfwD84RKNf1HecZ+jSPIXwL8Zcehz8z3FiNpcv3UspM9Sm88YZmtzMM153PNcKSsyzyQnA1cDZ86n/RIY+zyr6gHg5CS/COxMcm9VLfcV47jn+YfANVX1WjKq+3i944Kiqn51tmNJXkyytqr2tEu6l0Y0633lx2z93wlfEzKfMczW5j2dvu+0OY97nitl7PNMsh74OnBBVT29JLOY24r9PKvq+0l+zGBNZmJRs5jbuOd5GnBuki8C7wN+muT1qhrrAxlvWckFkgPdgD9i+sLPF0e0WcXgvt7x/PPC0cm9/sDJTF/YfYYZC7ss/2L2rOMeavNJpi+WPbiccz4U5jl0zt9hvIvZ4/55vq+1+61xzXGF5nk8/7yY/fMM/sE99lCb54zzXsEKL2av2B+8wB/WMcA3gafa69Gt/nPAPUPtPgH8LYMnDT43V/927HOt/ZPArw3Vv8jgN4WfttcrlnF+bxs3g6d1Lmr7YfA/cXqawf3ZTcsx5zH8HMc9z+eAfcBr7Wd40nLPcdzzBP4n8GPgkaHt/YfgPD/NYHH3EeA7wDmH6t/boTZXsMJB4Vd4SJK6DranniRJY2ZQSJK6DApJUpdBIUnqMigkSV0GhSSpy6CQJHX9f+GZNkT93yB+AAAAAElFTkSuQmCC\n",
          "text/plain": "<Figure size 432x288 with 1 Axes>"
         },
         "metadata": {
          "needs_background": "light"
         },
         "output_type": "display_data"
        }
       ]
      }
     },
     "f68cb24bbfef40e99a672d106c157a4f": {
      "model_module": "@jupyter-widgets/controls",
      "model_module_version": "1.5.0",
      "model_name": "VBoxModel",
      "state": {
       "_dom_classes": [
        "widget-interact"
       ],
       "children": [
        "IPY_MODEL_5c946ad535f740f8b9b86e9815b01983",
        "IPY_MODEL_db1dc199c72a47d2919cbf5149376122",
        "IPY_MODEL_40486172a6eb490cb040826a50971ffb",
        "IPY_MODEL_d169ae46f7234cfa9be75122819f28d6",
        "IPY_MODEL_9486f6e58693403f8c9a70026e0068e8",
        "IPY_MODEL_a6204041645b479c899badd63be3a8c2"
       ],
       "layout": "IPY_MODEL_134858da6c014c1e976b9864f73df639"
      }
     },
     "f73f2f930b7e44b0ab92e0c840b5d534": {
      "model_module": "@jupyter-widgets/output",
      "model_module_version": "1.0.0",
      "model_name": "OutputModel",
      "state": {
       "layout": "IPY_MODEL_293db04304914d47a733769cf8506d08",
       "outputs": [
        {
         "data": {
          "image/png": "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\n",
          "text/plain": "<Figure size 720x720 with 1 Axes>"
         },
         "metadata": {
          "needs_background": "light"
         },
         "output_type": "display_data"
        }
       ]
      }
     },
     "f77128d9f6844f0e99c4440cf5623510": {
      "model_module": "@jupyter-widgets/controls",
      "model_module_version": "1.5.0",
      "model_name": "VBoxModel",
      "state": {
       "_dom_classes": [
        "widget-interact"
       ],
       "children": [
        "IPY_MODEL_401f28e9ede240acaf80a9b6e0a73f61",
        "IPY_MODEL_3879386bbc87497b9799d66b6f918718"
       ],
       "layout": "IPY_MODEL_170574d3fbb2442a9ae4fc8a49f50fd0"
      }
     },
     "f77f51e52e3842f180c9cfe5e76e3d48": {
      "model_module": "@jupyter-widgets/base",
      "model_module_version": "1.2.0",
      "model_name": "LayoutModel",
      "state": {}
     },
     "fa5e63d67d174a768cec98751a6736b9": {
      "model_module": "@jupyter-widgets/controls",
      "model_module_version": "1.5.0",
      "model_name": "IntSliderModel",
      "state": {
       "description": "y2",
       "layout": "IPY_MODEL_36a74701b8934aadb3c4aab3a496c108",
       "max": 1,
       "min": -30,
       "style": "IPY_MODEL_d467eaeaf4764a1dacae4a1d1c103589"
      }
     },
     "fb99dac578224192bbc011cf4c29dae1": {
      "model_module": "@jupyter-widgets/controls",
      "model_module_version": "1.5.0",
      "model_name": "SliderStyleModel",
      "state": {
       "description_width": ""
      }
     },
     "fdf31007f5a947429bad9c90a18730cb": {
      "model_module": "@jupyter-widgets/controls",
      "model_module_version": "1.5.0",
      "model_name": "IntSliderModel",
      "state": {
       "description": "y1",
       "layout": "IPY_MODEL_47983747e3d14494b3b9ff09b85e7778",
       "max": 1,
       "min": -15,
       "style": "IPY_MODEL_4f3c62b055d74406a8631ed3a8a5c429",
       "value": -15
      }
     },
     "ffd59b46be7d4359b01758aacdefc036": {
      "model_module": "@jupyter-widgets/controls",
      "model_module_version": "1.5.0",
      "model_name": "VBoxModel",
      "state": {
       "_dom_classes": [
        "widget-interact"
       ],
       "children": [
        "IPY_MODEL_d186dfd24688413a9e6fdd5e271d2416",
        "IPY_MODEL_caf9b8e2e24a4bc38abe20ca79e2e649"
       ],
       "layout": "IPY_MODEL_2e27c37c8a744e2bba3e14658af0e972"
      }
     }
    },
    "version_major": 2,
    "version_minor": 0
   }
  }
 },
 "nbformat": 4,
 "nbformat_minor": 4
}
