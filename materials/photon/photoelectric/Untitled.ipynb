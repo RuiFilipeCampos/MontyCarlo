{
 "cells": [
  {
   "cell_type": "markdown",
   "metadata": {},
   "source": [
    "https://libgen.lc/scimag/ads.php?doi=10.1063/1.555629"
   ]
  },
  {
   "cell_type": "code",
   "execution_count": 17,
   "metadata": {},
   "outputs": [],
   "source": [
    "import sys\n",
    "sys.path.insert(0, r\"C:\\Users\\araujoj\\Dropbox\\MontyCarlo\\tools\")\n",
    "from data import get_bookmarked_text, getAxis\n",
    "from performance import timer\n",
    "\n",
    "EPDL_path = r\"C:\\Users\\araujoj\\Dropbox\\MontyCarlo\\materials\\EPDL\"\n",
    "\n",
    "def getData(Z):\n",
    "    bookmarked_text = get_bookmarked_text(EPDL_path + f\"\\{Z}.txt\")\n",
    "    F = bookmarked_text[(7, 73, 0, 0, 0, 0)]\n",
    "\n",
    "    Iflag, F = F\n",
    "    xAxis, yAxis = getAxis(F)\n",
    "    return xAxis, yAxis"
   ]
  },
  {
   "cell_type": "code",
   "execution_count": 18,
   "metadata": {},
   "outputs": [
    {
     "data": {
      "image/png": "[encoded data removed]",
      "text/plain": [
       "<Figure size 432x288 with 1 Axes>"
      ]
     },
     "metadata": {
      "needs_background": "light"
     },
     "output_type": "display_data"
    }
   ],
   "source": [
    "from matplotlib.pyplot import *\n",
    "\n",
    "figure()\n",
    "ax = gca()\n",
    "x, y = getData(62)\n",
    "ax.plot(x, y)\n",
    "ax.set_yscale('log'); ax.set_xscale('log')\n",
    "show()"
   ]
  },
  {
   "cell_type": "code",
   "execution_count": 19,
   "metadata": {},
   "outputs": [],
   "source": [
    "def getDataS(Z, subshell):\n",
    "    bookmarked_text = get_bookmarked_text(EPDL_path + f\"\\{Z}.txt\")\n",
    "    F = bookmarked_text[(7, 73, 91, subshell, 0, 0)]\n",
    "\n",
    "    Iflag, F = F\n",
    "    xAxis, yAxis = getAxis(F)\n",
    "    return xAxis, yAxis"
   ]
  },
  {
   "cell_type": "code",
   "execution_count": 52,
   "metadata": {},
   "outputs": [
    {
     "data": {
      "text/plain": [
       "0.088011"
      ]
     },
     "execution_count": 52,
     "metadata": {},
     "output_type": "execute_result"
    }
   ],
   "source": [
    "getDataS(82, 1)[0][0]"
   ]
  },
  {
   "cell_type": "code",
   "execution_count": 61,
   "metadata": {},
   "outputs": [
    {
     "data": {
      "text/plain": [
       "0.00249"
      ]
     },
     "execution_count": 61,
     "metadata": {},
     "output_type": "execute_result"
    }
   ],
   "source": [
    "getDataS(82, 14)[0][0]"
   ]
  },
  {
   "cell_type": "code",
   "execution_count": null,
   "metadata": {},
   "outputs": [],
   "source": [
    "shell_dict = {1:\"K\", \n",
    "              2:\"L\",  3:\"L1\",  4:\"L23\",   5:\"L2\", 6:\"L3\",\n",
    "              7:\"M\",  8:\"M1\",  9:\"M23\",  10:\"M2\", 11:\"M3\", 12:\"M45\", 13:\"M4\", 14:\"M5\",\n",
    "              15:\"N\", 16:\"N1\", 17:\"N23\", 18:\"N2\", 19:\"N3\", 20:\"N45\", 21:\"N4\", 22:\"N5\", 23:\"N67\", 24:\"N6\", 25:\"N7\",\n",
    "              26:\"O\", 27:\"O1\", 28:\"O23\", 29:\"O2\", 30:\"O3\", 31:\"O45\", 32:\"O4\", 33:\"O5\", 34:\"O67\", 35:\"O6\", 36:\"O7\", 37:\"O89\", 38:\"O8\", 39:\"O9\"}\n"
   ]
  },
  {
   "cell_type": "code",
   "execution_count": 220,
   "metadata": {},
   "outputs": [],
   "source": [
    "from numpy import *\n",
    "\n",
    "\n",
    "\n",
    "#callables to fit data\n",
    "def fit0(lnE):\n",
    "    E = exp(lnE)\n",
    "    return E\n",
    "\n",
    "\n",
    "glob_fits = [fit0,\n",
    "             lambda lnE, A, B, C, D: exp(A - B*lnE + C/lnE + D/lnE**2), #Ek < E < Ec\n",
    "             lambda lnE, A, B, C, D: exp(A - B*lnE + C/lnE + D/lnE**2),\n",
    "             lambda lnE, A, B:       exp(A - B*lnE),\n",
    "             lambda lnE, A, B:       exp(A - B*lnE),\n",
    "             lambda lnE, A, B, C, D: exp(A - B*lnE + C/lnE + D/lnE**2),\n",
    "             lambda lnE, A, B:       exp(A - B*lnE),\n",
    "             lambda lnE, A, B:       exp(A - B*lnE),\n",
    "             lambda lnE, A, B:       exp(A - B*lnE),\n",
    "             lambda lnE, A, B:       exp(A - B*lnE),\n",
    "             lambda lnE, A, B, C, D: exp(A-B*lnE + C/lnE + D/lnE**2),\n",
    "             lambda lnE, A, B, C, D: 0.98*  exp(A - B*lnE + C/lnE + D/lnE**2),\n",
    "             lambda lnE, A, B, C, D: 0.9665*exp(A - B*lnE + C/lnE + D/lnE**2),\n",
    "             lambda lnE, A, B, C, D: 0.9094*exp(A - B*lnE + C/lnE + D/lnE**2)]\n",
    "\n",
    "def func_gen(*args):\n",
    "    args = list(args)\n",
    "    fits = glob_fits[0:len(args)]\n",
    "    fits.reverse()\n",
    "    args.reverse()\n",
    "    def func(E):\n",
    "        k = searchsorted(args, E)\n",
    "        return fits[k](log(E))\n",
    "    return func"
   ]
  },
  {
   "cell_type": "code",
   "execution_count": 221,
   "metadata": {},
   "outputs": [],
   "source": [
    "f = func_gen(4, 3, 2, 1)"
   ]
  },
  {
   "cell_type": "code",
   "execution_count": 225,
   "metadata": {},
   "outputs": [
    {
     "ename": "TypeError",
     "evalue": "func() takes 1 positional argument but 5 were given",
     "output_type": "error",
     "traceback": [
      "\u001b[1;31m---------------------------------------------------------------------------\u001b[0m",
      "\u001b[1;31mTypeError\u001b[0m                                 Traceback (most recent call last)",
      "\u001b[1;32m<ipython-input-225-84423203109e>\u001b[0m in \u001b[0;36m<module>\u001b[1;34m\u001b[0m\n\u001b[1;32m----> 1\u001b[1;33m \u001b[0mf\u001b[0m\u001b[1;33m(\u001b[0m\u001b[1;36m1.2\u001b[0m\u001b[1;33m,\u001b[0m \u001b[1;36m1\u001b[0m\u001b[1;33m,\u001b[0m \u001b[1;36m2\u001b[0m\u001b[1;33m,\u001b[0m \u001b[1;36m3\u001b[0m\u001b[1;33m,\u001b[0m \u001b[1;36m4\u001b[0m\u001b[1;33m)\u001b[0m\u001b[1;33m\u001b[0m\u001b[1;33m\u001b[0m\u001b[0m\n\u001b[0m",
      "\u001b[1;31mTypeError\u001b[0m: func() takes 1 positional argument but 5 were given"
     ]
    }
   ],
   "source": [
    "f(1.2, 1, 2, 3, 4)"
   ]
  },
  {
   "cell_type": "code",
   "execution_count": 148,
   "metadata": {},
   "outputs": [
    {
     "data": {
      "text/plain": [
       "[3, 2, 1]"
      ]
     },
     "execution_count": 148,
     "metadata": {},
     "output_type": "execute_result"
    }
   ],
   "source": [
    "a = [1, 2, 3]\n",
    "a.reverse()\n",
    "a"
   ]
  },
  {
   "cell_type": "markdown",
   "metadata": {},
   "source": [
    "### f.__closure__"
   ]
  },
  {
   "cell_type": "code",
   "execution_count": 73,
   "metadata": {},
   "outputs": [
    {
     "data": {
      "text/plain": [
       "9e-05"
      ]
     },
     "execution_count": 73,
     "metadata": {},
     "output_type": "execute_result"
    }
   ],
   "source": [
    "getDataS(82, 30)[0][0]"
   ]
  },
  {
   "cell_type": "code",
   "execution_count": 74,
   "metadata": {},
   "outputs": [
    {
     "data": {
      "text/plain": [
       "0.00017612524461839532"
      ]
     },
     "execution_count": 74,
     "metadata": {},
     "output_type": "execute_result"
    }
   ],
   "source": [
    "9e-05/0.511"
   ]
  },
  {
   "cell_type": "code",
   "execution_count": null,
   "metadata": {},
   "outputs": [],
   "source": []
  }
 ],
 "metadata": {
  "kernelspec": {
   "display_name": "Python 3",
   "language": "python",
   "name": "python3"
  },
  "language_info": {
   "codemirror_mode": {
    "name": "ipython",
    "version": 3
   },
   "file_extension": ".py",
   "mimetype": "text/x-python",
   "name": "python",
   "nbconvert_exporter": "python",
   "pygments_lexer": "ipython3",
   "version": "3.7.6"
  }
 },
 "nbformat": 4,
 "nbformat_minor": 4
}
